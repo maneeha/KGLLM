{
  "nbformat": 4,
  "nbformat_minor": 0,
  "metadata": {
    "colab": {
      "provenance": [],
      "authorship_tag": "ABX9TyM2wY3rX/WuCeewALb+w5Ga",
      "include_colab_link": true
    },
    "kernelspec": {
      "name": "python3",
      "display_name": "Python 3"
    },
    "language_info": {
      "name": "python"
    }
  },
  "cells": [
    {
      "cell_type": "markdown",
      "metadata": {
        "id": "view-in-github",
        "colab_type": "text"
      },
      "source": [
        "<a href=\"https://colab.research.google.com/github/maneeha/KGLLM/blob/main/Implement_RAG_with_Knowledge_Graph_and_Llama_Index.ipynb\" target=\"_parent\"><img src=\"https://colab.research.google.com/assets/colab-badge.svg\" alt=\"Open In Colab\"/></a>"
      ]
    },
    {
      "cell_type": "code",
      "execution_count": null,
      "metadata": {
        "id": "DPXjvuMH9i5N"
      },
      "outputs": [],
      "source": [
        "!pip install llama_index pyvis Ipython langchain pypdf\n",
        "!pip install llama-index-llms-huggingface\n",
        "!pip install llama-index-embeddings-langchain"
      ]
    },
    {
      "cell_type": "code",
      "source": [
        "llama-index==0.10.33\n",
        "llama-index-core==0.10.33\n",
        "llama-index-embeddings-langchain==0.1.2\n",
        "llama-index-embeddings-openai==0.1.9\n",
        "llama-index-legacy==0.9.48\n",
        "llama-index-llms-huggingface==0.1.4\n",
        "langchain==0.1.16\n",
        "langchain-community==0.0.34\n",
        "langchain-core==0.1.46"
      ],
      "metadata": {
        "colab": {
          "base_uri": "https://localhost:8080/",
          "height": 105
        },
        "id": "vFbI17IB9qWR",
        "outputId": "fb15eb32-af9b-4a34-a6f9-625bb5f94ed2"
      },
      "execution_count": null,
      "outputs": [
        {
          "output_type": "error",
          "ename": "SyntaxError",
          "evalue": "invalid syntax (<ipython-input-2-f97bcfca1dba>, line 1)",
          "traceback": [
            "\u001b[0;36m  File \u001b[0;32m\"<ipython-input-2-f97bcfca1dba>\"\u001b[0;36m, line \u001b[0;32m1\u001b[0m\n\u001b[0;31m    llama-index==0.10.33\u001b[0m\n\u001b[0m                     ^\u001b[0m\n\u001b[0;31mSyntaxError\u001b[0m\u001b[0;31m:\u001b[0m invalid syntax\n"
          ]
        }
      ]
    },
    {
      "cell_type": "markdown",
      "source": [
        "## Concise overview of the Packages used\n",
        "### SimpleDirectoryReader :\n",
        " to read unstructured data.\n",
        "### ServiceContext :\n",
        "Supples contextual data vital for orchestrating various services it has been deprecated and replaced by Settings\n",
        "### KnowledgeGraphIndex :\n",
        "Required for both construction and manipulation of Knowledge Graphs.\n",
        "### SimpleGraphStore :\n",
        "Serves as a straightforward repoistory for storing graph data.\n",
        "### HuggingFaceInferenceAPI:\n",
        "Modeule for leveraging Open-Source LLMs.\n",
        "### Set up the LLM\n",
        "here we have used Huggingface inference api endpoints"
      ],
      "metadata": {
        "id": "q-U5XqLE-uoG"
      }
    },
    {
      "cell_type": "code",
      "source": [
        "import logging\n",
        "import sys\n",
        "#\n",
        "logging.basicConfig(stream=sys.stdout, level=logging.INFO)\n",
        "logging.getLogger().addHandler(logging.StreamHandler(stream=sys.stdout))"
      ],
      "metadata": {
        "id": "3oJ9LV7S94qy"
      },
      "execution_count": null,
      "outputs": []
    },
    {
      "cell_type": "code",
      "source": [
        "from llama_index.core import SimpleDirectoryReader\n",
        "from llama_index.core import KnowledgeGraphIndex\n",
        "from llama_index.core import Settings\n",
        "from llama_index.core.graph_stores import SimpleGraphStore\n",
        "from llama_index.core import StorageContext\n",
        "from llama_index.llms.huggingface import HuggingFaceInferenceAPI\n",
        "from langchain.embeddings import HuggingFaceEmbeddings\n",
        "from llama_index.embeddings.langchain import LangchainEmbedding\n",
        "from pyvis.network import Network"
      ],
      "metadata": {
        "id": "_aJ6f-8i95o6"
      },
      "execution_count": null,
      "outputs": []
    },
    {
      "cell_type": "code",
      "source": [
        "from google.colab import userdata\n",
        "HF_TOKEN=userdata.get('huggingfacellama7b')\n"
      ],
      "metadata": {
        "id": "Vggnmm2gA_oD"
      },
      "execution_count": null,
      "outputs": []
    },
    {
      "cell_type": "code",
      "source": [],
      "metadata": {
        "id": "u46HwXgsibuf"
      },
      "execution_count": null,
      "outputs": []
    },
    {
      "cell_type": "code",
      "source": [
        "\n",
        "llm = HuggingFaceInferenceAPI(\n",
        "    model_name=\"HuggingFaceH4/zephyr-7b-beta\", token=HF_TOKEN)"
      ],
      "metadata": {
        "id": "Zb0z-akq99xC"
      },
      "execution_count": null,
      "outputs": []
    },
    {
      "cell_type": "code",
      "source": [
        "#from llama_index.embeddings import LangchainEmbedding\n",
        "from langchain_community.embeddings import HuggingFaceInferenceAPIEmbeddings\n",
        "\n",
        "embed_model = LangchainEmbedding(\n",
        "  HuggingFaceInferenceAPIEmbeddings(api_key=HF_TOKEN,model_name=\"thenlper/gte-large\")\n",
        ")"
      ],
      "metadata": {
        "id": "V5LLveyJ9_tj"
      },
      "execution_count": null,
      "outputs": []
    },
    {
      "cell_type": "code",
      "source": [],
      "metadata": {
        "id": "jSshV7RSLc9v"
      },
      "execution_count": null,
      "outputs": []
    },
    {
      "cell_type": "code",
      "source": [
        "documents = SimpleDirectoryReader(\"\").load_data()\n",
        "print(len(documents))\n"
      ],
      "metadata": {
        "colab": {
          "base_uri": "https://localhost:8080/",
          "height": 292
        },
        "id": "Bh58bfBp-CVt",
        "outputId": "f8e3be37-9e6b-4229-d237-6040ad802877"
      },
      "execution_count": null,
      "outputs": [
        {
          "output_type": "error",
          "ename": "ValueError",
          "evalue": "Directory /https://colab.research.google.com/notebooks/basic_features_overview.ipynb/ does not exist.",
          "traceback": [
            "\u001b[0;31m---------------------------------------------------------------------------\u001b[0m",
            "\u001b[0;31mValueError\u001b[0m                                Traceback (most recent call last)",
            "\u001b[0;32m<ipython-input-32-2989dc9f51e0>\u001b[0m in \u001b[0;36m<cell line: 1>\u001b[0;34m()\u001b[0m\n\u001b[0;32m----> 1\u001b[0;31m \u001b[0mdocuments\u001b[0m \u001b[0;34m=\u001b[0m \u001b[0mSimpleDirectoryReader\u001b[0m\u001b[0;34m(\u001b[0m\u001b[0;34m\"/https://colab.research.google.com/notebooks/basic_features_overview.ipynb/\"\u001b[0m\u001b[0;34m)\u001b[0m\u001b[0;34m.\u001b[0m\u001b[0mload_data\u001b[0m\u001b[0;34m(\u001b[0m\u001b[0;34m)\u001b[0m\u001b[0;34m\u001b[0m\u001b[0;34m\u001b[0m\u001b[0m\n\u001b[0m\u001b[1;32m      2\u001b[0m \u001b[0mprint\u001b[0m\u001b[0;34m(\u001b[0m\u001b[0mlen\u001b[0m\u001b[0;34m(\u001b[0m\u001b[0mdocuments\u001b[0m\u001b[0;34m)\u001b[0m\u001b[0;34m)\u001b[0m\u001b[0;34m\u001b[0m\u001b[0;34m\u001b[0m\u001b[0m\n",
            "\u001b[0;32m/usr/local/lib/python3.10/dist-packages/llama_index/core/readers/file/base.py\u001b[0m in \u001b[0;36m__init__\u001b[0;34m(self, input_dir, input_files, exclude, exclude_hidden, errors, recursive, encoding, filename_as_id, required_exts, file_extractor, num_files_limit, file_metadata, raise_on_error, fs)\u001b[0m\n\u001b[1;32m    218\u001b[0m         \u001b[0;32melif\u001b[0m \u001b[0minput_dir\u001b[0m\u001b[0;34m:\u001b[0m\u001b[0;34m\u001b[0m\u001b[0;34m\u001b[0m\u001b[0m\n\u001b[1;32m    219\u001b[0m             \u001b[0;32mif\u001b[0m \u001b[0;32mnot\u001b[0m \u001b[0mself\u001b[0m\u001b[0;34m.\u001b[0m\u001b[0mfs\u001b[0m\u001b[0;34m.\u001b[0m\u001b[0misdir\u001b[0m\u001b[0;34m(\u001b[0m\u001b[0minput_dir\u001b[0m\u001b[0;34m)\u001b[0m\u001b[0;34m:\u001b[0m\u001b[0;34m\u001b[0m\u001b[0;34m\u001b[0m\u001b[0m\n\u001b[0;32m--> 220\u001b[0;31m                 \u001b[0;32mraise\u001b[0m \u001b[0mValueError\u001b[0m\u001b[0;34m(\u001b[0m\u001b[0;34mf\"Directory {input_dir} does not exist.\"\u001b[0m\u001b[0;34m)\u001b[0m\u001b[0;34m\u001b[0m\u001b[0;34m\u001b[0m\u001b[0m\n\u001b[0m\u001b[1;32m    221\u001b[0m             \u001b[0mself\u001b[0m\u001b[0;34m.\u001b[0m\u001b[0minput_dir\u001b[0m \u001b[0;34m=\u001b[0m \u001b[0m_Path\u001b[0m\u001b[0;34m(\u001b[0m\u001b[0minput_dir\u001b[0m\u001b[0;34m)\u001b[0m\u001b[0;34m\u001b[0m\u001b[0;34m\u001b[0m\u001b[0m\n\u001b[1;32m    222\u001b[0m             \u001b[0mself\u001b[0m\u001b[0;34m.\u001b[0m\u001b[0mexclude\u001b[0m \u001b[0;34m=\u001b[0m \u001b[0mexclude\u001b[0m\u001b[0;34m\u001b[0m\u001b[0;34m\u001b[0m\u001b[0m\n",
            "\u001b[0;31mValueError\u001b[0m: Directory /https://colab.research.google.com/notebooks/basic_features_overview.ipynb/ does not exist."
          ]
        }
      ]
    },
    {
      "cell_type": "code",
      "source": [
        "#setup the service context (global setting of LLM)\n",
        "Settings.llm = llm\n",
        "Settings.chunk_size = 512\n",
        "\n",
        "#setup the storage context\n",
        "graph_store = SimpleGraphStore()\n",
        "storage_context = StorageContext.from_defaults(graph_store=graph_store)\n",
        "\n",
        "#Construct the Knowlege Graph Undex\n",
        "index = KnowledgeGraphIndex.from_documents( documents=documents,\n",
        "                                           max_triplets_per_chunk=3,\n",
        "                                           storage_context=storage_context,\n",
        "                                           embed_model=embed_model,\n",
        "                                          include_embeddings=True)"
      ],
      "metadata": {
        "id": "Pf4jMYdbIN3U"
      },
      "execution_count": null,
      "outputs": []
    },
    {
      "cell_type": "code",
      "source": [
        "query = \"What is ESOP?\"\n",
        "query_engine = index.as_query_engine(include_text=True,\n",
        "                                     response_mode =\"tree_summarize\",\n",
        "                                     embedding_mode=\"hybrid\",\n",
        "                                     similarity_top_k=5,)\n",
        "#\n",
        "message_template =f\"\"\"<|system|>Please check if the following pieces of context has any mention of the  keywords provided in the Question.If not then don't know the answer, just say that you don't know.Stop there.Please donot try to make up an answer.</s>\n",
        "<|user|>\n",
        "Question: {query}\n",
        "Helpful Answer:\n",
        "</s>\"\"\"\n",
        "#\n",
        "response = query_engine.query(message_template)\n",
        "#\n",
        "print(response.response.split(\"<|assistant|>\")[-1].strip())\n",
        "\n",
        "################OUTPUT#####################\n",
        "ESOP stands for Employee Stock Ownership Plan. It is a type of employee benefit program in which a company offers its employees the opportunity to own company stock. ESOPs can be set up as a retirement plan or as a way for employees to purchase company stock at a discounted price. ESOPs require setup procedures, including obtaining shareholder and director approval, amending articles if necessary, reserving shares for issuance, drafting ESOP documents, and granting options to eligible employees. The taxation of ESOPs involves various considerations, including the taxation of the company's contributions to the plan, the taxation of employee distributions, and the taxation of company stock sold by the plan. ESOPs are considered an employee benefit because they provide employees with the opportunity to own a stake in the company they work for, which can lead to increased employee loyalty, motivation, and retention.\n"
      ],
      "metadata": {
        "id": "plZXO0ovITy5"
      },
      "execution_count": null,
      "outputs": []
    },
    {
      "cell_type": "code",
      "source": [
        "#https://medium.aiplanet.com/implement-rag-with-knowledge-graph-and-llama-index-6a3370e93cdd"
      ],
      "metadata": {
        "id": "207xjF8TLd_M"
      },
      "execution_count": null,
      "outputs": []
    }
  ]
}