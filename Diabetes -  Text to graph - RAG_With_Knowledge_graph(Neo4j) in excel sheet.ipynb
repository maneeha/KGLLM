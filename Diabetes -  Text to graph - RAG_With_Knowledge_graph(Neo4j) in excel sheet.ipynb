{
  "nbformat": 4,
  "nbformat_minor": 0,
  "metadata": {
    "colab": {
      "provenance": [],
      "include_colab_link": true
    },
    "kernelspec": {
      "name": "python3",
      "display_name": "Python 3"
    },
    "language_info": {
      "name": "python"
    },
    "widgets": {
      "application/vnd.jupyter.widget-state+json": {
        "c9530a5a6f05456d8745a4fb10a68469": {
          "model_module": "yfiles-jupyter-graphs",
          "model_name": "GraphModel",
          "model_module_version": "^1.7.3",
          "state": {
            "_context_pane_mapping": [
              {
                "id": "Neighborhood",
                "title": "Neighborhood"
              },
              {
                "id": "Data",
                "title": "Data"
              },
              {
                "id": "Search",
                "title": "Search"
              },
              {
                "id": "About",
                "title": "About"
              }
            ],
            "_data_importer": "neo4j",
            "_directed": true,
            "_dom_classes": [],
            "_edges": [
              {
                "id": 1157426203745845200,
                "start": 1,
                "end": 2,
                "properties": {
                  "label": "AFFECTS"
                },
                "label": "AFFECTS",
                "color": "#2196F3",
                "thickness_factor": 1,
                "directed": true
              },
              {
                "id": 1159678003559530500,
                "start": 1,
                "end": 3,
                "properties": {
                  "label": "AFFECTS"
                },
                "label": "AFFECTS",
                "color": "#2196F3",
                "thickness_factor": 1,
                "directed": true
              },
              {
                "id": 1152922604118474800,
                "start": 1,
                "end": 4,
                "properties": {
                  "label": "AFFECTS"
                },
                "label": "AFFECTS",
                "color": "#2196F3",
                "thickness_factor": 1,
                "directed": true
              },
              {
                "id": 1155174403932160000,
                "start": 1,
                "end": 86,
                "properties": {
                  "label": "AFFECTS"
                },
                "label": "AFFECTS",
                "color": "#2196F3",
                "thickness_factor": 1,
                "directed": true
              },
              {
                "id": 1152923703630102500,
                "start": 1,
                "end": 5,
                "properties": {
                  "label": "RESEARCHER"
                },
                "label": "RESEARCHER",
                "color": "#4CAF50",
                "thickness_factor": 1,
                "directed": true
              },
              {
                "id": 1155175503443787800,
                "start": 1,
                "end": 6,
                "properties": {
                  "label": "RESEARCHER"
                },
                "label": "RESEARCHER",
                "color": "#4CAF50",
                "thickness_factor": 1,
                "directed": true
              },
              {
                "id": 1157427303257473000,
                "start": 1,
                "end": 7,
                "properties": {
                  "label": "RESEARCHER"
                },
                "label": "RESEARCHER",
                "color": "#4CAF50",
                "thickness_factor": 1,
                "directed": true
              },
              {
                "id": 1159698894280458200,
                "start": 1,
                "end": 33,
                "properties": {
                  "label": "RELATED_TO"
                },
                "label": "RELATED_TO",
                "color": "#F44336",
                "thickness_factor": 1,
                "directed": true
              },
              {
                "id": 1161950694094143500,
                "start": 1,
                "end": 34,
                "properties": {
                  "label": "RELATED_TO"
                },
                "label": "RELATED_TO",
                "color": "#F44336",
                "thickness_factor": 1,
                "directed": true
              },
              {
                "id": 1164202493907828700,
                "start": 1,
                "end": 35,
                "properties": {
                  "label": "RELATED_TO"
                },
                "label": "RELATED_TO",
                "color": "#F44336",
                "thickness_factor": 1,
                "directed": true
              },
              {
                "id": 1166454293721514000,
                "start": 1,
                "end": 36,
                "properties": {
                  "label": "RELATED_TO"
                },
                "label": "RELATED_TO",
                "color": "#F44336",
                "thickness_factor": 1,
                "directed": true
              },
              {
                "id": 1152943494839402500,
                "start": 1,
                "end": 37,
                "properties": {
                  "label": "RELATED_TO"
                },
                "label": "RELATED_TO",
                "color": "#F44336",
                "thickness_factor": 1,
                "directed": true
              },
              {
                "id": 1155195294653087700,
                "start": 1,
                "end": 38,
                "properties": {
                  "label": "RELATED_TO"
                },
                "label": "RELATED_TO",
                "color": "#F44336",
                "thickness_factor": 1,
                "directed": true
              },
              {
                "id": 1157447094466773000,
                "start": 1,
                "end": 39,
                "properties": {
                  "label": "RELATED_TO"
                },
                "label": "RELATED_TO",
                "color": "#F44336",
                "thickness_factor": 1,
                "directed": true
              },
              {
                "id": 6917582903710843000,
                "start": 1,
                "end": 158,
                "properties": {
                  "label": "ASSOCIATED_WITH"
                },
                "label": "ASSOCIATED_WITH",
                "color": "#607D8B",
                "thickness_factor": 1,
                "directed": true
              },
              {
                "id": 6917631282222465000,
                "start": 1,
                "end": 44,
                "properties": {
                  "label": "WITH"
                },
                "label": "WITH",
                "color": "#673AB7",
                "thickness_factor": 1,
                "directed": true
              },
              {
                "id": 6917632381734093000,
                "start": 1,
                "end": 182,
                "properties": {
                  "label": "NOT_COMPARABLE_TO"
                },
                "label": "NOT_COMPARABLE_TO",
                "color": "#CDDC39",
                "thickness_factor": 1,
                "directed": true
              },
              {
                "id": 6917676362199204000,
                "start": 1,
                "end": 37,
                "properties": {
                  "label": "MAY_LEAD_TO"
                },
                "label": "MAY_LEAD_TO",
                "color": "#9E9E9E",
                "thickness_factor": 1,
                "directed": true
              },
              {
                "id": 6917676362199204000,
                "start": 1,
                "end": 38,
                "properties": {
                  "label": "MAY_LEAD_TO"
                },
                "label": "MAY_LEAD_TO",
                "color": "#9E9E9E",
                "thickness_factor": 1,
                "directed": true
              },
              {
                "id": 1153102924025430000,
                "start": 1,
                "end": 146,
                "properties": {
                  "label": "INFLUENCES_INTERPRETATION_AND_ACTION_ON"
                },
                "label": "INFLUENCES_INTERPRETATION_AND_ACTION_ON",
                "color": "#9C27B0",
                "thickness_factor": 1,
                "directed": true
              },
              {
                "id": 1152924803141730300,
                "start": 2,
                "end": 1,
                "properties": {
                  "label": "IMPACTS"
                },
                "label": "IMPACTS",
                "color": "#2196F3",
                "thickness_factor": 1,
                "directed": true
              },
              {
                "id": 1152974281164980200,
                "start": 2,
                "end": 58,
                "properties": {
                  "label": "REGRESSION"
                },
                "label": "REGRESSION",
                "color": "#4CAF50",
                "thickness_factor": 1,
                "directed": true
              },
              {
                "id": 1152975380676608000,
                "start": 2,
                "end": 36,
                "properties": {
                  "label": "ASSOCIATED_WITH"
                },
                "label": "ASSOCIATED_WITH",
                "color": "#607D8B",
                "thickness_factor": 1,
                "directed": true
              },
              {
                "id": 6922086503338213000,
                "start": 2,
                "end": 142,
                "properties": {
                  "label": "ASSOCIATED_WITH"
                },
                "label": "ASSOCIATED_WITH",
                "color": "#607D8B",
                "thickness_factor": 1,
                "directed": true
              },
              {
                "id": 1152981977746374700,
                "start": 2,
                "end": 149,
                "properties": {
                  "label": "NOT_ASSOCIATED_WITH"
                },
                "label": "NOT_ASSOCIATED_WITH",
                "color": "#F44336",
                "thickness_factor": 1,
                "directed": true
              },
              {
                "id": 1152986375792885800,
                "start": 2,
                "end": 36,
                "properties": {
                  "label": "HIGHER_ASSOCIATED_WITH"
                },
                "label": "HIGHER_ASSOCIATED_WITH",
                "color": "#607D8B",
                "thickness_factor": 1,
                "directed": true
              },
              {
                "id": 6917609291989910000,
                "start": 2,
                "end": 14,
                "properties": {
                  "label": "HELPS_UNDERSTAND_AND_ACT_ON"
                },
                "label": "HELPS_UNDERSTAND_AND_ACT_ON",
                "color": "#673AB7",
                "thickness_factor": 1,
                "directed": true
              },
              {
                "id": 6917610391501537000,
                "start": 2,
                "end": 145,
                "properties": {
                  "label": "LEADS_TO_LOWER_LEVELS"
                },
                "label": "LEADS_TO_LOWER_LEVELS",
                "color": "#CDDC39",
                "thickness_factor": 1,
                "directed": true
              },
              {
                "id": 6917611491013165000,
                "start": 2,
                "end": 58,
                "properties": {
                  "label": "PREDICTS"
                },
                "label": "PREDICTS",
                "color": "#9E9E9E",
                "thickness_factor": 1,
                "directed": true
              },
              {
                "id": 6917612590524793000,
                "start": 2,
                "end": 58,
                "properties": {
                  "label": "INFLUENCES"
                },
                "label": "INFLUENCES",
                "color": "#9C27B0",
                "thickness_factor": 1,
                "directed": true
              },
              {
                "id": 1153031455769624600,
                "start": 2,
                "end": 86,
                "properties": {
                  "label": "SCREENED_FOR"
                },
                "label": "SCREENED_FOR",
                "color": "#2196F3",
                "thickness_factor": 1,
                "directed": true
              },
              {
                "id": 1153032555281252400,
                "start": 2,
                "end": 14,
                "properties": {
                  "label": "NEEDS_SUPPORT"
                },
                "label": "NEEDS_SUPPORT",
                "color": "#4CAF50",
                "thickness_factor": 1,
                "directed": true
              },
              {
                "id": 1155284355094937600,
                "start": 2,
                "end": 193,
                "properties": {
                  "label": "NEEDS_SUPPORT"
                },
                "label": "NEEDS_SUPPORT",
                "color": "#4CAF50",
                "thickness_factor": 1,
                "directed": true
              },
              {
                "id": 1157536154908622800,
                "start": 2,
                "end": 194,
                "properties": {
                  "label": "NEEDS_SUPPORT"
                },
                "label": "NEEDS_SUPPORT",
                "color": "#4CAF50",
                "thickness_factor": 1,
                "directed": true
              },
              {
                "id": 6917640078315487000,
                "start": 2,
                "end": 358,
                "properties": {
                  "label": "NEEDS_SUPPORT"
                },
                "label": "NEEDS_SUPPORT",
                "color": "#4CAF50",
                "thickness_factor": 1,
                "directed": true
              },
              {
                "id": 6917641177827115000,
                "start": 2,
                "end": 195,
                "properties": {
                  "label": "NEEDS_ACCESS_TO"
                },
                "label": "NEEDS_ACCESS_TO",
                "color": "#F44336",
                "thickness_factor": 1,
                "directed": true
              },
              {
                "id": 6917642277338743000,
                "start": 2,
                "end": 196,
                "properties": {
                  "label": "REFERRED_IN"
                },
                "label": "REFERRED_IN",
                "color": "#607D8B",
                "thickness_factor": 1,
                "directed": true
              },
              {
                "id": 1153112819630080000,
                "start": 2,
                "end": 14,
                "properties": {
                  "label": "HELPS_UNDERSTAND,_INTERPRET,_AND_ACT_ON_DIABETES_SYMPTOMS"
                },
                "label": "HELPS_UNDERSTAND,_INTERPRET,_AND_ACT_ON_DIABETES_SYMPTOMS",
                "color": "#673AB7",
                "thickness_factor": 1,
                "directed": true
              },
              {
                "id": 1153113919141707800,
                "start": 2,
                "end": 58,
                "properties": {
                  "label": "PREDICTS_BETTER_MANAGEMENT_AND_CONTROL"
                },
                "label": "PREDICTS_BETTER_MANAGEMENT_AND_CONTROL",
                "color": "#CDDC39",
                "thickness_factor": 1,
                "directed": true
              },
              {
                "id": 6917722541687570000,
                "start": 2,
                "end": 359,
                "properties": {
                  "label": "NEEDS_ACCESS"
                },
                "label": "NEEDS_ACCESS",
                "color": "#9E9E9E",
                "thickness_factor": 1,
                "directed": true
              },
              {
                "id": 6917722541687570000,
                "start": 2,
                "end": 360,
                "properties": {
                  "label": "NEEDS_ACCESS"
                },
                "label": "NEEDS_ACCESS",
                "color": "#9E9E9E",
                "thickness_factor": 1,
                "directed": true
              },
              {
                "id": 6917722541687570000,
                "start": 2,
                "end": 361,
                "properties": {
                  "label": "NEEDS_ACCESS"
                },
                "label": "NEEDS_ACCESS",
                "color": "#9E9E9E",
                "thickness_factor": 1,
                "directed": true
              },
              {
                "id": 6917723641199198000,
                "start": 2,
                "end": 362,
                "properties": {
                  "label": "PREDICTS_HEALTHCARE_USE"
                },
                "label": "PREDICTS_HEALTHCARE_USE",
                "color": "#9C27B0",
                "thickness_factor": 1,
                "directed": true
              },
              {
                "id": 6917724740710826000,
                "start": 2,
                "end": 363,
                "properties": {
                  "label": "NEEDS_WIDENING_AVAILABILITY"
                },
                "label": "NEEDS_WIDENING_AVAILABILITY",
                "color": "#2196F3",
                "thickness_factor": 1,
                "directed": true
              },
              {
                "id": 1152924803141730300,
                "start": 3,
                "end": 1,
                "properties": {
                  "label": "IMPACTS"
                },
                "label": "IMPACTS",
                "color": "#2196F3",
                "thickness_factor": 1,
                "directed": true
              },
              {
                "id": 1153054545513808000,
                "start": 5,
                "end": 307,
                "properties": {
                  "label": "AFFILIATED_WITH"
                },
                "label": "AFFILIATED_WITH",
                "color": "#4CAF50",
                "thickness_factor": 1,
                "directed": true
              },
              {
                "id": 1153054545513808000,
                "start": 6,
                "end": 307,
                "properties": {
                  "label": "AFFILIATED_WITH"
                },
                "label": "AFFILIATED_WITH",
                "color": "#4CAF50",
                "thickness_factor": 1,
                "directed": true
              },
              {
                "id": 6917535624710849000,
                "start": 7,
                "end": 19,
                "properties": {
                  "label": "WORKS_AT"
                },
                "label": "WORKS_AT",
                "color": "#F44336",
                "thickness_factor": 1,
                "directed": true
              },
              {
                "id": 1153054545513808000,
                "start": 7,
                "end": 307,
                "properties": {
                  "label": "AFFILIATED_WITH"
                },
                "label": "AFFILIATED_WITH",
                "color": "#4CAF50",
                "thickness_factor": 1,
                "directed": true
              },
              {
                "id": 1152925902653358000,
                "start": 9,
                "end": 10,
                "properties": {
                  "label": "EXPLAINS"
                },
                "label": "EXPLAINS",
                "color": "#607D8B",
                "thickness_factor": 1,
                "directed": true
              }
            ],
            "_graph_layout": {},
            "_highlight": [],
            "_license": {},
            "_model_module": "yfiles-jupyter-graphs",
            "_model_module_version": "^1.7.3",
            "_model_name": "GraphModel",
            "_neighborhood": {},
            "_nodes": [
              {
                "id": 1,
                "properties": {
                  "id": "Diabetes",
                  "label": "Disease:__Entity__:Health condition"
                },
                "color": "#2196F3",
                "styles": {},
                "label": "Diabetes",
                "scale_factor": 1,
                "type": "#2196F3",
                "size": [
                  55,
                  55
                ],
                "position": [
                  0,
                  0
                ]
              },
              {
                "id": 2,
                "properties": {
                  "id": "Health Literacy",
                  "label": "Literacy:__Entity__:Variable:Concept"
                },
                "color": "#4CAF50",
                "styles": {},
                "label": "Health Literacy",
                "scale_factor": 1,
                "type": "#4CAF50",
                "size": [
                  55,
                  55
                ],
                "position": [
                  0,
                  0
                ]
              },
              {
                "id": 3,
                "properties": {
                  "id": "Health Care",
                  "label": "Healthcare:__Entity__:Concept"
                },
                "color": "#F44336",
                "styles": {},
                "label": "Health Care",
                "scale_factor": 1,
                "type": "#F44336",
                "size": [
                  55,
                  55
                ],
                "position": [
                  0,
                  0
                ]
              },
              {
                "id": 4,
                "properties": {
                  "id": "Adult Latinos",
                  "label": "__Entity__:Demographic group"
                },
                "color": "#607D8B",
                "styles": {},
                "label": "Adult Latinos",
                "scale_factor": 1,
                "type": "#607D8B",
                "size": [
                  55,
                  55
                ],
                "position": [
                  0,
                  0
                ]
              },
              {
                "id": 86,
                "properties": {
                  "id": "Participants",
                  "label": "__Entity__:Participants:Person"
                },
                "color": "#673AB7",
                "styles": {},
                "label": "Participants",
                "scale_factor": 1,
                "type": "#673AB7",
                "size": [
                  55,
                  55
                ],
                "position": [
                  0,
                  0
                ]
              },
              {
                "id": 5,
                "properties": {
                  "id": "Maren J Coffman",
                  "label": "__Entity__:Person"
                },
                "color": "#CDDC39",
                "styles": {},
                "label": "Maren J Coffman",
                "scale_factor": 1,
                "type": "#CDDC39",
                "size": [
                  55,
                  55
                ],
                "position": [
                  0,
                  0
                ]
              },
              {
                "id": 6,
                "properties": {
                  "id": "Cynthia K Norton",
                  "label": "__Entity__:Person"
                },
                "color": "#CDDC39",
                "styles": {},
                "label": "Cynthia K Norton",
                "scale_factor": 1,
                "type": "#CDDC39",
                "size": [
                  55,
                  55
                ],
                "position": [
                  0,
                  0
                ]
              },
              {
                "id": 7,
                "properties": {
                  "id": "Lara Beene",
                  "label": "__Entity__:Person"
                },
                "color": "#CDDC39",
                "styles": {},
                "label": "Lara Beene",
                "scale_factor": 1,
                "type": "#CDDC39",
                "size": [
                  55,
                  55
                ],
                "position": [
                  0,
                  0
                ]
              },
              {
                "id": 33,
                "properties": {
                  "id": "Blood Glucose Level",
                  "label": "Health indicator:__Entity__"
                },
                "color": "#9E9E9E",
                "styles": {},
                "label": "Blood Glucose Level",
                "scale_factor": 1,
                "type": "#9E9E9E",
                "size": [
                  55,
                  55
                ],
                "position": [
                  0,
                  0
                ]
              },
              {
                "id": 34,
                "properties": {
                  "id": "Diabetes Knowledge",
                  "label": "__Entity__:Variable:Concept"
                },
                "color": "#9C27B0",
                "styles": {},
                "label": "Diabetes Knowledge",
                "scale_factor": 1,
                "type": "#9C27B0",
                "size": [
                  55,
                  55
                ],
                "position": [
                  0,
                  0
                ]
              },
              {
                "id": 35,
                "properties": {
                  "id": "Health Literacy Levels",
                  "label": "__Entity__:Concept"
                },
                "color": "#2196F3",
                "styles": {},
                "label": "Health Literacy Levels",
                "scale_factor": 1,
                "type": "#2196F3",
                "size": [
                  55,
                  55
                ],
                "position": [
                  0,
                  0
                ]
              },
              {
                "id": 36,
                "properties": {
                  "id": "Health Care Services",
                  "label": "Healthcare service:Service:__Entity__:Concept"
                },
                "color": "#4CAF50",
                "styles": {},
                "label": "Health Care Services",
                "scale_factor": 1,
                "type": "#4CAF50",
                "size": [
                  55,
                  55
                ],
                "position": [
                  0,
                  0
                ]
              },
              {
                "id": 37,
                "properties": {
                  "id": "Undiagnosed Diabetes",
                  "label": "__Entity__:Health condition"
                },
                "color": "#F44336",
                "styles": {},
                "label": "Undiagnosed Diabetes",
                "scale_factor": 1,
                "type": "#F44336",
                "size": [
                  55,
                  55
                ],
                "position": [
                  0,
                  0
                ]
              },
              {
                "id": 38,
                "properties": {
                  "id": "Under Treated Diabetes",
                  "label": "__Entity__:Health condition"
                },
                "color": "#F44336",
                "styles": {},
                "label": "Under Treated Diabetes",
                "scale_factor": 1,
                "type": "#F44336",
                "size": [
                  55,
                  55
                ],
                "position": [
                  0,
                  0
                ]
              },
              {
                "id": 39,
                "properties": {
                  "id": "Diabetes Symptoms",
                  "label": "Health indicator:__Entity__:Symptom:Health condition:Variable"
                },
                "color": "#607D8B",
                "styles": {},
                "label": "Diabetes Symptoms",
                "scale_factor": 1,
                "type": "#607D8B",
                "size": [
                  55,
                  55
                ],
                "position": [
                  0,
                  0
                ]
              },
              {
                "id": 158,
                "properties": {
                  "id": "Education Level",
                  "label": "Knowledge:__Entity__"
                },
                "color": "#673AB7",
                "styles": {},
                "label": "Education Level",
                "scale_factor": 1,
                "type": "#673AB7",
                "size": [
                  55,
                  55
                ],
                "position": [
                  0,
                  0
                ]
              },
              {
                "id": 44,
                "properties": {
                  "id": "Diabetes Risk Factors",
                  "label": "__Entity__:Health condition:Concept"
                },
                "color": "#CDDC39",
                "styles": {},
                "label": "Diabetes Risk Factors",
                "scale_factor": 1,
                "type": "#CDDC39",
                "size": [
                  55,
                  55
                ],
                "position": [
                  0,
                  0
                ]
              },
              {
                "id": 182,
                "properties": {
                  "id": "Diagnosed Diabetes",
                  "label": "Diabetes status:__Entity__:Health condition"
                },
                "color": "#9E9E9E",
                "styles": {},
                "label": "Diagnosed Diabetes",
                "scale_factor": 1,
                "type": "#9E9E9E",
                "size": [
                  55,
                  55
                ],
                "position": [
                  0,
                  0
                ]
              },
              {
                "id": 146,
                "properties": {
                  "id": "Symptoms",
                  "label": "Symptoms:__Entity__:Symptom"
                },
                "color": "#9C27B0",
                "styles": {},
                "label": "Symptoms",
                "scale_factor": 1,
                "type": "#9C27B0",
                "size": [
                  55,
                  55
                ],
                "position": [
                  0,
                  0
                ]
              },
              {
                "id": 58,
                "properties": {
                  "id": "Health Care Use",
                  "label": "Healthcare management:__Entity__:Variable:Concept"
                },
                "color": "#2196F3",
                "styles": {},
                "label": "Health Care Use",
                "scale_factor": 1,
                "type": "#2196F3",
                "size": [
                  55,
                  55
                ],
                "position": [
                  0,
                  0
                ]
              },
              {
                "id": 142,
                "properties": {
                  "id": "Years Of Education",
                  "label": "__Entity__:Variable:Education"
                },
                "color": "#4CAF50",
                "styles": {},
                "label": "Years Of Education",
                "scale_factor": 1,
                "type": "#4CAF50",
                "size": [
                  55,
                  55
                ],
                "position": [
                  0,
                  0
                ]
              },
              {
                "id": 149,
                "properties": {
                  "id": "Diabetes Knowledge Questionnaire (Dkq-24)",
                  "label": "Questionnaire:__Entity__"
                },
                "color": "#F44336",
                "styles": {},
                "label": "Diabetes Knowledge Questionnaire (Dkq-24)",
                "scale_factor": 1,
                "type": "#F44336",
                "size": [
                  55,
                  55
                ],
                "position": [
                  0,
                  0
                ]
              },
              {
                "id": 14,
                "properties": {
                  "id": "Latinos",
                  "label": "Group:Ethnicity:__Entity__:Ethnic group:Person"
                },
                "color": "#607D8B",
                "styles": {},
                "label": "Latinos",
                "scale_factor": 1,
                "type": "#607D8B",
                "size": [
                  55,
                  55
                ],
                "position": [
                  0,
                  0
                ]
              },
              {
                "id": 145,
                "properties": {
                  "id": "Hbalc Levels",
                  "label": "Health indicator:__Entity__:Measurement"
                },
                "color": "#673AB7",
                "styles": {},
                "label": "Hbalc Levels",
                "scale_factor": 1,
                "type": "#673AB7",
                "size": [
                  55,
                  55
                ],
                "position": [
                  0,
                  0
                ]
              },
              {
                "id": 193,
                "properties": {
                  "id": "Nurses",
                  "label": "__Entity__:Person"
                },
                "color": "#CDDC39",
                "styles": {},
                "label": "Nurses",
                "scale_factor": 1,
                "type": "#CDDC39",
                "size": [
                  55,
                  55
                ],
                "position": [
                  0,
                  0
                ]
              },
              {
                "id": 194,
                "properties": {
                  "id": "Educators",
                  "label": "__Entity__:Person"
                },
                "color": "#CDDC39",
                "styles": {},
                "label": "Educators",
                "scale_factor": 1,
                "type": "#CDDC39",
                "size": [
                  55,
                  55
                ],
                "position": [
                  0,
                  0
                ]
              },
              {
                "id": 358,
                "properties": {
                  "id": "Materials",
                  "label": "__Entity__:Concept"
                },
                "color": "#2196F3",
                "styles": {},
                "label": "Materials",
                "scale_factor": 1,
                "type": "#2196F3",
                "size": [
                  55,
                  55
                ],
                "position": [
                  0,
                  0
                ]
              },
              {
                "id": 195,
                "properties": {
                  "id": "Low Income Latinos",
                  "label": "__Entity__:Person"
                },
                "color": "#CDDC39",
                "styles": {},
                "label": "Low Income Latinos",
                "scale_factor": 1,
                "type": "#CDDC39",
                "size": [
                  55,
                  55
                ],
                "position": [
                  0,
                  0
                ]
              },
              {
                "id": 196,
                "properties": {
                  "id": "Agency For Health Care Research And Quality",
                  "label": "__Entity__:Organization"
                },
                "color": "#CDDC39",
                "styles": {},
                "label": "Agency For Health Care Research And Quality",
                "scale_factor": 1,
                "type": "#CDDC39",
                "size": [
                  55,
                  55
                ],
                "position": [
                  0,
                  0
                ]
              },
              {
                "id": 359,
                "properties": {
                  "id": "Primary Care Home",
                  "label": "__Entity__:Concept"
                },
                "color": "#2196F3",
                "styles": {},
                "label": "Primary Care Home",
                "scale_factor": 1,
                "type": "#2196F3",
                "size": [
                  55,
                  55
                ],
                "position": [
                  0,
                  0
                ]
              },
              {
                "id": 360,
                "properties": {
                  "id": "Community-Based Health Care",
                  "label": "__Entity__:Concept"
                },
                "color": "#2196F3",
                "styles": {},
                "label": "Community-Based Health Care",
                "scale_factor": 1,
                "type": "#2196F3",
                "size": [
                  55,
                  55
                ],
                "position": [
                  0,
                  0
                ]
              },
              {
                "id": 361,
                "properties": {
                  "id": "Vulnerable Latinos",
                  "label": "__Entity__:Person"
                },
                "color": "#CDDC39",
                "styles": {},
                "label": "Vulnerable Latinos",
                "scale_factor": 1,
                "type": "#CDDC39",
                "size": [
                  55,
                  55
                ],
                "position": [
                  0,
                  0
                ]
              },
              {
                "id": 362,
                "properties": {
                  "id": "Insurance Coverage",
                  "label": "__Entity__:Concept"
                },
                "color": "#2196F3",
                "styles": {},
                "label": "Insurance Coverage",
                "scale_factor": 1,
                "type": "#2196F3",
                "size": [
                  55,
                  55
                ],
                "position": [
                  0,
                  0
                ]
              },
              {
                "id": 363,
                "properties": {
                  "id": "Health Insurance Programs",
                  "label": "__Entity__:Concept"
                },
                "color": "#2196F3",
                "styles": {},
                "label": "Health Insurance Programs",
                "scale_factor": 1,
                "type": "#2196F3",
                "size": [
                  55,
                  55
                ],
                "position": [
                  0,
                  0
                ]
              },
              {
                "id": 307,
                "properties": {
                  "id": "University Of North Carolina At Charlotte",
                  "label": "__Entity__:Organization"
                },
                "color": "#CDDC39",
                "styles": {},
                "label": "University Of North Carolina At Charlotte",
                "scale_factor": 1,
                "type": "#CDDC39",
                "size": [
                  55,
                  55
                ],
                "position": [
                  0,
                  0
                ]
              },
              {
                "id": 19,
                "properties": {
                  "id": "Brigham Young University",
                  "label": "__Entity__"
                },
                "color": "#9E9E9E",
                "styles": {},
                "label": "Brigham Young University",
                "scale_factor": 1,
                "type": "#9E9E9E",
                "size": [
                  55,
                  55
                ],
                "position": [
                  0,
                  0
                ]
              },
              {
                "id": 9,
                "properties": {
                  "id": "Symptom Interpretation Model",
                  "label": "__Entity__:Concept"
                },
                "color": "#2196F3",
                "styles": {},
                "label": "Symptom Interpretation Model",
                "scale_factor": 1,
                "type": "#2196F3",
                "size": [
                  55,
                  55
                ],
                "position": [
                  0,
                  0
                ]
              },
              {
                "id": 10,
                "properties": {
                  "id": "Sim",
                  "label": "Framework:__Entity__:Concept"
                },
                "color": "#9C27B0",
                "styles": {},
                "label": "Sim",
                "scale_factor": 1,
                "type": "#9C27B0",
                "size": [
                  55,
                  55
                ],
                "position": [
                  0,
                  0
                ]
              }
            ],
            "_overview": {
              "enabled": null,
              "overview_set": false
            },
            "_selected_graph": [
              [],
              []
            ],
            "_sidebar": {
              "enabled": true,
              "start_with": ""
            },
            "_view_count": null,
            "_view_module": "yfiles-jupyter-graphs",
            "_view_module_version": "^1.7.3",
            "_view_name": "GraphView",
            "layout": "IPY_MODEL_3d234b9428b54c90af0d422c827ccccb",
            "tabbable": null,
            "tooltip": null
          }
        },
        "3d234b9428b54c90af0d422c827ccccb": {
          "model_module": "@jupyter-widgets/base",
          "model_name": "LayoutModel",
          "model_module_version": "2.0.0",
          "state": {
            "_model_module": "@jupyter-widgets/base",
            "_model_module_version": "2.0.0",
            "_model_name": "LayoutModel",
            "_view_count": null,
            "_view_module": "@jupyter-widgets/base",
            "_view_module_version": "2.0.0",
            "_view_name": "LayoutView",
            "align_content": null,
            "align_items": null,
            "align_self": null,
            "border_bottom": null,
            "border_left": null,
            "border_right": null,
            "border_top": null,
            "bottom": null,
            "display": null,
            "flex": null,
            "flex_flow": null,
            "grid_area": null,
            "grid_auto_columns": null,
            "grid_auto_flow": null,
            "grid_auto_rows": null,
            "grid_column": null,
            "grid_gap": null,
            "grid_row": null,
            "grid_template_areas": null,
            "grid_template_columns": null,
            "grid_template_rows": null,
            "height": "800px",
            "justify_content": null,
            "justify_items": null,
            "left": null,
            "margin": null,
            "max_height": null,
            "max_width": null,
            "min_height": null,
            "min_width": null,
            "object_fit": null,
            "object_position": null,
            "order": null,
            "overflow": null,
            "padding": null,
            "right": null,
            "top": null,
            "visibility": null,
            "width": "100%"
          }
        }
      }
    }
  },
  "cells": [
    {
      "cell_type": "markdown",
      "metadata": {
        "id": "view-in-github",
        "colab_type": "text"
      },
      "source": [
        "<a href=\"https://colab.research.google.com/github/maneeha/KGLLM/blob/main/Diabetes%20-%20%20Text%20to%20graph%20-%20RAG_With_Knowledge_graph(Neo4j)%20in%20excel%20sheet.ipynb\" target=\"_parent\"><img src=\"https://colab.research.google.com/assets/colab-badge.svg\" alt=\"Open In Colab\"/></a>"
      ]
    },
    {
      "cell_type": "markdown",
      "source": [
        "# langchain-core\n",
        "\n",
        "contains simple, core abstractions that have emerged as a standard, as well as LangChain Expression Language as a way to compose these components together. This package is now at version 0.1 and all breaking changes will be accompanied by a minor version bump.\n",
        "\n",
        "# langchain-community\n",
        "contains all third party integrations. We will work with partners on splitting key integrations out into standalone packages over the next month.\n",
        "\n",
        "# langchain\n",
        "contains higher-level and use-case specific chains, agents, and retrieval algorithms that are at the core of your application's cognitive architecture. We are targeting a launch of a stable 0.1 release for langchain in early January.#"
      ],
      "metadata": {
        "id": "xB3OyiU14byv"
      }
    },
    {
      "cell_type": "code",
      "source": [
        "%pip install --upgrade --quiet  langchain langchain-community langchain-openai langchain-experimental neo4j wikipedia tiktoken yfiles_jupyter_graphs"
      ],
      "metadata": {
        "colab": {
          "base_uri": "https://localhost:8080/"
        },
        "id": "usWcdmOr7GAH",
        "outputId": "68dc9702-e225-4a8d-f617-343732c45a72"
      },
      "execution_count": 1,
      "outputs": [
        {
          "output_type": "stream",
          "name": "stdout",
          "text": [
            "  Preparing metadata (setup.py) ... \u001b[?25l\u001b[?25hdone\n",
            "\u001b[2K     \u001b[90m━━━━━━━━━━━━━━━━━━━━━━━━━━━━━━━━━━━━━━━━\u001b[0m \u001b[32m50.4/50.4 kB\u001b[0m \u001b[31m3.1 MB/s\u001b[0m eta \u001b[36m0:00:00\u001b[0m\n",
            "\u001b[2K   \u001b[90m━━━━━━━━━━━━━━━━━━━━━━━━━━━━━━━━━━━━━━━━\u001b[0m \u001b[32m997.8/997.8 kB\u001b[0m \u001b[31m33.5 MB/s\u001b[0m eta \u001b[36m0:00:00\u001b[0m\n",
            "\u001b[2K   \u001b[90m━━━━━━━━━━━━━━━━━━━━━━━━━━━━━━━━━━━━━━━━\u001b[0m \u001b[32m2.3/2.3 MB\u001b[0m \u001b[31m59.2 MB/s\u001b[0m eta \u001b[36m0:00:00\u001b[0m\n",
            "\u001b[2K   \u001b[90m━━━━━━━━━━━━━━━━━━━━━━━━━━━━━━━━━━━━━━━━\u001b[0m \u001b[32m49.8/49.8 kB\u001b[0m \u001b[31m3.5 MB/s\u001b[0m eta \u001b[36m0:00:00\u001b[0m\n",
            "\u001b[2K   \u001b[90m━━━━━━━━━━━━━━━━━━━━━━━━━━━━━━━━━━━━━━━━\u001b[0m \u001b[32m204.3/204.3 kB\u001b[0m \u001b[31m14.6 MB/s\u001b[0m eta \u001b[36m0:00:00\u001b[0m\n",
            "\u001b[2K   \u001b[90m━━━━━━━━━━━━━━━━━━━━━━━━━━━━━━━━━━━━━━━━\u001b[0m \u001b[32m293.6/293.6 kB\u001b[0m \u001b[31m19.7 MB/s\u001b[0m eta \u001b[36m0:00:00\u001b[0m\n",
            "\u001b[2K   \u001b[90m━━━━━━━━━━━━━━━━━━━━━━━━━━━━━━━━━━━━━━━━\u001b[0m \u001b[32m1.1/1.1 MB\u001b[0m \u001b[31m44.1 MB/s\u001b[0m eta \u001b[36m0:00:00\u001b[0m\n",
            "\u001b[2K   \u001b[90m━━━━━━━━━━━━━━━━━━━━━━━━━━━━━━━━━━━━━━━━\u001b[0m \u001b[32m15.5/15.5 MB\u001b[0m \u001b[31m42.5 MB/s\u001b[0m eta \u001b[36m0:00:00\u001b[0m\n",
            "\u001b[2K   \u001b[90m━━━━━━━━━━━━━━━━━━━━━━━━━━━━━━━━━━━━━━━━\u001b[0m \u001b[32m139.4/139.4 kB\u001b[0m \u001b[31m9.7 MB/s\u001b[0m eta \u001b[36m0:00:00\u001b[0m\n",
            "\u001b[2K   \u001b[90m━━━━━━━━━━━━━━━━━━━━━━━━━━━━━━━━━━━━━━━━\u001b[0m \u001b[32m384.8/384.8 kB\u001b[0m \u001b[31m24.7 MB/s\u001b[0m eta \u001b[36m0:00:00\u001b[0m\n",
            "\u001b[2K   \u001b[90m━━━━━━━━━━━━━━━━━━━━━━━━━━━━━━━━━━━━━━━━\u001b[0m \u001b[32m140.4/140.4 kB\u001b[0m \u001b[31m9.9 MB/s\u001b[0m eta \u001b[36m0:00:00\u001b[0m\n",
            "\u001b[2K   \u001b[90m━━━━━━━━━━━━━━━━━━━━━━━━━━━━━━━━━━━━━━━━\u001b[0m \u001b[32m361.3/361.3 kB\u001b[0m \u001b[31m20.0 MB/s\u001b[0m eta \u001b[36m0:00:00\u001b[0m\n",
            "\u001b[2K   \u001b[90m━━━━━━━━━━━━━━━━━━━━━━━━━━━━━━━━━━━━━━━━\u001b[0m \u001b[32m75.6/75.6 kB\u001b[0m \u001b[31m5.0 MB/s\u001b[0m eta \u001b[36m0:00:00\u001b[0m\n",
            "\u001b[2K   \u001b[90m━━━━━━━━━━━━━━━━━━━━━━━━━━━━━━━━━━━━━━━━\u001b[0m \u001b[32m77.9/77.9 kB\u001b[0m \u001b[31m5.3 MB/s\u001b[0m eta \u001b[36m0:00:00\u001b[0m\n",
            "\u001b[2K   \u001b[90m━━━━━━━━━━━━━━━━━━━━━━━━━━━━━━━━━━━━━━━━\u001b[0m \u001b[32m318.9/318.9 kB\u001b[0m \u001b[31m22.3 MB/s\u001b[0m eta \u001b[36m0:00:00\u001b[0m\n",
            "\u001b[2K   \u001b[90m━━━━━━━━━━━━━━━━━━━━━━━━━━━━━━━━━━━━━━━━\u001b[0m \u001b[32m49.2/49.2 kB\u001b[0m \u001b[31m3.5 MB/s\u001b[0m eta \u001b[36m0:00:00\u001b[0m\n",
            "\u001b[2K   \u001b[90m━━━━━━━━━━━━━━━━━━━━━━━━━━━━━━━━━━━━━━━━\u001b[0m \u001b[32m141.9/141.9 kB\u001b[0m \u001b[31m10.3 MB/s\u001b[0m eta \u001b[36m0:00:00\u001b[0m\n",
            "\u001b[2K   \u001b[90m━━━━━━━━━━━━━━━━━━━━━━━━━━━━━━━━━━━━━━━━\u001b[0m \u001b[32m2.3/2.3 MB\u001b[0m \u001b[31m58.7 MB/s\u001b[0m eta \u001b[36m0:00:00\u001b[0m\n",
            "\u001b[2K   \u001b[90m━━━━━━━━━━━━━━━━━━━━━━━━━━━━━━━━━━━━━━━━\u001b[0m \u001b[32m58.3/58.3 kB\u001b[0m \u001b[31m4.0 MB/s\u001b[0m eta \u001b[36m0:00:00\u001b[0m\n",
            "\u001b[?25h  Building wheel for wikipedia (setup.py) ... \u001b[?25l\u001b[?25hdone\n"
          ]
        }
      ]
    },
    {
      "cell_type": "code",
      "source": [
        "from langchain_core.runnables import (\n",
        "    RunnableBranch,\n",
        "    RunnableLambda,\n",
        "    RunnableParallel,\n",
        "    RunnablePassthrough,\n",
        ")"
      ],
      "metadata": {
        "id": "q8EzdaTJFTbx"
      },
      "execution_count": 2,
      "outputs": []
    },
    {
      "cell_type": "code",
      "source": [
        "from langchain_core.prompts import ChatPromptTemplate\n",
        "from langchain_core.prompts.prompt import PromptTemplate"
      ],
      "metadata": {
        "id": "vKkxxyasFWPh"
      },
      "execution_count": 3,
      "outputs": []
    },
    {
      "cell_type": "code",
      "source": [
        "from google.colab import userdata\n",
        "OPENAI_API_KEY=userdata.get('OPENAI_API_KEY')"
      ],
      "metadata": {
        "id": "SksHz3Q356JQ"
      },
      "execution_count": 4,
      "outputs": []
    },
    {
      "cell_type": "code",
      "source": [
        "from typing import Tuple, List, Optional"
      ],
      "metadata": {
        "id": "GCEgNy7LFXS4"
      },
      "execution_count": 5,
      "outputs": []
    },
    {
      "cell_type": "code",
      "source": [
        "from langchain_core.messages import AIMessage, HumanMessage\n",
        "from langchain_core.output_parsers import StrOutputParser"
      ],
      "metadata": {
        "id": "ymZquwggFaNr"
      },
      "execution_count": 6,
      "outputs": []
    },
    {
      "cell_type": "code",
      "source": [
        "from langchain_core.runnables import ConfigurableField"
      ],
      "metadata": {
        "id": "nitfT-ktFaQQ"
      },
      "execution_count": 7,
      "outputs": []
    },
    {
      "cell_type": "code",
      "source": [
        "from yfiles_jupyter_graphs import GraphWidget\n",
        "from neo4j import GraphDatabase\n"
      ],
      "metadata": {
        "id": "fzOPupw0FaSy"
      },
      "execution_count": 8,
      "outputs": []
    },
    {
      "cell_type": "code",
      "source": [
        "import os"
      ],
      "metadata": {
        "id": "g6kjt1HkFaVZ"
      },
      "execution_count": 9,
      "outputs": []
    },
    {
      "cell_type": "code",
      "source": [
        "try:\n",
        "  import google.colab\n",
        "  from google.colab import output\n",
        "  output.enable_custom_widget_manager()\n",
        "except:\n",
        "  pass"
      ],
      "metadata": {
        "id": "IR5TLMjpFhE-"
      },
      "execution_count": 10,
      "outputs": []
    },
    {
      "cell_type": "code",
      "source": [
        "from langchain_community.vectorstores import Neo4jVector"
      ],
      "metadata": {
        "id": "pSgOwI9SFhHr"
      },
      "execution_count": 11,
      "outputs": []
    },
    {
      "cell_type": "code",
      "source": [
        "from google.colab import userdata\n",
        "OPENAI_API_KEY=userdata.get('OPENAI_API_KEY')"
      ],
      "metadata": {
        "id": "lyOvwiijFlQF"
      },
      "execution_count": 12,
      "outputs": []
    },
    {
      "cell_type": "code",
      "source": [
        "NEO4J_URI=\"neo4j+s://2ff1ce5d.databases.neo4j.io\"\n",
        "NEO4J_USERNAME=\"neo4j\"\n",
        "NEO4J_PASSWORD=\"jaCuHWs8uM_CmCjPhp99hukq8pwbt-ud5B9pZ-qIjtQ\""
      ],
      "metadata": {
        "id": "YiKFX23n4tl3"
      },
      "execution_count": 13,
      "outputs": []
    },
    {
      "cell_type": "code",
      "source": [
        "os.environ[\"OPENAI_API_KEY\"] = OPENAI_API_KEY\n",
        "os.environ[\"NEO4J_URI\"] = NEO4J_URI\n",
        "os.environ[\"NEO4J_USERNAME\"] = NEO4J_USERNAME\n",
        "os.environ[\"NEO4J_PASSWORD\"] = NEO4J_PASSWORD"
      ],
      "metadata": {
        "id": "gHiqiwau7Tat"
      },
      "execution_count": 14,
      "outputs": []
    },
    {
      "cell_type": "code",
      "source": [
        "from langchain_community.graphs import Neo4jGraph"
      ],
      "metadata": {
        "id": "zpIPagYu6BAp"
      },
      "execution_count": 15,
      "outputs": []
    },
    {
      "cell_type": "code",
      "source": [
        "graph = Neo4jGraph()"
      ],
      "metadata": {
        "id": "0xzi4bRD6Bx9"
      },
      "execution_count": 16,
      "outputs": []
    },
    {
      "cell_type": "code",
      "source": [
        "from google.colab import drive\n",
        "drive.mount('/content/drive')\n"
      ],
      "metadata": {
        "colab": {
          "base_uri": "https://localhost:8080/"
        },
        "id": "jCxkpK10bVJV",
        "outputId": "89edcd58-cdc4-4856-e675-a7cd693565b2"
      },
      "execution_count": 17,
      "outputs": [
        {
          "output_type": "stream",
          "name": "stdout",
          "text": [
            "Mounted at /content/drive\n"
          ]
        }
      ]
    },
    {
      "cell_type": "code",
      "source": [
        "from langchain.document_loaders import TextLoader"
      ],
      "metadata": {
        "id": "NlX55KttcBzG"
      },
      "execution_count": 18,
      "outputs": []
    },
    {
      "cell_type": "code",
      "source": [
        "file_paths = [\"/content/drive/MyDrive/refined/20121CoffmanNortonBeene.txt\", \"/content/drive/MyDrive/refined/insulin.txt\", \"/content/drive/MyDrive/refined/Blood gulocose monitoring.txt\", \"/content/drive/MyDrive/refined/blood gulocose.txt\", \"/content/drive/MyDrive/refined/complications.txt\", \"/content/drive/MyDrive/refined/diabetes awareness_TXT.txt\", \"/content/drive/MyDrive/refined/diabetes exercise.txt\", \"/content/drive/MyDrive/refined/diabetes in pregnancy.txt\", \"/content/drive/MyDrive/refined/Diabetes medication_TXT.txt\" , \"/content/drive/MyDrive/refined/diabetes monitoring_TXT.txt\" , \"/content/drive/MyDrive/refined/Diabetes Nutrition.txt\", \"/content/drive/MyDrive/refined/diabetes stress mgmt_TXT.txt\" , \"/content/drive/MyDrive/refined/Diabetes symptoms.txt\", \"/content/drive/MyDrive/refined/Diabetes tech_TXT.txt\", \"/content/drive/MyDrive/refined/Effectiveness of diabetes education and awareness of diabetes mellitus  in  combating  diabetes  in  the  United  Kigdom;  a  literature review .txt\", \"/content/drive/MyDrive/refined/gulocose monitoring.txt\", \"/content/drive/MyDrive/refined/KnowledgeofDMgeneralpublicKL.txt\", \"/content/drive/MyDrive/refined/Public knowledge and awareness of diabetes mellitus, its risk factors, complications, and prevention methods among adults in Poland—A 2022 nationwide cross-sectional survey _ Enhanced Reader.txt\", \"/content/drive/MyDrive/refined/Type 1 diabetes.txt\"]  # Add your file paths here\n",
        "raw_documents = []\n",
        "for file_path in file_paths:\n",
        "    loader = TextLoader(file_path)\n",
        "    raw_documents.extend(loader.load())\n"
      ],
      "metadata": {
        "id": "bg52eXJiZpHI"
      },
      "execution_count": 22,
      "outputs": []
    },
    {
      "cell_type": "code",
      "source": [
        "#from langchain.document_loaders import WikipediaLoader\n",
        "#raw_documents = WikipediaLoader(query=\"Diabetes_management\").load()"
      ],
      "metadata": {
        "id": "XKqtMDVY6WwW"
      },
      "execution_count": 23,
      "outputs": []
    },
    {
      "cell_type": "code",
      "source": [
        "len(raw_documents)"
      ],
      "metadata": {
        "colab": {
          "base_uri": "https://localhost:8080/"
        },
        "id": "ACWeDt0O7yc2",
        "outputId": "ea60bea9-3b80-4cf2-da9d-a4c0354100e1"
      },
      "execution_count": 24,
      "outputs": [
        {
          "output_type": "execute_result",
          "data": {
            "text/plain": [
              "19"
            ]
          },
          "metadata": {},
          "execution_count": 24
        }
      ]
    },
    {
      "cell_type": "code",
      "source": [
        "raw_documents[:3]"
      ],
      "metadata": {
        "colab": {
          "base_uri": "https://localhost:8080/"
        },
        "id": "skFy3n30732l",
        "outputId": "a214a656-6e4d-432a-806c-d16c899f99e1"
      },
      "execution_count": 25,
      "outputs": [
        {
          "output_type": "execute_result",
          "data": {
            "text/plain": [
              "[Document(metadata={'source': '/content/drive/MyDrive/refined/20121CoffmanNortonBeene.txt'}, page_content='See discussions, stats, and author profiles for this publication at: https://www.researchgate.net/publication/225051151\\nDiabetes symptoms, health literacy, and health care use in adult Latinos with\\ndiabetes risk factors\\nArticle\\xa0\\xa0in\\xa0\\xa0Journal of Cultural Diversity · March 2012\\nSource: PubMed\\nCITATIONS\\n26\\nREADS\\n2,201\\n3 authors, including:\\nMaren J Coffman\\nUniversity of North Carolina at Charlotte\\n42 PUBLICATIONS\\xa0\\xa0\\xa0725 CITATIONS\\xa0\\xa0\\xa0\\nSEE PROFILE\\nAll content following this page was uploaded by Maren J Coffman on 15 November 2015.\\nThe user has requested enhancement of the downloaded file.\\nMAREN J. COFFMAN, P H D , R N ,\\nCYNTHIA K. NORTON, MSN, ANP-BC, LARA BEENE, M F A\\nAbstract: Purpose: This study examined the extent of undetected and un-\\ntreated type 2 diabetes in a sample of recent Latino immigrants, and looked\\nat the relationships among diabetes symptoms, blood glucose level, diabetes\\nknowledge, health literacy level, and riealth care use.\\nMethods: Using a descriptive and correlational design, 144 Latino adults\\nwere interviewed.\\nResults: Many participants had diabetes and reported symptoms, but they\\nwere not aware of the disease and were not receiving adequate health care.\\nLack of diabetes knowledge, low health literacy, and barriers to health care\\nprevented appropriate symptom responses.\\nConclusions: Interventions that teach health literacy skills and diabetes\\nsymptom interpretation may improve health care use.\\nKey Words: Type 2 Diabetes, Diabetes Symptoms, Health Care Use, Health\\nLiteracy\\nDIABETES SYMPTOMS, HEALTH LITERACY,\\nAND HEALTH CARE USE IN ADULT\\nLATINOS WITH DIABETES RISK FACTORS\\nA\\nccording to the National Center for Health Statistics\\n(2006), nearly 15% of Latino adults in the U.S. have\\ntype 2 diabetes, compared to 9% of non-Hispanic\\nwhites. Further, Latinos are more likely to suffer from\\nserious diabetes complications, including amputations and\\nretinopathy (Center for Disease Control and Prevention\\n[CDC], 2011) due, in part, to inadequate diabetes education\\nand lack of access to preventive health care.\\nThe Symptom Interpretation Model (SIM) explains\\nindividual reactions to the symptom experience, and the\\nreasoning and behavioral responses that result (Teel, Meek,\\nMcNamara, & Watson, 1997). According to the model,\\nwhen diabetes symptoms occur, an individual with adequate\\nsymptom experience, diabetes knowledge, and health\\nliteracy will be able to recognize, interpret, and respond to\\nthe symptoms. Health care services can then be accessed,\\nleading to improved blood glucose control. Inaccurate\\nsymptom interpretation, however, may lead individuals to\\ndisregard symptoms, self-treat, or delay professional health\\ncare.\\nAccording to the SIM, the symptom experience\\nincludes a) sensory awareness of symptoms, b) interpretation\\nof symptoms based on identification, knowledge, and\\nreasoning, and c) the actions and behaviors that follow\\nMaren J. Coffman, PhD, RN, teaches at the University\\nof North Carolina at Charlotte School of Nursing located\\nat 9201 University City Boulevard, Charlotte, NC 28223-\\n0001. Dr. Copnan may be reached at: (704)687-7979;\\nmjcoffma@uncc.edu. Cynthia K. Norton, MSN, ANP-\\nBC, works at Central Carolina Medical Associates. Lara\\nBeene, MFA, works at Brigham Young University.\\n(Teel et al., 1997). Symptoms, defined as the \"subjective,\\nmultidimensional awareness of an internal system\\ndisturbance to which meaning has been assigned\" (Teel et\\nal., p. 176), are interpreted and acted upon based on cultural\\nbeliefs and personal factors.\\nFor Latinos, symptom awareness may be based on\\nculturally defined explanatory models rather than biomédical\\nmodels. Latinos tend to explain diabetes based on their\\nsymptoms, while non Hispanic whites use biophysical\\nexplanations (Caban & Walker, 2006). For example, in\\none study, Mexican American women with type 2 diabetes\\ndescribed the disease as confusing and silent. To them, a\\nlack of discernible symptoms indicated that the disease was\\neither absent or under control (Alcozer, 2000; O\\'Connell\\net al., 1984; Phinney & Wallhagen, 2003). Conversely, the\\npresence of diabetes symptoms was viewed as an indication\\nthat the disease had advanced or that complications were\\npresent\\'(Alcozer, 2000).\\nOnce there is awareness, the symptom experience\\nis interpreted. According to Teel et al. (1997), symptoms\\nare interpreted through a personal, cultural lens that\\ninfluences associated meanings. Appropriate interpretation\\nof symptoms is based on knowledge structures, which are\\nexemplars or prototypes developed from past experiences.\\nInadequate diabetes knowledge and understanding in Latinos\\n(Garcia, Villagomez, Brown, Kouzekanani, & Hanis,\\n2001) may inhibit appropriate development of knowledge\\nstructures.\\nThus, Mexican Americans who have type 2 diabetes\\nmay incorrectly interpret serious symptoms as benign\\n(Garcia, 2005). Further, they may make judgments without\\nchecking their blood glucose, even when they have blood\\nglucose monitors and supplies (Brown, Upchurch, Garcia,\\nBarton, & Hanis, 1998). In one study of symptoms in\\nJournal of Cultural Diversity • Vol. 19, No. 1\\nSpring 2012\\nMexican Americans with type 2 diabetes, though participants\\nhad markedly elevated glucose levels, only 50% reported\\nsymptoms and half did not think the symptoms were serious\\n(Brown et al, 1998). In another study of a similar group, 97%\\nof participants self-treated headaches with over-the-counter\\nmedication without recognizing the headaches as a possible\\ndiabetes symptom (Garcia, 2005). Since interpretation\\nof symptoms is often inaccurate (Diamond, Massey, &\\nCovey, 1989; O\\'Connell, Hamera, Schorheide, & Guthrie,\\n1990), ongoing blood glucose monitoring and professional\\nassessment are essential.\\nThe tendency to interpret symptoms without obtaining\\nbiophysical data may be related to limited health literacy. Low\\nhealth literacy is defined as inability to read, comprehend,\\nand interpret health related information and written materials\\n(Nielson-Bohlman, Panzer, & Kindig, 2005). Low health\\nliteracy in individuals with diabetes has been associated with\\ninadequate diabetes knowledge (Gazmararian, Williams,\\nPeel, & Baker, 2003), poor glycémie control (Schillinger\\net al., 2002), and increased diabetes related complications\\n(Schillinger et al., 2003). As many as 62% of Latinos tested\\nin Spanish have been found to have low or marginal health\\nliteracy (Paasche-Orlow, Parker, Gazmararian, Nielson-\\nBohlman, & Rudd, 2005).\\nAccording to the SIM, symptom appraisal is followed\\nby a decision on action (Teel et al., 1997). Responses to\\nsymptoms may include no action, self-treatment, care from\\nan alternative provider, or care from a professional medical\\nprovider. Self-treatment of diabetes symptoms is common\\nin Latinos (Williams, Baker, Parker, & Nurss, 1998). In\\nfact, in Garcia\\'s study (2005), the most common response\\nto symptoms in Latinos with diabetes was doing nothing or\\nmaking lifestyle changes such as resting or dietary adjustment.\\nAlternative care options may include home remedies (Garcia,\\n2005), or consultations with herbalists, curanderos, or folk\\nhealer s (Caban & Walker, 2006). Alternative care services\\nare often used in conjunction with professional medical\\ncare (Caban & Walker, 2006). Latinos are less likely than\\nothers to get consistent professional medical care (Nelson,\\nChapko, Reiber, & Boyko, 2005). However, if symptoms are\\ninterpreted as severe or they interfere with daily activities,\\nprofessional medical care is usually sought (Dodd et al., 2001;\\nLarkey, Hecht, Miller, & Altorre, 2001).\\nLatino adults, especially unauthorized migrants working\\nin low-income jobs, often do not have health insurance (Doty\\n& Holmgren, 2006). Further, they are less likely than other\\nU.S. residents to have a primary care provider (Agency for\\nHealthcare Research and Quality, 2005). As a result of low\\naccess to health care services. Latinos with diabetes may\\nbe undiagnosed or under treated; however, the extent of\\nthe problem is unknown. The study reported here therefore\\nexamined the extent of undetected and untreated diabetes in a\\nsample of recent Latino immigrants with diabetes risk factors,\\nand looked at the relationships among diabetes symptoms,\\nblood glucose level, diabetes knowledge, health literacy levels,\\nand health care use using the SIM as a framework.\\nMETHODS\\nSetting and Sample\\nA convenience sample of 150 adult, Spanish speaking\\nLatinos with either self-reported type 2 diabetes or one of\\ntwo diabetes risk factors were interviewed for this descriptive\\ncorrelational study. Participants were recruited in one Latino\\nservice agency, one faith-based community education center,\\nand several Latino health fairs in a large Southeastern U.S.\\ncity. Self-reported type 2 diabetes was defined as a diagnosis\\nby a physician after age 18. Diabetes risk factors included\\nage 45 or greater, or a body mass index of 25 or greater.\\nExclusion criteria included apparent pregnancy. Approval\\nfor the research was granted by the University Institutional\\nReview Board. Recruitment consisted of verbal invitation\\nand advertisements in a local Spanish language newspaper.\\nBefore data collection took place, the study was explained and\\nconsent forms were signed.\\nData Collection\\nData were collected by two research assistants trained\\nin confidentiality, recruitment, and data collection procedures.\\nBecause of the potential for low reading literacy, structured\\ninterviews were used. The data collected included height,\\nweight, and glycosylated hemoglobin (HbAlc) obtained via\\nfinger stick. In addition, participants completed a questionnaire\\non background and diabetes data, and instruments to measure\\ndiabetes symptoms, diabetes knowledge, health literacy, and\\nhealth care use. Except for the health literacy measure, which\\nwas completed without assistance, questionnaires were read\\nto each participant. Participants who had HbAlc levels above\\n7.0 were informed of their risk for diabetes and encouraged to\\nsee a health care provider. Participants were given a list of free\\nand low cost health care providers and $10 compensation for\\ntheir time. Demographic data included age, gender, nationality,\\nyears living in the United States, years of education,\\nhousehold income, health insurance, diabetes self-report, years\\nsince diagnosis, and other diabetes information.\\nDiabetes symptoms The Diabetes Symptom Self-care\\nInventory (DSSCI) was used to measure diabetes symptoms\\n(Garcia, 2005). The survey is based on the SIM and includes\\nten symptoms specific to diabetes are listed on the DSSCI.\\nSince several symptoms on the checklist are related to\\nadvanced diabetes complications, five additional symptoms\\nindicative of early diabetes were added. Participants were\\nasked to indicate how often they had experienced the symptom\\nover the previous 2 weeks from 1, rarely to 4, all the time.\\nThe perceived severity of each symptom experienced was\\nmeasured on a scale from 1, not serious to 4, very serious. The\\ntool has demonstrated reliability and validity and is available\\nin Spanish. Cronbach\\'s alpha for this study was .85.\\nDiabetes knowledge Knowledge of diabetes was\\nmeasured using the Diabetes Knowledge Questionnaire\\n(DKQ-24), a 24-item test that yields one summary score\\n(Garcia et al., 2001). Each question poses a statement\\nregarding diabetes etiology, care, or treatment. Participants\\nare asked to give a single response - \"true,\" \"false,\" or \"I\\ndon\\'t know.\" One point is given for each correct response\\nand respondents are instructed to not guess. The instrument\\nis available in Spanish and has been used with Mexican\\nAmericans; Cronbach\\'s alpha was .84 in prior research and\\nwas .88 in this study.\\nHealth literacy The Short Test of Functional Health\\nLiteracy in Adults (S-TOFHLA) Spanish version was used\\nto assess health literacy. This instrument uses a modified\\ncloze method in which one word is removed from a sentence.\\nThe blank is followed by four word options with one correct\\nresponse. The test is scored by summing the items answered\\ncorrectly. Each participant is given 7 minutes to complete the\\ntest independently; those unable to read are given a score of\\n0. Established cut-off points are 0 to 16, inadequate; 17 to 22,\\nmarginal; and 23 to 36, adequate (Baker, Williams, Parker,\\nGazmaraian, & Nurss, 1999). The test is available in Spanish,\\nhas been used extensively with Latinos, and has been validated\\nas a reliable measure of health literacy. Cronbach\\'s alpha was\\nreported as 0.98 in prior research (Nurss, Parker, Williams, &\\nBaker, 1995).\\nHealth care use A revised version of the Immigrant\\nUse of Health Care Scale assessed personal use of health\\ncare services (Coffman, Shobe, Dmochowski, & Fox,\\n2007). This 10-item Likert-type instrument was designed to\\nassess the number of health care contacts over the previous\\nyear. In the current study, items were based on American\\nJournal of Cultural Diversity • Vol. 19, No. 1\\nSpring 2012\\nDiabetes Association (2009) treatment standards and included\\nfrequency of use of medical exams, hospital services,\\nscreenings, mental health services, laboratory, and medical\\nprocedures. Scores can range from 0 to 20, with a low score\\nindicating no health care use and 20 indicating significant use.\\nCronbach\\'s alpha for this study was .80.\\nDiabetes Glucose level was assessed by glycosylated\\nhemoglobin (HbAlc), which provides an average sum of\\nblood glucose levels over the previous 3 months. A portable\\nin-time meter was used to obtain the HbAlc value. Though\\nnot used as a diagnostic tool for diabetes, HbAlc has been\\nshown to be a reliable screening tool (Rohlfling et al., 2000)\\nand it does not require fasting. Probable diabetes was defined\\nas HbAlc above 7.0.\\nData Analysis\\nThe data were entered into SPSS and cleaned by\\ndouble checking and visual examinations of box plots and\\nscatter plots. Categorical data were summarized using\\nfrequency tables, and continuous data were assessed using\\nmeans and standard deviations. Associations were assessed\\nusing Pearson\\'s correlations. Multiple regression was used to\\ninvestigate the extent to which the other variables predicted\\ndiabetes knowledge and health care use. Residual diagnostics\\n(scatterplots and qqplots) were performed to examine possible\\nviolations of multiple regression model assumptions.\\nResults\\nSix participants who were interviewed did not fully\\nmeet the inclusion criteria, leaving a final sample of 144. The\\nTable 1. Demographic Characteristics of Sample (N=144)\\nparticipants were predominantly female (78.5%), and their\\nmean age was 43.6 years (SD = 12.6). Most had immigrated\\nto the U.S. in the previous 10 years from Mexico (57.6%), or\\nCentral (13.9%) or South America (23.6%). A high percentage\\nhad no health insurance (81.3%). Their mean number of years\\nof education was 11.0 (SD = 4.8); nearly half (47%) had not\\ncompleted high school. Financial resources were limited, with\\n78.7% of participants reporting household incomes less than\\n$30,000 (see Table 1).\\nUndetected and untreated type 2 diabetes was a\\nsignificant problem in this sample. Eighteen participants\\n(12.5%) self-reported diabetes, and an additional 17 (13.5%)\\nhad unknown but probable type 2 diabetes (HbAlc > 7.0). The\\nmean HbAlc level in those who self-reported type 2 diabetes\\nwas 9.3% (SD = 2.1) with a range from 6.1% to 13.0%. The\\ngroup with unknown but probable type 2 diabetes had a mean\\nHbAlc of 8.2% (SD =1.1) with a range from 7.0% to 10.2%.\\nAnother 19 (15%) had HbAlc levels between 6.5% and 6.9%.\\nThe mean body mass index (BMI) for participants was 30.7\\n(SD ^ 5.3).\\nMost of the participants who self-reported type 2\\ndiabetes had had the disease for less than 5 years (66%). Of\\nthose with diagnosed diabetes, 12 took oral agents to control\\nthe disease, 2 reported controlling the disease with diet, and\\n4 reported no treatment. Nearly 70% (68.8%),of the sample\\nand 61 % of those with self-reported diabetes did not have a\\nprimary care provider. Of the 18 participants who self-reported\\ndiabetes, half (n = 9) reported that they never checked their\\nblood glucose, and only 3 reported home glucose monitoring\\nat least daily. Finally, only 6 of the 18 participants who self-\\n> Characteristic\\nAge\\nGender\\nMale\\nFemale\\nn\\n31\\n113\\nP\\n21.5%\\n78.5%\\nM ••\\n43.6\\n\\' . - , ; • ; \"[SD \\n-\\n• \\n\\' \\n\\'\\n-\\n,\\n• \\n\\' • \\' \\n, \\n•\\n-\\n.\\n\\'\\n-\\n•\\n-\\n•\\n12.6\\nNationality\\nMexico\\nCentral America\\nSouth America\\nOther\\n83\\n20\\n34\\n7\\n57.6%\\n13.9%\\n23.6%\\n4.9%\\nYears in the U.S.\\n9.8\\n8.8\\nYears of education\\n11.0\\n4.8\\nHousehold income\\nLess than $20,000\\n$20,000 to $30,000\\nOver $30,000\\n81\\n30\\n30\\n117\\n27\\n0\\n57.4%\\n21.3%\\n21.3%\\n81.3%\\n18.8%\\n0\\nMedical insurance\\nNone\\nPrivate\\nMedicare / Medicaid\\nDiabetes status\\nSelf-report\\nProbable diabetes (HbA1c> 7.0)\\n18\\n17\\n12.5%\\n13.5%\\nBody Mass Index (BMI)\\n30.7\\n5.3\\nJournal of Cultural Diversity • Vol. 19, No. 1\\nSpring 2012\\nTable 2. Means and Standard Deviations for the Diabetes Symptom Self-Care Inventory (DSCCI)\\nFrequent headaches\\nIntense thirst\\nExcessive urination\\nExtreme fatigue\\nNumbness or tingling of extremity\\nDizziness\\nShaky or nervous\\nDelayed wound healing\\nBlurry vision\\nExcessive hunger\\nWeakness\\nSweating\\nFaint or lightheaded\\nNausea\\nWeight loss (<10 lbs)\\nn\\n83\\n48\\n34\\n66\\n22\\n42\\n52\\n27\\n47\\n46\\n49\\n30\\n53\\n43\\n21\\nFrequency\\nM \\nSD\\n2.0\\n1.5\\n1.5\\n1.8\\n1.1\\n1.4\\n1.6\\n1.3\\n1.5\\n1.5\\n1.6\\n1.3\\n1.7\\n1.5\\n1.1\\n1.0\\n.9\\n1.0\\n1.1\\n.4\\n.8\\n.9\\n.7\\n.7\\n.9\\n.9\\n.8\\n1.0\\n.9\\n.4\\nSeriousness\\nM \\nSD\\n1.7\\n1.6\\n1.7\\n1.6\\n1.4\\n1.8\\n1.8\\n1.7\\n1.7\\n1.6\\n1.7\\n1.6\\n1.8\\n1.8\\n1.5\\n.7\\n.6\\n.8\\n.7\\n.6\\n.7\\n.7\\n.7\\n.7\\n.6\\n.7\\n.7\\n.7\\n.7\\n.6\\nTable 3. Beta Weights and Standard Errod for Regression of Study Variables (N=144)\\nRegression of Study Variables on Diabetes Knowledge (F= 15.9, p = .000)\\nVariables\\nB\\nSEB\\nIntercept\\nDiabetes symptoms\\nYears of education\\n4.89\\n.11\\n.45\\n1.6\\n.05\\n.08\\n.16\\n.41\\n.004\\n.04\\n.000\\nRegression of Study Variables on Health Care Use (F = 7.4, p = .000)\\nVariables\\ne\\nSEB\\nIntercept\\nGlucose level\\nHealth literacy\\nDiabetes knowledge\\nJournal of Cultural Diversity • Vol. 19, No. 1\\n21\\n16\\n02\\n03\\n.4\\n.05\\n.01\\n.02\\nO\\n.25\\n.18\\n.15\\n.000\\n.002\\n.03\\n.06\\nSpring 2012\\nreported diabetes had attended formal diabetes education\\nclasses.\\nThe mean diabetes symptom score was 22.2 {SD - 7.4)\\nwith a range from 15 to 50; 87.5% of the participants had\\nexperienced at least one symptom over the previous 2 weeks.\\nThe most frequently reported symptoms were headaches (M\\n= 2.0, SD = 1.0), extreme fatigue {M= 1.8, SD =1.1), and\\nfaintness or lightheadedness (M= 1.7, SD = 1.0). The most\\nserious symptoms reported included nausea {M- 1.8, SD =\\n.7), dizziness {M- 1.8, SD - .1), lightheadedness (M= 1.8,\\nSD = .7), and shakiness or nervousness {M- 1.8, SD — .7; see\\nTable 2). Not surprisingly, participants with HbAlc levels\\nbelow 7.0 reported the fewest symptoms (21.5, SD = 6.4),\\nand those with self-reported type 2 diabetes reported the most\\nsymptoms (28.7, SD = 8.2). Women (23.2, SD = 7.5) reported\\nmore symptoms than men (21.6, SD - 6.8).\\nAlmost half the sample (46.5%) had low health literacy,\\nwith 12.5% having marginal, and 34% inadequate health\\nliteracy scores. The mean score on the Diabetes Knowledge\\nQuestionnaire (DKQ-24) was 12.5 {SD = 5.3). Those with\\nself-reported diabetes had a slightly higher DKQ-24 score\\n(13.4, SD - 5.1) than participants who did not have diagnosed\\ndiabetes (12.1, SD - 5.4), though the difference was not\\nsignificant. According to the multiple regression model {F =\\n15.9, p = .000), diabetes symptoms (ß = .16, /? = .04) and years\\nof education (ß = A\\\\, p = .000) were significantly associated\\nwith greater diabetes knowledge. However, health literacy was\\nnot associated with diabetes knowledge (see Table 3).\\nThe health care services used most often were screening\\nfor elevated blood pressure (59%) and having a general\\nphysical exam (62.5%). Over a quarter of the participants\\nhad visited an emergency department over the previous year\\n(26.4%), and 13.2% reported at least one hospitalization. The\\nmultiple regression analyses {F = lA,p= \\n.000) indicated that\\nhigher glucose levels (ß - 25, p = .002) and higher health\\nliteracy (ß = .18, ;> = .03) were significantly associated with\\ngreater health care use. There was no significant relationship\\nbetween diabetes symptoms and health care use, though the\\nrelationship between diabetes knowledge and health care use\\nwas near significance (ß = .15,/> = .06; see Table 3).\\nDISCUSSION\\nAccording to the Symptom Interpretation Model (Teel\\net al., 1997), effective diabetes self-management begins\\nwith the ability to recognize and understand symptoms.\\nAlso, some knowledge of the disease may be needed to\\naccurately interpret and categorize symptoms. In fact, diabetes\\nknowledge is associated with education level (Rothman,\\nMalone, Bryant, Bryant, & Wolfe, 2006: Williams et al.,\\n1998), participation in diabetes education classes, and\\nimproved diabetes control (Bautista-Martinez et al., 1999;\\nRothman et al., 2006). Knowledge of how to interpret and\\nact on diabetes symptoms may influence long-term diabetes\\noutcomes.\\nIn this study, 24% of participants either self-reported\\ndiabetes or had unknown but probable diabetes. Most of\\nthese participants did not have a primary care provider, and\\nmany of those with known diabetes did not have a medical\\nhome, suggesting that their disease was not being adequately\\nmonitored by a medical professional. None of the participants\\nwith diabetes were on insulin, and consistency in obtaining\\nand taking oral medications was a concern. Few participants\\nperformed home glucose monitoring or had taken formal\\ndiabetes education classes. As a result, these participants may\\nnot have enough information to accurately interpret diabetes\\nsymptoms.\\nPrior research suggests that individuals are more likely\\nto seek timely health care if symptoms are perceived as\\nsevere and threaten functional status (Larkey et al., 2001).\\nIn this study, however, symptom experience and severity did\\nnot result in health care use. The symptoms reported most\\nfrequently and perceived as most serious were somewhat\\nvague and may have been the result of other chronic illnesses,\\ndepression, or stress. Latinos who knew they had been\\ndiagnosed with diabetes were more likely to seek health care\\nthan those who experienced symptoms but had not been\\ndiagnosed. This suggests that the decision to ignore symptoms\\nmay be due to insufficient understanding of diabetes\\nsymptoms.\\nAdequate health literacy may help Latinos understand,\\ninterpret, and act on diabetes symptoms. Some authors have\\nsuggested that adequate health literacy leads to diabetes\\ncontrol, as evidenced by lower HbAlc levels (Gazmararian\\net al., 2003; Rothman et al., 2006). Though there was no\\ncorrelation between health literacy and diabetes knowledge in\\nthis study, years of education were associated with diabetes\\nknowledge. Further, having adequate health literacy predicted\\nhealth care use, which presumably leads to better diabetes\\nmanagement and improved diabetes control.\\nThe relationship between health literacy and health care\\nuse is complex. Though in this study, participants with higher\\nhealth literacy levels used more health care services, this\\nshould be interpreted with caution. Because participants in\\nthe study were largely uninsured and had disease related risk\\nfactors, they could be over using emergency care and other\\nhospital services, and under using ambulatory and preventive\\nservices.\\nIn this study, many participants experienced significant\\nhealth care barriers including lack of health insurance, recent\\nimmigration status, and low household income. In a prior\\nstudy (Chan, Krishel, Bramwell, & Clark, 1996), 80% of\\nLatinos who sought emergency care did so due to perceptions\\nof lower cost than primary care. That study also suggested that\\nLatinos who fear deportation view the emergency department\\nas a safe health care option. When there are barriers to health\\ncare access. Latinos with diabetes may not understand the\\nneed for primary care and see the emergency department as\\ntheir only health care option. Unfortunately, this may result\\nin increased diabetes related complications and need for\\nmore costly long term health care services. In fact, lack of\\nhealth insurance has been found to significantly reduce the\\nuse of preventive care, contribute to delays in seeking care,\\nand increase complications from chronic diseases (Doty &\\nHolmgren, 2006).\\nThis study included a relatively small convenience\\nsample of Latino immigrants. Further, since Latinos with both\\ndiabetes and diabetes risk factors participated, results cannot\\nbe directly compared to samples made up only of participants\\nwith diagnosed diabetes. Nevertheless, the study points to\\nthe need for culturally sensitive diagnostic, health promotion,\\ndisease management, and educational services for Latinos.\\nConclusions\\nLittle is known regarding how diabetes symptoms are\\ninterpreted in this population (Garcia, 2005). If Latinos are\\nusing past diabetes symptom experiences to make decisions,\\nthey may continue to interpret symptoms incorrectly. This\\ncould lead to diabetes related complications, increased health\\ncare costs, and poor outcomes. Further research is needed to\\nunderstand how symptom interpretation influences behaviors\\nand long term outcomes.\\nHealth care practitioners need to educate Latinos about\\ntheir diabetes symptoms. Further, since their low health\\nliteracy may contribute to poor symptom interpretation.\\nLatinos with diabetes should be screened for health literacy.\\nThose with inadequate health literacy may need support\\ngetting preventive care, testing blood glucose, finding primary\\ncare providers, and information on use of the emergency\\ndepartment.\\nJournal of Cultural Diversity • Vol. 19, No. 1\\nSpring 2012\\nThe number of participants in this study who had an\\nopportunity to participate in diabetes education courses\\nsuggests that culturally relevant classes need to be more\\nreadily available to this population. Adequate diabetes\\neducation that focuses on symptom awareness would help\\nLatinos with diabetes make better decisions regarding diabetes\\nself-management and symptom interpretation. Diabetes\\neducation could be made available through existing social\\nservice programs, primary care providers, or publically-funded\\nhealth care clinics. These providers could then offer ongoing\\ndiabetes education and support.\\nOne element of diabetes education for Latinos should focus\\non symptom management. Nurses and educators need to give\\nLatinos with diabetes the opportunity to describe symptoms\\nand symptom responses. The educator could then reinforce\\ncorrect responses and redirect inappropriate behaviors.\\nFurther, educational materials need to be written at reading\\nlevels for individuals with low literacy, consider cultural\\nvariations, and be available in Spanish.\\nEducation alone is insufficient to control diabetes. To\\nbuild knowledge structures related to diabetes, low income\\nLatinos with diabetes need access to primary care home.\\nAffordable community-based health care addresses the\\ncomprehensive needs of vulnerable Latinos with diabetes are\\nneeded. Since the strongest predictors of health care use is\\ninsurance coverage (DeNavas-Walt, Proctor, & Mills, 2003),\\naffordable health insurance programs need to be more widely\\navailable.\\nREFERENCES\\nAgency for Health Care Research and Quality. (2005). National health\\ncare disparities report. (AHRQ Publication No. 06-0017). Rockville,\\nMD: Author.\\nAlcozer, R (2000). Secondary analysis of perceptions and meanings of\\ntype 2 diabetes among Mexican American women. The Diabetes\\nEducator, 26(5), 785-793.\\nBaker, D. W., Williams, M. V., Parker, R. M., Gazmararian, J. A., &\\nNurss, J. (1999). Development of a brief test to measure functional\\nhealth literacy. Patient Education and Counseling, 38(1), 33-42.\\nBautista-Martinez, S., Aguilar-Salinas, C. A., Lerman, I., Velasco, R.,\\nCastellanos, E., Zenteno, E., et al. (1999). Diabetes knowledge and\\nits determinants in a Mexican population. The Diabetes Educator,\\n25(3), 374-381.\\nBrown, S. A., Upchurch, S., Carcia, A. A., Barton, S. A., & Harüs, C. L.\\n(1998). Symptom-related self-care of Mexican Americans with NI-\\nDDM: Preliminary findings of the Starr County Diabetes Education\\nStudy. The Diabetes Educator, 24(3), 331-339.\\nCaban, A., & Walker, E. A. (2006). A systematic review of research on\\nculturally relevant issues for Hispanics with diabetes. The Diabetes\\nEducator, 32(4), 584-595.\\nCenters for Disease Control and Prevention. (2011). National Diabetes\\nFact Sheet: National Estimates and General Information on Diabetes\\nand Pre-Diabetes in the United States. Accessed October 31, 2011.\\nRetrieved from http://www.cdc.gov/diabetes/pubs\\nChan, T. C, Krishel, S. J., Bramwell, K. J., & Clark, R. R (1996). Survey\\nof illegal immigrants seen in an emergency department. Western\\nJournal of \\nMedicine, 164, 212-216.\\nCoffman, M. J., Shobe, M. A., Dmochowski, J., & Fox, S D. (2007).\\nHealth care access and utilization among Latino immigrants. His-\\npanic Health Care International, 5(2), 73-80.\\nDeNavas-Walt, C, Proctor, B. D., & Lee, C. H. (2005). Income, poverty,\\nand health\\ninsurance coverage in the U.S.: 2004 (P60-229J. Washington, DC: U.S.\\nCensus Bureau.\\nDiamond, E. L., Massey, K. L. & Covey, D. (1989). Symptoms awareness\\nand blood glucose estimation in diabetic adults. Health Psychology,\\n8(1), 15-26\\nDodd, M., Janson, S., Facione, N., Fawcett, J., Froelicher. E. S.. Hum-\\nphreys. T.. et al. (2001). Advancing the science of symptom manage-\\nment. Journal of Advanced Nursing, 33(5), 668-676.\\nDoty, M. M., & Holmgren, A. L. (2006). Health care disconnect: Gaps\\nin coverage and care for minority adults. The Commonwealth Fund.\\nRetrieved on August 15, 2006 from http:/ / www.cmwf.org/usr_\\ndoc/941_Doty_hIt_care_disconnect_disparities_issue_bri.pdf.\\nGarcia, A. A. (2005). S)imptom prevalence and treatments among\\nMexican Americans with type 2 diabetes. The Diabetes Educator,\\n31(4), 543-554.\\nGarcia, A. A., Villagomez, E., Brown, S. A., Kouzekanani, K. & Hanis,\\nC. (2001). Development of the Spanish-language diabetes knowl-\\nedge questionnaire. Diabetes Care, 24(1), 16-21.\\nGazmararian, J. A., Williams, M. V, Peel, J. & Baker, D. (2003). Health\\nUteracy and knowledge of chronic disease. Patient Education and\\nCounseling, 51, 267-275.\\nLarkey, L. K., Hecht, M. L., Miller, K., & Alatorre, C. (2001). Hispanic\\ncultural norms for health-seeking behaviors in the face of symp-\\ntoms. Health Education & Behavior, 28(1), 65-80\\nNational Center for Health Statistics. (2006). Health, United States, 2006,\\nwith chartbook on trends in the health of Americans (DHHS Publication\\nNo. ADM 76-641496). Washington, DC: U.S. Government Printing\\nOffice.\\nNelson, K. M., Chapko, M. K., Reiber, G., & Boyko, E. J. (2005). The\\nassociation between health insurance coverage and diabetes care:\\nData from the 2000 Behavioral Risk Factor Surveillance Survey.\\nHealth Services Research, 40(2), 361-372.\\nNielson-Bohlman, L., Panzer, A., & Kindig, D (2005). Health literacy: A\\nprescription to end confusion. Washington DC: National Academies\\nPress.\\nNurss, J. R., Parker, R. M., Williams, M. V., & Baker, D. W. (1995).\\nTOFLHA, Test of Functional Health Literacy in Adults. (2\"\\'\\' Ed.). Snow\\nCamp, NC: Peppercorn Books.\\nO\\'Connell, K. A., Hamera, E. K., Knapp, T. M., Cassmeyer, V. L., Eaks,\\nG. A., & Fox, M. A. (1984). Symptom use and self-regulation in type\\nn diabetes. Advances in Nursing Science, 6(3), 19-28.\\nO\\'Connell, K.A., Hamera, E.K., Schorfheide, A., & Guthrie, D. (1990).\\nSymptom beliefs and actual blood glucose in Type II diabetes.\\nResearch in Nursing and Health, 13(3), 145-151.\\nPaasche-Orlow, M. K., Parker, R. M., Gazmararian, J. A., Nielson-Bohl-\\nman, L. T., & Rudd, R. R. (2005). The prevalence of limited health\\nliteracy. Journals of General Internal Medicine, 20, 175-184.\\nPhinney, A., & Wallhagen, M. (2003). Recognizing and understand-\\ning the symptoms of type 2 diabetes. Clinical Journal of Nursing\\nResearch, 35(4), 108-124.\\nRohlfling, C. L., Littie, R. R., Wiedmeyer, H., England, J. D., Madsen,\\nR., Harris, M. I., et al. (2000). Use of Ghb (HbAlc) in screening for\\nundiagnosed diabetes in the U.S. population. Diabetes Care, 23(2),\\n187-191.\\nRothman, R. L., Malone, R., Bryant, B., Wolfe, C, Padgett, P, DeWalt.\\nD.A. et al. (2006). The Spoken Knowledge in Low Literacy in Dia-\\nbetes Scale: A diabetes knowledge scale for vulnerable patients. The\\nDiabetes Educator, 31(2), 215-224.\\nSchillinger, D., Grumbach, K., Piette, J., Wang, R, Osmond, D., Daher,\\nC, et al. (2002). Association of health Uteracy with diabetes out-\\ncomes. JAMA, 288(4), 475-482.\\nSchillinger, D., Piette, J., Grumbach, K., Wang, R, Wilson, C, Daher,\\nC, et al. (2003). Closing the loop: Physician communication with\\ndiabetic patients who have low health Uteracy. Archives of Internal\\nMedicine, 163(1), 83-90.\\nTeel, C. S., Meek, P., McNamara, A. M. & Watson, L. (1997). Perspec-\\ntives unifying symptom interpretation. Image: Journal of Nursing\\nScholarship, 29(2), 175-181.\\nWilUams, M. V, Baker, D. W., Parker, R. M., & Nurss, J. R. (1998).\\nRelationship of functional health Uteracy to patients\\' knowledge\\nof their chronic disease. A study of patients with hypertension and\\ndiabetes. Archives of Internal Medicine, 158(2), 166-172.\\nThis work was supported by funds provided by the University\\nof North Carolina at Charlotte, Elinor Brooks Caddell Faculty\\nScholar Award, and Sigma Theta Tan Gamma Iota chapter.\\nJournal of Cultural Diversity • Vol. 19, No. 1\\nSpring 2012\\nCopyright of Journal of Cultural Diversity is the property of Tucker Publications, Inc. and its content may not\\nbe copied or emailed to multiple sites or posted to a listserv without the copyright holder\\'s express written\\npermission. However, users may print, download, or email articles for individual use.\\nView publication stats\\n'),\n",
              " Document(metadata={'source': '/content/drive/MyDrive/refined/insulin.txt'}, page_content='31/07/2024, 5:31\\u202fPM\\nContinuous Glucose Monitor, Insulin Pump, and Automated Insulin …date on Potential for Cardiovascular Benefits | Enhanced Reader\\nPage 1 of 15\\nsafari-web-extension://728EDE69-9EFB-412C-90F7-8DC92B504B66…ger.com%2Fcontent%2Fpdf%2F10.1007%2Fs11886-022-01799-x.pdf\\n31/07/2024, 5:31\\u202fPM\\nContinuous Glucose Monitor, Insulin Pump, and Automated Insulin …date on Potential for Cardiovascular Benefits | Enhanced Reader\\nPage 2 of 15\\nsafari-web-extension://728EDE69-9EFB-412C-90F7-8DC92B504B66…ger.com%2Fcontent%2Fpdf%2F10.1007%2Fs11886-022-01799-x.pdf\\n31/07/2024, 5:31\\u202fPM\\nContinuous Glucose Monitor, Insulin Pump, and Automated Insulin …date on Potential for Cardiovascular Benefits | Enhanced Reader\\nPage 3 of 15\\nsafari-web-extension://728EDE69-9EFB-412C-90F7-8DC92B504B66…ger.com%2Fcontent%2Fpdf%2F10.1007%2Fs11886-022-01799-x.pdf\\n31/07/2024, 5:31\\u202fPM\\nContinuous Glucose Monitor, Insulin Pump, and Automated Insulin …date on Potential for Cardiovascular Benefits | Enhanced Reader\\nPage 4 of 15\\nsafari-web-extension://728EDE69-9EFB-412C-90F7-8DC92B504B66…ger.com%2Fcontent%2Fpdf%2F10.1007%2Fs11886-022-01799-x.pdf\\n31/07/2024, 5:31\\u202fPM\\nContinuous Glucose Monitor, Insulin Pump, and Automated Insulin …date on Potential for Cardiovascular Benefits | Enhanced Reader\\nPage 5 of 15\\nsafari-web-extension://728EDE69-9EFB-412C-90F7-8DC92B504B66…ger.com%2Fcontent%2Fpdf%2F10.1007%2Fs11886-022-01799-x.pdf\\n31/07/2024, 5:31\\u202fPM\\nContinuous Glucose Monitor, Insulin Pump, and Automated Insulin …date on Potential for Cardiovascular Benefits | Enhanced Reader\\nPage 6 of 15\\nsafari-web-extension://728EDE69-9EFB-412C-90F7-8DC92B504B66…ger.com%2Fcontent%2Fpdf%2F10.1007%2Fs11886-022-01799-x.pdf\\n31/07/2024, 5:31\\u202fPM\\nContinuous Glucose Monitor, Insulin Pump, and Automated Insulin …date on Potential for Cardiovascular Benefits | Enhanced Reader\\nPage 7 of 15\\nsafari-web-extension://728EDE69-9EFB-412C-90F7-8DC92B504B66…ger.com%2Fcontent%2Fpdf%2F10.1007%2Fs11886-022-01799-x.pdf\\n31/07/2024, 5:31\\u202fPM\\nContinuous Glucose Monitor, Insulin Pump, and Automated Insulin …date on Potential for Cardiovascular Benefits | Enhanced Reader\\nPage 8 of 15\\nsafari-web-extension://728EDE69-9EFB-412C-90F7-8DC92B504B66…ger.com%2Fcontent%2Fpdf%2F10.1007%2Fs11886-022-01799-x.pdf\\n31/07/2024, 5:31\\u202fPM\\nContinuous Glucose Monitor, Insulin Pump, and Automated Insulin …date on Potential for Cardiovascular Benefits | Enhanced Reader\\nPage 9 of 15\\nsafari-web-extension://728EDE69-9EFB-412C-90F7-8DC92B504B66…ger.com%2Fcontent%2Fpdf%2F10.1007%2Fs11886-022-01799-x.pdf\\n31/07/2024, 5:32\\u202fPM\\nContinuous Glucose Monitor, Insulin Pump, and Automated Insulin …date on Potential for Cardiovascular Benefits | Enhanced Reader\\nPage 10 of 15\\nsafari-web-extension://728EDE69-9EFB-412C-90F7-8DC92B504B6…ger.com%2Fcontent%2Fpdf%2F10.1007%2Fs11886-022-01799-x.pdf\\n31/07/2024, 5:32\\u202fPM\\nContinuous Glucose Monitor, Insulin Pump, and Automated Insulin …date on Potential for Cardiovascular Benefits | Enhanced Reader\\nPage 11 of 15\\nsafari-web-extension://728EDE69-9EFB-412C-90F7-8DC92B504B66…ger.com%2Fcontent%2Fpdf%2F10.1007%2Fs11886-022-01799-x.pdf\\n31/07/2024, 5:32\\u202fPM\\nContinuous Glucose Monitor, Insulin Pump, and Automated Insulin …date on Potential for Cardiovascular Benefits | Enhanced Reader\\nPage 12 of 15\\nsafari-web-extension://728EDE69-9EFB-412C-90F7-8DC92B504B6…ger.com%2Fcontent%2Fpdf%2F10.1007%2Fs11886-022-01799-x.pdf\\n31/07/2024, 5:32\\u202fPM\\nContinuous Glucose Monitor, Insulin Pump, and Automated Insulin …date on Potential for Cardiovascular Benefits | Enhanced Reader\\nPage 13 of 15\\nsafari-web-extension://728EDE69-9EFB-412C-90F7-8DC92B504B6…ger.com%2Fcontent%2Fpdf%2F10.1007%2Fs11886-022-01799-x.pdf\\n31/07/2024, 5:32\\u202fPM\\nContinuous Glucose Monitor, Insulin Pump, and Automated Insulin …date on Potential for Cardiovascular Benefits | Enhanced Reader\\nPage 14 of 15\\nsafari-web-extension://728EDE69-9EFB-412C-90F7-8DC92B504B6…ger.com%2Fcontent%2Fpdf%2F10.1007%2Fs11886-022-01799-x.pdf\\n31/07/2024, 5:32\\u202fPM\\nContinuous Glucose Monitor, Insulin Pump, and Automated Insulin …date on Potential for Cardiovascular Benefits | Enhanced Reader\\nPage 15 of 15\\nsafari-web-extension://728EDE69-9EFB-412C-90F7-8DC92B504B6…ger.com%2Fcontent%2Fpdf%2F10.1007%2Fs11886-022-01799-x.pdf\\n'),\n",
              " Document(metadata={'source': '/content/drive/MyDrive/refined/Blood gulocose monitoring.txt'}, page_content='31/07/2024, 5:29\\u202fPM\\nEnhanced Reader\\nPage 1 of 16\\nsafari-web-extension://728EDE69-9EFB-412C-90F7-8DC92B504B6….gov%2Fpmc%2Farticles%2FPMC6712232%2Fpdf%2Fdmj-43-383.pdf\\n31/07/2024, 5:29\\u202fPM\\nEnhanced Reader\\nPage 2 of 16\\nsafari-web-extension://728EDE69-9EFB-412C-90F7-8DC92B504B6….gov%2Fpmc%2Farticles%2FPMC6712232%2Fpdf%2Fdmj-43-383.pdf\\n31/07/2024, 5:29\\u202fPM\\nEnhanced Reader\\nPage 3 of 16\\nsafari-web-extension://728EDE69-9EFB-412C-90F7-8DC92B504B6….gov%2Fpmc%2Farticles%2FPMC6712232%2Fpdf%2Fdmj-43-383.pdf\\n31/07/2024, 5:29\\u202fPM\\nEnhanced Reader\\nPage 4 of 16\\nsafari-web-extension://728EDE69-9EFB-412C-90F7-8DC92B504B6….gov%2Fpmc%2Farticles%2FPMC6712232%2Fpdf%2Fdmj-43-383.pdf\\n31/07/2024, 5:29\\u202fPM\\nEnhanced Reader\\nPage 5 of 16\\nsafari-web-extension://728EDE69-9EFB-412C-90F7-8DC92B504B6….gov%2Fpmc%2Farticles%2FPMC6712232%2Fpdf%2Fdmj-43-383.pdf\\n31/07/2024, 5:29\\u202fPM\\nEnhanced Reader\\nPage 6 of 16\\nsafari-web-extension://728EDE69-9EFB-412C-90F7-8DC92B504B6….gov%2Fpmc%2Farticles%2FPMC6712232%2Fpdf%2Fdmj-43-383.pdf\\n31/07/2024, 5:29\\u202fPM\\nEnhanced Reader\\nPage 7 of 16\\nsafari-web-extension://728EDE69-9EFB-412C-90F7-8DC92B504B6….gov%2Fpmc%2Farticles%2FPMC6712232%2Fpdf%2Fdmj-43-383.pdf\\n31/07/2024, 5:29\\u202fPM\\nEnhanced Reader\\nPage 8 of 16\\nsafari-web-extension://728EDE69-9EFB-412C-90F7-8DC92B504B6….gov%2Fpmc%2Farticles%2FPMC6712232%2Fpdf%2Fdmj-43-383.pdf\\n31/07/2024, 5:29\\u202fPM\\nEnhanced Reader\\nPage 9 of 16\\nsafari-web-extension://728EDE69-9EFB-412C-90F7-8DC92B504B6….gov%2Fpmc%2Farticles%2FPMC6712232%2Fpdf%2Fdmj-43-383.pdf\\n31/07/2024, 5:29\\u202fPM\\nEnhanced Reader\\nPage 10 of 16\\nsafari-web-extension://728EDE69-9EFB-412C-90F7-8DC92B504B….gov%2Fpmc%2Farticles%2FPMC6712232%2Fpdf%2Fdmj-43-383.pdf\\n31/07/2024, 5:29\\u202fPM\\nEnhanced Reader\\nPage 11 of 16\\nsafari-web-extension://728EDE69-9EFB-412C-90F7-8DC92B504B6….gov%2Fpmc%2Farticles%2FPMC6712232%2Fpdf%2Fdmj-43-383.pdf\\n31/07/2024, 5:29\\u202fPM\\nEnhanced Reader\\nPage 12 of 16\\nsafari-web-extension://728EDE69-9EFB-412C-90F7-8DC92B504B….gov%2Fpmc%2Farticles%2FPMC6712232%2Fpdf%2Fdmj-43-383.pdf\\n31/07/2024, 5:29\\u202fPM\\nEnhanced Reader\\nPage 13 of 16\\nsafari-web-extension://728EDE69-9EFB-412C-90F7-8DC92B504B….gov%2Fpmc%2Farticles%2FPMC6712232%2Fpdf%2Fdmj-43-383.pdf\\n31/07/2024, 5:29\\u202fPM\\nEnhanced Reader\\nPage 14 of 16\\nsafari-web-extension://728EDE69-9EFB-412C-90F7-8DC92B504B….gov%2Fpmc%2Farticles%2FPMC6712232%2Fpdf%2Fdmj-43-383.pdf\\n31/07/2024, 5:29\\u202fPM\\nEnhanced Reader\\nPage 15 of 16\\nsafari-web-extension://728EDE69-9EFB-412C-90F7-8DC92B504B….gov%2Fpmc%2Farticles%2FPMC6712232%2Fpdf%2Fdmj-43-383.pdf\\n31/07/2024, 5:29\\u202fPM\\nEnhanced Reader\\nPage 16 of 16\\nsafari-web-extension://728EDE69-9EFB-412C-90F7-8DC92B504B….gov%2Fpmc%2Farticles%2FPMC6712232%2Fpdf%2Fdmj-43-383.pdf\\n')]"
            ]
          },
          "metadata": {},
          "execution_count": 25
        }
      ]
    },
    {
      "cell_type": "code",
      "source": [
        "from langchain.text_splitter import TokenTextSplitter\n",
        "text_splitter = TokenTextSplitter(chunk_size=512, chunk_overlap=24)\n",
        "documents = text_splitter.split_documents(raw_documents[:3])"
      ],
      "metadata": {
        "id": "5ChZ008I6paW"
      },
      "execution_count": 26,
      "outputs": []
    },
    {
      "cell_type": "code",
      "source": [
        "from langchain_openai import ChatOpenAI\n",
        "llm=ChatOpenAI(temperature=0, model_name=\"gpt-3.5-turbo-0125\")"
      ],
      "metadata": {
        "id": "IMh_IpRb78rs"
      },
      "execution_count": 33,
      "outputs": []
    },
    {
      "cell_type": "code",
      "source": [
        "from langchain_experimental.graph_transformers import LLMGraphTransformer\n",
        "llm_transformer = LLMGraphTransformer(llm=llm)"
      ],
      "metadata": {
        "id": "Mer51fZA9pa1"
      },
      "execution_count": 34,
      "outputs": []
    },
    {
      "cell_type": "code",
      "source": [
        "graph_documents = llm_transformer.convert_to_graph_documents(documents)"
      ],
      "metadata": {
        "id": "pZP64uFM9vLk"
      },
      "execution_count": 29,
      "outputs": []
    },
    {
      "cell_type": "code",
      "source": [
        "graph_documents"
      ],
      "metadata": {
        "colab": {
          "base_uri": "https://localhost:8080/"
        },
        "id": "3Nwjd5yR92VE",
        "outputId": "7409f530-ea0f-45cf-d681-89afc3c7f1e5"
      },
      "execution_count": 30,
      "outputs": [
        {
          "output_type": "execute_result",
          "data": {
            "text/plain": [
              "[GraphDocument(nodes=[Node(id='Diabetes', type='Health condition'), Node(id='Health Literacy', type='Concept'), Node(id='Health Care', type='Concept'), Node(id='Adult Latinos', type='Demographic group'), Node(id='Maren J Coffman', type='Person'), Node(id='Cynthia K Norton', type='Person'), Node(id='Lara Beene', type='Person')], relationships=[Relationship(source=Node(id='Diabetes', type='Health condition'), target=Node(id='Adult Latinos', type='Demographic group'), type='AFFECTS'), Relationship(source=Node(id='Diabetes', type='Health condition'), target=Node(id='Health Literacy', type='Concept'), type='AFFECTS'), Relationship(source=Node(id='Diabetes', type='Health condition'), target=Node(id='Health Care', type='Concept'), type='AFFECTS'), Relationship(source=Node(id='Maren J Coffman', type='Person'), target=Node(id='University Of North Carolina At Charlotte', type='Organization'), type='AFFILIATED_WITH'), Relationship(source=Node(id='Cynthia K Norton', type='Person'), target=Node(id='University Of North Carolina At Charlotte', type='Organization'), type='AFFILIATED_WITH'), Relationship(source=Node(id='Lara Beene', type='Person'), target=Node(id='University Of North Carolina At Charlotte', type='Organization'), type='AFFILIATED_WITH')], source=Document(metadata={'source': '/content/drive/MyDrive/refined/20121CoffmanNortonBeene.txt'}, page_content='See discussions, stats, and author profiles for this publication at: https://www.researchgate.net/publication/225051151\\nDiabetes symptoms, health literacy, and health care use in adult Latinos with\\ndiabetes risk factors\\nArticle\\xa0\\xa0in\\xa0\\xa0Journal of Cultural Diversity · March 2012\\nSource: PubMed\\nCITATIONS\\n26\\nREADS\\n2,201\\n3 authors, including:\\nMaren J Coffman\\nUniversity of North Carolina at Charlotte\\n42 PUBLICATIONS\\xa0\\xa0\\xa0725 CITATIONS\\xa0\\xa0\\xa0\\nSEE PROFILE\\nAll content following this page was uploaded by Maren J Coffman on 15 November 2015.\\nThe user has requested enhancement of the downloaded file.\\nMAREN J. COFFMAN, P H D , R N ,\\nCYNTHIA K. NORTON, MSN, ANP-BC, LARA BEENE, M F A\\nAbstract: Purpose: This study examined the extent of undetected and un-\\ntreated type 2 diabetes in a sample of recent Latino immigrants, and looked\\nat the relationships among diabetes symptoms, blood glucose level, diabetes\\nknowledge, health literacy level, and riealth care use.\\nMethods: Using a descriptive and correlational design, 144 Latino adults\\nwere interviewed.\\nResults: Many participants had diabetes and reported symptoms, but they\\nwere not aware of the disease and were not receiving adequate health care.\\nLack of diabetes knowledge, low health literacy, and barriers to health care\\nprevented appropriate symptom responses.\\nConclusions: Interventions that teach health literacy skills and diabetes\\nsymptom interpretation may improve health care use.\\nKey Words: Type 2 Diabetes, Diabetes Symptoms, Health Care Use, Health\\nLiteracy\\nDIABETES SYMPTOMS, HEALTH LITERACY,\\nAND HEALTH CARE USE IN ADULT\\nLATINOS WITH DIABETES RISK FACTORS\\nA\\nccording to the National Center for Health Statistics\\n(2006), nearly 15% of Latino adults in the U.S. have\\ntype 2 diabetes, compared to 9% of non-Hispanic\\nwhites. Further, Latinos are more likely to suffer from\\nserious diabetes complications, including amputations and\\nretinopathy (Center for Disease Control and Prevention\\n[CDC], 2011) due, in part, to inadequate diabetes education\\nand lack of access to preventive health care.\\nThe Symptom Interpretation Model (SIM')),\n",
              " GraphDocument(nodes=[Node(id='Symptom Interpretation Model', type='Concept'), Node(id='Sim', type='Concept'), Node(id='Individual', type='Person'), Node(id='Diabetes Symptoms', type='Symptom'), Node(id='Health Care Services', type='Service'), Node(id='Blood Glucose Control', type='Concept'), Node(id='Maren J. Coffman', type='Person'), Node(id='Dr. Copnan', type='Person'), Node(id='Cynthia K. Norton', type='Person'), Node(id='Lara Beene', type='Person'), Node(id='Symptoms', type='Symptom'), Node(id='Latinos', type='Person'), Node(id='Non Hispanic Whites', type='Person'), Node(id='Mexican American Women', type='Person')], relationships=[Relationship(source=Node(id='Symptom Interpretation Model', type='Concept'), target=Node(id='Sim', type='Concept'), type='EXPLAINS'), Relationship(source=Node(id='Sim', type='Concept'), target=Node(id='Individual', type='Person'), type='EXPLAINS'), Relationship(source=Node(id='Sim', type='Concept'), target=Node(id='Diabetes Symptoms', type='Symptom'), type='EXPLAINS'), Relationship(source=Node(id='Sim', type='Concept'), target=Node(id='Health Care Services', type='Service'), type='LEADS_TO'), Relationship(source=Node(id='Health Care Services', type='Service'), target=Node(id='Blood Glucose Control', type='Concept'), type='LEADS_TO'), Relationship(source=Node(id='Maren J. Coffman', type='Person'), target=Node(id='University Of North Carolina At Charlotte School Of Nursing', type='Organization'), type='TEACHES_AT'), Relationship(source=Node(id='Maren J. Coffman', type='Person'), target=Node(id='9201 University City Boulevard, Charlotte, Nc 28223-0001', type='Location'), type='WORKS_AT'), Relationship(source=Node(id='Maren J. Coffman', type='Person'), target=Node(id='(704)687-7979', type='Contact'), type='CONTACTS'), Relationship(source=Node(id='Maren J. Coffman', type='Person'), target=Node(id='Mjcoffma@Uncc.Edu', type='Contact'), type='CONTACTS'), Relationship(source=Node(id='Dr. Copnan', type='Person'), target=Node(id='Central Carolina Medical Associates', type='Organization'), type='WORKS_AT'), Relationship(source=Node(id='Cynthia K. Norton', type='Person'), target=Node(id='Central Carolina Medical Associates', type='Organization'), type='WORKS_AT'), Relationship(source=Node(id='Lara Beene', type='Person'), target=Node(id='Brigham Young University', type='Organization'), type='WORKS_AT'), Relationship(source=Node(id='Symptom Interpretation Model', type='Concept'), target=Node(id='Symptoms', type='Symptom'), type='DEFINES'), Relationship(source=Node(id='Symptoms', type='Symptom'), target=Node(id='Subjective, Multidimensional Awareness Of An Internal System Disturbance', type='Concept'), type='DEFINES'), Relationship(source=Node(id='Subjective, Multidimensional Awareness Of An Internal System Disturbance', type='Concept'), target=Node(id='Meaning', type='Concept'), type='ASSIGNED_TO'), Relationship(source=Node(id='Symptom Interpretation Model', type='Concept'), target=Node(id='Latinos', type='Person'), type='EXPLAINS'), Relationship(source=Node(id='Latinos', type='Person'), target=Node(id='Culturally Defined Explanatory Models', type='Concept'), type='BASED_ON'), Relationship(source=Node(id='Latinos', type='Person'), target=Node(id='Biomédical Models', type='Concept'), type='DIFFERS_FROM'), Relationship(source=Node(id='Latinos', type='Person'), target=Node(id='Diabetes', type='Concept'), type='EXPLAINS'), Relationship(source=Node(id='Latinos', type='Person'), target=Node(id='Symptoms', type='Symptom'), type='AWARENESS_BASED_ON'), Relationship(source=Node(id='Non Hispanic Whites', type='Person'), target=Node(id='Biophysical Explanations', type='Concept'), type='USES'), Relationship(source=Node(id='Mexican American Women', type='Person'), target=Node(id='Type 2 Diabetes', type='Concept'), type='DESCRIBES_AS'), Relationship(source=Node(id='Mexican American Women', type='Person'), target=Node(id='Confusing And Silent', type='Concept'), type='DESCRIBES_AS'), Relationship(source=Node(id='Mexican American Women', type='Person'), target=Node(id='Lack Of Discernible Symptoms', type='Concept'), type='INDICATES'), Relationship(source=Node(id='Mexican American Women', type='Person'), target=Node(id='Disease Absent Or Under Control', type='Concept'), type='INTERPRETS_AS'), Relationship(source=Node(id='Mexican American Women', type='Person'), target=Node(id='Presence Of Diabetes Symptoms', type='Symptom'), type='INTERPRETS_AS')], source=Document(metadata={'source': '/content/drive/MyDrive/refined/20121CoffmanNortonBeene.txt'}, page_content=' to inadequate diabetes education\\nand lack of access to preventive health care.\\nThe Symptom Interpretation Model (SIM) explains\\nindividual reactions to the symptom experience, and the\\nreasoning and behavioral responses that result (Teel, Meek,\\nMcNamara, & Watson, 1997). According to the model,\\nwhen diabetes symptoms occur, an individual with adequate\\nsymptom experience, diabetes knowledge, and health\\nliteracy will be able to recognize, interpret, and respond to\\nthe symptoms. Health care services can then be accessed,\\nleading to improved blood glucose control. Inaccurate\\nsymptom interpretation, however, may lead individuals to\\ndisregard symptoms, self-treat, or delay professional health\\ncare.\\nAccording to the SIM, the symptom experience\\nincludes a) sensory awareness of symptoms, b) interpretation\\nof symptoms based on identification, knowledge, and\\nreasoning, and c) the actions and behaviors that follow\\nMaren J. Coffman, PhD, RN, teaches at the University\\nof North Carolina at Charlotte School of Nursing located\\nat 9201 University City Boulevard, Charlotte, NC 28223-\\n0001. Dr. Copnan may be reached at: (704)687-7979;\\nmjcoffma@uncc.edu. Cynthia K. Norton, MSN, ANP-\\nBC, works at Central Carolina Medical Associates. Lara\\nBeene, MFA, works at Brigham Young University.\\n(Teel et al., 1997). Symptoms, defined as the \"subjective,\\nmultidimensional awareness of an internal system\\ndisturbance to which meaning has been assigned\" (Teel et\\nal., p. 176), are interpreted and acted upon based on cultural\\nbeliefs and personal factors.\\nFor Latinos, symptom awareness may be based on\\nculturally defined explanatory models rather than biomédical\\nmodels. Latinos tend to explain diabetes based on their\\nsymptoms, while non Hispanic whites use biophysical\\nexplanations (Caban & Walker, 2006). For example, in\\none study, Mexican American women with type 2 diabetes\\ndescribed the disease as confusing and silent. To them, a\\nlack of discernible symptoms indicated that the disease was\\neither absent or under control (Alcozer, 2000; O\\'Connell\\net al., 1984; Phinney & Wallhagen, 2003). Conversely, the\\npresence of diabetes symptoms was viewed as an indication')),\n",
              " GraphDocument(nodes=[], relationships=[], source=Document(metadata={'source': '/content/drive/MyDrive/refined/20121CoffmanNortonBeene.txt'}, page_content=\" Phinney & Wallhagen, 2003). Conversely, the\\npresence of diabetes symptoms was viewed as an indication\\nthat the disease had advanced or that complications were\\npresent'(Alcozer, 2000).\\nOnce there is awareness, the symptom experience\\nis interpreted. According to Teel et al. (1997), symptoms\\nare interpreted through a personal, cultural lens that\\ninfluences associated meanings. Appropriate interpretation\\nof symptoms is based on knowledge structures, which are\\nexemplars or prototypes developed from past experiences.\\nInadequate diabetes knowledge and understanding in Latinos\\n(Garcia, Villagomez, Brown, Kouzekanani, & Hanis,\\n2001) may inhibit appropriate development of knowledge\\nstructures.\\nThus, Mexican Americans who have type 2 diabetes\\nmay incorrectly interpret serious symptoms as benign\\n(Garcia, 2005). Further, they may make judgments without\\nchecking their blood glucose, even when they have blood\\nglucose monitors and supplies (Brown, Upchurch, Garcia,\\nBarton, & Hanis, 1998). In one study of symptoms in\\nJournal of Cultural Diversity • Vol. 19, No. 1\\nSpring 2012\\nMexican Americans with type 2 diabetes, though participants\\nhad markedly elevated glucose levels, only 50% reported\\nsymptoms and half did not think the symptoms were serious\\n(Brown et al, 1998). In another study of a similar group, 97%\\nof participants self-treated headaches with over-the-counter\\nmedication without recognizing the headaches as a possible\\ndiabetes symptom (Garcia, 2005). Since interpretation\\nof symptoms is often inaccurate (Diamond, Massey, &\\nCovey, 1989; O'Connell, Hamera, Schorheide, & Guthrie,\\n1990), ongoing blood glucose monitoring and professional\\nassessment are essential.\\nThe tendency to interpret symptoms without obtaining\\nbiophysical data may be related to limited health literacy. Low\\nhealth literacy is defined as inability to read, comprehend,\\nand interpret health related information and written materials\\n(Nielson-Bohlman, Panzer, & Kindig, 2005). Low health\\nliteracy in individuals with diabetes has been associated with\\ninadequate diabetes knowledge (Gazmararian, Williams,\\nPeel, & Baker, 2003), poor glycémie control (Schillinger\\net al., 2002), and increased diabetes related complications\\n(Schillinger et al., 2003). As many as\")),\n",
              " GraphDocument(nodes=[Node(id='Latinos', type='Ethnic group'), Node(id='Sim', type='Framework'), Node(id='Symptom Appraisal', type='Concept'), Node(id='Action Decision', type='Concept'), Node(id='Self-Treatment', type='Concept'), Node(id='Alternative Care Provider', type='Concept'), Node(id='Professional Medical Provider', type='Concept'), Node(id='Home Remedies', type='Concept'), Node(id='Herbalists', type='Concept'), Node(id='Curanderos', type='Concept'), Node(id='Folk Healers', type='Concept'), Node(id='Health Insurance', type='Concept'), Node(id='Primary Care Provider', type='Concept'), Node(id='Diabetes', type='Health condition'), Node(id='Blood Glucose Level', type='Health indicator'), Node(id='Diabetes Knowledge', type='Concept'), Node(id='Health Literacy Levels', type='Concept'), Node(id='Health Care Services', type='Concept'), Node(id='Undiagnosed Diabetes', type='Health condition'), Node(id='Under Treated Diabetes', type='Health condition'), Node(id='Recent Latino Immigrants', type='Ethnic group')], relationships=[Relationship(source=Node(id='Symptom Appraisal', type='Concept'), target=Node(id='Action Decision', type='Concept'), type='FOLLOWS'), Relationship(source=Node(id='Symptom Appraisal', type='Concept'), target=Node(id='Sim', type='Framework'), type='FRAMEWORK'), Relationship(source=Node(id='Symptom Appraisal', type='Concept'), target=Node(id='Diabetes', type='Health condition'), type='RELATED_TO'), Relationship(source=Node(id='Action Decision', type='Concept'), target=Node(id='Self-Treatment', type='Concept'), type='MAY_INCLUDE'), Relationship(source=Node(id='Action Decision', type='Concept'), target=Node(id='Alternative Care Provider', type='Concept'), type='MAY_INCLUDE'), Relationship(source=Node(id='Action Decision', type='Concept'), target=Node(id='Professional Medical Provider', type='Concept'), type='MAY_INCLUDE'), Relationship(source=Node(id='Self-Treatment', type='Concept'), target=Node(id='Diabetes', type='Health condition'), type='TREATMENT_FOR'), Relationship(source=Node(id='Alternative Care Provider', type='Concept'), target=Node(id='Home Remedies', type='Concept'), type='MAY_INCLUDE'), Relationship(source=Node(id='Alternative Care Provider', type='Concept'), target=Node(id='Herbalists', type='Concept'), type='MAY_INCLUDE'), Relationship(source=Node(id='Alternative Care Provider', type='Concept'), target=Node(id='Curanderos', type='Concept'), type='MAY_INCLUDE'), Relationship(source=Node(id='Alternative Care Provider', type='Concept'), target=Node(id='Folk Healers', type='Concept'), type='MAY_INCLUDE'), Relationship(source=Node(id='Health Insurance', type='Concept'), target=Node(id='Latinos', type='Ethnic group'), type='LACK_OF'), Relationship(source=Node(id='Primary Care Provider', type='Concept'), target=Node(id='Latinos', type='Ethnic group'), type='LACK_OF'), Relationship(source=Node(id='Diabetes', type='Health condition'), target=Node(id='Undiagnosed Diabetes', type='Health condition'), type='MAY_LEAD_TO'), Relationship(source=Node(id='Diabetes', type='Health condition'), target=Node(id='Under Treated Diabetes', type='Health condition'), type='MAY_LEAD_TO'), Relationship(source=Node(id='Recent Latino Immigrants', type='Ethnic group'), target=Node(id='Diabetes', type='Health condition'), type='AT_RISK_FOR'), Relationship(source=Node(id='Recent Latino Immigrants', type='Ethnic group'), target=Node(id='Health Care Services', type='Concept'), type='LOW_ACCESS_TO')], source=Document(metadata={'source': '/content/drive/MyDrive/refined/20121CoffmanNortonBeene.txt'}, page_content=\"\\net al., 2002), and increased diabetes related complications\\n(Schillinger et al., 2003). As many as 62% of Latinos tested\\nin Spanish have been found to have low or marginal health\\nliteracy (Paasche-Orlow, Parker, Gazmararian, Nielson-\\nBohlman, & Rudd, 2005).\\nAccording to the SIM, symptom appraisal is followed\\nby a decision on action (Teel et al., 1997). Responses to\\nsymptoms may include no action, self-treatment, care from\\nan alternative provider, or care from a professional medical\\nprovider. Self-treatment of diabetes symptoms is common\\nin Latinos (Williams, Baker, Parker, & Nurss, 1998). In\\nfact, in Garcia's study (2005), the most common response\\nto symptoms in Latinos with diabetes was doing nothing or\\nmaking lifestyle changes such as resting or dietary adjustment.\\nAlternative care options may include home remedies (Garcia,\\n2005), or consultations with herbalists, curanderos, or folk\\nhealer s (Caban & Walker, 2006). Alternative care services\\nare often used in conjunction with professional medical\\ncare (Caban & Walker, 2006). Latinos are less likely than\\nothers to get consistent professional medical care (Nelson,\\nChapko, Reiber, & Boyko, 2005). However, if symptoms are\\ninterpreted as severe or they interfere with daily activities,\\nprofessional medical care is usually sought (Dodd et al., 2001;\\nLarkey, Hecht, Miller, & Altorre, 2001).\\nLatino adults, especially unauthorized migrants working\\nin low-income jobs, often do not have health insurance (Doty\\n& Holmgren, 2006). Further, they are less likely than other\\nU.S. residents to have a primary care provider (Agency for\\nHealthcare Research and Quality, 2005). As a result of low\\naccess to health care services. Latinos with diabetes may\\nbe undiagnosed or under treated; however, the extent of\\nthe problem is unknown. The study reported here therefore\\nexamined the extent of undetected and untreated diabetes in a\\nsample of recent Latino immigrants with diabetes risk factors,\\nand looked at the relationships among diabetes symptoms,\\nblood glucose level, diabetes knowledge, health literacy levels,\\nand health care use using the SIM as a framework.\\nMETHODS\\nSetting and Sample\\nA convenience sample of 150\")),\n",
              " GraphDocument(nodes=[Node(id='Spanish Speaking Latinos', type='Population'), Node(id='Type 2 Diabetes', type='Health condition'), Node(id='Diabetes Risk Factors', type='Health condition'), Node(id='Latino Service Agency', type='Healthcare facility'), Node(id='Faith-Based Community Education Center', type='Healthcare facility'), Node(id='Latino Health Fairs', type='Healthcare facility'), Node(id='University Institutional Review Board', type='Institution'), Node(id='Research Assistants', type='Person'), Node(id='Confidentiality', type='Concept'), Node(id='Recruitment', type='Process'), Node(id='Data Collection Procedures', type='Process'), Node(id='Structured Interviews', type='Process'), Node(id='Height', type='Measurement'), Node(id='Weight', type='Measurement'), Node(id='Glycosylated Hemoglobin (Hbalc)', type='Measurement'), Node(id='Questionnaire', type='Document'), Node(id='Diabetes Symptoms', type='Health condition'), Node(id='Diabetes Knowledge', type='Concept'), Node(id='Health Literacy', type='Concept'), Node(id='Health Care Use', type='Concept'), Node(id='Health Literacy Measure', type='Measurement'), Node(id='Demographic Data', type='Data'), Node(id='Diabetes Symptom Self-Care Inventory (Dssci)', type='Tool'), Node(id='Sim', type='Framework'), Node(id='Diabetes Complications', type='Health condition')], relationships=[Relationship(source=Node(id='Spanish Speaking Latinos', type='Population'), target=Node(id='Type 2 Diabetes', type='Health condition'), type='HAS'), Relationship(source=Node(id='Spanish Speaking Latinos', type='Population'), target=Node(id='Diabetes Risk Factors', type='Health condition'), type='HAS'), Relationship(source=Node(id='Spanish Speaking Latinos', type='Population'), target=Node(id='Latino Service Agency', type='Healthcare facility'), type='RECRUITED_FROM'), Relationship(source=Node(id='Spanish Speaking Latinos', type='Population'), target=Node(id='Faith-Based Community Education Center', type='Healthcare facility'), type='RECRUITED_FROM'), Relationship(source=Node(id='Spanish Speaking Latinos', type='Population'), target=Node(id='Latino Health Fairs', type='Healthcare facility'), type='RECRUITED_FROM'), Relationship(source=Node(id='University Institutional Review Board', type='Institution'), target=Node(id='Research Assistants', type='Person'), type='GRANTED_APPROVAL_TO'), Relationship(source=Node(id='Research Assistants', type='Person'), target=Node(id='Confidentiality', type='Concept'), type='TRAINED_IN'), Relationship(source=Node(id='Research Assistants', type='Person'), target=Node(id='Recruitment', type='Process'), type='TRAINED_IN'), Relationship(source=Node(id='Research Assistants', type='Person'), target=Node(id='Data Collection Procedures', type='Process'), type='TRAINED_IN'), Relationship(source=Node(id='Structured Interviews', type='Process'), target=Node(id='Research Assistants', type='Person'), type='USED_BY'), Relationship(source=Node(id='Structured Interviews', type='Process'), target=Node(id='Confidentiality', type='Concept'), type='CONSIDERED_FOR'), Relationship(source=Node(id='Height', type='Measurement'), target=Node(id='Structured Interviews', type='Process'), type='COLLECTED_IN'), Relationship(source=Node(id='Weight', type='Measurement'), target=Node(id='Structured Interviews', type='Process'), type='COLLECTED_IN'), Relationship(source=Node(id='Glycosylated Hemoglobin (Hbalc)', type='Measurement'), target=Node(id='Structured Interviews', type='Process'), type='COLLECTED_IN'), Relationship(source=Node(id='Questionnaire', type='Document'), target=Node(id='Structured Interviews', type='Process'), type='USED_IN'), Relationship(source=Node(id='Diabetes Symptoms', type='Health condition'), target=Node(id='Diabetes Symptom Self-Care Inventory (Dssci)', type='Tool'), type='MEASURED_BY'), Relationship(source=Node(id='Diabetes Symptom Self-Care Inventory (Dssci)', type='Tool'), target=Node(id='Sim', type='Framework'), type='BASED_ON'), Relationship(source=Node(id='Diabetes Complications', type='Health condition'), target=Node(id='Diabetes Symptoms', type='Health condition'), type='RELATED_TO')], source=Document(metadata={'source': '/content/drive/MyDrive/refined/20121CoffmanNortonBeene.txt'}, page_content='and health care use using the SIM as a framework.\\nMETHODS\\nSetting and Sample\\nA convenience sample of 150 adult, Spanish speaking\\nLatinos with either self-reported type 2 diabetes or one of\\ntwo diabetes risk factors were interviewed for this descriptive\\ncorrelational study. Participants were recruited in one Latino\\nservice agency, one faith-based community education center,\\nand several Latino health fairs in a large Southeastern U.S.\\ncity. Self-reported type 2 diabetes was defined as a diagnosis\\nby a physician after age 18. Diabetes risk factors included\\nage 45 or greater, or a body mass index of 25 or greater.\\nExclusion criteria included apparent pregnancy. Approval\\nfor the research was granted by the University Institutional\\nReview Board. Recruitment consisted of verbal invitation\\nand advertisements in a local Spanish language newspaper.\\nBefore data collection took place, the study was explained and\\nconsent forms were signed.\\nData Collection\\nData were collected by two research assistants trained\\nin confidentiality, recruitment, and data collection procedures.\\nBecause of the potential for low reading literacy, structured\\ninterviews were used. The data collected included height,\\nweight, and glycosylated hemoglobin (HbAlc) obtained via\\nfinger stick. In addition, participants completed a questionnaire\\non background and diabetes data, and instruments to measure\\ndiabetes symptoms, diabetes knowledge, health literacy, and\\nhealth care use. Except for the health literacy measure, which\\nwas completed without assistance, questionnaires were read\\nto each participant. Participants who had HbAlc levels above\\n7.0 were informed of their risk for diabetes and encouraged to\\nsee a health care provider. Participants were given a list of free\\nand low cost health care providers and $10 compensation for\\ntheir time. Demographic data included age, gender, nationality,\\nyears living in the United States, years of education,\\nhousehold income, health insurance, diabetes self-report, years\\nsince diagnosis, and other diabetes information.\\nDiabetes symptoms The Diabetes Symptom Self-care\\nInventory (DSSCI) was used to measure diabetes symptoms\\n(Garcia, 2005). The survey is based on the SIM and includes\\nten symptoms specific to diabetes are listed on the DSSCI.\\nSince several symptoms on the checklist are related to\\nadvanced diabetes complications, five additional symptoms\\nindicative of early diabetes were added. Participants were\\nasked to indicate how')),\n",
              " GraphDocument(nodes=[Node(id='Diabetes Knowledge Questionnaire', type='Assessment tool'), Node(id='Dkq-24', type='Assessment tool'), Node(id='Short Test Of Functional Health Literacy In Adults', type='Assessment tool'), Node(id='S-Tofhla', type='Assessment tool'), Node(id='Immigrant Use Of Health Care Scale', type='Assessment tool')], relationships=[Relationship(source=Node(id='Diabetes Knowledge Questionnaire', type='Assessment tool'), target=Node(id='Dkq-24', type='Assessment tool'), type='MEASURES'), Relationship(source=Node(id='Short Test Of Functional Health Literacy In Adults', type='Assessment tool'), target=Node(id='S-Tofhla', type='Assessment tool'), type='MEASURES'), Relationship(source=Node(id='Immigrant Use Of Health Care Scale', type='Assessment tool'), target=Node(id='Immigrant Use Of Health Care Scale', type='Assessment tool'), type='MEASURES')], source=Document(metadata={'source': '/content/drive/MyDrive/refined/20121CoffmanNortonBeene.txt'}, page_content='anced diabetes complications, five additional symptoms\\nindicative of early diabetes were added. Participants were\\nasked to indicate how often they had experienced the symptom\\nover the previous 2 weeks from 1, rarely to 4, all the time.\\nThe perceived severity of each symptom experienced was\\nmeasured on a scale from 1, not serious to 4, very serious. The\\ntool has demonstrated reliability and validity and is available\\nin Spanish. Cronbach\\'s alpha for this study was .85.\\nDiabetes knowledge Knowledge of diabetes was\\nmeasured using the Diabetes Knowledge Questionnaire\\n(DKQ-24), a 24-item test that yields one summary score\\n(Garcia et al., 2001). Each question poses a statement\\nregarding diabetes etiology, care, or treatment. Participants\\nare asked to give a single response - \"true,\" \"false,\" or \"I\\ndon\\'t know.\" One point is given for each correct response\\nand respondents are instructed to not guess. The instrument\\nis available in Spanish and has been used with Mexican\\nAmericans; Cronbach\\'s alpha was .84 in prior research and\\nwas .88 in this study.\\nHealth literacy The Short Test of Functional Health\\nLiteracy in Adults (S-TOFHLA) Spanish version was used\\nto assess health literacy. This instrument uses a modified\\ncloze method in which one word is removed from a sentence.\\nThe blank is followed by four word options with one correct\\nresponse. The test is scored by summing the items answered\\ncorrectly. Each participant is given 7 minutes to complete the\\ntest independently; those unable to read are given a score of\\n0. Established cut-off points are 0 to 16, inadequate; 17 to 22,\\nmarginal; and 23 to 36, adequate (Baker, Williams, Parker,\\nGazmaraian, & Nurss, 1999). The test is available in Spanish,\\nhas been used extensively with Latinos, and has been validated\\nas a reliable measure of health literacy. Cronbach\\'s alpha was\\nreported as 0.98 in prior research (Nurss, Parker, Williams, &\\nBaker, 1995).\\nHealth care use A revised version of the Immigrant\\nUse of Health Care Scale assessed personal use of health\\ncare services (Coffman, Shobe, Dmochowski, & Fox,\\n2007). This 10-item Likert-type instrument was designed to\\nassess the number of health')),\n",
              " GraphDocument(nodes=[Node(id='Likert-Type Instrument', type='Instrument'), Node(id='American Journal Of Cultural Diversity', type='Journal'), Node(id='Diabetes Association', type='Association'), Node(id='Diabetes Glucose Level', type='Glucose level'), Node(id='Hbalc', type='Blood test'), Node(id='Spss', type='Software'), Node(id=\"Pearson'S Correlations\", type='Statistical analysis'), Node(id='Multiple Regression', type='Statistical analysis'), Node(id='Residual Diagnostics', type='Statistical analysis'), Node(id='Demographic Characteristics', type='Characteristics'), Node(id='Sample', type='Participants'), Node(id='Female', type='Gender'), Node(id='Mexico', type='Country'), Node(id='Central America', type='Region'), Node(id='South America', type='Region'), Node(id='Health Insurance', type='Insurance'), Node(id='Education', type='Years of education')], relationships=[Relationship(source=Node(id='Likert-Type Instrument', type='Instrument'), target=Node(id='American Journal Of Cultural Diversity', type='Journal'), type='BASED_ON'), Relationship(source=Node(id='Likert-Type Instrument', type='Instrument'), target=Node(id='Diabetes Association', type='Association'), type='BASED_ON'), Relationship(source=Node(id='Diabetes Glucose Level', type='Glucose level'), target=Node(id='Hbalc', type='Blood test'), type='ASSESSED_BY'), Relationship(source=Node(id='Data Analysis', type='Software'), target=Node(id='Spss', type='Software'), type='USED_FOR_DATA_ENTRY'), Relationship(source=Node(id='Data Analysis', type='Software'), target=Node(id='Spss', type='Software'), type='USED_FOR_DATA_CLEANING'), Relationship(source=Node(id='Data Analysis', type='Software'), target=Node(id='Spss', type='Software'), type='USED_FOR_DATA_ANALYSIS'), Relationship(source=Node(id='Data Analysis', type='Software'), target=Node(id='Spss', type='Software'), type='USED_FOR_RESIDUAL_DIAGNOSTICS'), Relationship(source=Node(id='Data Analysis', type='Software'), target=Node(id=\"Pearson'S Correlations\", type='Statistical analysis'), type='USED_FOR_ASSOCIATIONS_ASSESSMENT'), Relationship(source=Node(id='Data Analysis', type='Software'), target=Node(id='Multiple Regression', type='Statistical analysis'), type='USED_FOR_PREDICTIVE_ANALYSIS'), Relationship(source=Node(id='Data Analysis', type='Software'), target=Node(id='Residual Diagnostics', type='Statistical analysis'), type='USED_FOR_MODEL_ASSUMPTIONS_EXAMINATION'), Relationship(source=Node(id='Sample', type='Participants'), target=Node(id='Female', type='Gender'), type='PREDOMINANTLY_COMPRISED_OF'), Relationship(source=Node(id='Sample', type='Participants'), target=Node(id='Mexico', type='Country'), type='IMMIGRATED_FROM'), Relationship(source=Node(id='Sample', type='Participants'), target=Node(id='Central America', type='Region'), type='IMMIGRATED_FROM'), Relationship(source=Node(id='Sample', type='Participants'), target=Node(id='South America', type='Region'), type='IMMIGRATED_FROM'), Relationship(source=Node(id='Sample', type='Participants'), target=Node(id='Health Insurance', type='Insurance'), type='LACK_OF'), Relationship(source=Node(id='Sample', type='Participants'), target=Node(id='Education', type='Years of education'), type='MEAN_YEARS_OF')], source=Document(metadata={'source': '/content/drive/MyDrive/refined/20121CoffmanNortonBeene.txt'}, page_content=\",\\n2007). This 10-item Likert-type instrument was designed to\\nassess the number of health care contacts over the previous\\nyear. In the current study, items were based on American\\nJournal of Cultural Diversity • Vol. 19, No. 1\\nSpring 2012\\nDiabetes Association (2009) treatment standards and included\\nfrequency of use of medical exams, hospital services,\\nscreenings, mental health services, laboratory, and medical\\nprocedures. Scores can range from 0 to 20, with a low score\\nindicating no health care use and 20 indicating significant use.\\nCronbach's alpha for this study was .80.\\nDiabetes Glucose level was assessed by glycosylated\\nhemoglobin (HbAlc), which provides an average sum of\\nblood glucose levels over the previous 3 months. A portable\\nin-time meter was used to obtain the HbAlc value. Though\\nnot used as a diagnostic tool for diabetes, HbAlc has been\\nshown to be a reliable screening tool (Rohlfling et al., 2000)\\nand it does not require fasting. Probable diabetes was defined\\nas HbAlc above 7.0.\\nData Analysis\\nThe data were entered into SPSS and cleaned by\\ndouble checking and visual examinations of box plots and\\nscatter plots. Categorical data were summarized using\\nfrequency tables, and continuous data were assessed using\\nmeans and standard deviations. Associations were assessed\\nusing Pearson's correlations. Multiple regression was used to\\ninvestigate the extent to which the other variables predicted\\ndiabetes knowledge and health care use. Residual diagnostics\\n(scatterplots and qqplots) were performed to examine possible\\nviolations of multiple regression model assumptions.\\nResults\\nSix participants who were interviewed did not fully\\nmeet the inclusion criteria, leaving a final sample of 144. The\\nTable 1. Demographic Characteristics of Sample (N=144)\\nparticipants were predominantly female (78.5%), and their\\nmean age was 43.6 years (SD = 12.6). Most had immigrated\\nto the U.S. in the previous 10 years from Mexico (57.6%), or\\nCentral (13.9%) or South America (23.6%). A high percentage\\nhad no health insurance (81.3%). Their mean number of years\\nof education was 11.0 (SD = 4.8); nearly half\")),\n",
              " GraphDocument(nodes=[Node(id='Participants', type='Participants'), Node(id='Type_2_Diabetes', type='Type 2 diabetes'), Node(id='Diagnosed_Diabetes', type='Diagnosed diabetes'), Node(id='Oral_Agents', type='Oral agents'), Node(id='Diet_Control', type='Diet control'), Node(id='No_Treatment', type='No treatment'), Node(id='Primary_Care_Provider', type='Primary care provider'), Node(id='Blood_Glucose_Check', type='Blood glucose check'), Node(id='Home_Glucose_Monitoring', type='Home glucose monitoring')], relationships=[Relationship(source=Node(id='Participants', type='Participants'), target=Node(id='Type_2_Diabetes', type='Type 2 diabetes'), type='HAS_TYPE_2_DIABETES'), Relationship(source=Node(id='Type_2_Diabetes', type='Type 2 diabetes'), target=Node(id='Diagnosed_Diabetes', type='Diagnosed diabetes'), type='HAS_DIAGNOSED_DIABETES'), Relationship(source=Node(id='Diagnosed_Diabetes', type='Diagnosed diabetes'), target=Node(id='Oral_Agents', type='Oral agents'), type='TAKES_ORAL_AGENTS'), Relationship(source=Node(id='Diagnosed_Diabetes', type='Diagnosed diabetes'), target=Node(id='Diet_Control', type='Diet control'), type='CONTROLS_WITH_DIET'), Relationship(source=Node(id='Diagnosed_Diabetes', type='Diagnosed diabetes'), target=Node(id='No_Treatment', type='No treatment'), type='NO_TREATMENT_REPORTED'), Relationship(source=Node(id='Participants', type='Participants'), target=Node(id='Primary_Care_Provider', type='Primary care provider'), type='NO_PRIMARY_CARE_PROVIDER'), Relationship(source=Node(id='Participants', type='Participants'), target=Node(id='Blood_Glucose_Check', type='Blood glucose check'), type='NO_BLOOD_GLUCOSE_CHECK'), Relationship(source=Node(id='Participants', type='Participants'), target=Node(id='Home_Glucose_Monitoring', type='Home glucose monitoring'), type='INFREQUENT_HOME_GLUCOSE_MONITORING')], source=Document(metadata={'source': '/content/drive/MyDrive/refined/20121CoffmanNortonBeene.txt'}, page_content='.3%). Their mean number of years\\nof education was 11.0 (SD = 4.8); nearly half (47%) had not\\ncompleted high school. Financial resources were limited, with\\n78.7% of participants reporting household incomes less than\\n$30,000 (see Table 1).\\nUndetected and untreated type 2 diabetes was a\\nsignificant problem in this sample. Eighteen participants\\n(12.5%) self-reported diabetes, and an additional 17 (13.5%)\\nhad unknown but probable type 2 diabetes (HbAlc > 7.0). The\\nmean HbAlc level in those who self-reported type 2 diabetes\\nwas 9.3% (SD = 2.1) with a range from 6.1% to 13.0%. The\\ngroup with unknown but probable type 2 diabetes had a mean\\nHbAlc of 8.2% (SD =1.1) with a range from 7.0% to 10.2%.\\nAnother 19 (15%) had HbAlc levels between 6.5% and 6.9%.\\nThe mean body mass index (BMI) for participants was 30.7\\n(SD ^ 5.3).\\nMost of the participants who self-reported type 2\\ndiabetes had had the disease for less than 5 years (66%). Of\\nthose with diagnosed diabetes, 12 took oral agents to control\\nthe disease, 2 reported controlling the disease with diet, and\\n4 reported no treatment. Nearly 70% (68.8%),of the sample\\nand 61 % of those with self-reported diabetes did not have a\\nprimary care provider. Of the 18 participants who self-reported\\ndiabetes, half (n = 9) reported that they never checked their\\nblood glucose, and only 3 reported home glucose monitoring\\nat least daily. Finally, only 6 of the 18 participants who self-\\n> Characteristic\\nAge\\nGender\\nMale\\nFemale\\nn\\n31\\n113\\nP\\n21.5%\\n78.5%\\nM ••\\n43.6\\n\\' . - , ; • ; \"[SD \\n-\\n• \\n\\' \\n\\'\\n-\\n,\\n• \\n\\' • \\' \\n, \\n•\\n-\\n.\\n\\'\\n-\\n•\\n-\\n•\\n12.6\\nNationality\\nMexico\\nCentral America\\nSouth America\\nOther\\n83\\n20\\n34\\n7\\n57.')),\n",
              " GraphDocument(nodes=[Node(id='Mexico', type='Country'), Node(id='Central America', type='Region'), Node(id='South America', type='Region'), Node(id='Other', type='Region'), Node(id='Less Than $20,000', type='Income level'), Node(id='$20,000 To $30,000', type='Income level'), Node(id='Over $30,000', type='Income level'), Node(id='None', type='Insurance type'), Node(id='Private', type='Insurance type'), Node(id='Medicare / Medicaid', type='Insurance type'), Node(id='Self-Report', type='Diabetes status'), Node(id='Probable Diabetes (Hba1C> 7.0)', type='Diabetes status'), Node(id='Frequent Headaches', type='Symptom'), Node(id='Intense Thirst', type='Symptom'), Node(id='Excessive Urination', type='Symptom'), Node(id='Extreme Fatigue', type='Symptom'), Node(id='Numbness Or Tingling Of Extremity', type='Symptom'), Node(id='Dizziness', type='Symptom'), Node(id='Shaky Or Nervous', type='Symptom'), Node(id='Delayed Wound Healing', type='Symptom'), Node(id='Blurry Vision', type='Symptom'), Node(id='Excessive Hunger', type='Symptom'), Node(id='Weakness', type='Symptom'), Node(id='Sweating', type='Symptom'), Node(id='Faint Or Lightheaded', type='Symptom'), Node(id='Nausea', type='Symptom'), Node(id='Weight Loss (<10 Lbs)', type='Symptom')], relationships=[Relationship(source=Node(id='Mexico', type='Country'), target=Node(id='Central America', type='Region'), type='LOCATED_IN'), Relationship(source=Node(id='Mexico', type='Country'), target=Node(id='South America', type='Region'), type='LOCATED_IN'), Relationship(source=Node(id='Mexico', type='Country'), target=Node(id='Other', type='Region'), type='LOCATED_IN'), Relationship(source=Node(id='Less Than $20,000', type='Income level'), target=Node(id='81', type='Participants'), type='INCOME_LEVEL_FOR_PARTICIPANTS'), Relationship(source=Node(id='$20,000 To $30,000', type='Income level'), target=Node(id='30', type='Participants'), type='INCOME_LEVEL_FOR_PARTICIPANTS'), Relationship(source=Node(id='Over $30,000', type='Income level'), target=Node(id='30', type='Participants'), type='INCOME_LEVEL_FOR_PARTICIPANTS'), Relationship(source=Node(id='None', type='Insurance type'), target=Node(id='117', type='Participants'), type='INSURANCE_TYPE_FOR_PARTICIPANTS'), Relationship(source=Node(id='Private', type='Insurance type'), target=Node(id='27', type='Participants'), type='INSURANCE_TYPE_FOR_PARTICIPANTS'), Relationship(source=Node(id='Medicare / Medicaid', type='Insurance type'), target=Node(id='0', type='Participants'), type='INSURANCE_TYPE_FOR_PARTICIPANTS'), Relationship(source=Node(id='Self-Report', type='Diabetes status'), target=Node(id='18', type='Participants'), type='DIABETES_STATUS_FOR_PARTICIPANTS'), Relationship(source=Node(id='Probable Diabetes (Hba1C> 7.0)', type='Diabetes status'), target=Node(id='17', type='Participants'), type='DIABETES_STATUS_FOR_PARTICIPANTS'), Relationship(source=Node(id='Frequent Headaches', type='Symptom'), target=Node(id='83', type='Participants'), type='SYMPTOM_FREQUENCY'), Relationship(source=Node(id='Intense Thirst', type='Symptom'), target=Node(id='48', type='Participants'), type='SYMPTOM_FREQUENCY'), Relationship(source=Node(id='Excessive Urination', type='Symptom'), target=Node(id='34', type='Participants'), type='SYMPTOM_FREQUENCY'), Relationship(source=Node(id='Extreme Fatigue', type='Symptom'), target=Node(id='66', type='Participants'), type='SYMPTOM_FREQUENCY'), Relationship(source=Node(id='Numbness Or Tingling Of Extremity', type='Symptom'), target=Node(id='22', type='Participants'), type='SYMPTOM_FREQUENCY'), Relationship(source=Node(id='Dizziness', type='Symptom'), target=Node(id='42', type='Participants'), type='SYMPTOM_FREQUENCY'), Relationship(source=Node(id='Shaky Or Nervous', type='Symptom'), target=Node(id='52', type='Participants'), type='SYMPTOM_FREQUENCY'), Relationship(source=Node(id='Delayed Wound Healing', type='Symptom'), target=Node(id='27', type='Participants'), type='SYMPTOM_FREQUENCY'), Relationship(source=Node(id='Blurry Vision', type='Symptom'), target=Node(id='47', type='Participants'), type='SYMPTOM_FREQUENCY'), Relationship(source=Node(id='Excessive Hunger', type='Symptom'), target=Node(id='46', type='Participants'), type='SYMPTOM_FREQUENCY'), Relationship(source=Node(id='Weakness', type='Symptom'), target=Node(id='49', type='Participants'), type='SYMPTOM_FREQUENCY'), Relationship(source=Node(id='Sweating', type='Symptom'), target=Node(id='30', type='Participants'), type='SYMPTOM_FREQUENCY'), Relationship(source=Node(id='Faint Or Lightheaded', type='Symptom'), target=Node(id='53', type='Participants'), type='SYMPTOM_FREQUENCY'), Relationship(source=Node(id='Nausea', type='Symptom'), target=Node(id='43', type='Participants'), type='SYMPTOM_FREQUENCY'), Relationship(source=Node(id='Weight Loss (<10 Lbs)', type='Symptom'), target=Node(id='21', type='Participants'), type='SYMPTOM_FREQUENCY')], source=Document(metadata={'source': '/content/drive/MyDrive/refined/20121CoffmanNortonBeene.txt'}, page_content='\\nNationality\\nMexico\\nCentral America\\nSouth America\\nOther\\n83\\n20\\n34\\n7\\n57.6%\\n13.9%\\n23.6%\\n4.9%\\nYears in the U.S.\\n9.8\\n8.8\\nYears of education\\n11.0\\n4.8\\nHousehold income\\nLess than $20,000\\n$20,000 to $30,000\\nOver $30,000\\n81\\n30\\n30\\n117\\n27\\n0\\n57.4%\\n21.3%\\n21.3%\\n81.3%\\n18.8%\\n0\\nMedical insurance\\nNone\\nPrivate\\nMedicare / Medicaid\\nDiabetes status\\nSelf-report\\nProbable diabetes (HbA1c> 7.0)\\n18\\n17\\n12.5%\\n13.5%\\nBody Mass Index (BMI)\\n30.7\\n5.3\\nJournal of Cultural Diversity • Vol. 19, No. 1\\nSpring 2012\\nTable 2. Means and Standard Deviations for the Diabetes Symptom Self-Care Inventory (DSCCI)\\nFrequent headaches\\nIntense thirst\\nExcessive urination\\nExtreme fatigue\\nNumbness or tingling of extremity\\nDizziness\\nShaky or nervous\\nDelayed wound healing\\nBlurry vision\\nExcessive hunger\\nWeakness\\nSweating\\nFaint or lightheaded\\nNausea\\nWeight loss (<10 lbs)\\nn\\n83\\n48\\n34\\n66\\n22\\n42\\n52\\n27\\n47\\n46\\n49\\n30\\n53\\n43\\n21\\nFrequency\\nM \\nSD\\n2.0\\n1.5\\n1.5\\n1.8\\n1.1\\n1.4\\n1.6\\n1.3\\n1.5\\n1.5\\n1.6\\n1.3\\n1.7\\n1.5\\n1.1\\n1.0\\n.9\\n1.0\\n1.1\\n.4\\n.8\\n.9\\n.7\\n.7\\n.9\\n.9\\n.8\\n1.0\\n.9\\n.4\\nSeriousness\\nM \\nSD\\n1.7\\n1.6\\n1.7\\n1.6\\n1.4\\n1.8\\n1.8\\n1.7\\n1.7\\n1.6\\n1')),\n",
              " GraphDocument(nodes=[Node(id='Diabetes Knowledge', type='Variable'), Node(id='Health Care Use', type='Variable'), Node(id='Intercept', type='Variable'), Node(id='Diabetes Symptoms', type='Variable'), Node(id='Years Of Education', type='Variable'), Node(id='Glucose Level', type='Variable'), Node(id='Health Literacy', type='Variable')], relationships=[Relationship(source=Node(id='Intercept', type='Variable'), target=Node(id='Diabetes Knowledge', type='Variable'), type='REGRESSION'), Relationship(source=Node(id='Diabetes Symptoms', type='Variable'), target=Node(id='Diabetes Knowledge', type='Variable'), type='REGRESSION'), Relationship(source=Node(id='Years Of Education', type='Variable'), target=Node(id='Diabetes Knowledge', type='Variable'), type='REGRESSION'), Relationship(source=Node(id='Intercept', type='Variable'), target=Node(id='Health Care Use', type='Variable'), type='REGRESSION'), Relationship(source=Node(id='Glucose Level', type='Variable'), target=Node(id='Health Care Use', type='Variable'), type='REGRESSION'), Relationship(source=Node(id='Health Literacy', type='Variable'), target=Node(id='Health Care Use', type='Variable'), type='REGRESSION')], source=Document(metadata={'source': '/content/drive/MyDrive/refined/20121CoffmanNortonBeene.txt'}, page_content='.4\\n1.8\\n1.8\\n1.7\\n1.7\\n1.6\\n1.7\\n1.6\\n1.8\\n1.8\\n1.5\\n.7\\n.6\\n.8\\n.7\\n.6\\n.7\\n.7\\n.7\\n.7\\n.6\\n.7\\n.7\\n.7\\n.7\\n.6\\nTable 3. Beta Weights and Standard Errod for Regression of Study Variables (N=144)\\nRegression of Study Variables on Diabetes Knowledge (F= 15.9, p = .000)\\nVariables\\nB\\nSEB\\nIntercept\\nDiabetes symptoms\\nYears of education\\n4.89\\n.11\\n.45\\n1.6\\n.05\\n.08\\n.16\\n.41\\n.004\\n.04\\n.000\\nRegression of Study Variables on Health Care Use (F = 7.4, p = .000)\\nVariables\\ne\\nSEB\\nIntercept\\nGlucose level\\nHealth literacy\\nDiabetes knowledge\\nJournal of Cultural Diversity • Vol. 19, No. 1\\n21\\n16\\n02\\n03\\n.4\\n.05\\n.01\\n.02\\nO\\n.25\\n.18\\n.15\\n.000\\n.002\\n.03\\n.06\\nSpring 2012\\nreported diabetes had attended formal diabetes education\\nclasses.\\nThe mean diabetes symptom score was 22.2 {SD - 7.4)\\nwith a range from 15 to 50; 87.5% of the participants had\\nexperienced at least one symptom over the previous 2 weeks.\\nThe most frequently reported symptoms were headaches (M\\n= 2.0, SD = 1.0), extreme fatigue {M= 1.8, SD =1.1), and\\nfaintness or lightheadedness (M= 1.7, SD = 1.0). The most\\nserious symptoms reported included nausea {M- 1.8, SD =\\n.7), dizziness {M- 1.8, SD - .1), lightheadedness (M= 1.8,\\nSD = .7), and shakiness or nervousness {M- 1.8, SD — .7; see\\nTable 2). Not surprisingly, participants with HbAlc levels\\nbelow 7.0 reported the fewest symptoms (21.5, SD = 6.')),\n",
              " GraphDocument(nodes=[Node(id='Hbalc Levels', type='Measurement'), Node(id='Symptoms', type='Symptom'), Node(id='Type 2 Diabetes', type='Diabetes type'), Node(id='Women', type='Gender'), Node(id='Men', type='Gender'), Node(id='Health Literacy', type='Literacy'), Node(id='Diabetes Knowledge Questionnaire (Dkq-24)', type='Questionnaire'), Node(id='Diagnosed Diabetes', type='Diabetes status'), Node(id='Years Of Education', type='Education'), Node(id='Health Care Services', type='Healthcare service'), Node(id='Screening For Elevated Blood Pressure', type='Healthcare service'), Node(id='General Physical Exam', type='Healthcare service'), Node(id='Emergency Department', type='Healthcare service'), Node(id='Hospitalization', type='Healthcare service'), Node(id='Glucose Levels', type='Glucose level')], relationships=[Relationship(source=Node(id='Hbalc Levels', type='Measurement'), target=Node(id='Symptoms', type='Symptom'), type='ASSOCIATED_WITH'), Relationship(source=Node(id='Type 2 Diabetes', type='Diabetes type'), target=Node(id='Symptoms', type='Symptom'), type='ASSOCIATED_WITH'), Relationship(source=Node(id='Women', type='Gender'), target=Node(id='Symptoms', type='Symptom'), type='REPORTED_MORE'), Relationship(source=Node(id='Men', type='Gender'), target=Node(id='Symptoms', type='Symptom'), type='REPORTED_LESS'), Relationship(source=Node(id='Diagnosed Diabetes', type='Diabetes status'), target=Node(id='Diabetes Knowledge Questionnaire (Dkq-24)', type='Questionnaire'), type='HIGHER_SCORE_IN'), Relationship(source=Node(id='Years Of Education', type='Education'), target=Node(id='Diabetes Knowledge Questionnaire (Dkq-24)', type='Questionnaire'), type='ASSOCIATED_WITH'), Relationship(source=Node(id='Health Literacy', type='Literacy'), target=Node(id='Health Care Services', type='Healthcare service'), type='ASSOCIATED_WITH'), Relationship(source=Node(id='Glucose Levels', type='Glucose level'), target=Node(id='Health Care Services', type='Healthcare service'), type='ASSOCIATED_WITH')], source=Document(metadata={'source': '/content/drive/MyDrive/refined/20121CoffmanNortonBeene.txt'}, page_content=' HbAlc levels\\nbelow 7.0 reported the fewest symptoms (21.5, SD = 6.4),\\nand those with self-reported type 2 diabetes reported the most\\nsymptoms (28.7, SD = 8.2). Women (23.2, SD = 7.5) reported\\nmore symptoms than men (21.6, SD - 6.8).\\nAlmost half the sample (46.5%) had low health literacy,\\nwith 12.5% having marginal, and 34% inadequate health\\nliteracy scores. The mean score on the Diabetes Knowledge\\nQuestionnaire (DKQ-24) was 12.5 {SD = 5.3). Those with\\nself-reported diabetes had a slightly higher DKQ-24 score\\n(13.4, SD - 5.1) than participants who did not have diagnosed\\ndiabetes (12.1, SD - 5.4), though the difference was not\\nsignificant. According to the multiple regression model {F =\\n15.9, p = .000), diabetes symptoms (ß = .16, /? = .04) and years\\nof education (ß = A\\\\, p = .000) were significantly associated\\nwith greater diabetes knowledge. However, health literacy was\\nnot associated with diabetes knowledge (see Table 3).\\nThe health care services used most often were screening\\nfor elevated blood pressure (59%) and having a general\\nphysical exam (62.5%). Over a quarter of the participants\\nhad visited an emergency department over the previous year\\n(26.4%), and 13.2% reported at least one hospitalization. The\\nmultiple regression analyses {F = lA,p= \\n.000) indicated that\\nhigher glucose levels (ß - 25, p = .002) and higher health\\nliteracy (ß = .18, ;> = .03) were significantly associated with\\ngreater health care use. There was no significant relationship\\nbetween diabetes symptoms and health care use, though the\\nrelationship between diabetes knowledge and health care use\\nwas near significance (ß = .15,/> = .06; see Table 3).\\nDISCUSSION\\nAccording to the Symptom Interpretation Model (Teel\\net al., 1997), effective diabetes self-management begins\\nwith the ability to recognize and understand symptoms.\\nAlso, some knowledge of the disease may be needed to\\naccurately interpret and categorize symptoms. In fact, diabetes')),\n",
              " GraphDocument(nodes=[Node(id='Diabetes', type='Disease'), Node(id='Education Level', type='Knowledge'), Node(id='Participants', type='Participants'), Node(id='Primary Care Provider', type='Medical professional'), Node(id='Insulin', type='Medication'), Node(id='Oral Medications', type='Medication'), Node(id='Home Glucose Monitoring', type='Activity'), Node(id='Formal Diabetes Education Classes', type='Education'), Node(id='Symptoms', type='Symptoms'), Node(id='Health Care', type='Healthcare'), Node(id='Severe Symptoms', type='Symptoms'), Node(id='Functional Status', type='Health'), Node(id='Chronic Illnesses', type='Illnesses'), Node(id='Depression', type='Mental health'), Node(id='Stress', type='Mental health'), Node(id='Latinos', type='Ethnicity'), Node(id='Health Literacy', type='Literacy'), Node(id='Hbalc Levels', type='Health indicator'), Node(id='Years Of Education', type='Education'), Node(id='Health Care Use', type='Healthcare management')], relationships=[Relationship(source=Node(id='Diabetes', type='Disease'), target=Node(id='Education Level', type='Knowledge'), type='ASSOCIATED_WITH'), Relationship(source=Node(id='Diabetes', type='Disease'), target=Node(id='Participants', type='Participants'), type='AFFECTS'), Relationship(source=Node(id='Participants', type='Participants'), target=Node(id='Primary Care Provider', type='Medical professional'), type='LACKS'), Relationship(source=Node(id='Participants', type='Participants'), target=Node(id='Primary Care Provider', type='Medical professional'), type='NOT_ADEQUATELY_MONITORED_BY'), Relationship(source=Node(id='Participants', type='Participants'), target=Node(id='Insulin', type='Medication'), type='NOT_ON'), Relationship(source=Node(id='Participants', type='Participants'), target=Node(id='Oral Medications', type='Medication'), type='CONCERN_ABOUT_CONSISTENCY_IN_OBTAINING_AND_TAKING'), Relationship(source=Node(id='Participants', type='Participants'), target=Node(id='Home Glucose Monitoring', type='Activity'), type='LOW_PARTICIPATION_IN'), Relationship(source=Node(id='Participants', type='Participants'), target=Node(id='Formal Diabetes Education Classes', type='Education'), type='LOW_PARTICIPATION_IN'), Relationship(source=Node(id='Diabetes', type='Disease'), target=Node(id='Symptoms', type='Symptoms'), type='INFLUENCES_INTERPRETATION_AND_ACTION_ON'), Relationship(source=Node(id='Symptoms', type='Symptoms'), target=Node(id='Health Care', type='Healthcare'), type='INFLUENCES_SEEKING_TIMELY_CARE_IF_PERCEIVED_AS_SEVERE_AND_THREATENING_FUNCTIONAL_STATUS'), Relationship(source=Node(id='Symptoms', type='Symptoms'), target=Node(id='Severe Symptoms', type='Symptoms'), type='PERCEIVED_AS_SEVERE_IF_THREATENING_FUNCTIONAL_STATUS'), Relationship(source=Node(id='Severe Symptoms', type='Symptoms'), target=Node(id='Functional Status', type='Health'), type='THREATENS'), Relationship(source=Node(id='Severe Symptoms', type='Symptoms'), target=Node(id='Health Care', type='Healthcare'), type='DOES_NOT_RESULT_IN_SEEKING_CARE'), Relationship(source=Node(id='Severe Symptoms', type='Symptoms'), target=Node(id='Chronic Illnesses', type='Illnesses'), type='MAY_BE_THE_RESULT_OF'), Relationship(source=Node(id='Severe Symptoms', type='Symptoms'), target=Node(id='Depression', type='Mental health'), type='MAY_BE_THE_RESULT_OF'), Relationship(source=Node(id='Severe Symptoms', type='Symptoms'), target=Node(id='Stress', type='Mental health'), type='MAY_BE_THE_RESULT_OF'), Relationship(source=Node(id='Latinos', type='Ethnicity'), target=Node(id='Diabetes', type='Disease'), type='MORE_LIKELY_TO_SEEK_HEALTH_CARE_IF_DIAGNOSED'), Relationship(source=Node(id='Latinos', type='Ethnicity'), target=Node(id='Diabetes', type='Disease'), type='LESS_LIKELY_TO_SEEK_HEALTH_CARE_IF_SYMPTOMS_EXPERIENCED_BUT_NOT_DIAGNOSED'), Relationship(source=Node(id='Latinos', type='Ethnicity'), target=Node(id='Diabetes', type='Disease'), type='INSUFFICIENT_UNDERSTANDING_OF_SYMPTOMS_MAY_LEAD_TO_IGNORING'), Relationship(source=Node(id='Health Literacy', type='Literacy'), target=Node(id='Latinos', type='Ethnicity'), type='HELPS_UNDERSTAND,_INTERPRET,_AND_ACT_ON_DIABETES_SYMPTOMS'), Relationship(source=Node(id='Health Literacy', type='Literacy'), target=Node(id='Hbalc Levels', type='Health indicator'), type='LEADS_TO_LOWER_LEVELS'), Relationship(source=Node(id='Health Literacy', type='Literacy'), target=Node(id='Years Of Education', type='Education'), type='ASSOCIATED_WITH'), Relationship(source=Node(id='Health Literacy', type='Literacy'), target=Node(id='Health Care Use', type='Healthcare management'), type='PREDICTS_BETTER_MANAGEMENT_AND_CONTROL')], source=Document(metadata={'source': '/content/drive/MyDrive/refined/20121CoffmanNortonBeene.txt'}, page_content=', some knowledge of the disease may be needed to\\naccurately interpret and categorize symptoms. In fact, diabetes\\nknowledge is associated with education level (Rothman,\\nMalone, Bryant, Bryant, & Wolfe, 2006: Williams et al.,\\n1998), participation in diabetes education classes, and\\nimproved diabetes control (Bautista-Martinez et al., 1999;\\nRothman et al., 2006). Knowledge of how to interpret and\\nact on diabetes symptoms may influence long-term diabetes\\noutcomes.\\nIn this study, 24% of participants either self-reported\\ndiabetes or had unknown but probable diabetes. Most of\\nthese participants did not have a primary care provider, and\\nmany of those with known diabetes did not have a medical\\nhome, suggesting that their disease was not being adequately\\nmonitored by a medical professional. None of the participants\\nwith diabetes were on insulin, and consistency in obtaining\\nand taking oral medications was a concern. Few participants\\nperformed home glucose monitoring or had taken formal\\ndiabetes education classes. As a result, these participants may\\nnot have enough information to accurately interpret diabetes\\nsymptoms.\\nPrior research suggests that individuals are more likely\\nto seek timely health care if symptoms are perceived as\\nsevere and threaten functional status (Larkey et al., 2001).\\nIn this study, however, symptom experience and severity did\\nnot result in health care use. The symptoms reported most\\nfrequently and perceived as most serious were somewhat\\nvague and may have been the result of other chronic illnesses,\\ndepression, or stress. Latinos who knew they had been\\ndiagnosed with diabetes were more likely to seek health care\\nthan those who experienced symptoms but had not been\\ndiagnosed. This suggests that the decision to ignore symptoms\\nmay be due to insufficient understanding of diabetes\\nsymptoms.\\nAdequate health literacy may help Latinos understand,\\ninterpret, and act on diabetes symptoms. Some authors have\\nsuggested that adequate health literacy leads to diabetes\\ncontrol, as evidenced by lower HbAlc levels (Gazmararian\\net al., 2003; Rothman et al., 2006). Though there was no\\ncorrelation between health literacy and diabetes knowledge in\\nthis study, years of education were associated with diabetes\\nknowledge. Further, having adequate health literacy predicted\\nhealth care use, which presumably leads to better diabetes\\nmanagement and improved diabetes control.\\nThe relationship between health literacy and health care\\nuse is complex')),\n",
              " GraphDocument(nodes=[], relationships=[], source=Document(metadata={'source': '/content/drive/MyDrive/refined/20121CoffmanNortonBeene.txt'}, page_content=' leads to better diabetes\\nmanagement and improved diabetes control.\\nThe relationship between health literacy and health care\\nuse is complex. Though in this study, participants with higher\\nhealth literacy levels used more health care services, this\\nshould be interpreted with caution. Because participants in\\nthe study were largely uninsured and had disease related risk\\nfactors, they could be over using emergency care and other\\nhospital services, and under using ambulatory and preventive\\nservices.\\nIn this study, many participants experienced significant\\nhealth care barriers including lack of health insurance, recent\\nimmigration status, and low household income. In a prior\\nstudy (Chan, Krishel, Bramwell, & Clark, 1996), 80% of\\nLatinos who sought emergency care did so due to perceptions\\nof lower cost than primary care. That study also suggested that\\nLatinos who fear deportation view the emergency department\\nas a safe health care option. When there are barriers to health\\ncare access. Latinos with diabetes may not understand the\\nneed for primary care and see the emergency department as\\ntheir only health care option. Unfortunately, this may result\\nin increased diabetes related complications and need for\\nmore costly long term health care services. In fact, lack of\\nhealth insurance has been found to significantly reduce the\\nuse of preventive care, contribute to delays in seeking care,\\nand increase complications from chronic diseases (Doty &\\nHolmgren, 2006).\\nThis study included a relatively small convenience\\nsample of Latino immigrants. Further, since Latinos with both\\ndiabetes and diabetes risk factors participated, results cannot\\nbe directly compared to samples made up only of participants\\nwith diagnosed diabetes. Nevertheless, the study points to\\nthe need for culturally sensitive diagnostic, health promotion,\\ndisease management, and educational services for Latinos.\\nConclusions\\nLittle is known regarding how diabetes symptoms are\\ninterpreted in this population (Garcia, 2005). If Latinos are\\nusing past diabetes symptom experiences to make decisions,\\nthey may continue to interpret symptoms incorrectly. This\\ncould lead to diabetes related complications, increased health\\ncare costs, and poor outcomes. Further research is needed to\\nunderstand how symptom interpretation influences behaviors\\nand long term outcomes.\\nHealth care practitioners need to educate Latinos about\\ntheir diabetes symptoms. Further, since their low health\\nliteracy may contribute to poor symptom interpretation.\\nLatinos with diabetes should be screened for health literacy.\\nThose with inadequate health literacy may need support\\ngetting preventive care, testing blood glucose,')),\n",
              " GraphDocument(nodes=[Node(id='Health Literacy', type='Concept'), Node(id='Participants', type='Person'), Node(id='Latinos', type='Person'), Node(id='Nurses', type='Person'), Node(id='Educators', type='Person'), Node(id='Materials', type='Concept'), Node(id='Primary Care Home', type='Concept'), Node(id='Community-Based Health Care', type='Concept'), Node(id='Vulnerable Latinos', type='Person'), Node(id='Insurance Coverage', type='Concept'), Node(id='Health Insurance Programs', type='Concept')], relationships=[Relationship(source=Node(id='Health Literacy', type='Concept'), target=Node(id='Participants', type='Person'), type='SCREENED_FOR'), Relationship(source=Node(id='Health Literacy', type='Concept'), target=Node(id='Latinos', type='Person'), type='NEEDS_SUPPORT'), Relationship(source=Node(id='Health Literacy', type='Concept'), target=Node(id='Nurses', type='Person'), type='NEEDS_SUPPORT'), Relationship(source=Node(id='Health Literacy', type='Concept'), target=Node(id='Educators', type='Person'), type='NEEDS_SUPPORT'), Relationship(source=Node(id='Health Literacy', type='Concept'), target=Node(id='Materials', type='Concept'), type='NEEDS_SUPPORT'), Relationship(source=Node(id='Health Literacy', type='Concept'), target=Node(id='Primary Care Home', type='Concept'), type='NEEDS_ACCESS'), Relationship(source=Node(id='Health Literacy', type='Concept'), target=Node(id='Community-Based Health Care', type='Concept'), type='NEEDS_ACCESS'), Relationship(source=Node(id='Health Literacy', type='Concept'), target=Node(id='Vulnerable Latinos', type='Person'), type='NEEDS_ACCESS'), Relationship(source=Node(id='Health Literacy', type='Concept'), target=Node(id='Insurance Coverage', type='Concept'), type='PREDICTS_HEALTHCARE_USE'), Relationship(source=Node(id='Health Literacy', type='Concept'), target=Node(id='Health Insurance Programs', type='Concept'), type='NEEDS_WIDENING_AVAILABILITY')], source=Document(metadata={'source': '/content/drive/MyDrive/refined/20121CoffmanNortonBeene.txt'}, page_content=' be screened for health literacy.\\nThose with inadequate health literacy may need support\\ngetting preventive care, testing blood glucose, finding primary\\ncare providers, and information on use of the emergency\\ndepartment.\\nJournal of Cultural Diversity • Vol. 19, No. 1\\nSpring 2012\\nThe number of participants in this study who had an\\nopportunity to participate in diabetes education courses\\nsuggests that culturally relevant classes need to be more\\nreadily available to this population. Adequate diabetes\\neducation that focuses on symptom awareness would help\\nLatinos with diabetes make better decisions regarding diabetes\\nself-management and symptom interpretation. Diabetes\\neducation could be made available through existing social\\nservice programs, primary care providers, or publically-funded\\nhealth care clinics. These providers could then offer ongoing\\ndiabetes education and support.\\nOne element of diabetes education for Latinos should focus\\non symptom management. Nurses and educators need to give\\nLatinos with diabetes the opportunity to describe symptoms\\nand symptom responses. The educator could then reinforce\\ncorrect responses and redirect inappropriate behaviors.\\nFurther, educational materials need to be written at reading\\nlevels for individuals with low literacy, consider cultural\\nvariations, and be available in Spanish.\\nEducation alone is insufficient to control diabetes. To\\nbuild knowledge structures related to diabetes, low income\\nLatinos with diabetes need access to primary care home.\\nAffordable community-based health care addresses the\\ncomprehensive needs of vulnerable Latinos with diabetes are\\nneeded. Since the strongest predictors of health care use is\\ninsurance coverage (DeNavas-Walt, Proctor, & Mills, 2003),\\naffordable health insurance programs need to be more widely\\navailable.\\nREFERENCES\\nAgency for Health Care Research and Quality. (2005). National health\\ncare disparities report. (AHRQ Publication No. 06-0017). Rockville,\\nMD: Author.\\nAlcozer, R (2000). Secondary analysis of perceptions and meanings of\\ntype 2 diabetes among Mexican American women. The Diabetes\\nEducator, 26(5), 785-793.\\nBaker, D. W., Williams, M. V., Parker, R. M., Gazmararian, J. A., &\\nNurss, J. (1999). Development of a brief test to measure functional\\nhealth literacy. Patient Education and Counseling, 38(1), 33-42.\\nBautista-Martinez, S., Agu')),\n",
              " GraphDocument(nodes=[Node(id='Education And Counseling', type='Journal'), Node(id='Bautista-Martinez, S.', type='Author'), Node(id='Aguilar-Salinas, C. A.', type='Author'), Node(id='Lerman, I.', type='Author'), Node(id='Velasco, R.', type='Author'), Node(id='Castellanos, E.', type='Author'), Node(id='Zenteno, E.', type='Author'), Node(id='Brown, S. A.', type='Author'), Node(id='Upchurch, S.', type='Author'), Node(id='Carcia, A. A.', type='Author'), Node(id='Barton, S. A.', type='Author'), Node(id='Harüs, C. L.', type='Author'), Node(id='Caban, A.', type='Author'), Node(id='Walker, E. A.', type='Author'), Node(id='Centers For Disease Control And Prevention', type='Organization'), Node(id='Chan, T. C', type='Author'), Node(id='Krishel, S. J.', type='Author'), Node(id='Bramwell, K. J.', type='Author'), Node(id='Clark, R. R', type='Author'), Node(id='Coffman, M. J.', type='Author'), Node(id='Shobe, M. A.', type='Author'), Node(id='Dmochowski, J.', type='Author'), Node(id='Fox, S D.', type='Author'), Node(id='Denavas-Walt, C', type='Author'), Node(id='Proctor, B. D.', type='Author'), Node(id='Lee, C. H.', type='Author'), Node(id='Diamond, E. L.', type='Author'), Node(id='Massey, K. L.', type='Author'), Node(id='Covey, D.', type='Author'), Node(id='Dodd, M.', type='Author'), Node(id='Janson, S', type='Author')], relationships=[Relationship(source=Node(id='Bautista-Martinez, S.', type='Author'), target=Node(id='Education And Counseling', type='Journal'), type='PUBLISHED_IN'), Relationship(source=Node(id='Aguilar-Salinas, C. A.', type='Author'), target=Node(id='Education And Counseling', type='Journal'), type='PUBLISHED_IN'), Relationship(source=Node(id='Lerman, I.', type='Author'), target=Node(id='Education And Counseling', type='Journal'), type='PUBLISHED_IN'), Relationship(source=Node(id='Velasco, R.', type='Author'), target=Node(id='Education And Counseling', type='Journal'), type='PUBLISHED_IN'), Relationship(source=Node(id='Castellanos, E.', type='Author'), target=Node(id='Education And Counseling', type='Journal'), type='PUBLISHED_IN'), Relationship(source=Node(id='Zenteno, E.', type='Author'), target=Node(id='Education And Counseling', type='Journal'), type='PUBLISHED_IN'), Relationship(source=Node(id='Brown, S. A.', type='Author'), target=Node(id='Education And Counseling', type='Journal'), type='PUBLISHED_IN'), Relationship(source=Node(id='Upchurch, S.', type='Author'), target=Node(id='Education And Counseling', type='Journal'), type='PUBLISHED_IN'), Relationship(source=Node(id='Carcia, A. A.', type='Author'), target=Node(id='Education And Counseling', type='Journal'), type='PUBLISHED_IN'), Relationship(source=Node(id='Barton, S. A.', type='Author'), target=Node(id='Education And Counseling', type='Journal'), type='PUBLISHED_IN'), Relationship(source=Node(id='Harüs, C. L.', type='Author'), target=Node(id='Education And Counseling', type='Journal'), type='PUBLISHED_IN'), Relationship(source=Node(id='Caban, A.', type='Author'), target=Node(id='Education And Counseling', type='Journal'), type='PUBLISHED_IN'), Relationship(source=Node(id='Walker, E. A.', type='Author'), target=Node(id='Education And Counseling', type='Journal'), type='PUBLISHED_IN'), Relationship(source=Node(id='Centers For Disease Control And Prevention', type='Organization'), target=Node(id='National Diabetes Fact Sheet', type='Document'), type='PUBLISHED_IN'), Relationship(source=Node(id='Chan, T. C', type='Author'), target=Node(id='Western Journal Of Medicine', type='Journal'), type='PUBLISHED_IN'), Relationship(source=Node(id='Krishel, S. J.', type='Author'), target=Node(id='Western Journal Of Medicine', type='Journal'), type='PUBLISHED_IN'), Relationship(source=Node(id='Bramwell, K. J.', type='Author'), target=Node(id='Western Journal Of Medicine', type='Journal'), type='PUBLISHED_IN'), Relationship(source=Node(id='Clark, R. R', type='Author'), target=Node(id='Western Journal Of Medicine', type='Journal'), type='PUBLISHED_IN'), Relationship(source=Node(id='Coffman, M. J.', type='Author'), target=Node(id='Hispanic Health Care International', type='Journal'), type='PUBLISHED_IN'), Relationship(source=Node(id='Shobe, M. A.', type='Author'), target=Node(id='Hispanic Health Care International', type='Journal'), type='PUBLISHED_IN'), Relationship(source=Node(id='Dmochowski, J.', type='Author'), target=Node(id='Hispanic Health Care International', type='Journal'), type='PUBLISHED_IN'), Relationship(source=Node(id='Fox, S D.', type='Author'), target=Node(id='Hispanic Health Care International', type='Journal'), type='PUBLISHED_IN'), Relationship(source=Node(id='Denavas-Walt, C', type='Author'), target=Node(id='U.S. Census Bureau', type='Organization'), type='PUBLISHED_IN'), Relationship(source=Node(id='Proctor, B. D.', type='Author'), target=Node(id='U.S. Census Bureau', type='Organization'), type='PUBLISHED_IN'), Relationship(source=Node(id='Lee, C. H.', type='Author'), target=Node(id='U.S. Census Bureau', type='Organization'), type='PUBLISHED_IN'), Relationship(source=Node(id='Diamond, E. L.', type='Author'), target=Node(id='Health Psychology', type='Journal'), type='PUBLISHED_IN'), Relationship(source=Node(id='Massey, K. L.', type='Author'), target=Node(id='Health Psychology', type='Journal'), type='PUBLISHED_IN'), Relationship(source=Node(id='Covey, D.', type='Author'), target=Node(id='Health Psychology', type='Journal'), type='PUBLISHED_IN'), Relationship(source=Node(id='Dodd, M.', type='Author'), target=Node(id='Health Psychology', type='Journal'), type='PUBLISHED_IN')], source=Document(metadata={'source': '/content/drive/MyDrive/refined/20121CoffmanNortonBeene.txt'}, page_content=' Education and Counseling, 38(1), 33-42.\\nBautista-Martinez, S., Aguilar-Salinas, C. A., Lerman, I., Velasco, R.,\\nCastellanos, E., Zenteno, E., et al. (1999). Diabetes knowledge and\\nits determinants in a Mexican population. The Diabetes Educator,\\n25(3), 374-381.\\nBrown, S. A., Upchurch, S., Carcia, A. A., Barton, S. A., & Harüs, C. L.\\n(1998). Symptom-related self-care of Mexican Americans with NI-\\nDDM: Preliminary findings of the Starr County Diabetes Education\\nStudy. The Diabetes Educator, 24(3), 331-339.\\nCaban, A., & Walker, E. A. (2006). A systematic review of research on\\nculturally relevant issues for Hispanics with diabetes. The Diabetes\\nEducator, 32(4), 584-595.\\nCenters for Disease Control and Prevention. (2011). National Diabetes\\nFact Sheet: National Estimates and General Information on Diabetes\\nand Pre-Diabetes in the United States. Accessed October 31, 2011.\\nRetrieved from http://www.cdc.gov/diabetes/pubs\\nChan, T. C, Krishel, S. J., Bramwell, K. J., & Clark, R. R (1996). Survey\\nof illegal immigrants seen in an emergency department. Western\\nJournal of \\nMedicine, 164, 212-216.\\nCoffman, M. J., Shobe, M. A., Dmochowski, J., & Fox, S D. (2007).\\nHealth care access and utilization among Latino immigrants. His-\\npanic Health Care International, 5(2), 73-80.\\nDeNavas-Walt, C, Proctor, B. D., & Lee, C. H. (2005). Income, poverty,\\nand health\\ninsurance coverage in the U.S.: 2004 (P60-229J. Washington, DC: U.S.\\nCensus Bureau.\\nDiamond, E. L., Massey, K. L. & Covey, D. (1989). Symptoms awareness\\nand blood glucose estimation in diabetic adults. Health Psychology,\\n8(1), 15-26\\nDodd, M., Janson, S')),\n",
              " GraphDocument(nodes=[Node(id='Diabetic Adults', type='Health psychology'), Node(id='Dodd, M.', type='Journal'), Node(id='Janson, S.', type='Journal'), Node(id='Facione, N.', type='Journal'), Node(id='Fawcett, J.', type='Journal'), Node(id='Froelicher. E. S.', type='Journal'), Node(id='Humphreys. T.', type='Journal'), Node(id='Doty, M. M.', type='Journal'), Node(id='Holmgren, A. L.', type='Journal'), Node(id='Garcia, A. A.', type='Journal'), Node(id='Villagomez, E.', type='Journal'), Node(id='Brown, S. A.', type='Journal'), Node(id='Kouzekanani, K.', type='Journal'), Node(id='Hanis, C.', type='Journal'), Node(id='Gazmararian, J. A.', type='Journal'), Node(id='Williams, M. V', type='Journal'), Node(id='Peel, J.', type='Journal'), Node(id='Baker, D.', type='Journal'), Node(id='Larkey, L. K.', type='Journal'), Node(id='Hecht, M. L.', type='Journal'), Node(id='Miller, K.', type='Journal'), Node(id='Alatorre, C.', type='Journal'), Node(id='National Center For Health Statistics', type='Journal'), Node(id='Nelson, K. M.', type='Journal'), Node(id='Chapko, M. K.', type='Journal'), Node(id='Reiber, G.', type='Journal'), Node(id='Boyko, E. J.', type='Journal')], relationships=[Relationship(source=Node(id='Diabetic Adults', type='Health psychology'), target=Node(id='Dodd, M.', type='Journal'), type='PUBLICATION'), Relationship(source=Node(id='Diabetic Adults', type='Health psychology'), target=Node(id='Doty, M. M.', type='Journal'), type='PUBLICATION'), Relationship(source=Node(id='Diabetic Adults', type='Health psychology'), target=Node(id='Garcia, A. A.', type='Journal'), type='PUBLICATION'), Relationship(source=Node(id='Garcia, A. A.', type='Journal'), target=Node(id='Villagomez, E.', type='Journal'), type='COLLABORATION'), Relationship(source=Node(id='Garcia, A. A.', type='Journal'), target=Node(id='Brown, S. A.', type='Journal'), type='COLLABORATION'), Relationship(source=Node(id='Garcia, A. A.', type='Journal'), target=Node(id='Kouzekanani, K.', type='Journal'), type='COLLABORATION'), Relationship(source=Node(id='Garcia, A. A.', type='Journal'), target=Node(id='Hanis, C.', type='Journal'), type='COLLABORATION'), Relationship(source=Node(id='Doty, M. M.', type='Journal'), target=Node(id='Holmgren, A. L.', type='Journal'), type='COLLABORATION'), Relationship(source=Node(id='Gazmararian, J. A.', type='Journal'), target=Node(id='Williams, M. V', type='Journal'), type='COLLABORATION'), Relationship(source=Node(id='Gazmararian, J. A.', type='Journal'), target=Node(id='Peel, J.', type='Journal'), type='COLLABORATION'), Relationship(source=Node(id='Gazmararian, J. A.', type='Journal'), target=Node(id='Baker, D.', type='Journal'), type='COLLABORATION'), Relationship(source=Node(id='Larkey, L. K.', type='Journal'), target=Node(id='Hecht, M. L.', type='Journal'), type='COLLABORATION'), Relationship(source=Node(id='Larkey, L. K.', type='Journal'), target=Node(id='Miller, K.', type='Journal'), type='COLLABORATION'), Relationship(source=Node(id='Larkey, L. K.', type='Journal'), target=Node(id='Alatorre, C.', type='Journal'), type='COLLABORATION'), Relationship(source=Node(id='National Center For Health Statistics', type='Journal'), target=Node(id='Nelson, K. M.', type='Journal'), type='PUBLICATION'), Relationship(source=Node(id='Nelson, K. M.', type='Journal'), target=Node(id='Chapko, M. K.', type='Journal'), type='COLLABORATION'), Relationship(source=Node(id='Nelson, K. M.', type='Journal'), target=Node(id='Reiber, G.', type='Journal'), type='COLLABORATION'), Relationship(source=Node(id='Nelson, K. M.', type='Journal'), target=Node(id='Boyko, E. J.', type='Journal'), type='COLLABORATION')], source=Document(metadata={'source': '/content/drive/MyDrive/refined/20121CoffmanNortonBeene.txt'}, page_content=' diabetic adults. Health Psychology,\\n8(1), 15-26\\nDodd, M., Janson, S., Facione, N., Fawcett, J., Froelicher. E. S.. Hum-\\nphreys. T.. et al. (2001). Advancing the science of symptom manage-\\nment. Journal of Advanced Nursing, 33(5), 668-676.\\nDoty, M. M., & Holmgren, A. L. (2006). Health care disconnect: Gaps\\nin coverage and care for minority adults. The Commonwealth Fund.\\nRetrieved on August 15, 2006 from http:/ / www.cmwf.org/usr_\\ndoc/941_Doty_hIt_care_disconnect_disparities_issue_bri.pdf.\\nGarcia, A. A. (2005). S)imptom prevalence and treatments among\\nMexican Americans with type 2 diabetes. The Diabetes Educator,\\n31(4), 543-554.\\nGarcia, A. A., Villagomez, E., Brown, S. A., Kouzekanani, K. & Hanis,\\nC. (2001). Development of the Spanish-language diabetes knowl-\\nedge questionnaire. Diabetes Care, 24(1), 16-21.\\nGazmararian, J. A., Williams, M. V, Peel, J. & Baker, D. (2003). Health\\nUteracy and knowledge of chronic disease. Patient Education and\\nCounseling, 51, 267-275.\\nLarkey, L. K., Hecht, M. L., Miller, K., & Alatorre, C. (2001). Hispanic\\ncultural norms for health-seeking behaviors in the face of symp-\\ntoms. Health Education & Behavior, 28(1), 65-80\\nNational Center for Health Statistics. (2006). Health, United States, 2006,\\nwith chartbook on trends in the health of Americans (DHHS Publication\\nNo. ADM 76-641496). Washington, DC: U.S. Government Printing\\nOffice.\\nNelson, K. M., Chapko, M. K., Reiber, G., & Boyko, E. J. (2005). The\\nassociation between health insurance coverage and diabetes care:\\nData from the 2000 Behavioral Risk Factor Surveillance Survey.\\nHealth Services Research,')),\n",
              " GraphDocument(nodes=[Node(id='Health Insurance Coverage', type='Concept'), Node(id='Diabetes Care', type='Concept'), Node(id='2000 Behavioral Risk Factor Surveillance Survey', type='Publication'), Node(id='Health Services Research', type='Publication'), Node(id='Nielson-Bohlman, L., Panzer, A., & Kindig, D', type='Publication'), Node(id='Nurss, J. R., Parker, R. M., Williams, M. V., & Baker, D. W.', type='Publication'), Node(id='Toflha, Test Of Functional Health Literacy In Adults', type='Publication'), Node(id=\"O'Connell, K. A., Hamera, E. K., Knapp, T. M., Cassmeyer, V. L., Eaks, G. A., & Fox, M. A.\", type='Publication'), Node(id=\"O'Connell, K.A., Hamera, E.K., Schorfheide, A., & Guthrie, D.\", type='Publication'), Node(id='Paasche-Orlow, M. K., Parker, R. M., Gazmararian, J. A., Nielson-Bohl-Man, L. T., & Rudd, R. R.', type='Publication'), Node(id='Phinney, A., & Wallhagen, M.', type='Publication'), Node(id='Rohlfling, C. L., Littie, R. R., Wiedmeyer, H., England, J. D., Madsen, R., Harris, M. I., Et Al.', type='Publication'), Node(id='Rothman, R. L., Malone, R., Bryant, B., Wolfe, C, Padgett, P, Dewalt.', type='Publication')], relationships=[Relationship(source=Node(id='Health Insurance Coverage', type='Concept'), target=Node(id='Diabetes Care', type='Concept'), type='RELATION'), Relationship(source=Node(id='2000 Behavioral Risk Factor Surveillance Survey', type='Publication'), target=Node(id='Health Insurance Coverage', type='Concept'), type='MENTIONS'), Relationship(source=Node(id='2000 Behavioral Risk Factor Surveillance Survey', type='Publication'), target=Node(id='Diabetes Care', type='Concept'), type='MENTIONS'), Relationship(source=Node(id='Health Services Research', type='Publication'), target=Node(id='Nielson-Bohlman, L., Panzer, A., & Kindig, D', type='Publication'), type='CITATION'), Relationship(source=Node(id='Nurss, J. R., Parker, R. M., Williams, M. V., & Baker, D. W.', type='Publication'), target=Node(id='Toflha, Test Of Functional Health Literacy In Adults', type='Publication'), type='MENTIONS'), Relationship(source=Node(id=\"O'Connell, K. A., Hamera, E. K., Knapp, T. M., Cassmeyer, V. L., Eaks, G. A., & Fox, M. A.\", type='Publication'), target=Node(id='Symptom Use And Self-Regulation In Type N Diabetes', type='Publication'), type='CITATION'), Relationship(source=Node(id=\"O'Connell, K.A., Hamera, E.K., Schorfheide, A., & Guthrie, D.\", type='Publication'), target=Node(id='Symptom Beliefs And Actual Blood Glucose In Type Ii Diabetes', type='Publication'), type='CITATION'), Relationship(source=Node(id='Paasche-Orlow, M. K., Parker, R. M., Gazmararian, J. A., Nielson-Bohl-Man, L. T., & Rudd, R. R.', type='Publication'), target=Node(id='The Prevalence Of Limited Health Literacy', type='Publication'), type='CITATION'), Relationship(source=Node(id='Phinney, A., & Wallhagen, M.', type='Publication'), target=Node(id='Recognizing And Understanding The Symptoms Of Type 2 Diabetes', type='Publication'), type='CITATION'), Relationship(source=Node(id='Rohlfling, C. L., Littie, R. R., Wiedmeyer, H., England, J. D., Madsen, R., Harris, M. I., Et Al.', type='Publication'), target=Node(id='Use Of Ghb (Hbalc) In Screening For Undiagnosed Diabetes In The U.S. Population', type='Publication'), type='CITATION'), Relationship(source=Node(id='Rothman, R. L., Malone, R., Bryant, B., Wolfe, C, Padgett, P, Dewalt.', type='Publication'), target=Node(id='Unknown', type='Unknown'), type='CITATION')], source=Document(metadata={'source': '/content/drive/MyDrive/refined/20121CoffmanNortonBeene.txt'}, page_content=' between health insurance coverage and diabetes care:\\nData from the 2000 Behavioral Risk Factor Surveillance Survey.\\nHealth Services Research, 40(2), 361-372.\\nNielson-Bohlman, L., Panzer, A., & Kindig, D (2005). Health literacy: A\\nprescription to end confusion. Washington DC: National Academies\\nPress.\\nNurss, J. R., Parker, R. M., Williams, M. V., & Baker, D. W. (1995).\\nTOFLHA, Test of Functional Health Literacy in Adults. (2\"\\'\\' Ed.). Snow\\nCamp, NC: Peppercorn Books.\\nO\\'Connell, K. A., Hamera, E. K., Knapp, T. M., Cassmeyer, V. L., Eaks,\\nG. A., & Fox, M. A. (1984). Symptom use and self-regulation in type\\nn diabetes. Advances in Nursing Science, 6(3), 19-28.\\nO\\'Connell, K.A., Hamera, E.K., Schorfheide, A., & Guthrie, D. (1990).\\nSymptom beliefs and actual blood glucose in Type II diabetes.\\nResearch in Nursing and Health, 13(3), 145-151.\\nPaasche-Orlow, M. K., Parker, R. M., Gazmararian, J. A., Nielson-Bohl-\\nman, L. T., & Rudd, R. R. (2005). The prevalence of limited health\\nliteracy. Journals of General Internal Medicine, 20, 175-184.\\nPhinney, A., & Wallhagen, M. (2003). Recognizing and understand-\\ning the symptoms of type 2 diabetes. Clinical Journal of Nursing\\nResearch, 35(4), 108-124.\\nRohlfling, C. L., Littie, R. R., Wiedmeyer, H., England, J. D., Madsen,\\nR., Harris, M. I., et al. (2000). Use of Ghb (HbAlc) in screening for\\nundiagnosed diabetes in the U.S. population. Diabetes Care, 23(2),\\n187-191.\\nRothman, R. L., Malone, R., Bryant, B., Wolfe, C, Padgett, P, DeWalt.\\nD.A.')),\n",
              " GraphDocument(nodes=[Node(id='Bryant', type='Person'), Node(id='Wolfe', type='Person'), Node(id='Padgett', type='Person'), Node(id='Dewalt', type='Person'), Node(id='Schillinger', type='Person'), Node(id='Grumbach', type='Person'), Node(id='Piette', type='Person'), Node(id='Wang', type='Person'), Node(id='Osmond', type='Person'), Node(id='Daher', type='Person'), Node(id='Teel', type='Person'), Node(id='Meek', type='Person'), Node(id='Mcnamara', type='Person'), Node(id='Watson', type='Person'), Node(id='Wiluams', type='Person'), Node(id='Baker', type='Person'), Node(id='Parker', type='Person'), Node(id='Nurss', type='Person'), Node(id='Brooks', type='Person'), Node(id='Caddell', type='Person'), Node(id='Sigma Theta Tan Gamma Iota', type='Organization'), Node(id='University Of North Carolina At Charlotte', type='Organization'), Node(id='Journal Of Cultural Diversity', type='Journal'), Node(id='Tucker Publications, Inc.', type='Organization')], relationships=[Relationship(source=Node(id='D.A. Et Al.', type='Person'), target=Node(id='Bryant', type='Person'), type='AUTHOR'), Relationship(source=Node(id='D.A. Et Al.', type='Person'), target=Node(id='Wolfe', type='Person'), type='AUTHOR'), Relationship(source=Node(id='D.A. Et Al.', type='Person'), target=Node(id='Padgett', type='Person'), type='AUTHOR'), Relationship(source=Node(id='D.A. Et Al.', type='Person'), target=Node(id='Dewalt', type='Person'), type='AUTHOR'), Relationship(source=Node(id='Schillinger', type='Person'), target=Node(id='Grumbach', type='Person'), type='COLLABORATOR'), Relationship(source=Node(id='Schillinger', type='Person'), target=Node(id='Piette', type='Person'), type='COLLABORATOR'), Relationship(source=Node(id='Schillinger', type='Person'), target=Node(id='Wang', type='Person'), type='COLLABORATOR'), Relationship(source=Node(id='Schillinger', type='Person'), target=Node(id='Osmond', type='Person'), type='COLLABORATOR'), Relationship(source=Node(id='Schillinger', type='Person'), target=Node(id='Daher', type='Person'), type='COLLABORATOR'), Relationship(source=Node(id='Schillinger', type='Person'), target=Node(id='Piette', type='Person'), type='COLLABORATOR'), Relationship(source=Node(id='Teel', type='Person'), target=Node(id='Meek', type='Person'), type='COLLABORATOR'), Relationship(source=Node(id='Teel', type='Person'), target=Node(id='Mcnamara', type='Person'), type='COLLABORATOR'), Relationship(source=Node(id='Teel', type='Person'), target=Node(id='Watson', type='Person'), type='COLLABORATOR'), Relationship(source=Node(id='Wiluams', type='Person'), target=Node(id='Baker', type='Person'), type='COLLABORATOR'), Relationship(source=Node(id='Wiluams', type='Person'), target=Node(id='Parker', type='Person'), type='COLLABORATOR'), Relationship(source=Node(id='Wiluams', type='Person'), target=Node(id='Nurss', type='Person'), type='COLLABORATOR'), Relationship(source=Node(id='University Of North Carolina At Charlotte', type='Organization'), target=Node(id='Brooks', type='Person'), type='FUNDER'), Relationship(source=Node(id='University Of North Carolina At Charlotte', type='Organization'), target=Node(id='Caddell', type='Person'), type='FUNDER'), Relationship(source=Node(id='Caddell', type='Person'), target=Node(id='Sigma Theta Tan Gamma Iota', type='Organization'), type='AWARD'), Relationship(source=Node(id='Journal Of Cultural Diversity', type='Journal'), target=Node(id='Tucker Publications, Inc.', type='Organization'), type='COPYRIGHT')], source=Document(metadata={'source': '/content/drive/MyDrive/refined/20121CoffmanNortonBeene.txt'}, page_content=\"., Bryant, B., Wolfe, C, Padgett, P, DeWalt.\\nD.A. et al. (2006). The Spoken Knowledge in Low Literacy in Dia-\\nbetes Scale: A diabetes knowledge scale for vulnerable patients. The\\nDiabetes Educator, 31(2), 215-224.\\nSchillinger, D., Grumbach, K., Piette, J., Wang, R, Osmond, D., Daher,\\nC, et al. (2002). Association of health Uteracy with diabetes out-\\ncomes. JAMA, 288(4), 475-482.\\nSchillinger, D., Piette, J., Grumbach, K., Wang, R, Wilson, C, Daher,\\nC, et al. (2003). Closing the loop: Physician communication with\\ndiabetic patients who have low health Uteracy. Archives of Internal\\nMedicine, 163(1), 83-90.\\nTeel, C. S., Meek, P., McNamara, A. M. & Watson, L. (1997). Perspec-\\ntives unifying symptom interpretation. Image: Journal of Nursing\\nScholarship, 29(2), 175-181.\\nWilUams, M. V, Baker, D. W., Parker, R. M., & Nurss, J. R. (1998).\\nRelationship of functional health Uteracy to patients' knowledge\\nof their chronic disease. A study of patients with hypertension and\\ndiabetes. Archives of Internal Medicine, 158(2), 166-172.\\nThis work was supported by funds provided by the University\\nof North Carolina at Charlotte, Elinor Brooks Caddell Faculty\\nScholar Award, and Sigma Theta Tan Gamma Iota chapter.\\nJournal of Cultural Diversity • Vol. 19, No. 1\\nSpring 2012\\nCopyright of Journal of Cultural Diversity is the property of Tucker Publications, Inc. and its content may not\\nbe copied or emailed to multiple sites or posted to a listserv without the copyright holder's express written\\npermission. However, users may print, download, or email articles for individual use.\\nView publication stats\\n\")),\n",
              " GraphDocument(nodes=[Node(id='Continuous Glucose Monitor', type='Device'), Node(id='Insulin Pump', type='Device'), Node(id='Automated Insulin', type='Device'), Node(id='Cardiovascular Benefits', type='Benefit')], relationships=[Relationship(source=Node(id='Continuous Glucose Monitor', type='Device'), target=Node(id='Cardiovascular Benefits', type='Benefit'), type='POTENTIAL_FOR'), Relationship(source=Node(id='Insulin Pump', type='Device'), target=Node(id='Cardiovascular Benefits', type='Benefit'), type='POTENTIAL_FOR'), Relationship(source=Node(id='Automated Insulin', type='Device'), target=Node(id='Cardiovascular Benefits', type='Benefit'), type='POTENTIAL_FOR')], source=Document(metadata={'source': '/content/drive/MyDrive/refined/insulin.txt'}, page_content='31/07/2024, 5:31\\u202fPM\\nContinuous Glucose Monitor, Insulin Pump, and Automated Insulin …date on Potential for Cardiovascular Benefits | Enhanced Reader\\nPage 1 of 15\\nsafari-web-extension://728EDE69-9EFB-412C-90F7-8DC92B504B66…ger.com%2Fcontent%2Fpdf%2F10.1007%2Fs11886-022-01799-x.pdf\\n31/07/2024, 5:31\\u202fPM\\nContinuous Glucose Monitor, Insulin Pump, and Automated Insulin …date on Potential for Cardiovascular Benefits | Enhanced Reader\\nPage 2 of 15\\nsafari-web-extension://728EDE69-9EFB-412C-90F7-8DC92B504B66…ger.com%2Fcontent%2Fpdf%2F10.1007%2Fs11886-022-01799-x.pdf\\n31/07/2024, 5:31\\u202fPM\\nContinuous Glucose Monitor, Insulin Pump, and Automated Insulin …date on Potential for Cardiovascular Benefits | Enhanced Reader\\nPage 3 of 15\\nsafari-web-extension://728EDE69-9EFB-412C-90F7-8DC92B504B66…ger.com%2Fcontent%2Fpdf%2F10.1007%2Fs11886-022-01799-x.pdf\\n31/07/2024, 5:31\\u202fPM\\nContinuous Glucose Monitor, Insulin Pump, and Automated Insulin …date on Potential for Cardiovascular Benefits | Enhanced Reader\\nPage 4 of 15\\nsafari-web-extension://728EDE69-9EFB-412C-90F7-8DC92B504B66…ger.com%2Fcontent%2Fpdf%2F10.1007%2Fs11886-022-01799-x.pdf\\n31/07/2024, 5:31\\u202fPM\\nContinuous Glucose Monitor, Insulin Pump, and Automated Insulin …date on Potential for Cardiovascular Benefits | Enhanced Reader\\nPage 5 of 15\\nsafari-web-extension://728EDE69-9EFB-412C-90')),\n",
              " GraphDocument(nodes=[Node(id='Continuous Glucose Monitor', type='Device'), Node(id='Insulin Pump', type='Device'), Node(id='Automated Insulin', type='Device'), Node(id='Potential For Cardiovascular Benefits', type='Concept')], relationships=[Relationship(source=Node(id='Continuous Glucose Monitor', type='Device'), target=Node(id='Potential For Cardiovascular Benefits', type='Concept'), type='POTENTIAL_BENEFITS'), Relationship(source=Node(id='Insulin Pump', type='Device'), target=Node(id='Potential For Cardiovascular Benefits', type='Concept'), type='POTENTIAL_BENEFITS'), Relationship(source=Node(id='Automated Insulin', type='Device'), target=Node(id='Potential For Cardiovascular Benefits', type='Concept'), type='POTENTIAL_BENEFITS')], source=Document(metadata={'source': '/content/drive/MyDrive/refined/insulin.txt'}, page_content=' of 15\\nsafari-web-extension://728EDE69-9EFB-412C-90F7-8DC92B504B66…ger.com%2Fcontent%2Fpdf%2F10.1007%2Fs11886-022-01799-x.pdf\\n31/07/2024, 5:31\\u202fPM\\nContinuous Glucose Monitor, Insulin Pump, and Automated Insulin …date on Potential for Cardiovascular Benefits | Enhanced Reader\\nPage 6 of 15\\nsafari-web-extension://728EDE69-9EFB-412C-90F7-8DC92B504B66…ger.com%2Fcontent%2Fpdf%2F10.1007%2Fs11886-022-01799-x.pdf\\n31/07/2024, 5:31\\u202fPM\\nContinuous Glucose Monitor, Insulin Pump, and Automated Insulin …date on Potential for Cardiovascular Benefits | Enhanced Reader\\nPage 7 of 15\\nsafari-web-extension://728EDE69-9EFB-412C-90F7-8DC92B504B66…ger.com%2Fcontent%2Fpdf%2F10.1007%2Fs11886-022-01799-x.pdf\\n31/07/2024, 5:31\\u202fPM\\nContinuous Glucose Monitor, Insulin Pump, and Automated Insulin …date on Potential for Cardiovascular Benefits | Enhanced Reader\\nPage 8 of 15\\nsafari-web-extension://728EDE69-9EFB-412C-90F7-8DC92B504B66…ger.com%2Fcontent%2Fpdf%2F10.1007%2Fs11886-022-01799-x.pdf\\n31/07/2024, 5:31\\u202fPM\\nContinuous Glucose Monitor, Insulin Pump, and Automated Insulin …date on Potential for Cardiovascular Benefits | Enhanced Reader\\nPage 9 of 15\\nsafari-web-extension://728EDE69-9EFB-412C-90F7-8DC92B504B66…ger.com%2Fcontent%2Fpdf%2F10.1007%2Fs11886-022-01799-x.pdf\\n31')),\n",
              " GraphDocument(nodes=[Node(id='Continuous Glucose Monitor', type='Device'), Node(id='Insulin Pump', type='Device'), Node(id='Automated Insulin', type='Device'), Node(id='Potential For Cardiovascular Benefits', type='Concept')], relationships=[Relationship(source=Node(id='Continuous Glucose Monitor', type='Device'), target=Node(id='Potential For Cardiovascular Benefits', type='Concept'), type='POTENTIAL_BENEFITS'), Relationship(source=Node(id='Insulin Pump', type='Device'), target=Node(id='Potential For Cardiovascular Benefits', type='Concept'), type='POTENTIAL_BENEFITS'), Relationship(source=Node(id='Automated Insulin', type='Device'), target=Node(id='Potential For Cardiovascular Benefits', type='Concept'), type='POTENTIAL_BENEFITS')], source=Document(metadata={'source': '/content/drive/MyDrive/refined/insulin.txt'}, page_content='Fpdf%2F10.1007%2Fs11886-022-01799-x.pdf\\n31/07/2024, 5:32\\u202fPM\\nContinuous Glucose Monitor, Insulin Pump, and Automated Insulin …date on Potential for Cardiovascular Benefits | Enhanced Reader\\nPage 10 of 15\\nsafari-web-extension://728EDE69-9EFB-412C-90F7-8DC92B504B6…ger.com%2Fcontent%2Fpdf%2F10.1007%2Fs11886-022-01799-x.pdf\\n31/07/2024, 5:32\\u202fPM\\nContinuous Glucose Monitor, Insulin Pump, and Automated Insulin …date on Potential for Cardiovascular Benefits | Enhanced Reader\\nPage 11 of 15\\nsafari-web-extension://728EDE69-9EFB-412C-90F7-8DC92B504B66…ger.com%2Fcontent%2Fpdf%2F10.1007%2Fs11886-022-01799-x.pdf\\n31/07/2024, 5:32\\u202fPM\\nContinuous Glucose Monitor, Insulin Pump, and Automated Insulin …date on Potential for Cardiovascular Benefits | Enhanced Reader\\nPage 12 of 15\\nsafari-web-extension://728EDE69-9EFB-412C-90F7-8DC92B504B6…ger.com%2Fcontent%2Fpdf%2F10.1007%2Fs11886-022-01799-x.pdf\\n31/07/2024, 5:32\\u202fPM\\nContinuous Glucose Monitor, Insulin Pump, and Automated Insulin …date on Potential for Cardiovascular Benefits | Enhanced Reader\\nPage 13 of 15\\nsafari-web-extension://728EDE69-9EFB-412C-90F7-8DC92B504B6…ger.com%2Fcontent%2Fpdf%2F10.1007%2Fs11886-022-01799-x.pdf\\n31/07/2024, 5:32\\u202fPM\\nContinuous Glucose Monitor, Insulin Pump, and Automated Insulin …date on Potential for Cardiovascular Benefits | Enhanced Reader\\nPage 14 of')),\n",
              " GraphDocument(nodes=[Node(id='Insulin Pump', type='Device'), Node(id='Continuous Glucose Monitor', type='Device'), Node(id='Automated Insulin', type='Device')], relationships=[Relationship(source=Node(id='Continuous Glucose Monitor', type='Device'), target=Node(id='Insulin Pump', type='Device'), type='RELATED_TO'), Relationship(source=Node(id='Automated Insulin', type='Device'), target=Node(id='Insulin Pump', type='Device'), type='RELATED_TO')], source=Document(metadata={'source': '/content/drive/MyDrive/refined/insulin.txt'}, page_content=' Insulin Pump, and Automated Insulin …date on Potential for Cardiovascular Benefits | Enhanced Reader\\nPage 14 of 15\\nsafari-web-extension://728EDE69-9EFB-412C-90F7-8DC92B504B6…ger.com%2Fcontent%2Fpdf%2F10.1007%2Fs11886-022-01799-x.pdf\\n31/07/2024, 5:32\\u202fPM\\nContinuous Glucose Monitor, Insulin Pump, and Automated Insulin …date on Potential for Cardiovascular Benefits | Enhanced Reader\\nPage 15 of 15\\nsafari-web-extension://728EDE69-9EFB-412C-90F7-8DC92B504B6…ger.com%2Fcontent%2Fpdf%2F10.1007%2Fs11886-022-01799-x.pdf\\n')),\n",
              " GraphDocument(nodes=[Node(id='Enhanced Reader', type='Software'), Node(id='Page 1', type='Page'), Node(id='Page 2', type='Page'), Node(id='Page 3', type='Page'), Node(id='Page 4', type='Page'), Node(id='Page 5', type='Page'), Node(id='Page 6', type='Page')], relationships=[Relationship(source=Node(id='Enhanced Reader', type='Software'), target=Node(id='Page 1', type='Page'), type='HAS_PAGE'), Relationship(source=Node(id='Enhanced Reader', type='Software'), target=Node(id='Page 2', type='Page'), type='HAS_PAGE'), Relationship(source=Node(id='Enhanced Reader', type='Software'), target=Node(id='Page 3', type='Page'), type='HAS_PAGE'), Relationship(source=Node(id='Enhanced Reader', type='Software'), target=Node(id='Page 4', type='Page'), type='HAS_PAGE'), Relationship(source=Node(id='Enhanced Reader', type='Software'), target=Node(id='Page 5', type='Page'), type='HAS_PAGE'), Relationship(source=Node(id='Enhanced Reader', type='Software'), target=Node(id='Page 6', type='Page'), type='HAS_PAGE')], source=Document(metadata={'source': '/content/drive/MyDrive/refined/Blood gulocose monitoring.txt'}, page_content='31/07/2024, 5:29\\u202fPM\\nEnhanced Reader\\nPage 1 of 16\\nsafari-web-extension://728EDE69-9EFB-412C-90F7-8DC92B504B6….gov%2Fpmc%2Farticles%2FPMC6712232%2Fpdf%2Fdmj-43-383.pdf\\n31/07/2024, 5:29\\u202fPM\\nEnhanced Reader\\nPage 2 of 16\\nsafari-web-extension://728EDE69-9EFB-412C-90F7-8DC92B504B6….gov%2Fpmc%2Farticles%2FPMC6712232%2Fpdf%2Fdmj-43-383.pdf\\n31/07/2024, 5:29\\u202fPM\\nEnhanced Reader\\nPage 3 of 16\\nsafari-web-extension://728EDE69-9EFB-412C-90F7-8DC92B504B6….gov%2Fpmc%2Farticles%2FPMC6712232%2Fpdf%2Fdmj-43-383.pdf\\n31/07/2024, 5:29\\u202fPM\\nEnhanced Reader\\nPage 4 of 16\\nsafari-web-extension://728EDE69-9EFB-412C-90F7-8DC92B504B6….gov%2Fpmc%2Farticles%2FPMC6712232%2Fpdf%2Fdmj-43-383.pdf\\n31/07/2024, 5:29\\u202fPM\\nEnhanced Reader\\nPage 5 of 16\\nsafari-web-extension://728EDE69-9EFB-412C-90F7-8DC92B504B6….gov%2Fpmc%2Farticles%2FPMC6712232%2Fpdf%2Fdmj-43-383.pdf\\n31/07/2024, 5:29\\u202fPM\\nEnhanced Reader\\nPage 6 of 16\\nsafari-web-extension://728EDE69-9EFB-412C-90F7-8DC92B504B6….gov%2Fpmc%2Farticles%2FPMC6712232%2Fpdf%2')),\n",
              " GraphDocument(nodes=[Node(id='Enhanced Reader', type='Tool'), Node(id='Page 7 Of 16', type='Page'), Node(id='Page 8 Of 16', type='Page'), Node(id='Page 9 Of 16', type='Page'), Node(id='Page 10 Of 16', type='Page'), Node(id='Page 11 Of 16', type='Page'), Node(id='Page 12 Of 16', type='Page')], relationships=[Relationship(source=Node(id='Enhanced Reader', type='Tool'), target=Node(id='Page 7 Of 16', type='Page'), type='HAS_PAGE'), Relationship(source=Node(id='Enhanced Reader', type='Tool'), target=Node(id='Page 8 Of 16', type='Page'), type='HAS_PAGE'), Relationship(source=Node(id='Enhanced Reader', type='Tool'), target=Node(id='Page 9 Of 16', type='Page'), type='HAS_PAGE'), Relationship(source=Node(id='Enhanced Reader', type='Tool'), target=Node(id='Page 10 Of 16', type='Page'), type='HAS_PAGE'), Relationship(source=Node(id='Enhanced Reader', type='Tool'), target=Node(id='Page 11 Of 16', type='Page'), type='HAS_PAGE'), Relationship(source=Node(id='Enhanced Reader', type='Tool'), target=Node(id='Page 12 Of 16', type='Page'), type='HAS_PAGE')], source=Document(metadata={'source': '/content/drive/MyDrive/refined/Blood gulocose monitoring.txt'}, page_content='….gov%2Fpmc%2Farticles%2FPMC6712232%2Fpdf%2Fdmj-43-383.pdf\\n31/07/2024, 5:29\\u202fPM\\nEnhanced Reader\\nPage 7 of 16\\nsafari-web-extension://728EDE69-9EFB-412C-90F7-8DC92B504B6….gov%2Fpmc%2Farticles%2FPMC6712232%2Fpdf%2Fdmj-43-383.pdf\\n31/07/2024, 5:29\\u202fPM\\nEnhanced Reader\\nPage 8 of 16\\nsafari-web-extension://728EDE69-9EFB-412C-90F7-8DC92B504B6….gov%2Fpmc%2Farticles%2FPMC6712232%2Fpdf%2Fdmj-43-383.pdf\\n31/07/2024, 5:29\\u202fPM\\nEnhanced Reader\\nPage 9 of 16\\nsafari-web-extension://728EDE69-9EFB-412C-90F7-8DC92B504B6….gov%2Fpmc%2Farticles%2FPMC6712232%2Fpdf%2Fdmj-43-383.pdf\\n31/07/2024, 5:29\\u202fPM\\nEnhanced Reader\\nPage 10 of 16\\nsafari-web-extension://728EDE69-9EFB-412C-90F7-8DC92B504B….gov%2Fpmc%2Farticles%2FPMC6712232%2Fpdf%2Fdmj-43-383.pdf\\n31/07/2024, 5:29\\u202fPM\\nEnhanced Reader\\nPage 11 of 16\\nsafari-web-extension://728EDE69-9EFB-412C-90F7-8DC92B504B6….gov%2Fpmc%2Farticles%2FPMC6712232%2Fpdf%2Fdmj-43-383.pdf\\n31/07/2024, 5:29\\u202fPM\\nEnhanced Reader\\nPage 12 of 16\\nsafari-web-extension://728EDE69-9EFB-412C-90F')),\n",
              " GraphDocument(nodes=[Node(id='Enhanced Reader', type='Document')], relationships=[Relationship(source=Node(id='Enhanced Reader', type='Document'), target=Node(id='Page 13 Of 16', type='Page'), type='HAS_PAGE'), Relationship(source=Node(id='Enhanced Reader', type='Document'), target=Node(id='Page 14 Of 16', type='Page'), type='HAS_PAGE'), Relationship(source=Node(id='Enhanced Reader', type='Document'), target=Node(id='Page 15 Of 16', type='Page'), type='HAS_PAGE'), Relationship(source=Node(id='Enhanced Reader', type='Document'), target=Node(id='Page 16 Of 16', type='Page'), type='HAS_PAGE')], source=Document(metadata={'source': '/content/drive/MyDrive/refined/Blood gulocose monitoring.txt'}, page_content=' 16\\nsafari-web-extension://728EDE69-9EFB-412C-90F7-8DC92B504B….gov%2Fpmc%2Farticles%2FPMC6712232%2Fpdf%2Fdmj-43-383.pdf\\n31/07/2024, 5:29\\u202fPM\\nEnhanced Reader\\nPage 13 of 16\\nsafari-web-extension://728EDE69-9EFB-412C-90F7-8DC92B504B….gov%2Fpmc%2Farticles%2FPMC6712232%2Fpdf%2Fdmj-43-383.pdf\\n31/07/2024, 5:29\\u202fPM\\nEnhanced Reader\\nPage 14 of 16\\nsafari-web-extension://728EDE69-9EFB-412C-90F7-8DC92B504B….gov%2Fpmc%2Farticles%2FPMC6712232%2Fpdf%2Fdmj-43-383.pdf\\n31/07/2024, 5:29\\u202fPM\\nEnhanced Reader\\nPage 15 of 16\\nsafari-web-extension://728EDE69-9EFB-412C-90F7-8DC92B504B….gov%2Fpmc%2Farticles%2FPMC6712232%2Fpdf%2Fdmj-43-383.pdf\\n31/07/2024, 5:29\\u202fPM\\nEnhanced Reader\\nPage 16 of 16\\nsafari-web-extension://728EDE69-9EFB-412C-90F7-8DC92B504B….gov%2Fpmc%2Farticles%2FPMC6712232%2Fpdf%2Fdmj-43-383.pdf\\n'))]"
            ]
          },
          "metadata": {},
          "execution_count": 30
        }
      ]
    },
    {
      "cell_type": "code",
      "source": [
        "graph.add_graph_documents(\n",
        "    graph_documents,\n",
        "    baseEntityLabel=True,\n",
        "    include_source=True\n",
        ")"
      ],
      "metadata": {
        "id": "ib_g3U1d97th"
      },
      "execution_count": 31,
      "outputs": []
    },
    {
      "cell_type": "code",
      "source": [
        "import pandas as pd\n"
      ],
      "metadata": {
        "id": "163zuCom3X-h"
      },
      "execution_count": 18,
      "outputs": []
    },
    {
      "cell_type": "code",
      "source": [
        "graph"
      ],
      "metadata": {
        "id": "bwSw6ianNz0f",
        "outputId": "b1f10730-a17b-4553-b23e-ffc8b2095e30",
        "colab": {
          "base_uri": "https://localhost:8080/"
        }
      },
      "execution_count": 19,
      "outputs": [
        {
          "output_type": "execute_result",
          "data": {
            "text/plain": [
              "<langchain_community.graphs.neo4j_graph.Neo4jGraph at 0x789ff28d2a70>"
            ]
          },
          "metadata": {},
          "execution_count": 19
        }
      ]
    },
    {
      "cell_type": "code",
      "source": [
        "#Define the prompt for entity extraction\n",
        "class Entities(BaseModel):\n",
        "    \"\"\"Identifying information about entities.\"\"\"\n",
        "    names: List[str] = Field(\n",
        "        ..., description=\"Entities that appear in the text\",\n",
        "    )\n",
        "\n",
        "prompt = ChatPromptTemplate.from_messages(\n",
        "    [\n",
        "        (\n",
        "            \"system\",\n",
        "            \"You are extracting entities related to the given text.\",\n",
        "        ),\n",
        "        (\n",
        "            \"human\",\n",
        "            \"Use the given format to extract information from the following input: {question}\",\n",
        "        ),\n",
        "    ]\n",
        ")\n",
        "\n",
        "entity_chain = prompt | llm.with_structured_output(Entities)\n",
        "\n",
        "def generate_full_text_query(input: str) -> str:\n",
        "    full_text_query = \"\"\n",
        "    words = [el for el in remove_lucene_chars(input).split() if el]\n",
        "    for word in words[:-1]:\n",
        "        full_text_query += f\" {word}~2 AND\"\n",
        "    full_text_query += f\" {words[-1]}~2\"\n",
        "    return full_text_query.strip()\n",
        "\n",
        "# Read questions from the Excel file\n",
        "questions_df = pd.read_excel('/content/drive/MyDrive/refined/RAGTest.xlsx')  # Replace with your file path\n",
        "questions = questions_df['Question'].tolist()\n",
        "\n",
        "# Prepare a list to store generated answers\n",
        "generated_answers = []\n",
        "\n",
        "# Generate answers for each question\n",
        "for question in questions:\n",
        "    entities = entity_chain.invoke({\"question\": question}).names\n",
        "    answer = \"\"\n",
        "    for entity in entities:\n",
        "        response = graph.query(\n",
        "            \"\"\"CALL db.index.fulltext.queryNodes('entity', $query, {limit:2})\n",
        "            YIELD node,score\n",
        "            CALL {\n",
        "              WITH node\n",
        "              MATCH (node)-[r:!MENTIONS]->(neighbor)\n",
        "              RETURN node.id + ' - ' + type(r) + ' -> ' + neighbor.id AS output\n",
        "              UNION ALL\n",
        "              WITH node\n",
        "              MATCH (node)<-[r:!MENTIONS]-(neighbor)\n",
        "              RETURN neighbor.id + ' - ' + type(r) + ' -> ' +  node.id AS output\n",
        "            }\n",
        "            RETURN output LIMIT 50\n",
        "            \"\"\",\n",
        "            {\"query\": generate_full_text_query(entity)},\n",
        "        )\n",
        "        answer += \"\\n\".join([el['output'] for el in response])\n",
        "    generated_answers.append(answer)\n",
        "\n",
        "# Write generated answers back to the Excel file\n",
        "questions_df['Generated Answer'] = generated_answers\n",
        "questions_df.to_excel('/content/drive/MyDrive/refined/questions_with_answers.xlsx', index=False)\n",
        "\n",
        "# Optionally, compare generated answers with human-generated responses\n",
        "human_answers = questions_df['Human Answer'].tolist()\n",
        "questions_df['Accuracy'] = questions_df.apply(lambda row: 1 if row['Generated Answer'] == row['Human Answer'] else 0, axis=1)\n",
        "accuracy = questions_df['Accuracy'].mean()\n",
        "\n",
        "print(f\"Accuracy of generated answers: {accuracy * 100:.2f}%\")"
      ],
      "metadata": {
        "colab": {
          "base_uri": "https://localhost:8080/"
        },
        "id": "7ChALiJ20Zv9",
        "outputId": "7def954a-e425-467d-ec51-5ba75279930a"
      },
      "execution_count": 65,
      "outputs": [
        {
          "output_type": "stream",
          "name": "stdout",
          "text": [
            "Accuracy of generated answers: 0.00%\n"
          ]
        }
      ]
    },
    {
      "cell_type": "code",
      "source": [
        "import pandas as pd\n",
        "from langchain_core.pydantic_v1 import BaseModel, Field\n",
        "from langchain_core.prompts import ChatPromptTemplate\n",
        "from langchain_openai import ChatOpenAI\n",
        "from langchain_experimental.graph_transformers import LLMGraphTransformer\n",
        "from langchain_community.vectorstores.neo4j_vector import remove_lucene_chars\n",
        "\n",
        "# Define the prompt for entity extraction\n",
        "class Entities(BaseModel):\n",
        "    \"\"\"Identifying information about entities.\"\"\"\n",
        "    names: List[str] = Field(\n",
        "        ..., description=\"Entities that appear in the text\",\n",
        "    )\n",
        "\n",
        "# Initialize your LLM\n",
        "llm = ChatOpenAI(temperature=0, model_name=\"gpt-3.5-turbo-0125\")\n",
        "\n",
        "# Define the prompt template for extracting entities\n",
        "prompt = ChatPromptTemplate.from_messages(\n",
        "    [\n",
        "        (\"system\", \"You are extracting entities related to the given text.\"),\n",
        "        (\"human\", \"Use the given format to extract information from the following input: {question}\"),\n",
        "    ]\n",
        ")\n",
        "\n",
        "# Create an entity chain using the LLM\n",
        "entity_chain = prompt | llm.with_structured_output(Entities)\n",
        "\n",
        "def generate_full_text_query(input: str) -> str:\n",
        "    words = [el for el in remove_lucene_chars(input).split() if el]\n",
        "    if not words:\n",
        "        return \"\"\n",
        "    full_text_query = \" AND \".join([f\"{word}~2\" for word in words])\n",
        "    return full_text_query.strip()\n",
        "\n",
        "# Read questions from the Excel file\n",
        "questions_df = pd.read_excel('/content/drive/MyDrive/refined/RAGTest.xlsx')  # Replace with your file path\n",
        "questions = questions_df['Question'].tolist()\n",
        "\n",
        "# Prepare a list to store generated answers\n",
        "generated_answers = []\n",
        "\n",
        "# Generate answers for each question\n",
        "for question in questions:\n",
        "    # Extract entities related to the question\n",
        "    entities = entity_chain.invoke({\"question\": question}).names\n",
        "    answer = \"\"\n",
        "    for entity in entities:\n",
        "        # Query the graph for each entity\n",
        "        response = graph.query(\n",
        "            \"\"\"CALL db.index.fulltext.queryNodes('entity', $query, {limit:2})\n",
        "            YIELD node,score\n",
        "            CALL {\n",
        "              WITH node\n",
        "              MATCH (node)-[r:!MENTIONS]->(neighbor)\n",
        "              RETURN node.id + ' - ' + type(r) + ' -> ' + neighbor.id AS output\n",
        "              UNION ALL\n",
        "              WITH node\n",
        "              MATCH (node)<-[r:!MENTIONS]-(neighbor)\n",
        "              RETURN neighbor.id + ' - ' + type(r) + ' -> ' +  node.id AS output\n",
        "            }\n",
        "            RETURN output LIMIT 50\n",
        "            \"\"\",\n",
        "            {\"query\": generate_full_text_query(entity)},\n",
        "        )\n",
        "        # Join results into a single answer string\n",
        "        answer += \"\\n\".join([el['output'] for el in response])\n",
        "    generated_answers.append(answer or \"No relevant information found.\")\n",
        "\n",
        "# Write generated answers back to the Excel file\n",
        "questions_df['Generated Answer'] = generated_answers\n",
        "questions_df.to_excel('/content/drive/MyDrive/refined/questions_with_answers.xlsx', index=False)\n",
        "\n",
        "# Optionally, compare generated answers with human-generated responses\n",
        "if 'Human Answer' in questions_df.columns:\n",
        "    human_answers = questions_df['Human Answer'].tolist()\n",
        "    questions_df['Accuracy'] = questions_df.apply(\n",
        "        lambda row: 1 if row['Generated Answer'].strip() == row['Human Answer'].strip() else 0,\n",
        "        axis=1\n",
        "    )\n",
        "    accuracy = questions_df['Accuracy'].mean()\n",
        "    print(f\"Accuracy of generated answers: {accuracy * 100:.2f}%\")\n",
        "else:\n",
        "    print(\"Human Answer column not found in the Excel file.\")\n"
      ],
      "metadata": {
        "colab": {
          "base_uri": "https://localhost:8080/"
        },
        "id": "zI6Sttwp4_CN",
        "outputId": "100825bb-b386-4a7a-804e-cac44df8299a"
      },
      "execution_count": 67,
      "outputs": [
        {
          "output_type": "stream",
          "name": "stdout",
          "text": [
            "Accuracy of generated answers: 0.00%\n"
          ]
        }
      ]
    },
    {
      "cell_type": "code",
      "source": [
        "import pandas as pd\n",
        "from typing import List, Tuple\n",
        "from langchain_core.pydantic_v1 import BaseModel, Field\n",
        "from langchain_core.prompts import ChatPromptTemplate\n",
        "from langchain_openai import ChatOpenAI\n",
        "from langchain_experimental.graph_transformers import LLMGraphTransformer\n",
        "from langchain_community.vectorstores.neo4j_vector import remove_lucene_chars\n",
        "from neo4j import GraphDatabase\n",
        "from yfiles_jupyter_graphs import GraphWidget\n",
        "import os\n",
        "\n",
        "# Define the prompt for entity extraction\n",
        "class Entities(BaseModel):\n",
        "    \"\"\"Identifying information about entities.\"\"\"\n",
        "    names: List[str] = Field(\n",
        "        ..., description=\"Entities that appear in the text\",\n",
        "    )\n",
        "\n",
        "# Initialize LLM\n",
        "llm = ChatOpenAI(temperature=0, model_name=\"gpt-3.5-turbo-0125\")\n",
        "\n",
        "# Define the prompt template for extracting entities\n",
        "prompt = ChatPromptTemplate.from_messages(\n",
        "    [\n",
        "        (\"system\", \"You are extracting entities related to the given text.\"),\n",
        "        (\"human\", \"Use the given format to extract information from the following input: {question}\"),\n",
        "    ]\n",
        ")\n",
        "\n",
        "# Create an entity chain using the LLM\n",
        "entity_chain = prompt | llm.with_structured_output(Entities)\n",
        "\n",
        "def generate_full_text_query(input: str) -> str:\n",
        "    words = [el for el in remove_lucene_chars(input).split() if el]\n",
        "    if not words:\n",
        "        return \"\"\n",
        "    full_text_query = \" AND \".join([f\"{word}~2\" for word in words])\n",
        "    return full_text_query.strip()\n",
        "\n",
        "def get_comprehensive_answer(question: str) -> str:\n",
        "    # Extract entities related to the question\n",
        "    entities = entity_chain.invoke({\"question\": question}).names\n",
        "\n",
        "    if not entities:\n",
        "        return \"No relevant information found.\"\n",
        "\n",
        "    answer_parts = []\n",
        "\n",
        "    for entity in entities:\n",
        "        # Query the graph for each entity\n",
        "        response = graph.query(\n",
        "            \"\"\"CALL db.index.fulltext.queryNodes('entity', $query, {limit:2})\n",
        "            YIELD node,score\n",
        "            CALL {\n",
        "              WITH node\n",
        "              MATCH (node)-[r:!MENTIONS]->(neighbor)\n",
        "              RETURN node.id + ' - ' + type(r) + ' -> ' + neighbor.id AS output\n",
        "              UNION ALL\n",
        "              WITH node\n",
        "              MATCH (node)<-[r:!MENTIONS]-(neighbor)\n",
        "              RETURN neighbor.id + ' - ' + type(r) + ' -> ' +  node.id AS output\n",
        "            }\n",
        "            RETURN output LIMIT 50\n",
        "            \"\"\",\n",
        "            {\"query\": generate_full_text_query(entity)},\n",
        "        )\n",
        "\n",
        "        # Process the response to construct a complete answer\n",
        "        results = [el['output'] for el in response]\n",
        "        if results:\n",
        "            answer_parts.append(f\"Information related to '{entity}':\\n\" + \"\\n\".join(results))\n",
        "        else:\n",
        "            answer_parts.append(f\"No information found for '{entity}'.\")\n",
        "\n",
        "    return \"\\n\\n\".join(answer_parts)\n",
        "\n",
        "# Function to retrieve both structured and unstructured data\n",
        "def retriever(question: str) -> str:\n",
        "    print(f\"Search query: {question}\")\n",
        "    structured_data = get_comprehensive_answer(question)\n",
        "    unstructured_data = [el.page_content for el in vector_index.similarity_search(question)]\n",
        "    final_data = f\"\"\"Structured data:\n",
        "{structured_data}\n",
        "Unstructured data:\n",
        "{\"\\n\".join(unstructured_data)}\n",
        "   \"\"\",\n",
        "    return final_data\n",
        "\n",
        "# Define the template for final answer generation\n",
        "template = \"\"\"Answer the question based only on the following context:\n",
        "{context}\n",
        "\n",
        "Question: {question}\n",
        "Use natural language and be concise.\n",
        "Answer:\"\"\"\n",
        "\n",
        "prompt = ChatPromptTemplate.from_template(template)\n",
        "\n",
        "# Chain to handle the input question and context\n",
        "chain = (\n",
        "    RunnableParallel(\n",
        "        {\n",
        "            \"context\": retriever,\n",
        "            \"question\": RunnablePassthrough(),\n",
        "        }\n",
        "    )\n",
        "    | prompt\n",
        "    | llm\n",
        "    | StrOutputParser()\n",
        ")\n",
        "\n",
        "# Read questions from the Excel file\n",
        "questions_df = pd.read_excel('/content/drive/MyDrive/refined/RAGTest.xlsx')  # Replace with your file path\n",
        "questions = questions_df['Question'].tolist()\n",
        "\n",
        "# Prepare a list to store generated answers\n",
        "generated_answers = []\n",
        "\n",
        "# Generate answers for each question\n",
        "for question in questions:\n",
        "    answer = chain.invoke({\"question\": question})\n",
        "    generated_answers.append(answer)\n",
        "\n",
        "# Write generated answers back to the Excel file\n",
        "questions_df['Generated Answer'] = generated_answers\n",
        "questions_df.to_excel('/content/drive/MyDrive/refined/questions_with_answers.xlsx', index=False)\n",
        "\n",
        "# Optionally, compare generated answers with human-generated responses\n",
        "if 'Human Answer' in questions_df.columns:\n",
        "    human_answers = questions_df['Human Answer'].tolist()\n",
        "    questions_df['Accuracy'] = questions_df.apply(\n",
        "        lambda row: 1 if row['Generated Answer'].strip() == row['Human Answer'].strip() else 0,\n",
        "        axis=1\n",
        "    )\n",
        "    accuracy = questions_df['Accuracy'].mean()\n",
        "    print(f\"Accuracy of generated answers: {accuracy * 100:.2f}%\")\n",
        "else:\n",
        "    print(\"Human Answer column not found in the Excel file.\")\n"
      ],
      "metadata": {
        "id": "9mzpXo7nH0le",
        "outputId": "2d9809cc-789d-4de1-9f18-e07868642835",
        "colab": {
          "base_uri": "https://localhost:8080/",
          "height": 105
        }
      },
      "execution_count": 72,
      "outputs": [
        {
          "output_type": "error",
          "ename": "SyntaxError",
          "evalue": "f-string expression part cannot include a backslash (<ipython-input-72-6f5aa3105607>, line 86)",
          "traceback": [
            "\u001b[0;36m  File \u001b[0;32m\"<ipython-input-72-6f5aa3105607>\"\u001b[0;36m, line \u001b[0;32m86\u001b[0m\n\u001b[0;31m    \"\"\",\u001b[0m\n\u001b[0m       ^\u001b[0m\n\u001b[0;31mSyntaxError\u001b[0m\u001b[0;31m:\u001b[0m f-string expression part cannot include a backslash\n"
          ]
        }
      ]
    },
    {
      "cell_type": "code",
      "source": [
        "# directly show the graph resulting from the given Cypher query\n",
        "default_cypher = \"MATCH (s)-[r:!MENTIONS]->(t) RETURN s,r,t LIMIT 50\"\n",
        "default_cypher"
      ],
      "metadata": {
        "id": "rC-4O5FQ99yH",
        "outputId": "c3966110-e9c8-4828-8b6c-2954747266f8",
        "colab": {
          "base_uri": "https://localhost:8080/",
          "height": 35
        }
      },
      "execution_count": 20,
      "outputs": [
        {
          "output_type": "execute_result",
          "data": {
            "text/plain": [
              "'MATCH (s)-[r:!MENTIONS]->(t) RETURN s,r,t LIMIT 50'"
            ],
            "application/vnd.google.colaboratory.intrinsic+json": {
              "type": "string"
            }
          },
          "metadata": {},
          "execution_count": 20
        }
      ]
    },
    {
      "cell_type": "code",
      "source": [
        "from yfiles_jupyter_graphs import GraphWidget\n",
        "from neo4j import GraphDatabase"
      ],
      "metadata": {
        "id": "K-91BluK_62t"
      },
      "execution_count": 21,
      "outputs": []
    },
    {
      "cell_type": "code",
      "source": [
        "try:\n",
        "  import google.colab\n",
        "  from google.colab import output\n",
        "  output.enable_custom_widget_manager()\n",
        "except:\n",
        "  pass"
      ],
      "metadata": {
        "id": "djVL6Gh4_4sV"
      },
      "execution_count": 22,
      "outputs": []
    },
    {
      "cell_type": "code",
      "source": [
        "def showGraph(cypher: str = default_cypher):\n",
        "    # create a neo4j session to run queries\n",
        "    driver = GraphDatabase.driver(\n",
        "        uri = os.environ[\"NEO4J_URI\"],\n",
        "        auth = (os.environ[\"NEO4J_USERNAME\"],\n",
        "                os.environ[\"NEO4J_PASSWORD\"]))\n",
        "    session = driver.session()\n",
        "    widget = GraphWidget(graph = session.run(cypher).graph())\n",
        "    widget.node_label_mapping = 'id'\n",
        "    display(widget)\n",
        "    return widget"
      ],
      "metadata": {
        "id": "0Ll2WNnO-Ahf"
      },
      "execution_count": 23,
      "outputs": []
    },
    {
      "cell_type": "code",
      "source": [
        "showGraph()"
      ],
      "metadata": {
        "colab": {
          "base_uri": "https://localhost:8080/",
          "height": 1000,
          "referenced_widgets": [
            "c9530a5a6f05456d8745a4fb10a68469",
            "3d234b9428b54c90af0d422c827ccccb"
          ]
        },
        "id": "kz-O4c0k-C_4",
        "outputId": "fc3c96af-1437-4f10-b424-218c6ddd0942"
      },
      "execution_count": 24,
      "outputs": [
        {
          "output_type": "display_data",
          "data": {
            "text/plain": [
              "GraphWidget(layout=Layout(height='800px', width='100%'))"
            ],
            "application/vnd.jupyter.widget-view+json": {
              "version_major": 2,
              "version_minor": 0,
              "model_id": "c9530a5a6f05456d8745a4fb10a68469"
            }
          },
          "metadata": {
            "application/vnd.jupyter.widget-view+json": {
              "colab": {
                "custom_widget_manager": {
                  "url": "https://ssl.gstatic.com/colaboratory-static/widgets/colab-cdn-widget-manager/2b70e893a8ba7c0f/manager.min.js"
                }
              }
            }
          }
        },
        {
          "output_type": "display_data",
          "data": {
            "text/plain": [
              "GraphWidget(layout=Layout(height='800px', width='100%'))"
            ],
            "application/vnd.jupyter.widget-view+json": {
              "version_major": 2,
              "version_minor": 0,
              "model_id": "c9530a5a6f05456d8745a4fb10a68469"
            }
          },
          "metadata": {
            "application/vnd.jupyter.widget-view+json": {
              "colab": {
                "custom_widget_manager": {
                  "url": "https://ssl.gstatic.com/colaboratory-static/widgets/colab-cdn-widget-manager/2b70e893a8ba7c0f/manager.min.js"
                }
              }
            }
          }
        }
      ]
    },
    {
      "cell_type": "code",
      "source": [
        "from typing import Tuple, List, Optional"
      ],
      "metadata": {
        "id": "zHSkb7LeBghn"
      },
      "execution_count": 25,
      "outputs": []
    },
    {
      "cell_type": "code",
      "source": [
        "from langchain_community.vectorstores import Neo4jVector"
      ],
      "metadata": {
        "id": "TuDVi4vHBjXP"
      },
      "execution_count": 26,
      "outputs": []
    },
    {
      "cell_type": "code",
      "source": [
        "from langchain_openai import OpenAIEmbeddings\n",
        "vector_index = Neo4jVector.from_existing_graph(\n",
        "    OpenAIEmbeddings(),\n",
        "    search_type=\"hybrid\",\n",
        "    node_label=\"Document\",\n",
        "    text_node_properties=[\"text\"],\n",
        "    embedding_node_property=\"embedding\"\n",
        ")"
      ],
      "metadata": {
        "id": "M_JloAimBlcK"
      },
      "execution_count": 27,
      "outputs": []
    },
    {
      "cell_type": "code",
      "source": [
        "graph.query(\"CREATE FULLTEXT INDEX entity IF NOT EXISTS FOR (e:__Entity__) ON EACH [e.id]\")"
      ],
      "metadata": {
        "colab": {
          "base_uri": "https://localhost:8080/"
        },
        "id": "e0EXdSStG-Oe",
        "outputId": "d5805fd1-3158-422c-cf37-4cd687a91cb6"
      },
      "execution_count": 28,
      "outputs": [
        {
          "output_type": "execute_result",
          "data": {
            "text/plain": [
              "[]"
            ]
          },
          "metadata": {},
          "execution_count": 28
        }
      ]
    },
    {
      "cell_type": "code",
      "source": [
        "from langchain_core.pydantic_v1 import BaseModel, Field\n",
        "# Extract entities from text\n",
        "class Entities(BaseModel):\n",
        "    \"\"\"Identifying information about entities.\"\"\"\n",
        "\n",
        "    names: List[str] = Field(\n",
        "        ...,\n",
        "        description=\"All the diabetes care related entities that \"\n",
        "        \"appear in the text\",\n",
        "    )\n"
      ],
      "metadata": {
        "id": "qksArGKrAvie"
      },
      "execution_count": 29,
      "outputs": []
    },
    {
      "cell_type": "code",
      "source": [
        "from langchain_core.prompts import ChatPromptTemplate\n",
        "from langchain_core.prompts.prompt import PromptTemplate"
      ],
      "metadata": {
        "id": "Mx6sfpgRBrs-"
      },
      "execution_count": 30,
      "outputs": []
    },
    {
      "cell_type": "code",
      "source": [
        "prompt = ChatPromptTemplate.from_messages(\n",
        "    [\n",
        "        (\n",
        "            \"system\",\n",
        "            \"You are extracting symptoms and care related entities from the text.\",\n",
        "        ),\n",
        "        (\n",
        "            \"human\",\n",
        "            \"Use the given format to extract information from the following \"\n",
        "            \"input: {question}\",\n",
        "        ),\n",
        "    ]\n",
        ")"
      ],
      "metadata": {
        "id": "xUobRC1wAx-_"
      },
      "execution_count": 31,
      "outputs": []
    },
    {
      "cell_type": "code",
      "source": [
        "entity_chain = prompt | llm.with_structured_output(Entities)"
      ],
      "metadata": {
        "id": "KGR6ocjkA0I_"
      },
      "execution_count": 35,
      "outputs": []
    },
    {
      "cell_type": "code",
      "source": [
        "entity_chain.invoke({\"question\": \"At what age diabetes risk gets increased?\"}).names"
      ],
      "metadata": {
        "colab": {
          "base_uri": "https://localhost:8080/"
        },
        "id": "xPLkIEmkA2R2",
        "outputId": "cf203efc-d2da-4e42-f34f-40f56cc356ee"
      },
      "execution_count": 36,
      "outputs": [
        {
          "output_type": "execute_result",
          "data": {
            "text/plain": [
              "['diabetes risk', 'age']"
            ]
          },
          "metadata": {},
          "execution_count": 36
        }
      ]
    },
    {
      "cell_type": "code",
      "source": [
        "from langchain_community.vectorstores.neo4j_vector import remove_lucene_chars"
      ],
      "metadata": {
        "id": "RpbOzL5BA6hW"
      },
      "execution_count": 37,
      "outputs": []
    },
    {
      "cell_type": "code",
      "source": [
        "def generate_full_text_query(input: str) -> str:\n",
        "    full_text_query = \"\"\n",
        "    words = [el for el in remove_lucene_chars(input).split() if el]\n",
        "    for word in words[:-1]:\n",
        "        full_text_query += f\" {word}~2 AND\"\n",
        "    full_text_query += f\" {words[-1]}~2\"\n",
        "    return full_text_query.strip()\n"
      ],
      "metadata": {
        "id": "7gHCkvGKA86t"
      },
      "execution_count": 38,
      "outputs": []
    },
    {
      "cell_type": "code",
      "source": [
        "# Fulltext index query\n",
        "def structured_retriever(question: str) -> str:\n",
        "    result = \"\"\n",
        "    entities = entity_chain.invoke({\"question\": question})\n",
        "    for entity in entities.names:\n",
        "        response = graph.query(\n",
        "            \"\"\"CALL db.index.fulltext.queryNodes('entity', $query, {limit:2})\n",
        "            YIELD node,score\n",
        "            CALL {\n",
        "              WITH node\n",
        "              MATCH (node)-[r:!MENTIONS]->(neighbor)\n",
        "              RETURN node.id + ' - ' + type(r) + ' -> ' + neighbor.id AS output\n",
        "              UNION ALL\n",
        "              WITH node\n",
        "              MATCH (node)<-[r:!MENTIONS]-(neighbor)\n",
        "              RETURN neighbor.id + ' - ' + type(r) + ' -> ' +  node.id AS output\n",
        "            }\n",
        "            RETURN output LIMIT 50\n",
        "            \"\"\",\n",
        "            {\"query\": generate_full_text_query(entity)},\n",
        "        )\n",
        "        result += \"\\n\".join([el['output'] for el in response])\n",
        "    return result"
      ],
      "metadata": {
        "id": "kjPkmFJbA_lv"
      },
      "execution_count": 39,
      "outputs": []
    },
    {
      "cell_type": "code",
      "source": [
        "print(structured_retriever(\"What Diabetes is?\"))"
      ],
      "metadata": {
        "colab": {
          "base_uri": "https://localhost:8080/"
        },
        "id": "nIla9QpzBA8u",
        "outputId": "2f231c2d-173c-435b-a447-8021a9096256"
      },
      "execution_count": 40,
      "outputs": [
        {
          "output_type": "stream",
          "name": "stdout",
          "text": [
            "Diabetic Adults - PUBLISHED_IN -> Dodd, M.\n",
            "Diabetic Adults - PUBLISHED_IN -> Doty, M. M.\n",
            "Diabetic Adults - PUBLISHED_IN -> Garcia, A. A.\n",
            "Diabetic Adults - PUBLICATION -> Dodd, M.\n",
            "Diabetic Adults - PUBLICATION -> Doty, M. M.\n",
            "Diabetic Adults - PUBLICATION -> Garcia, A. A.\n",
            "Diabetes - AFFECTS -> Health Literacy\n",
            "Diabetes - AFFECTS -> Health Care\n",
            "Diabetes - AFFECTS -> Adult Latinos\n",
            "Diabetes - AFFECTS -> Participants\n",
            "Diabetes - RESEARCHER -> Maren J Coffman\n",
            "Diabetes - RESEARCHER -> Cynthia K Norton\n",
            "Diabetes - RESEARCHER -> Lara Beene\n",
            "Diabetes - RELATED_TO -> Blood Glucose Level\n",
            "Diabetes - RELATED_TO -> Diabetes Knowledge\n",
            "Diabetes - RELATED_TO -> Health Literacy Levels\n",
            "Diabetes - RELATED_TO -> Health Care Services\n",
            "Diabetes - RELATED_TO -> Undiagnosed Diabetes\n",
            "Diabetes - RELATED_TO -> Under Treated Diabetes\n",
            "Diabetes - RELATED_TO -> Diabetes Symptoms\n",
            "Diabetes - ASSOCIATED_WITH -> Education Level\n",
            "Diabetes - WITH -> Diabetes Risk Factors\n",
            "Diabetes - NOT_COMPARABLE_TO -> Diagnosed Diabetes\n",
            "Diabetes - MAY_LEAD_TO -> Undiagnosed Diabetes\n",
            "Diabetes - MAY_LEAD_TO -> Under Treated Diabetes\n",
            "Diabetes - INFLUENCES_INTERPRETATION_AND_ACTION_ON -> Symptoms\n",
            "Health Literacy - IMPACTS -> Diabetes\n",
            "Health Care - IMPACTS -> Diabetes\n",
            "Latinos - EXPLAINS -> Diabetes\n",
            "Self-Treatment - COMMON_RESPONSE_TO -> Diabetes\n",
            "Symptom Appraisal - RELATED_TO -> Diabetes\n",
            "Years Of Education - ASSOCIATED_WITH -> Diabetes\n",
            "Latinos - DIAGNOSED_WITH -> Diabetes\n",
            "Latino Immigrants - PARTICIPATED -> Diabetes\n",
            "Self-Treatment - TREATMENT_FOR -> Diabetes\n",
            "Recent Latino Immigrants - AT_RISK_FOR -> Diabetes\n",
            "Latinos - MORE_LIKELY_TO_SEEK_HEALTH_CARE_IF_DIAGNOSED -> Diabetes\n",
            "Latinos - LESS_LIKELY_TO_SEEK_HEALTH_CARE_IF_SYMPTOMS_EXPERIENCED_BUT_NOT_DIAGNOSED -> Diabetes\n",
            "Latinos - INSUFFICIENT_UNDERSTANDING_OF_SYMPTOMS_MAY_LEAD_TO_IGNORING -> Diabetes\n"
          ]
        }
      ]
    },
    {
      "cell_type": "code",
      "source": [
        "def retriever(question: str):\n",
        "    print(f\"Search query: {question}\")\n",
        "    structured_data = structured_retriever(question)\n",
        "    unstructured_data = [el.page_content for el in vector_index.similarity_search(question)]\n",
        "    final_data = f\"\"\"Structured data:\n",
        "{structured_data}\n",
        "Unstructured data:\n",
        "{\"#Document \". join(unstructured_data)}\n",
        "    \"\"\"\n",
        "    return final_data"
      ],
      "metadata": {
        "id": "Zo1QoB_iBDfO"
      },
      "execution_count": 41,
      "outputs": []
    },
    {
      "cell_type": "code",
      "source": [
        "_template = \"\"\"Given the following conversation and a follow up question, rephrase the follow up question to be a standalone question,\n",
        "in its original language.\n",
        "Chat History:\n",
        "{chat_history}\n",
        "Follow Up Input: {question}\n",
        "Standalone question:\"\"\""
      ],
      "metadata": {
        "id": "nDLnOXBTBFaf"
      },
      "execution_count": 42,
      "outputs": []
    },
    {
      "cell_type": "code",
      "source": [
        "CONDENSE_QUESTION_PROMPT = PromptTemplate.from_template(_template)"
      ],
      "metadata": {
        "id": "hozfZicpBG2G"
      },
      "execution_count": 43,
      "outputs": []
    },
    {
      "cell_type": "code",
      "source": [
        "def _format_chat_history(chat_history: List[Tuple[str, str]]) -> List:\n",
        "    buffer = []\n",
        "    for human, ai in chat_history:\n",
        "        buffer.append(HumanMessage(content=human))\n",
        "        buffer.append(AIMessage(content=ai))\n",
        "    return buffer"
      ],
      "metadata": {
        "id": "A9Oi3AEeBIPf"
      },
      "execution_count": 44,
      "outputs": []
    },
    {
      "cell_type": "code",
      "source": [
        "_search_query = RunnableBranch(\n",
        "    # If input includes chat_history, we condense it with the follow-up question\n",
        "    (\n",
        "        RunnableLambda(lambda x: bool(x.get(\"chat_history\"))).with_config(\n",
        "            run_name=\"HasChatHistoryCheck\"\n",
        "        ),  # Condense follow-up question and chat into a standalone_question\n",
        "        RunnablePassthrough.assign(\n",
        "            chat_history=lambda x: _format_chat_history(x[\"chat_history\"])\n",
        "        )\n",
        "        | CONDENSE_QUESTION_PROMPT\n",
        "        | ChatOpenAI(temperature=0)\n",
        "        | StrOutputParser(),\n",
        "    ),\n",
        "    # Else, we have no chat history, so just pass through the question\n",
        "    RunnableLambda(lambda x : x[\"question\"]),\n",
        ")"
      ],
      "metadata": {
        "id": "vXV65bjDBJwO"
      },
      "execution_count": 45,
      "outputs": []
    },
    {
      "cell_type": "code",
      "source": [
        "template = \"\"\"Answer the question based only on the following context:\n",
        "{context}\n",
        "\n",
        "Question: {question}\n",
        "Use natural language and be concise.\n",
        "Answer:\"\"\""
      ],
      "metadata": {
        "id": "zuVyoD1iBLgt"
      },
      "execution_count": 46,
      "outputs": []
    },
    {
      "cell_type": "code",
      "source": [
        "prompt = ChatPromptTemplate.from_template(template)"
      ],
      "metadata": {
        "id": "ehex9TRGBM4m"
      },
      "execution_count": 47,
      "outputs": []
    },
    {
      "cell_type": "code",
      "source": [
        "chain = (\n",
        "    RunnableParallel(\n",
        "        {\n",
        "            \"context\": _search_query | retriever,\n",
        "            \"question\": RunnablePassthrough(),\n",
        "        }\n",
        "    )\n",
        "    | prompt\n",
        "    | llm\n",
        "    | StrOutputParser()\n",
        ")"
      ],
      "metadata": {
        "id": "UI6LVwkpBOOA"
      },
      "execution_count": 48,
      "outputs": []
    },
    {
      "cell_type": "code",
      "source": [
        "chain.invoke({\"question\": \"how stress-related hormones affects diabetes and sugar level?\"})"
      ],
      "metadata": {
        "colab": {
          "base_uri": "https://localhost:8080/",
          "height": 86
        },
        "id": "GZAq-jz3BOrn",
        "outputId": "4de712ed-0ae5-45d3-ae9a-c0399f57d9b0"
      },
      "execution_count": 49,
      "outputs": [
        {
          "output_type": "stream",
          "name": "stdout",
          "text": [
            "Search query: how stress-related hormones affects diabetes and sugar level?\n"
          ]
        },
        {
          "output_type": "execute_result",
          "data": {
            "text/plain": [
              "'Stress-related hormones can affect diabetes by increasing blood sugar levels. This is because stress triggers the release of hormones like cortisol and adrenaline, which can cause blood sugar levels to rise. High levels of stress can make it harder to manage diabetes and control blood sugar levels.'"
            ],
            "application/vnd.google.colaboratory.intrinsic+json": {
              "type": "string"
            }
          },
          "metadata": {},
          "execution_count": 49
        }
      ]
    },
    {
      "cell_type": "code",
      "source": [
        "chain.invoke(\n",
        "    {\n",
        "        \"question\": \"When diabetes gets worst\",\n",
        "        \"chat_history\": [(\"how stress-related hormones affects diabetes and sugar level?\", \"increases diabetes\")],\n",
        "    }\n",
        ")"
      ],
      "metadata": {
        "colab": {
          "base_uri": "https://localhost:8080/",
          "height": 52
        },
        "id": "b8bO9V_MIBZ5",
        "outputId": "b14f1542-a566-41d5-f910-13d65ec373ab"
      },
      "execution_count": 50,
      "outputs": [
        {
          "output_type": "stream",
          "name": "stdout",
          "text": [
            "Search query: When does diabetes get worse?\n"
          ]
        },
        {
          "output_type": "execute_result",
          "data": {
            "text/plain": [
              "'When diabetes worsens, it can lead to more severe symptoms and complications.'"
            ],
            "application/vnd.google.colaboratory.intrinsic+json": {
              "type": "string"
            }
          },
          "metadata": {},
          "execution_count": 50
        }
      ]
    },
    {
      "cell_type": "code",
      "source": [
        "#import pandas as pd\n",
        "#from pydantic import BaseModel, Field\n",
        "#from typing import List\n",
        "#from langchain_openai import ChatOpenAI\n",
        "#from langchain.prompts import ChatPromptTemplate\n",
        "#from langchain_experimental.graph_transformers import LLMGraphTransformer\n",
        "#from langchain_community.vectorstores.neo4j_vector import remove_lucene_chars\n",
        "\n",
        "\n",
        "# Assuming RunnableParallel and StrOutputParser exist and are properly imported\n",
        "chain = (\n",
        "    RunnableParallel(\n",
        "        {\n",
        "            \"context\":  _search_query | retriever,\n",
        "            \"question\": RunnablePassthrough(),\n",
        "        }\n",
        "    )\n",
        "    | prompt\n",
        "    | llm\n",
        "    | StrOutputParser()\n",
        ")\n",
        "\n",
        "# Example to test with a single question\n",
        "result = chain.invoke({\"question\": \"how stress-related hormones affects diabetes and sugar level?\"})\n",
        "print(result)\n",
        "\n"
      ],
      "metadata": {
        "id": "qyIlAGROIUKC",
        "colab": {
          "base_uri": "https://localhost:8080/"
        },
        "outputId": "bd94cbeb-4045-46f5-d5ae-7aa9116eefd1"
      },
      "execution_count": 51,
      "outputs": [
        {
          "output_type": "stream",
          "name": "stdout",
          "text": [
            "Search query: how stress-related hormones affects diabetes and sugar level?\n",
            "Stress-related hormones can affect diabetes by increasing blood sugar levels. This is because stress triggers the release of hormones like cortisol and adrenaline, which can cause blood sugar levels to rise. This can be problematic for individuals with diabetes, as it can lead to difficulty in managing their blood sugar levels effectively.\n"
          ]
        }
      ]
    },
    {
      "cell_type": "code",
      "source": [
        "# Read questions from the Excel file\n",
        "questions_df = pd.read_excel('/content/drive/MyDrive/refined/RAGTest.xlsx')  # Replace with your file path\n",
        "questions = questions_df['Question'].tolist()\n",
        "\n",
        "# Prepare a list to store generated answers\n",
        "generated_answers = []\n",
        "\n",
        "# Iterate through questions and generate answers\n",
        "for question in questions:\n",
        "    answer = chain.invoke({\"question\": question})\n",
        "    generated_answers.append(answer)\n",
        "\n",
        "# Write generated answers back to the Excel file\n",
        "questions_df['Generated Answer'] = generated_answers\n",
        "questions_df.to_excel('/content/drive/MyDrive/refined/questions_with_answers.xlsx', index=False)\n",
        "\n",
        "# Optionally, compare generated answers with human-generated responses\n",
        "if 'Human Answer' in questions_df.columns:\n",
        "    human_answers = questions_df['Human Answer'].tolist()\n",
        "    questions_df['Accuracy'] = questions_df.apply(\n",
        "        lambda row: 1 if row['Generated Answer'].strip() == row['Human Answer'].strip() else 0,\n",
        "        axis=1\n",
        "    )\n",
        "    accuracy = questions_df['Accuracy'].mean()\n",
        "    print(f\"Accuracy of generated answers: {accuracy * 100:.2f}%\")\n",
        "else:\n",
        "    print(\"Human Answer column not found in the Excel file.\")"
      ],
      "metadata": {
        "id": "N6nvybPmPU0W",
        "outputId": "b5845383-f76a-433c-d233-1e5b4d591895",
        "colab": {
          "base_uri": "https://localhost:8080/"
        }
      },
      "execution_count": 52,
      "outputs": [
        {
          "output_type": "stream",
          "name": "stdout",
          "text": [
            "Search query: What are some early warning signs of diabetes that often go unnoticed?\n",
            "Search query: How can intermittent fasting affect blood sugar levels in diabetic patients?\n",
            "Search query: What role does sleep quality play in the management of Type 2 diabetes?\n",
            "Search query: How can diabetic patients incorporate mindful eating practices to better manage their condition?\n",
            "Search query: What are the benefits of using a hybrid closed-loop insulin pump system?\n",
            "Search query: How does stress impact blood glucose levels, and what are effective stress management techniques for diabetics?\n",
            "Search query: Can consuming probiotics and prebiotics improve insulin sensitivity in diabetic patients?\n",
            "Search query: What are some innovative approaches to diabetes education that have shown promise in recent studies?\n",
            "Search query: How can a diabetic patient safely participate in endurance sports or high-intensity interval training (HIIT)?\n",
            "Search query: What are the latest advancements in artificial pancreas systems, and how do they work?\n",
            "Search query: How can a diabetic patient create a balanced diet that accommodates cultural or religious dietary restrictions?\n",
            "Search query: What are the potential long-term effects of poor medication adherence in diabetic patients?\n",
            "Search query: How can virtual reality (VR) be used to enhance diabetes education and patient engagement?\n",
            "Search query: What are the implications of gestational diabetes for both mother and child postpartum?\n",
            "Search query: How can wearable technology be used to predict and prevent hypoglycemic events in diabetic patients?\n",
            "Search query: What are the key factors to consider when transitioning from oral medications to insulin therapy?\n",
            "Search query: How can peer support groups benefit individuals newly diagnosed with diabetes?\n",
            "Search query: What are some creative ways to incorporate low-carbohydrate foods into a diabetic patient’s daily diet?\n",
            "Search query: How can artificial intelligence (AI) be leveraged to personalize diabetes treatment plans?\n",
            "Search query: What strategies can be used to prevent diabetic foot ulcers, especially in patients with peripheral neuropathy?\n",
            "Accuracy of generated answers: 0.00%\n"
          ]
        }
      ]
    },
    {
      "cell_type": "code",
      "source": [
        "questions_df['Generated Answer'][0]"
      ],
      "metadata": {
        "id": "6LZ6m7yRSUnx",
        "outputId": "a64f0066-3474-4671-ed51-36a9c8066751",
        "colab": {
          "base_uri": "https://localhost:8080/",
          "height": 69
        }
      },
      "execution_count": 54,
      "outputs": [
        {
          "output_type": "execute_result",
          "data": {
            "text/plain": [
              "'Some early warning signs of diabetes that often go unnoticed include misinterpreting serious symptoms as benign, not recognizing symptoms as related to diabetes, and self-treating symptoms without seeking professional assessment.'"
            ],
            "application/vnd.google.colaboratory.intrinsic+json": {
              "type": "string"
            }
          },
          "metadata": {},
          "execution_count": 54
        }
      ]
    },
    {
      "cell_type": "code",
      "source": [],
      "metadata": {
        "id": "Z4XUyXouStx6"
      },
      "execution_count": null,
      "outputs": []
    }
  ]
}