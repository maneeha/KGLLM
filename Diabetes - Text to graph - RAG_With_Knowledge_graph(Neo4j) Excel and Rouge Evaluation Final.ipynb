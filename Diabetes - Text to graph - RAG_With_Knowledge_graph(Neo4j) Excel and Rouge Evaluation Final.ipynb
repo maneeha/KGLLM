{
  "nbformat": 4,
  "nbformat_minor": 0,
  "metadata": {
    "colab": {
      "provenance": [],
      "include_colab_link": true
    },
    "kernelspec": {
      "name": "python3",
      "display_name": "Python 3"
    },
    "language_info": {
      "name": "python"
    },
    "widgets": {
      "application/vnd.jupyter.widget-state+json": {
        "c9530a5a6f05456d8745a4fb10a68469": {
          "model_module": "yfiles-jupyter-graphs",
          "model_name": "GraphModel",
          "model_module_version": "^1.7.3",
          "state": {
            "_context_pane_mapping": [
              {
                "id": "Neighborhood",
                "title": "Neighborhood"
              },
              {
                "id": "Data",
                "title": "Data"
              },
              {
                "id": "Search",
                "title": "Search"
              },
              {
                "id": "About",
                "title": "About"
              }
            ],
            "_data_importer": "neo4j",
            "_directed": true,
            "_dom_classes": [],
            "_edges": [
              {
                "id": 1157426203745845200,
                "start": 1,
                "end": 2,
                "properties": {
                  "label": "AFFECTS"
                },
                "label": "AFFECTS",
                "color": "#2196F3",
                "thickness_factor": 1,
                "directed": true
              },
              {
                "id": 1159678003559530500,
                "start": 1,
                "end": 3,
                "properties": {
                  "label": "AFFECTS"
                },
                "label": "AFFECTS",
                "color": "#2196F3",
                "thickness_factor": 1,
                "directed": true
              },
              {
                "id": 1152922604118474800,
                "start": 1,
                "end": 4,
                "properties": {
                  "label": "AFFECTS"
                },
                "label": "AFFECTS",
                "color": "#2196F3",
                "thickness_factor": 1,
                "directed": true
              },
              {
                "id": 1155174403932160000,
                "start": 1,
                "end": 86,
                "properties": {
                  "label": "AFFECTS"
                },
                "label": "AFFECTS",
                "color": "#2196F3",
                "thickness_factor": 1,
                "directed": true
              },
              {
                "id": 1152923703630102500,
                "start": 1,
                "end": 5,
                "properties": {
                  "label": "RESEARCHER"
                },
                "label": "RESEARCHER",
                "color": "#4CAF50",
                "thickness_factor": 1,
                "directed": true
              },
              {
                "id": 1155175503443787800,
                "start": 1,
                "end": 6,
                "properties": {
                  "label": "RESEARCHER"
                },
                "label": "RESEARCHER",
                "color": "#4CAF50",
                "thickness_factor": 1,
                "directed": true
              },
              {
                "id": 1157427303257473000,
                "start": 1,
                "end": 7,
                "properties": {
                  "label": "RESEARCHER"
                },
                "label": "RESEARCHER",
                "color": "#4CAF50",
                "thickness_factor": 1,
                "directed": true
              },
              {
                "id": 1159698894280458200,
                "start": 1,
                "end": 33,
                "properties": {
                  "label": "RELATED_TO"
                },
                "label": "RELATED_TO",
                "color": "#F44336",
                "thickness_factor": 1,
                "directed": true
              },
              {
                "id": 1161950694094143500,
                "start": 1,
                "end": 34,
                "properties": {
                  "label": "RELATED_TO"
                },
                "label": "RELATED_TO",
                "color": "#F44336",
                "thickness_factor": 1,
                "directed": true
              },
              {
                "id": 1164202493907828700,
                "start": 1,
                "end": 35,
                "properties": {
                  "label": "RELATED_TO"
                },
                "label": "RELATED_TO",
                "color": "#F44336",
                "thickness_factor": 1,
                "directed": true
              },
              {
                "id": 1166454293721514000,
                "start": 1,
                "end": 36,
                "properties": {
                  "label": "RELATED_TO"
                },
                "label": "RELATED_TO",
                "color": "#F44336",
                "thickness_factor": 1,
                "directed": true
              },
              {
                "id": 1152943494839402500,
                "start": 1,
                "end": 37,
                "properties": {
                  "label": "RELATED_TO"
                },
                "label": "RELATED_TO",
                "color": "#F44336",
                "thickness_factor": 1,
                "directed": true
              },
              {
                "id": 1155195294653087700,
                "start": 1,
                "end": 38,
                "properties": {
                  "label": "RELATED_TO"
                },
                "label": "RELATED_TO",
                "color": "#F44336",
                "thickness_factor": 1,
                "directed": true
              },
              {
                "id": 1157447094466773000,
                "start": 1,
                "end": 39,
                "properties": {
                  "label": "RELATED_TO"
                },
                "label": "RELATED_TO",
                "color": "#F44336",
                "thickness_factor": 1,
                "directed": true
              },
              {
                "id": 6917582903710843000,
                "start": 1,
                "end": 158,
                "properties": {
                  "label": "ASSOCIATED_WITH"
                },
                "label": "ASSOCIATED_WITH",
                "color": "#607D8B",
                "thickness_factor": 1,
                "directed": true
              },
              {
                "id": 6917631282222465000,
                "start": 1,
                "end": 44,
                "properties": {
                  "label": "WITH"
                },
                "label": "WITH",
                "color": "#673AB7",
                "thickness_factor": 1,
                "directed": true
              },
              {
                "id": 6917632381734093000,
                "start": 1,
                "end": 182,
                "properties": {
                  "label": "NOT_COMPARABLE_TO"
                },
                "label": "NOT_COMPARABLE_TO",
                "color": "#CDDC39",
                "thickness_factor": 1,
                "directed": true
              },
              {
                "id": 6917676362199204000,
                "start": 1,
                "end": 37,
                "properties": {
                  "label": "MAY_LEAD_TO"
                },
                "label": "MAY_LEAD_TO",
                "color": "#9E9E9E",
                "thickness_factor": 1,
                "directed": true
              },
              {
                "id": 6917676362199204000,
                "start": 1,
                "end": 38,
                "properties": {
                  "label": "MAY_LEAD_TO"
                },
                "label": "MAY_LEAD_TO",
                "color": "#9E9E9E",
                "thickness_factor": 1,
                "directed": true
              },
              {
                "id": 1153102924025430000,
                "start": 1,
                "end": 146,
                "properties": {
                  "label": "INFLUENCES_INTERPRETATION_AND_ACTION_ON"
                },
                "label": "INFLUENCES_INTERPRETATION_AND_ACTION_ON",
                "color": "#9C27B0",
                "thickness_factor": 1,
                "directed": true
              },
              {
                "id": 1152924803141730300,
                "start": 2,
                "end": 1,
                "properties": {
                  "label": "IMPACTS"
                },
                "label": "IMPACTS",
                "color": "#2196F3",
                "thickness_factor": 1,
                "directed": true
              },
              {
                "id": 1152974281164980200,
                "start": 2,
                "end": 58,
                "properties": {
                  "label": "REGRESSION"
                },
                "label": "REGRESSION",
                "color": "#4CAF50",
                "thickness_factor": 1,
                "directed": true
              },
              {
                "id": 1152975380676608000,
                "start": 2,
                "end": 36,
                "properties": {
                  "label": "ASSOCIATED_WITH"
                },
                "label": "ASSOCIATED_WITH",
                "color": "#607D8B",
                "thickness_factor": 1,
                "directed": true
              },
              {
                "id": 6922086503338213000,
                "start": 2,
                "end": 142,
                "properties": {
                  "label": "ASSOCIATED_WITH"
                },
                "label": "ASSOCIATED_WITH",
                "color": "#607D8B",
                "thickness_factor": 1,
                "directed": true
              },
              {
                "id": 1152981977746374700,
                "start": 2,
                "end": 149,
                "properties": {
                  "label": "NOT_ASSOCIATED_WITH"
                },
                "label": "NOT_ASSOCIATED_WITH",
                "color": "#F44336",
                "thickness_factor": 1,
                "directed": true
              },
              {
                "id": 1152986375792885800,
                "start": 2,
                "end": 36,
                "properties": {
                  "label": "HIGHER_ASSOCIATED_WITH"
                },
                "label": "HIGHER_ASSOCIATED_WITH",
                "color": "#607D8B",
                "thickness_factor": 1,
                "directed": true
              },
              {
                "id": 6917609291989910000,
                "start": 2,
                "end": 14,
                "properties": {
                  "label": "HELPS_UNDERSTAND_AND_ACT_ON"
                },
                "label": "HELPS_UNDERSTAND_AND_ACT_ON",
                "color": "#673AB7",
                "thickness_factor": 1,
                "directed": true
              },
              {
                "id": 6917610391501537000,
                "start": 2,
                "end": 145,
                "properties": {
                  "label": "LEADS_TO_LOWER_LEVELS"
                },
                "label": "LEADS_TO_LOWER_LEVELS",
                "color": "#CDDC39",
                "thickness_factor": 1,
                "directed": true
              },
              {
                "id": 6917611491013165000,
                "start": 2,
                "end": 58,
                "properties": {
                  "label": "PREDICTS"
                },
                "label": "PREDICTS",
                "color": "#9E9E9E",
                "thickness_factor": 1,
                "directed": true
              },
              {
                "id": 6917612590524793000,
                "start": 2,
                "end": 58,
                "properties": {
                  "label": "INFLUENCES"
                },
                "label": "INFLUENCES",
                "color": "#9C27B0",
                "thickness_factor": 1,
                "directed": true
              },
              {
                "id": 1153031455769624600,
                "start": 2,
                "end": 86,
                "properties": {
                  "label": "SCREENED_FOR"
                },
                "label": "SCREENED_FOR",
                "color": "#2196F3",
                "thickness_factor": 1,
                "directed": true
              },
              {
                "id": 1153032555281252400,
                "start": 2,
                "end": 14,
                "properties": {
                  "label": "NEEDS_SUPPORT"
                },
                "label": "NEEDS_SUPPORT",
                "color": "#4CAF50",
                "thickness_factor": 1,
                "directed": true
              },
              {
                "id": 1155284355094937600,
                "start": 2,
                "end": 193,
                "properties": {
                  "label": "NEEDS_SUPPORT"
                },
                "label": "NEEDS_SUPPORT",
                "color": "#4CAF50",
                "thickness_factor": 1,
                "directed": true
              },
              {
                "id": 1157536154908622800,
                "start": 2,
                "end": 194,
                "properties": {
                  "label": "NEEDS_SUPPORT"
                },
                "label": "NEEDS_SUPPORT",
                "color": "#4CAF50",
                "thickness_factor": 1,
                "directed": true
              },
              {
                "id": 6917640078315487000,
                "start": 2,
                "end": 358,
                "properties": {
                  "label": "NEEDS_SUPPORT"
                },
                "label": "NEEDS_SUPPORT",
                "color": "#4CAF50",
                "thickness_factor": 1,
                "directed": true
              },
              {
                "id": 6917641177827115000,
                "start": 2,
                "end": 195,
                "properties": {
                  "label": "NEEDS_ACCESS_TO"
                },
                "label": "NEEDS_ACCESS_TO",
                "color": "#F44336",
                "thickness_factor": 1,
                "directed": true
              },
              {
                "id": 6917642277338743000,
                "start": 2,
                "end": 196,
                "properties": {
                  "label": "REFERRED_IN"
                },
                "label": "REFERRED_IN",
                "color": "#607D8B",
                "thickness_factor": 1,
                "directed": true
              },
              {
                "id": 1153112819630080000,
                "start": 2,
                "end": 14,
                "properties": {
                  "label": "HELPS_UNDERSTAND,_INTERPRET,_AND_ACT_ON_DIABETES_SYMPTOMS"
                },
                "label": "HELPS_UNDERSTAND,_INTERPRET,_AND_ACT_ON_DIABETES_SYMPTOMS",
                "color": "#673AB7",
                "thickness_factor": 1,
                "directed": true
              },
              {
                "id": 1153113919141707800,
                "start": 2,
                "end": 58,
                "properties": {
                  "label": "PREDICTS_BETTER_MANAGEMENT_AND_CONTROL"
                },
                "label": "PREDICTS_BETTER_MANAGEMENT_AND_CONTROL",
                "color": "#CDDC39",
                "thickness_factor": 1,
                "directed": true
              },
              {
                "id": 6917722541687570000,
                "start": 2,
                "end": 359,
                "properties": {
                  "label": "NEEDS_ACCESS"
                },
                "label": "NEEDS_ACCESS",
                "color": "#9E9E9E",
                "thickness_factor": 1,
                "directed": true
              },
              {
                "id": 6917722541687570000,
                "start": 2,
                "end": 360,
                "properties": {
                  "label": "NEEDS_ACCESS"
                },
                "label": "NEEDS_ACCESS",
                "color": "#9E9E9E",
                "thickness_factor": 1,
                "directed": true
              },
              {
                "id": 6917722541687570000,
                "start": 2,
                "end": 361,
                "properties": {
                  "label": "NEEDS_ACCESS"
                },
                "label": "NEEDS_ACCESS",
                "color": "#9E9E9E",
                "thickness_factor": 1,
                "directed": true
              },
              {
                "id": 6917723641199198000,
                "start": 2,
                "end": 362,
                "properties": {
                  "label": "PREDICTS_HEALTHCARE_USE"
                },
                "label": "PREDICTS_HEALTHCARE_USE",
                "color": "#9C27B0",
                "thickness_factor": 1,
                "directed": true
              },
              {
                "id": 6917724740710826000,
                "start": 2,
                "end": 363,
                "properties": {
                  "label": "NEEDS_WIDENING_AVAILABILITY"
                },
                "label": "NEEDS_WIDENING_AVAILABILITY",
                "color": "#2196F3",
                "thickness_factor": 1,
                "directed": true
              },
              {
                "id": 1152924803141730300,
                "start": 3,
                "end": 1,
                "properties": {
                  "label": "IMPACTS"
                },
                "label": "IMPACTS",
                "color": "#2196F3",
                "thickness_factor": 1,
                "directed": true
              },
              {
                "id": 1153054545513808000,
                "start": 5,
                "end": 307,
                "properties": {
                  "label": "AFFILIATED_WITH"
                },
                "label": "AFFILIATED_WITH",
                "color": "#4CAF50",
                "thickness_factor": 1,
                "directed": true
              },
              {
                "id": 1153054545513808000,
                "start": 6,
                "end": 307,
                "properties": {
                  "label": "AFFILIATED_WITH"
                },
                "label": "AFFILIATED_WITH",
                "color": "#4CAF50",
                "thickness_factor": 1,
                "directed": true
              },
              {
                "id": 6917535624710849000,
                "start": 7,
                "end": 19,
                "properties": {
                  "label": "WORKS_AT"
                },
                "label": "WORKS_AT",
                "color": "#F44336",
                "thickness_factor": 1,
                "directed": true
              },
              {
                "id": 1153054545513808000,
                "start": 7,
                "end": 307,
                "properties": {
                  "label": "AFFILIATED_WITH"
                },
                "label": "AFFILIATED_WITH",
                "color": "#4CAF50",
                "thickness_factor": 1,
                "directed": true
              },
              {
                "id": 1152925902653358000,
                "start": 9,
                "end": 10,
                "properties": {
                  "label": "EXPLAINS"
                },
                "label": "EXPLAINS",
                "color": "#607D8B",
                "thickness_factor": 1,
                "directed": true
              }
            ],
            "_graph_layout": {},
            "_highlight": [],
            "_license": {},
            "_model_module": "yfiles-jupyter-graphs",
            "_model_module_version": "^1.7.3",
            "_model_name": "GraphModel",
            "_neighborhood": {},
            "_nodes": [
              {
                "id": 1,
                "properties": {
                  "id": "Diabetes",
                  "label": "Disease:__Entity__:Health condition"
                },
                "color": "#2196F3",
                "styles": {},
                "label": "Diabetes",
                "scale_factor": 1,
                "type": "#2196F3",
                "size": [
                  55,
                  55
                ],
                "position": [
                  0,
                  0
                ]
              },
              {
                "id": 2,
                "properties": {
                  "id": "Health Literacy",
                  "label": "Literacy:__Entity__:Variable:Concept"
                },
                "color": "#4CAF50",
                "styles": {},
                "label": "Health Literacy",
                "scale_factor": 1,
                "type": "#4CAF50",
                "size": [
                  55,
                  55
                ],
                "position": [
                  0,
                  0
                ]
              },
              {
                "id": 3,
                "properties": {
                  "id": "Health Care",
                  "label": "Healthcare:__Entity__:Concept"
                },
                "color": "#F44336",
                "styles": {},
                "label": "Health Care",
                "scale_factor": 1,
                "type": "#F44336",
                "size": [
                  55,
                  55
                ],
                "position": [
                  0,
                  0
                ]
              },
              {
                "id": 4,
                "properties": {
                  "id": "Adult Latinos",
                  "label": "__Entity__:Demographic group"
                },
                "color": "#607D8B",
                "styles": {},
                "label": "Adult Latinos",
                "scale_factor": 1,
                "type": "#607D8B",
                "size": [
                  55,
                  55
                ],
                "position": [
                  0,
                  0
                ]
              },
              {
                "id": 86,
                "properties": {
                  "id": "Participants",
                  "label": "__Entity__:Participants:Person"
                },
                "color": "#673AB7",
                "styles": {},
                "label": "Participants",
                "scale_factor": 1,
                "type": "#673AB7",
                "size": [
                  55,
                  55
                ],
                "position": [
                  0,
                  0
                ]
              },
              {
                "id": 5,
                "properties": {
                  "id": "Maren J Coffman",
                  "label": "__Entity__:Person"
                },
                "color": "#CDDC39",
                "styles": {},
                "label": "Maren J Coffman",
                "scale_factor": 1,
                "type": "#CDDC39",
                "size": [
                  55,
                  55
                ],
                "position": [
                  0,
                  0
                ]
              },
              {
                "id": 6,
                "properties": {
                  "id": "Cynthia K Norton",
                  "label": "__Entity__:Person"
                },
                "color": "#CDDC39",
                "styles": {},
                "label": "Cynthia K Norton",
                "scale_factor": 1,
                "type": "#CDDC39",
                "size": [
                  55,
                  55
                ],
                "position": [
                  0,
                  0
                ]
              },
              {
                "id": 7,
                "properties": {
                  "id": "Lara Beene",
                  "label": "__Entity__:Person"
                },
                "color": "#CDDC39",
                "styles": {},
                "label": "Lara Beene",
                "scale_factor": 1,
                "type": "#CDDC39",
                "size": [
                  55,
                  55
                ],
                "position": [
                  0,
                  0
                ]
              },
              {
                "id": 33,
                "properties": {
                  "id": "Blood Glucose Level",
                  "label": "Health indicator:__Entity__"
                },
                "color": "#9E9E9E",
                "styles": {},
                "label": "Blood Glucose Level",
                "scale_factor": 1,
                "type": "#9E9E9E",
                "size": [
                  55,
                  55
                ],
                "position": [
                  0,
                  0
                ]
              },
              {
                "id": 34,
                "properties": {
                  "id": "Diabetes Knowledge",
                  "label": "__Entity__:Variable:Concept"
                },
                "color": "#9C27B0",
                "styles": {},
                "label": "Diabetes Knowledge",
                "scale_factor": 1,
                "type": "#9C27B0",
                "size": [
                  55,
                  55
                ],
                "position": [
                  0,
                  0
                ]
              },
              {
                "id": 35,
                "properties": {
                  "id": "Health Literacy Levels",
                  "label": "__Entity__:Concept"
                },
                "color": "#2196F3",
                "styles": {},
                "label": "Health Literacy Levels",
                "scale_factor": 1,
                "type": "#2196F3",
                "size": [
                  55,
                  55
                ],
                "position": [
                  0,
                  0
                ]
              },
              {
                "id": 36,
                "properties": {
                  "id": "Health Care Services",
                  "label": "Healthcare service:Service:__Entity__:Concept"
                },
                "color": "#4CAF50",
                "styles": {},
                "label": "Health Care Services",
                "scale_factor": 1,
                "type": "#4CAF50",
                "size": [
                  55,
                  55
                ],
                "position": [
                  0,
                  0
                ]
              },
              {
                "id": 37,
                "properties": {
                  "id": "Undiagnosed Diabetes",
                  "label": "__Entity__:Health condition"
                },
                "color": "#F44336",
                "styles": {},
                "label": "Undiagnosed Diabetes",
                "scale_factor": 1,
                "type": "#F44336",
                "size": [
                  55,
                  55
                ],
                "position": [
                  0,
                  0
                ]
              },
              {
                "id": 38,
                "properties": {
                  "id": "Under Treated Diabetes",
                  "label": "__Entity__:Health condition"
                },
                "color": "#F44336",
                "styles": {},
                "label": "Under Treated Diabetes",
                "scale_factor": 1,
                "type": "#F44336",
                "size": [
                  55,
                  55
                ],
                "position": [
                  0,
                  0
                ]
              },
              {
                "id": 39,
                "properties": {
                  "id": "Diabetes Symptoms",
                  "label": "Health indicator:__Entity__:Symptom:Health condition:Variable"
                },
                "color": "#607D8B",
                "styles": {},
                "label": "Diabetes Symptoms",
                "scale_factor": 1,
                "type": "#607D8B",
                "size": [
                  55,
                  55
                ],
                "position": [
                  0,
                  0
                ]
              },
              {
                "id": 158,
                "properties": {
                  "id": "Education Level",
                  "label": "Knowledge:__Entity__"
                },
                "color": "#673AB7",
                "styles": {},
                "label": "Education Level",
                "scale_factor": 1,
                "type": "#673AB7",
                "size": [
                  55,
                  55
                ],
                "position": [
                  0,
                  0
                ]
              },
              {
                "id": 44,
                "properties": {
                  "id": "Diabetes Risk Factors",
                  "label": "__Entity__:Health condition:Concept"
                },
                "color": "#CDDC39",
                "styles": {},
                "label": "Diabetes Risk Factors",
                "scale_factor": 1,
                "type": "#CDDC39",
                "size": [
                  55,
                  55
                ],
                "position": [
                  0,
                  0
                ]
              },
              {
                "id": 182,
                "properties": {
                  "id": "Diagnosed Diabetes",
                  "label": "Diabetes status:__Entity__:Health condition"
                },
                "color": "#9E9E9E",
                "styles": {},
                "label": "Diagnosed Diabetes",
                "scale_factor": 1,
                "type": "#9E9E9E",
                "size": [
                  55,
                  55
                ],
                "position": [
                  0,
                  0
                ]
              },
              {
                "id": 146,
                "properties": {
                  "id": "Symptoms",
                  "label": "Symptoms:__Entity__:Symptom"
                },
                "color": "#9C27B0",
                "styles": {},
                "label": "Symptoms",
                "scale_factor": 1,
                "type": "#9C27B0",
                "size": [
                  55,
                  55
                ],
                "position": [
                  0,
                  0
                ]
              },
              {
                "id": 58,
                "properties": {
                  "id": "Health Care Use",
                  "label": "Healthcare management:__Entity__:Variable:Concept"
                },
                "color": "#2196F3",
                "styles": {},
                "label": "Health Care Use",
                "scale_factor": 1,
                "type": "#2196F3",
                "size": [
                  55,
                  55
                ],
                "position": [
                  0,
                  0
                ]
              },
              {
                "id": 142,
                "properties": {
                  "id": "Years Of Education",
                  "label": "__Entity__:Variable:Education"
                },
                "color": "#4CAF50",
                "styles": {},
                "label": "Years Of Education",
                "scale_factor": 1,
                "type": "#4CAF50",
                "size": [
                  55,
                  55
                ],
                "position": [
                  0,
                  0
                ]
              },
              {
                "id": 149,
                "properties": {
                  "id": "Diabetes Knowledge Questionnaire (Dkq-24)",
                  "label": "Questionnaire:__Entity__"
                },
                "color": "#F44336",
                "styles": {},
                "label": "Diabetes Knowledge Questionnaire (Dkq-24)",
                "scale_factor": 1,
                "type": "#F44336",
                "size": [
                  55,
                  55
                ],
                "position": [
                  0,
                  0
                ]
              },
              {
                "id": 14,
                "properties": {
                  "id": "Latinos",
                  "label": "Group:Ethnicity:__Entity__:Ethnic group:Person"
                },
                "color": "#607D8B",
                "styles": {},
                "label": "Latinos",
                "scale_factor": 1,
                "type": "#607D8B",
                "size": [
                  55,
                  55
                ],
                "position": [
                  0,
                  0
                ]
              },
              {
                "id": 145,
                "properties": {
                  "id": "Hbalc Levels",
                  "label": "Health indicator:__Entity__:Measurement"
                },
                "color": "#673AB7",
                "styles": {},
                "label": "Hbalc Levels",
                "scale_factor": 1,
                "type": "#673AB7",
                "size": [
                  55,
                  55
                ],
                "position": [
                  0,
                  0
                ]
              },
              {
                "id": 193,
                "properties": {
                  "id": "Nurses",
                  "label": "__Entity__:Person"
                },
                "color": "#CDDC39",
                "styles": {},
                "label": "Nurses",
                "scale_factor": 1,
                "type": "#CDDC39",
                "size": [
                  55,
                  55
                ],
                "position": [
                  0,
                  0
                ]
              },
              {
                "id": 194,
                "properties": {
                  "id": "Educators",
                  "label": "__Entity__:Person"
                },
                "color": "#CDDC39",
                "styles": {},
                "label": "Educators",
                "scale_factor": 1,
                "type": "#CDDC39",
                "size": [
                  55,
                  55
                ],
                "position": [
                  0,
                  0
                ]
              },
              {
                "id": 358,
                "properties": {
                  "id": "Materials",
                  "label": "__Entity__:Concept"
                },
                "color": "#2196F3",
                "styles": {},
                "label": "Materials",
                "scale_factor": 1,
                "type": "#2196F3",
                "size": [
                  55,
                  55
                ],
                "position": [
                  0,
                  0
                ]
              },
              {
                "id": 195,
                "properties": {
                  "id": "Low Income Latinos",
                  "label": "__Entity__:Person"
                },
                "color": "#CDDC39",
                "styles": {},
                "label": "Low Income Latinos",
                "scale_factor": 1,
                "type": "#CDDC39",
                "size": [
                  55,
                  55
                ],
                "position": [
                  0,
                  0
                ]
              },
              {
                "id": 196,
                "properties": {
                  "id": "Agency For Health Care Research And Quality",
                  "label": "__Entity__:Organization"
                },
                "color": "#CDDC39",
                "styles": {},
                "label": "Agency For Health Care Research And Quality",
                "scale_factor": 1,
                "type": "#CDDC39",
                "size": [
                  55,
                  55
                ],
                "position": [
                  0,
                  0
                ]
              },
              {
                "id": 359,
                "properties": {
                  "id": "Primary Care Home",
                  "label": "__Entity__:Concept"
                },
                "color": "#2196F3",
                "styles": {},
                "label": "Primary Care Home",
                "scale_factor": 1,
                "type": "#2196F3",
                "size": [
                  55,
                  55
                ],
                "position": [
                  0,
                  0
                ]
              },
              {
                "id": 360,
                "properties": {
                  "id": "Community-Based Health Care",
                  "label": "__Entity__:Concept"
                },
                "color": "#2196F3",
                "styles": {},
                "label": "Community-Based Health Care",
                "scale_factor": 1,
                "type": "#2196F3",
                "size": [
                  55,
                  55
                ],
                "position": [
                  0,
                  0
                ]
              },
              {
                "id": 361,
                "properties": {
                  "id": "Vulnerable Latinos",
                  "label": "__Entity__:Person"
                },
                "color": "#CDDC39",
                "styles": {},
                "label": "Vulnerable Latinos",
                "scale_factor": 1,
                "type": "#CDDC39",
                "size": [
                  55,
                  55
                ],
                "position": [
                  0,
                  0
                ]
              },
              {
                "id": 362,
                "properties": {
                  "id": "Insurance Coverage",
                  "label": "__Entity__:Concept"
                },
                "color": "#2196F3",
                "styles": {},
                "label": "Insurance Coverage",
                "scale_factor": 1,
                "type": "#2196F3",
                "size": [
                  55,
                  55
                ],
                "position": [
                  0,
                  0
                ]
              },
              {
                "id": 363,
                "properties": {
                  "id": "Health Insurance Programs",
                  "label": "__Entity__:Concept"
                },
                "color": "#2196F3",
                "styles": {},
                "label": "Health Insurance Programs",
                "scale_factor": 1,
                "type": "#2196F3",
                "size": [
                  55,
                  55
                ],
                "position": [
                  0,
                  0
                ]
              },
              {
                "id": 307,
                "properties": {
                  "id": "University Of North Carolina At Charlotte",
                  "label": "__Entity__:Organization"
                },
                "color": "#CDDC39",
                "styles": {},
                "label": "University Of North Carolina At Charlotte",
                "scale_factor": 1,
                "type": "#CDDC39",
                "size": [
                  55,
                  55
                ],
                "position": [
                  0,
                  0
                ]
              },
              {
                "id": 19,
                "properties": {
                  "id": "Brigham Young University",
                  "label": "__Entity__"
                },
                "color": "#9E9E9E",
                "styles": {},
                "label": "Brigham Young University",
                "scale_factor": 1,
                "type": "#9E9E9E",
                "size": [
                  55,
                  55
                ],
                "position": [
                  0,
                  0
                ]
              },
              {
                "id": 9,
                "properties": {
                  "id": "Symptom Interpretation Model",
                  "label": "__Entity__:Concept"
                },
                "color": "#2196F3",
                "styles": {},
                "label": "Symptom Interpretation Model",
                "scale_factor": 1,
                "type": "#2196F3",
                "size": [
                  55,
                  55
                ],
                "position": [
                  0,
                  0
                ]
              },
              {
                "id": 10,
                "properties": {
                  "id": "Sim",
                  "label": "Framework:__Entity__:Concept"
                },
                "color": "#9C27B0",
                "styles": {},
                "label": "Sim",
                "scale_factor": 1,
                "type": "#9C27B0",
                "size": [
                  55,
                  55
                ],
                "position": [
                  0,
                  0
                ]
              }
            ],
            "_overview": {
              "enabled": null,
              "overview_set": false
            },
            "_selected_graph": [
              [],
              []
            ],
            "_sidebar": {
              "enabled": true,
              "start_with": ""
            },
            "_view_count": null,
            "_view_module": "yfiles-jupyter-graphs",
            "_view_module_version": "^1.7.3",
            "_view_name": "GraphView",
            "layout": "IPY_MODEL_3d234b9428b54c90af0d422c827ccccb",
            "tabbable": null,
            "tooltip": null
          }
        },
        "3d234b9428b54c90af0d422c827ccccb": {
          "model_module": "@jupyter-widgets/base",
          "model_name": "LayoutModel",
          "model_module_version": "2.0.0",
          "state": {
            "_model_module": "@jupyter-widgets/base",
            "_model_module_version": "2.0.0",
            "_model_name": "LayoutModel",
            "_view_count": null,
            "_view_module": "@jupyter-widgets/base",
            "_view_module_version": "2.0.0",
            "_view_name": "LayoutView",
            "align_content": null,
            "align_items": null,
            "align_self": null,
            "border_bottom": null,
            "border_left": null,
            "border_right": null,
            "border_top": null,
            "bottom": null,
            "display": null,
            "flex": null,
            "flex_flow": null,
            "grid_area": null,
            "grid_auto_columns": null,
            "grid_auto_flow": null,
            "grid_auto_rows": null,
            "grid_column": null,
            "grid_gap": null,
            "grid_row": null,
            "grid_template_areas": null,
            "grid_template_columns": null,
            "grid_template_rows": null,
            "height": "800px",
            "justify_content": null,
            "justify_items": null,
            "left": null,
            "margin": null,
            "max_height": null,
            "max_width": null,
            "min_height": null,
            "min_width": null,
            "object_fit": null,
            "object_position": null,
            "order": null,
            "overflow": null,
            "padding": null,
            "right": null,
            "top": null,
            "visibility": null,
            "width": "100%"
          }
        }
      }
    }
  },
  "cells": [
    {
      "cell_type": "markdown",
      "metadata": {
        "id": "view-in-github",
        "colab_type": "text"
      },
      "source": [
        "<a href=\"https://colab.research.google.com/github/maneeha/KGLLM/blob/main/Diabetes%20-%20Text%20to%20graph%20-%20RAG_With_Knowledge_graph(Neo4j)%20Excel%20and%20Rouge%20Evaluation%20Final.ipynb\" target=\"_parent\"><img src=\"https://colab.research.google.com/assets/colab-badge.svg\" alt=\"Open In Colab\"/></a>"
      ]
    },
    {
      "cell_type": "markdown",
      "source": [
        "# langchain-core\n",
        "\n",
        "contains simple, core abstractions that have emerged as a standard, as well as LangChain Expression Language as a way to compose these components together. This package is now at version 0.1 and all breaking changes will be accompanied by a minor version bump.\n",
        "\n",
        "# langchain-community\n",
        "contains all third party integrations. We will work with partners on splitting key integrations out into standalone packages over the next month.\n",
        "\n",
        "# langchain\n",
        "contains higher-level and use-case specific chains, agents, and retrieval algorithms that are at the core of your application's cognitive architecture. We are targeting a launch of a stable 0.1 release for langchain in early January.#"
      ],
      "metadata": {
        "id": "xB3OyiU14byv"
      }
    },
    {
      "cell_type": "code",
      "source": [
        "%pip install --upgrade --quiet  langchain langchain-community langchain-openai langchain-experimental neo4j wikipedia tiktoken yfiles_jupyter_graphs"
      ],
      "metadata": {
        "colab": {
          "base_uri": "https://localhost:8080/"
        },
        "id": "usWcdmOr7GAH",
        "outputId": "783e6cff-f2b6-471d-85b0-fc7e983daa60"
      },
      "execution_count": 1,
      "outputs": [
        {
          "output_type": "stream",
          "name": "stdout",
          "text": [
            "  Preparing metadata (setup.py) ... \u001b[?25l\u001b[?25hdone\n",
            "\u001b[2K     \u001b[90m━━━━━━━━━━━━━━━━━━━━━━━━━━━━━━━━━━━━━━━━\u001b[0m \u001b[32m50.4/50.4 kB\u001b[0m \u001b[31m1.5 MB/s\u001b[0m eta \u001b[36m0:00:00\u001b[0m\n",
            "\u001b[2K   \u001b[90m━━━━━━━━━━━━━━━━━━━━━━━━━━━━━━━━━━━━━━━━\u001b[0m \u001b[32m997.8/997.8 kB\u001b[0m \u001b[31m5.6 MB/s\u001b[0m eta \u001b[36m0:00:00\u001b[0m\n",
            "\u001b[2K   \u001b[90m━━━━━━━━━━━━━━━━━━━━━━━━━━━━━━━━━━━━━━━━\u001b[0m \u001b[32m2.3/2.3 MB\u001b[0m \u001b[31m14.1 MB/s\u001b[0m eta \u001b[36m0:00:00\u001b[0m\n",
            "\u001b[2K   \u001b[90m━━━━━━━━━━━━━━━━━━━━━━━━━━━━━━━━━━━━━━━━\u001b[0m \u001b[32m49.8/49.8 kB\u001b[0m \u001b[31m2.1 MB/s\u001b[0m eta \u001b[36m0:00:00\u001b[0m\n",
            "\u001b[2K   \u001b[90m━━━━━━━━━━━━━━━━━━━━━━━━━━━━━━━━━━━━━━━━\u001b[0m \u001b[32m204.3/204.3 kB\u001b[0m \u001b[31m6.6 MB/s\u001b[0m eta \u001b[36m0:00:00\u001b[0m\n",
            "\u001b[2K   \u001b[90m━━━━━━━━━━━━━━━━━━━━━━━━━━━━━━━━━━━━━━━━\u001b[0m \u001b[32m293.6/293.6 kB\u001b[0m \u001b[31m8.5 MB/s\u001b[0m eta \u001b[36m0:00:00\u001b[0m\n",
            "\u001b[2K   \u001b[90m━━━━━━━━━━━━━━━━━━━━━━━━━━━━━━━━━━━━━━━━\u001b[0m \u001b[32m1.1/1.1 MB\u001b[0m \u001b[31m24.4 MB/s\u001b[0m eta \u001b[36m0:00:00\u001b[0m\n",
            "\u001b[2K   \u001b[90m━━━━━━━━━━━━━━━━━━━━━━━━━━━━━━━━━━━━━━━━\u001b[0m \u001b[32m15.5/15.5 MB\u001b[0m \u001b[31m16.3 MB/s\u001b[0m eta \u001b[36m0:00:00\u001b[0m\n",
            "\u001b[2K   \u001b[90m━━━━━━━━━━━━━━━━━━━━━━━━━━━━━━━━━━━━━━━━\u001b[0m \u001b[32m139.4/139.4 kB\u001b[0m \u001b[31m7.2 MB/s\u001b[0m eta \u001b[36m0:00:00\u001b[0m\n",
            "\u001b[2K   \u001b[90m━━━━━━━━━━━━━━━━━━━━━━━━━━━━━━━━━━━━━━━━\u001b[0m \u001b[32m389.8/389.8 kB\u001b[0m \u001b[31m15.4 MB/s\u001b[0m eta \u001b[36m0:00:00\u001b[0m\n",
            "\u001b[2K   \u001b[90m━━━━━━━━━━━━━━━━━━━━━━━━━━━━━━━━━━━━━━━━\u001b[0m \u001b[32m140.4/140.4 kB\u001b[0m \u001b[31m5.0 MB/s\u001b[0m eta \u001b[36m0:00:00\u001b[0m\n",
            "\u001b[2K   \u001b[90m━━━━━━━━━━━━━━━━━━━━━━━━━━━━━━━━━━━━━━━━\u001b[0m \u001b[32m361.3/361.3 kB\u001b[0m \u001b[31m12.9 MB/s\u001b[0m eta \u001b[36m0:00:00\u001b[0m\n",
            "\u001b[2K   \u001b[90m━━━━━━━━━━━━━━━━━━━━━━━━━━━━━━━━━━━━━━━━\u001b[0m \u001b[32m75.6/75.6 kB\u001b[0m \u001b[31m2.7 MB/s\u001b[0m eta \u001b[36m0:00:00\u001b[0m\n",
            "\u001b[2K   \u001b[90m━━━━━━━━━━━━━━━━━━━━━━━━━━━━━━━━━━━━━━━━\u001b[0m \u001b[32m77.9/77.9 kB\u001b[0m \u001b[31m3.7 MB/s\u001b[0m eta \u001b[36m0:00:00\u001b[0m\n",
            "\u001b[2K   \u001b[90m━━━━━━━━━━━━━━━━━━━━━━━━━━━━━━━━━━━━━━━━\u001b[0m \u001b[32m318.9/318.9 kB\u001b[0m \u001b[31m10.2 MB/s\u001b[0m eta \u001b[36m0:00:00\u001b[0m\n",
            "\u001b[2K   \u001b[90m━━━━━━━━━━━━━━━━━━━━━━━━━━━━━━━━━━━━━━━━\u001b[0m \u001b[32m49.2/49.2 kB\u001b[0m \u001b[31m2.2 MB/s\u001b[0m eta \u001b[36m0:00:00\u001b[0m\n",
            "\u001b[2K   \u001b[90m━━━━━━━━━━━━━━━━━━━━━━━━━━━━━━━━━━━━━━━━\u001b[0m \u001b[32m141.9/141.9 kB\u001b[0m \u001b[31m7.0 MB/s\u001b[0m eta \u001b[36m0:00:00\u001b[0m\n",
            "\u001b[2K   \u001b[90m━━━━━━━━━━━━━━━━━━━━━━━━━━━━━━━━━━━━━━━━\u001b[0m \u001b[32m2.3/2.3 MB\u001b[0m \u001b[31m28.5 MB/s\u001b[0m eta \u001b[36m0:00:00\u001b[0m\n",
            "\u001b[2K   \u001b[90m━━━━━━━━━━━━━━━━━━━━━━━━━━━━━━━━━━━━━━━━\u001b[0m \u001b[32m58.3/58.3 kB\u001b[0m \u001b[31m2.7 MB/s\u001b[0m eta \u001b[36m0:00:00\u001b[0m\n",
            "\u001b[?25h  Building wheel for wikipedia (setup.py) ... \u001b[?25l\u001b[?25hdone\n"
          ]
        }
      ]
    },
    {
      "cell_type": "code",
      "source": [
        "from langchain_core.runnables import (\n",
        "    RunnableBranch,\n",
        "    RunnableLambda,\n",
        "    RunnableParallel,\n",
        "    RunnablePassthrough,\n",
        ")"
      ],
      "metadata": {
        "id": "q8EzdaTJFTbx"
      },
      "execution_count": 2,
      "outputs": []
    },
    {
      "cell_type": "code",
      "source": [
        "from langchain_core.prompts import ChatPromptTemplate\n",
        "from langchain_core.prompts.prompt import PromptTemplate"
      ],
      "metadata": {
        "id": "vKkxxyasFWPh"
      },
      "execution_count": 3,
      "outputs": []
    },
    {
      "cell_type": "code",
      "source": [
        "from google.colab import userdata\n",
        "OPENAI_API_KEY=userdata.get('OPENAI_API_KEY')"
      ],
      "metadata": {
        "id": "SksHz3Q356JQ"
      },
      "execution_count": 4,
      "outputs": []
    },
    {
      "cell_type": "code",
      "source": [
        "from typing import Tuple, List, Optional"
      ],
      "metadata": {
        "id": "GCEgNy7LFXS4"
      },
      "execution_count": 5,
      "outputs": []
    },
    {
      "cell_type": "code",
      "source": [
        "from langchain_core.messages import AIMessage, HumanMessage\n",
        "from langchain_core.output_parsers import StrOutputParser"
      ],
      "metadata": {
        "id": "ymZquwggFaNr"
      },
      "execution_count": 6,
      "outputs": []
    },
    {
      "cell_type": "code",
      "source": [
        "from langchain_core.runnables import ConfigurableField"
      ],
      "metadata": {
        "id": "nitfT-ktFaQQ"
      },
      "execution_count": 7,
      "outputs": []
    },
    {
      "cell_type": "code",
      "source": [
        "from yfiles_jupyter_graphs import GraphWidget\n",
        "from neo4j import GraphDatabase\n"
      ],
      "metadata": {
        "id": "fzOPupw0FaSy"
      },
      "execution_count": 8,
      "outputs": []
    },
    {
      "cell_type": "code",
      "source": [
        "import os"
      ],
      "metadata": {
        "id": "g6kjt1HkFaVZ"
      },
      "execution_count": 9,
      "outputs": []
    },
    {
      "cell_type": "code",
      "source": [
        "try:\n",
        "  import google.colab\n",
        "  from google.colab import output\n",
        "  output.enable_custom_widget_manager()\n",
        "except:\n",
        "  pass"
      ],
      "metadata": {
        "id": "IR5TLMjpFhE-"
      },
      "execution_count": 10,
      "outputs": []
    },
    {
      "cell_type": "code",
      "source": [
        "from langchain_community.vectorstores import Neo4jVector"
      ],
      "metadata": {
        "id": "pSgOwI9SFhHr"
      },
      "execution_count": 11,
      "outputs": []
    },
    {
      "cell_type": "code",
      "source": [
        "from google.colab import userdata\n",
        "OPENAI_API_KEY=userdata.get('OPENAI_API_KEY')"
      ],
      "metadata": {
        "id": "lyOvwiijFlQF"
      },
      "execution_count": 12,
      "outputs": []
    },
    {
      "cell_type": "code",
      "source": [
        "NEO4J_URI=\"neo4j+s://2ff1ce5d.databases.neo4j.io\"\n",
        "NEO4J_USERNAME=\"neo4j\"\n",
        "NEO4J_PASSWORD=\"jaCuHWs8uM_CmCjPhp99hukq8pwbt-ud5B9pZ-qIjtQ\""
      ],
      "metadata": {
        "id": "YiKFX23n4tl3"
      },
      "execution_count": 13,
      "outputs": []
    },
    {
      "cell_type": "code",
      "source": [
        "os.environ[\"OPENAI_API_KEY\"] = OPENAI_API_KEY\n",
        "os.environ[\"NEO4J_URI\"] = NEO4J_URI\n",
        "os.environ[\"NEO4J_USERNAME\"] = NEO4J_USERNAME\n",
        "os.environ[\"NEO4J_PASSWORD\"] = NEO4J_PASSWORD"
      ],
      "metadata": {
        "id": "gHiqiwau7Tat"
      },
      "execution_count": 14,
      "outputs": []
    },
    {
      "cell_type": "code",
      "source": [
        "from langchain_community.graphs import Neo4jGraph"
      ],
      "metadata": {
        "id": "zpIPagYu6BAp"
      },
      "execution_count": 15,
      "outputs": []
    },
    {
      "cell_type": "code",
      "source": [
        "graph = Neo4jGraph()"
      ],
      "metadata": {
        "id": "0xzi4bRD6Bx9"
      },
      "execution_count": 16,
      "outputs": []
    },
    {
      "cell_type": "code",
      "source": [
        "from google.colab import drive\n",
        "drive.mount('/content/drive')\n"
      ],
      "metadata": {
        "colab": {
          "base_uri": "https://localhost:8080/"
        },
        "id": "jCxkpK10bVJV",
        "outputId": "bb7501c5-7195-460d-a229-efbaf9f9f239"
      },
      "execution_count": 17,
      "outputs": [
        {
          "output_type": "stream",
          "name": "stdout",
          "text": [
            "Mounted at /content/drive\n"
          ]
        }
      ]
    },
    {
      "cell_type": "code",
      "source": [
        "from langchain.document_loaders import TextLoader"
      ],
      "metadata": {
        "id": "NlX55KttcBzG"
      },
      "execution_count": 18,
      "outputs": []
    },
    {
      "cell_type": "code",
      "source": [
        "file_paths = [\"/content/drive/MyDrive/refined/20121CoffmanNortonBeene.txt\", \"/content/drive/MyDrive/refined/insulin.txt\", \"/content/drive/MyDrive/refined/Blood gulocose monitoring.txt\", \"/content/drive/MyDrive/refined/blood gulocose.txt\", \"/content/drive/MyDrive/refined/complications.txt\", \"/content/drive/MyDrive/refined/diabetes awareness_TXT.txt\", \"/content/drive/MyDrive/refined/diabetes exercise.txt\", \"/content/drive/MyDrive/refined/diabetes in pregnancy.txt\", \"/content/drive/MyDrive/refined/Diabetes medication_TXT.txt\" , \"/content/drive/MyDrive/refined/diabetes monitoring_TXT.txt\" , \"/content/drive/MyDrive/refined/Diabetes Nutrition.txt\", \"/content/drive/MyDrive/refined/diabetes stress mgmt_TXT.txt\" , \"/content/drive/MyDrive/refined/Diabetes symptoms.txt\", \"/content/drive/MyDrive/refined/Diabetes tech_TXT.txt\", \"/content/drive/MyDrive/refined/Effectiveness of diabetes education and awareness of diabetes mellitus  in  combating  diabetes  in  the  United  Kigdom;  a  literature review .txt\", \"/content/drive/MyDrive/refined/gulocose monitoring.txt\", \"/content/drive/MyDrive/refined/KnowledgeofDMgeneralpublicKL.txt\", \"/content/drive/MyDrive/refined/Public knowledge and awareness of diabetes mellitus, its risk factors, complications, and prevention methods among adults in Poland—A 2022 nationwide cross-sectional survey _ Enhanced Reader.txt\", \"/content/drive/MyDrive/refined/Type 1 diabetes.txt\"]  # Add your file paths here\n",
        "raw_documents = []\n",
        "for file_path in file_paths:\n",
        "    loader = TextLoader(file_path)\n",
        "    raw_documents.extend(loader.load())\n"
      ],
      "metadata": {
        "id": "bg52eXJiZpHI"
      },
      "execution_count": 19,
      "outputs": []
    },
    {
      "cell_type": "code",
      "source": [
        "#from langchain.document_loaders import WikipediaLoader\n",
        "#raw_documents = WikipediaLoader(query=\"Diabetes_management\").load()"
      ],
      "metadata": {
        "id": "XKqtMDVY6WwW"
      },
      "execution_count": null,
      "outputs": []
    },
    {
      "cell_type": "code",
      "source": [
        "len(raw_documents)"
      ],
      "metadata": {
        "colab": {
          "base_uri": "https://localhost:8080/"
        },
        "id": "ACWeDt0O7yc2",
        "outputId": "2b807adf-4043-4ff1-ac14-11718ffdcdda"
      },
      "execution_count": 20,
      "outputs": [
        {
          "output_type": "execute_result",
          "data": {
            "text/plain": [
              "19"
            ]
          },
          "metadata": {},
          "execution_count": 20
        }
      ]
    },
    {
      "cell_type": "code",
      "source": [
        "#raw_documents[:3]"
      ],
      "metadata": {
        "id": "skFy3n30732l"
      },
      "execution_count": null,
      "outputs": []
    },
    {
      "cell_type": "code",
      "source": [
        "from langchain.text_splitter import TokenTextSplitter\n",
        "text_splitter = TokenTextSplitter(chunk_size=512, chunk_overlap=24)\n",
        "documents = text_splitter.split_documents(raw_documents)"
      ],
      "metadata": {
        "id": "5ChZ008I6paW"
      },
      "execution_count": 21,
      "outputs": []
    },
    {
      "cell_type": "code",
      "source": [
        "from langchain_openai import ChatOpenAI\n",
        "llm=ChatOpenAI(temperature=0, model_name=\"gpt-3.5-turbo-0125\")"
      ],
      "metadata": {
        "id": "IMh_IpRb78rs"
      },
      "execution_count": 22,
      "outputs": []
    },
    {
      "cell_type": "code",
      "source": [
        "from langchain_experimental.graph_transformers import LLMGraphTransformer\n",
        "llm_transformer = LLMGraphTransformer(llm=llm)"
      ],
      "metadata": {
        "id": "Mer51fZA9pa1"
      },
      "execution_count": null,
      "outputs": []
    },
    {
      "cell_type": "code",
      "source": [
        "graph_documents = llm_transformer.convert_to_graph_documents(documents)"
      ],
      "metadata": {
        "id": "pZP64uFM9vLk"
      },
      "execution_count": null,
      "outputs": []
    },
    {
      "cell_type": "code",
      "source": [
        "graph_documents"
      ],
      "metadata": {
        "id": "3Nwjd5yR92VE"
      },
      "execution_count": 23,
      "outputs": []
    },
    {
      "cell_type": "code",
      "source": [
        "graph.add_graph_documents(\n",
        "    graph_documents,\n",
        "    baseEntityLabel=True,\n",
        "    include_source=True\n",
        ")"
      ],
      "metadata": {
        "id": "ib_g3U1d97th"
      },
      "execution_count": null,
      "outputs": []
    },
    {
      "cell_type": "code",
      "source": [
        "import pandas as pd\n"
      ],
      "metadata": {
        "id": "163zuCom3X-h"
      },
      "execution_count": 24,
      "outputs": []
    },
    {
      "cell_type": "code",
      "source": [
        "graph"
      ],
      "metadata": {
        "colab": {
          "base_uri": "https://localhost:8080/"
        },
        "id": "bwSw6ianNz0f",
        "outputId": "4323d6b7-c562-4361-e564-cd837d172e0b"
      },
      "execution_count": 25,
      "outputs": [
        {
          "output_type": "execute_result",
          "data": {
            "text/plain": [
              "<langchain_community.graphs.neo4j_graph.Neo4jGraph at 0x7f109c97c6d0>"
            ]
          },
          "metadata": {},
          "execution_count": 25
        }
      ]
    },
    {
      "cell_type": "code",
      "source": [
        "# directly show the graph resulting from the given Cypher query\n",
        "default_cypher = \"MATCH (s)-[r:!MENTIONS]->(t) RETURN s,r,t LIMIT 7000\"\n",
        "default_cypher"
      ],
      "metadata": {
        "id": "rC-4O5FQ99yH",
        "outputId": "4093a8a5-4d36-462f-cd3d-3e340c6300df",
        "colab": {
          "base_uri": "https://localhost:8080/",
          "height": 35
        }
      },
      "execution_count": 26,
      "outputs": [
        {
          "output_type": "execute_result",
          "data": {
            "text/plain": [
              "'MATCH (s)-[r:!MENTIONS]->(t) RETURN s,r,t LIMIT 7000'"
            ],
            "application/vnd.google.colaboratory.intrinsic+json": {
              "type": "string"
            }
          },
          "metadata": {},
          "execution_count": 26
        }
      ]
    },
    {
      "cell_type": "code",
      "source": [
        "from yfiles_jupyter_graphs import GraphWidget\n",
        "from neo4j import GraphDatabase"
      ],
      "metadata": {
        "id": "K-91BluK_62t"
      },
      "execution_count": 27,
      "outputs": []
    },
    {
      "cell_type": "code",
      "source": [
        "try:\n",
        "  import google.colab\n",
        "  from google.colab import output\n",
        "  output.enable_custom_widget_manager()\n",
        "except:\n",
        "  pass"
      ],
      "metadata": {
        "id": "djVL6Gh4_4sV"
      },
      "execution_count": 28,
      "outputs": []
    },
    {
      "cell_type": "code",
      "source": [
        "def showGraph(cypher: str = default_cypher):\n",
        "    # create a neo4j session to run queries\n",
        "    driver = GraphDatabase.driver(\n",
        "        uri = os.environ[\"NEO4J_URI\"],\n",
        "        auth = (os.environ[\"NEO4J_USERNAME\"],\n",
        "                os.environ[\"NEO4J_PASSWORD\"]))\n",
        "    session = driver.session()\n",
        "    widget = GraphWidget(graph = session.run(cypher).graph())\n",
        "    widget.node_label_mapping = 'id'\n",
        "    display(widget)\n",
        "    return widget"
      ],
      "metadata": {
        "id": "0Ll2WNnO-Ahf"
      },
      "execution_count": 29,
      "outputs": []
    },
    {
      "cell_type": "code",
      "source": [
        "showGraph()"
      ],
      "metadata": {
        "colab": {
          "base_uri": "https://localhost:8080/",
          "height": 1000,
          "referenced_widgets": [
            "c9530a5a6f05456d8745a4fb10a68469",
            "3d234b9428b54c90af0d422c827ccccb"
          ]
        },
        "id": "kz-O4c0k-C_4",
        "outputId": "fc3c96af-1437-4f10-b424-218c6ddd0942"
      },
      "execution_count": null,
      "outputs": [
        {
          "output_type": "display_data",
          "data": {
            "text/plain": [
              "GraphWidget(layout=Layout(height='800px', width='100%'))"
            ],
            "application/vnd.jupyter.widget-view+json": {
              "version_major": 2,
              "version_minor": 0,
              "model_id": "c9530a5a6f05456d8745a4fb10a68469"
            }
          },
          "metadata": {
            "application/vnd.jupyter.widget-view+json": {
              "colab": {
                "custom_widget_manager": {
                  "url": "https://ssl.gstatic.com/colaboratory-static/widgets/colab-cdn-widget-manager/2b70e893a8ba7c0f/manager.min.js"
                }
              }
            }
          }
        },
        {
          "output_type": "display_data",
          "data": {
            "text/plain": [
              "GraphWidget(layout=Layout(height='800px', width='100%'))"
            ],
            "application/vnd.jupyter.widget-view+json": {
              "version_major": 2,
              "version_minor": 0,
              "model_id": "c9530a5a6f05456d8745a4fb10a68469"
            }
          },
          "metadata": {
            "application/vnd.jupyter.widget-view+json": {
              "colab": {
                "custom_widget_manager": {
                  "url": "https://ssl.gstatic.com/colaboratory-static/widgets/colab-cdn-widget-manager/2b70e893a8ba7c0f/manager.min.js"
                }
              }
            }
          }
        }
      ]
    },
    {
      "cell_type": "code",
      "source": [
        "from typing import Tuple, List, Optional"
      ],
      "metadata": {
        "id": "zHSkb7LeBghn"
      },
      "execution_count": 30,
      "outputs": []
    },
    {
      "cell_type": "code",
      "source": [
        "from langchain_community.vectorstores import Neo4jVector"
      ],
      "metadata": {
        "id": "TuDVi4vHBjXP"
      },
      "execution_count": 31,
      "outputs": []
    },
    {
      "cell_type": "code",
      "source": [
        "from langchain_openai import OpenAIEmbeddings\n",
        "vector_index = Neo4jVector.from_existing_graph(\n",
        "    OpenAIEmbeddings(),\n",
        "    search_type=\"hybrid\",\n",
        "    node_label=\"Document\",\n",
        "    text_node_properties=[\"text\"],\n",
        "    embedding_node_property=\"embedding\"\n",
        ")"
      ],
      "metadata": {
        "id": "M_JloAimBlcK"
      },
      "execution_count": 32,
      "outputs": []
    },
    {
      "cell_type": "code",
      "source": [
        "graph.query(\"CREATE FULLTEXT INDEX entity IF NOT EXISTS FOR (e:__Entity__) ON EACH [e.id]\")"
      ],
      "metadata": {
        "colab": {
          "base_uri": "https://localhost:8080/"
        },
        "id": "e0EXdSStG-Oe",
        "outputId": "5a05b1d4-1cce-4680-9021-86668b23de0f"
      },
      "execution_count": 33,
      "outputs": [
        {
          "output_type": "execute_result",
          "data": {
            "text/plain": [
              "[]"
            ]
          },
          "metadata": {},
          "execution_count": 33
        }
      ]
    },
    {
      "cell_type": "code",
      "source": [
        "from langchain_core.pydantic_v1 import BaseModel, Field\n",
        "# Extract entities from text\n",
        "class Entities(BaseModel):\n",
        "    \"\"\"Identifying information about entities.\"\"\"\n",
        "\n",
        "    names: List[str] = Field(\n",
        "        ...,\n",
        "        description=\"All the diabetes related entities that \"\n",
        "        \"appear in the text\",\n",
        "    )\n"
      ],
      "metadata": {
        "id": "qksArGKrAvie"
      },
      "execution_count": 35,
      "outputs": []
    },
    {
      "cell_type": "code",
      "source": [
        "from langchain_core.prompts import ChatPromptTemplate\n",
        "from langchain_core.prompts.prompt import PromptTemplate"
      ],
      "metadata": {
        "id": "Mx6sfpgRBrs-"
      },
      "execution_count": 36,
      "outputs": []
    },
    {
      "cell_type": "code",
      "source": [
        "prompt = ChatPromptTemplate.from_messages(\n",
        "    [\n",
        "        (\n",
        "            \"system\",\n",
        "            \"You are extracting diabetes symptoms diabetes medication diabetes exercise diabetes insulin diabetes technology diabetes nutrition diabetes types diabetes management diabetes prevention diabetes cure and diabetes care related entities from the text.\",\n",
        "        ),\n",
        "        (\n",
        "            \"human\",\n",
        "            \"Use the given format to extract information from the following \"\n",
        "            \"input: {question}\",\n",
        "        ),\n",
        "    ]\n",
        ")"
      ],
      "metadata": {
        "id": "xUobRC1wAx-_"
      },
      "execution_count": 37,
      "outputs": []
    },
    {
      "cell_type": "code",
      "source": [
        "entity_chain = prompt | llm.with_structured_output(Entities)"
      ],
      "metadata": {
        "id": "KGR6ocjkA0I_"
      },
      "execution_count": 38,
      "outputs": []
    },
    {
      "cell_type": "code",
      "source": [
        "entity_chain.invoke({\"question\": \"At what age diabetes risk gets increased?\"}).names"
      ],
      "metadata": {
        "colab": {
          "base_uri": "https://localhost:8080/"
        },
        "id": "xPLkIEmkA2R2",
        "outputId": "7b9a91cd-183f-4c56-f371-0b386d0507c6"
      },
      "execution_count": 39,
      "outputs": [
        {
          "output_type": "execute_result",
          "data": {
            "text/plain": [
              "['diabetes risk']"
            ]
          },
          "metadata": {},
          "execution_count": 39
        }
      ]
    },
    {
      "cell_type": "code",
      "source": [
        "from langchain_community.vectorstores.neo4j_vector import remove_lucene_chars"
      ],
      "metadata": {
        "id": "RpbOzL5BA6hW"
      },
      "execution_count": 40,
      "outputs": []
    },
    {
      "cell_type": "code",
      "source": [
        "def generate_full_text_query(input: str) -> str:\n",
        "    full_text_query = \"\"\n",
        "    words = [el for el in remove_lucene_chars(input).split() if el]\n",
        "    for word in words[:-1]:\n",
        "        full_text_query += f\" {word}~2 AND\"\n",
        "    full_text_query += f\" {words[-1]}~2\"\n",
        "    return full_text_query.strip()\n"
      ],
      "metadata": {
        "id": "7gHCkvGKA86t"
      },
      "execution_count": 41,
      "outputs": []
    },
    {
      "cell_type": "code",
      "source": [
        "# Fulltext index query\n",
        "def structured_retriever(question: str) -> str:\n",
        "    result = \"\"\n",
        "    entities = entity_chain.invoke({\"question\": question})\n",
        "    for entity in entities.names:\n",
        "        response = graph.query(\n",
        "            \"\"\"CALL db.index.fulltext.queryNodes('entity', $query, {limit:10})\n",
        "            YIELD node,score\n",
        "            CALL {\n",
        "              WITH node\n",
        "              MATCH (node)-[r:!MENTIONS]->(neighbor)\n",
        "              RETURN node.id + ' - ' + type(r) + ' -> ' + neighbor.id AS output\n",
        "              UNION ALL\n",
        "              WITH node\n",
        "              MATCH (node)<-[r:!MENTIONS]-(neighbor)\n",
        "              RETURN neighbor.id + ' - ' + type(r) + ' -> ' +  node.id AS output\n",
        "            }\n",
        "            RETURN output LIMIT 7000\n",
        "            \"\"\",\n",
        "            {\"query\": generate_full_text_query(entity)},\n",
        "        )\n",
        "        result += \"\\n\".join([el['output'] for el in response])\n",
        "    return result"
      ],
      "metadata": {
        "id": "kjPkmFJbA_lv"
      },
      "execution_count": 42,
      "outputs": []
    },
    {
      "cell_type": "code",
      "source": [
        "print(structured_retriever(\"What Diabetes is?\"))"
      ],
      "metadata": {
        "colab": {
          "base_uri": "https://localhost:8080/"
        },
        "id": "nIla9QpzBA8u",
        "outputId": "77ce94d2-3b50-4a96-e6e7-b4eaee34d232"
      },
      "execution_count": 43,
      "outputs": [
        {
          "output_type": "stream",
          "name": "stdout",
          "text": [
            "Acta Diabetol - PUBLISHED_ARTICLE -> Narlidere Health District\n",
            "Diabet Med. - PUBLISHED_IN -> Public Awareness\n",
            "Insulin Treatment - PUBLISHED_IN -> Diabet Med\n",
            "Diabetes - ASSOCIATED_WITH -> Diabetic Cardiomyopathy\n",
            "Diabetic Adults - PUBLISHED_IN -> Dodd, M.\n",
            "Diabetic Adults - PUBLISHED_IN -> Doty, M. M.\n",
            "Diabetic Adults - PUBLISHED_IN -> Garcia, A. A.\n",
            "Diabetic Adults - PUBLICATION -> Dodd, M.\n",
            "Diabetic Adults - PUBLICATION -> Doty, M. M.\n",
            "Diabetic Adults - PUBLICATION -> Garcia, A. A.\n",
            "Diabetic Retinopathy - AFFECTS -> United States\n",
            "Diabetic Retinopathy - AFFECTS -> Peripheral Retina\n",
            "Diabetic Retinopathy - AFFECTS -> Macula\n",
            "Diabetic Retinopathy - USED_FOR -> Panretinal Laser Photocoagulation\n",
            "Diabetic Retinopathy - USED_FOR -> Vegf Inhibitors\n",
            "Diabetic Retinopathy - ASSOCIATED_WITH -> Hypertension\n",
            "Diabetic Retinopathy - ASSOCIATED_WITH -> Insulin Resistance\n",
            "Diabetic Retinopathy - ASSOCIATED_WITH -> Body Mass Index\n",
            "Diabetic Retinopathy - ASSOCIATED_WITH -> Tobacco Use\n",
            "Diabetic Retinopathy - ASSOCIATED_WITH -> Abnormal Blood Lipid Levels\n",
            "Diabetic Retinopathy - ASSOCIATED_WITH -> Pregnancy\n",
            "Diabetic Retinopathy - ASSOCIATED_WITH -> Renal Disease\n",
            "Diabetic Retinopathy - ASSOCIATED_WITH -> Elevated Homocysteine Levels\n",
            "Diabetic Retinopathy - ASSOCIATED_WITH -> High Fat Diet\n",
            "Diabetic Retinopathy - CAUSE -> Vision Problems\n",
            "Diabetic Retinopathy - CAUSE -> Visual Disability\n",
            "Diabetic Retinopathy - CAUSE -> Blindness\n",
            "Diabetic Retinopathy - CAUSES -> Blindness\n",
            "Diabetic Retinopathy - COMMON_CAUSE_OF -> United States\n",
            "Diabetic Retinopathy - CHARACTERIZED_BY -> Retinal Capillary Microaneurysms\n",
            "Diabetic Retinopathy - CHARACTERIZED_BY -> Neovascularization\n",
            "Diabetic Retinopathy - CHARACTERIZED_BY -> Macular Edema\n",
            "Diabetic Retinopathy - CAN_DEVELOP_INTO -> Blurring\n",
            "Diabetic Retinopathy - CAN_DEVELOP_INTO -> Vitreous Detachment\n",
            "Diabetic Retinopathy - CAN_DEVELOP_INTO -> Retinal Detachment\n",
            "Diabetic Retinopathy - CAN_DEVELOP_INTO -> Vision Loss\n",
            "Diabetic Retinopathy - DIAGNOSED_BY -> Ophthalmologist\n",
            "Diabetic Retinopathy - DIAGNOSED_BY -> Diagnosis\n",
            "Diabetic Retinopathy - SCREENING_IN -> Type 2 Diabetes\n",
            "Diabetic Retinopathy - SCREENING_IN -> Type 1 Diabetes\n",
            "Diabetic Retinopathy - PERFORMED_BY -> Screening\n",
            "Diabetic Retinopathy - CRITICAL_FOR -> Early Detection\n",
            "Diabetic Retinopathy - INCLUDES -> Treatment\n",
            "Diabetic Retinopathy - INCLUDES -> Background Retinopathy\n",
            "Diabetic Retinopathy - INCLUDES -> Nonproliferative Retinopathy\n",
            "Diabetic Retinopathy - INCLUDES -> Preproliferative Retinopathy\n",
            "Diabetic Retinopathy - INCLUDES -> Proliferative Diabetic Retinopathy\n",
            "Diabetic Retinopathy - PART_OF -> Glycemic Control\n",
            "Diabetic Retinopathy - PART_OF -> Blood Pressure Control\n",
            "Diabetic Retinopathy - CAN_CAUSE -> Macular Edema\n",
            "Diabetic Retinopathy - INVOLVES -> Background Retinopathy\n",
            "Diabetic Retinopathy - REQUIRE -> Mild Non-Proliferative Retinopathy\n",
            "Diabetic Retinopathy - RECOMMENDS -> Dilated Eye Examinations\n",
            "Diabetic Retinopathy - PROGRESSION -> Retinopathy Stages\n",
            "Diabetic Retinopathy - PRECAUTION -> Physical Activity\n",
            "Diabetic Retinopathy - AVOID -> Moderate To Severe Non-Proliferative Retinopathy\n",
            "Diabetic Retinopathy - REQUIRES_MONITORING -> Pregnancy\n",
            "Diabetic Retinopathy - REQUIRES_TREATMENT -> Pregnancy\n",
            "Diabetic Retinopathy - RECOMMENDED_STARTING_AT -> Screening\n",
            "Diabetic Retinopathy - REDUCES_VISION_LOSS_FOR -> Laser Treatment\n",
            "Diabetic Retinopathy - REDUCES_VISION_LOSS_FOR -> Intravitreal Injections\n",
            "Diabetic Retinopathy - COMPLICATION_TYPE -> Renal Complications\n",
            "Glycemic Control - INFLUENCES -> Diabetic Retinopathy\n",
            "Vascular Complications - INCLUDES -> Diabetic Retinopathy\n",
            "High Risk Criteria - INCLUDE -> Diabetic Retinopathy\n",
            "Type 2 Diabetes - COUNSELED_ON -> Diabetic Retinopathy\n",
            "Type 1 Diabetes - COUNSELED_ON -> Diabetic Retinopathy\n",
            "Stages - PROGRESSES_THROUGH -> Diabetic Retinopathy\n",
            "Glycemic Control - OPTIMIZE -> Diabetic Retinopathy\n",
            "Blood Pressure Control - OPTIMIZE -> Diabetic Retinopathy\n",
            "Serum Lipid Control - OPTIMIZE -> Diabetic Retinopathy\n",
            "Type 1 Diabetes Mellitus - DEFINED_CONDITION -> Diabetic Retinopathy\n",
            "Radiculopathies - CAN_CAUSE -> Diabetic Amyotrophy\n",
            "Diabetic Nephropathy - ASSOCIATED_WITH -> Cardiovascular Disease\n",
            "Diabetic Nephropathy - FIRST_SIGN -> Proteinuria\n",
            "Diabetic Nephropathy - TREATMENT_OPTION -> Ace Inhibitor\n",
            "Diabetic Nephropathy - TREATMENT_OPTION -> Arb\n",
            "Diabetic Nephropathy - TREATMENT_OPTION -> Candesartan\n",
            "Diabetic Nephropathy - TREATMENT_OPTION -> Lisinopril\n",
            "Diabetic Nephropathy - TREATMENT_OPTION -> Enalapril\n",
            "Diabetic Nephropathy - TREATMENT_OPTION -> Losartan\n",
            "Diabetic Nephropathy - TREATMENT_OPTION -> Finerenone\n",
            "Diabetic Nephropathy - CAUSES -> Glomerular Hypertension\n",
            "Diabetic Nephropathy - CAUSES -> Gfr Decline\n",
            "Diabetic Nephropathy - IS_CHARACTERIZED_BY -> Proteinuria\n",
            "Diabetic Nephropathy - IS_CHARACTERIZED_BY -> Glomerular Hyalinization\n",
            "Diabetic Nephropathy - IS_CHARACTERIZED_BY -> Chronic Renal Failure\n",
            "Diabetic Nephropathy - CHARACTERIZED_BY -> Glomerular Basement Membrane\n",
            "Diabetic Nephropathy - CHARACTERIZED_BY -> Mesangial Expansion\n",
            "Diabetic Nephropathy - CHARACTERIZED_BY -> Glomerular Sclerosis\n",
            "Diabetic Nephropathy - LEADING_CAUSE_OF -> United States\n",
            "Diabetic Nephropathy - MAY_ACCELERATE_PROGRESSION_OF -> Systemic Hypertension\n",
            "Diabetic Nephropathy - DEVELOPS_INTO -> Nephrotic Syndrome\n",
            "Diabetic Nephropathy - DEVELOPS_INTO -> Kidney Failure\n",
            "Diabetic Nephropathy - DETECTION_BY -> Urinary Albumin\n",
            "Diabetic Nephropathy - EARLY_DETECTION_THROUGH -> Albumin\n",
            "Diabetic Nephropathy - RECOMMENDED_TREATMENT -> Ace Inhibitor\n",
            "Diabetic Nephropathy - RECOMMENDED_TREATMENT -> Angiotensin Ii Receptor Blocker\n",
            "Diabetic Nephropathy - RECOMMENDED_TREATMENT -> Sglt-2 Inhibitors\n",
            "Diabetic Nephropathy - RECOMMENDED_TREATMENT -> Fineronone\n",
            "Diabetic Nephropathy - IMPACT_ON -> Glomerular Filtration Rate (Gfr)\n",
            "Diabetic Nephropathy - CONSIDER -> Kidney Disease\n",
            "Single-Nucleotide Polymorphisms - AFFECTS -> Diabetic Nephropathy\n",
            "Capillaries - LEADS_TO -> Diabetic Nephropathy\n",
            "Arterioles - LEADS_TO -> Diabetic Nephropathy\n",
            "Genetic Factors - INFLUENCES -> Diabetic Nephropathy\n",
            "Single-Nucleotide Polymorphisms - INFLUENCES -> Diabetic Nephropathy\n",
            "Diabetes - COMPLICATION -> Diabetic Nephropathy\n",
            "Diabetic Kidney Disease - CAUSE -> Diabetic Nephropathy\n",
            "Contrast Media - INDUCES -> Diabetic Nephropathy\n",
            "Esrd - COMPLICATION_OF -> Diabetic Nephropathy\n",
            "Glomerulosclerosis - BEGINS_IN -> Diabetic Nephropathy\n",
            "Diabetic Neuropathy - ASSOCIATED_WITH -> Peripheral Neuropathy\n",
            "Diabetic Neuropathy - ASSOCIATED_WITH -> Diabetic Lumbosacral Plexopathy\n",
            "Diabetic Neuropathy - TYPE_OF -> Autonomic Neuropathy\n",
            "Diabetic Neuropathy - TYPE_OF -> Symmetric Polyneuropathy\n",
            "Diabetic Neuropathy - TYPE_OF -> Radiculopathy\n",
            "Diabetic Neuropathy - TYPE_OF -> Cranial Neuropathy\n",
            "Diabetic Neuropathy - TYPE_OF -> Mononeuropathy\n",
            "Diabetic Neuropathy - COMPLICATION_OF -> Type 1 Diabetes Mellitus (Dm)\n",
            "Diabetic Neuropathy - CONSISTS_OF -> Autonomic Neuropathy\n",
            "Diabetic Neuropathy - CONSISTS_OF -> Peripheral Distal Symmetrical Polyneuropathy\n",
            "Diabetic Neuropathy - CONSISTS_OF -> Proximal Painful Motor Neuropathy\n",
            "Diabetic Neuropathy - CONSISTS_OF -> Cranial Mononeuropathy\n",
            "Diabetic Neuropathy - CLASSIFICATION -> Types\n",
            "Diabetic Neuropathy - TYPE_OF_NEUROPATHY -> Acute-Onset Mononeuropathies\n",
            "Diabetic Pn - INVOLVES_VARIETY_OF_TESTS -> Clinical Setting\n",
            "Diabetic Pn - MEASUREMENT_OF -> Peripheral Light Touch\n",
            "Diabetic Pn - MEASUREMENT_OF -> Vibration Sense\n",
            "Demyelination - ASSOCIATED_WITH -> Diabetic Pn\n"
          ]
        }
      ]
    },
    {
      "cell_type": "code",
      "source": [
        "def retriever(question: str):\n",
        "    print(f\"Search query: {question}\")\n",
        "    structured_data = structured_retriever(question)\n",
        "    unstructured_data = [el.page_content for el in vector_index.similarity_search(question)]\n",
        "    final_data = f\"\"\"Structured data:\n",
        "{structured_data}\n",
        "Unstructured data:\n",
        "{\"#Document \". join(unstructured_data)}\n",
        "    \"\"\"\n",
        "    return final_data"
      ],
      "metadata": {
        "id": "Zo1QoB_iBDfO"
      },
      "execution_count": 44,
      "outputs": []
    },
    {
      "cell_type": "code",
      "source": [
        "_template = \"\"\"Given the following conversation and a follow up question, rephrase the follow up question to be a standalone question,\n",
        "in its original language.\n",
        "Chat History:\n",
        "{chat_history}\n",
        "Follow Up Input: {question}\n",
        "Standalone question:\"\"\""
      ],
      "metadata": {
        "id": "nDLnOXBTBFaf"
      },
      "execution_count": 45,
      "outputs": []
    },
    {
      "cell_type": "code",
      "source": [
        "CONDENSE_QUESTION_PROMPT = PromptTemplate.from_template(_template)"
      ],
      "metadata": {
        "id": "hozfZicpBG2G"
      },
      "execution_count": 46,
      "outputs": []
    },
    {
      "cell_type": "code",
      "source": [
        "def _format_chat_history(chat_history: List[Tuple[str, str]]) -> List:\n",
        "    buffer = []\n",
        "    for human, ai in chat_history:\n",
        "        buffer.append(HumanMessage(content=human))\n",
        "        buffer.append(AIMessage(content=ai))\n",
        "    return buffer"
      ],
      "metadata": {
        "id": "A9Oi3AEeBIPf"
      },
      "execution_count": 47,
      "outputs": []
    },
    {
      "cell_type": "code",
      "source": [
        "_search_query = RunnableBranch(\n",
        "    # If input includes chat_history, we condense it with the follow-up question\n",
        "    (\n",
        "        RunnableLambda(lambda x: bool(x.get(\"chat_history\"))).with_config(\n",
        "            run_name=\"HasChatHistoryCheck\"\n",
        "        ),  # Condense follow-up question and chat into a standalone_question\n",
        "        RunnablePassthrough.assign(\n",
        "            chat_history=lambda x: _format_chat_history(x[\"chat_history\"])\n",
        "        )\n",
        "        | CONDENSE_QUESTION_PROMPT\n",
        "        | ChatOpenAI(temperature=0)\n",
        "        | StrOutputParser(),\n",
        "    ),\n",
        "    # Else, we have no chat history, so just pass through the question\n",
        "    RunnableLambda(lambda x : x[\"question\"]),\n",
        ")"
      ],
      "metadata": {
        "id": "vXV65bjDBJwO"
      },
      "execution_count": 48,
      "outputs": []
    },
    {
      "cell_type": "code",
      "source": [
        "template = \"\"\"Answer the question based only on the following context:\n",
        "{context}\n",
        "\n",
        "Question: {question}\n",
        "Use natural language and be concise.\n",
        "Answer:\"\"\""
      ],
      "metadata": {
        "id": "zuVyoD1iBLgt"
      },
      "execution_count": 49,
      "outputs": []
    },
    {
      "cell_type": "code",
      "source": [
        "prompt = ChatPromptTemplate.from_template(template)"
      ],
      "metadata": {
        "id": "ehex9TRGBM4m"
      },
      "execution_count": 50,
      "outputs": []
    },
    {
      "cell_type": "code",
      "source": [
        "chain = (\n",
        "    RunnableParallel(\n",
        "        {\n",
        "            \"context\": _search_query | retriever,\n",
        "            \"question\": RunnablePassthrough(),\n",
        "        }\n",
        "    )\n",
        "    | prompt\n",
        "    | llm\n",
        "    | StrOutputParser()\n",
        ")"
      ],
      "metadata": {
        "id": "UI6LVwkpBOOA"
      },
      "execution_count": 51,
      "outputs": []
    },
    {
      "cell_type": "code",
      "source": [
        "chain.invoke({\"question\": \"how stress-related hormones affects diabetes and sugar level?\"})"
      ],
      "metadata": {
        "colab": {
          "base_uri": "https://localhost:8080/",
          "height": 86
        },
        "id": "GZAq-jz3BOrn",
        "outputId": "eecde408-8b54-401f-f5c2-20c4ea26457d"
      },
      "execution_count": 52,
      "outputs": [
        {
          "output_type": "stream",
          "name": "stdout",
          "text": [
            "Search query: how stress-related hormones affects diabetes and sugar level?\n"
          ]
        },
        {
          "output_type": "execute_result",
          "data": {
            "text/plain": [
              "'Stress-related hormones can affect diabetes and blood sugar levels by causing insulin resistance, leading to higher blood sugar levels. Stress can also trigger the release of glucose into the bloodstream, further raising blood sugar levels. Managing stress is important in controlling diabetes and maintaining stable blood sugar levels.'"
            ],
            "application/vnd.google.colaboratory.intrinsic+json": {
              "type": "string"
            }
          },
          "metadata": {},
          "execution_count": 52
        }
      ]
    },
    {
      "cell_type": "code",
      "source": [
        "chain.invoke(\n",
        "    {\n",
        "        \"question\": \"When diabetes gets worst\",\n",
        "        \"chat_history\": [(\"how stress-related hormones affects diabetes and sugar level?\", \"increases diabetes\")],\n",
        "    }\n",
        ")"
      ],
      "metadata": {
        "colab": {
          "base_uri": "https://localhost:8080/",
          "height": 69
        },
        "id": "b8bO9V_MIBZ5",
        "outputId": "e6e0d51a-7793-437f-f561-42b319c4e980"
      },
      "execution_count": 53,
      "outputs": [
        {
          "output_type": "stream",
          "name": "stdout",
          "text": [
            "Search query: When does diabetes get worse?\n"
          ]
        },
        {
          "output_type": "execute_result",
          "data": {
            "text/plain": [
              "\"When diabetes worsens, it can lead to serious complications such as heart disease, nerve damage, kidney damage, eye damage, foot complications, skin problems, hearing impairment, Alzheimer's disease, and depression.\""
            ],
            "application/vnd.google.colaboratory.intrinsic+json": {
              "type": "string"
            }
          },
          "metadata": {},
          "execution_count": 53
        }
      ]
    },
    {
      "cell_type": "code",
      "source": [
        "#import pandas as pd\n",
        "#from pydantic import BaseModel, Field\n",
        "#from typing import List\n",
        "#from langchain_openai import ChatOpenAI\n",
        "#from langchain.prompts import ChatPromptTemplate\n",
        "#from langchain_experimental.graph_transformers import LLMGraphTransformer\n",
        "#from langchain_community.vectorstores.neo4j_vector import remove_lucene_chars\n",
        "\n",
        "\n",
        "# Assuming RunnableParallel and StrOutputParser exist and are properly imported\n",
        "chain = (\n",
        "    RunnableParallel(\n",
        "        {\n",
        "            \"context\":  _search_query | retriever,\n",
        "            \"question\": RunnablePassthrough(),\n",
        "        }\n",
        "    )\n",
        "    | prompt\n",
        "    | llm\n",
        "    | StrOutputParser()\n",
        ")\n",
        "\n",
        "# Example to test with a single question\n",
        "result = chain.invoke({\"question\": \"how stress-related hormones affects diabetes and sugar level?\"})\n",
        "print(result)\n",
        "\n"
      ],
      "metadata": {
        "id": "qyIlAGROIUKC",
        "colab": {
          "base_uri": "https://localhost:8080/"
        },
        "outputId": "2e08d9d5-1a1c-438e-c664-17411d8e26ce"
      },
      "execution_count": 54,
      "outputs": [
        {
          "output_type": "stream",
          "name": "stdout",
          "text": [
            "Search query: how stress-related hormones affects diabetes and sugar level?\n",
            "Stress-related hormones can affect diabetes and blood sugar levels by causing insulin resistance, leading to higher blood sugar levels. Stress can also trigger the release of glucose into the bloodstream, further raising blood sugar levels. Managing stress is important in controlling diabetes and maintaining stable blood sugar levels.\n"
          ]
        }
      ]
    },
    {
      "cell_type": "code",
      "source": [
        "# Read questions from the Excel file\n",
        "questions_df = pd.read_excel('/content/drive/MyDrive/refined/RAGTest.xlsx')  # Replace with your file path\n",
        "questions = questions_df['Question'].tolist()\n",
        "\n",
        "# Prepare a list to store generated answers\n",
        "generated_answers = []\n",
        "\n",
        "# Iterate through questions and generate answers\n",
        "for question in questions:\n",
        "    answer = chain.invoke({\"question\": question})\n",
        "    generated_answers.append(answer)\n",
        "\n",
        "# Write generated answers back to the Excel file\n",
        "questions_df['Generated Answer'] = generated_answers\n",
        "questions_df.to_excel('/content/drive/MyDrive/refined/questions_with_answers.xlsx', index=False)\n",
        "\n",
        "# Optionally, compare generated answers with human-generated responses\n",
        "if 'Human Answer' in questions_df.columns:\n",
        "    human_answers = questions_df['Human Answer'].tolist()\n",
        "    questions_df['Accuracy'] = questions_df.apply(\n",
        "        lambda row: 1 if row['Generated Answer'].strip() == row['Human Answer'].strip() else 0,\n",
        "        axis=1\n",
        "    )\n",
        "    accuracy = questions_df['Accuracy'].mean()\n",
        "    print(f\"Accuracy of generated answers: {accuracy * 100:.2f}%\")\n",
        "else:\n",
        "    print(\"Human Answer column not found in the Excel file.\")"
      ],
      "metadata": {
        "colab": {
          "base_uri": "https://localhost:8080/"
        },
        "id": "N6nvybPmPU0W",
        "outputId": "2a77270c-a3e7-4151-9227-bd4a3e65f45c"
      },
      "execution_count": 55,
      "outputs": [
        {
          "output_type": "stream",
          "name": "stdout",
          "text": [
            "Search query: What are some early warning signs of diabetes that often go unnoticed?\n",
            "Search query: How can intermittent fasting affect blood sugar levels in diabetic patients?\n",
            "Search query: What role does sleep quality play in the management of Type 2 diabetes?\n",
            "Search query: How can diabetic patients incorporate mindful eating practices to better manage their condition?\n",
            "Search query: What are the benefits of using a hybrid closed-loop insulin pump system?\n",
            "Search query: How does stress impact blood glucose levels, and what are effective stress management techniques for diabetics?\n",
            "Search query: Can consuming probiotics and prebiotics improve insulin sensitivity in diabetic patients?\n",
            "Search query: What are some innovative approaches to diabetes education that have shown promise in recent studies?\n",
            "Search query: How can a diabetic patient safely participate in endurance sports or high-intensity interval training (HIIT)?\n",
            "Search query: What are the latest advancements in artificial pancreas systems, and how do they work?\n",
            "Search query: How can a diabetic patient create a balanced diet that accommodates cultural or religious dietary restrictions?\n",
            "Search query: What are the potential long-term effects of poor medication adherence in diabetic patients?\n",
            "Search query: How can virtual reality (VR) be used to enhance diabetes education and patient engagement?\n",
            "Search query: What are the implications of gestational diabetes for both mother and child postpartum?\n",
            "Search query: How can wearable technology be used to predict and prevent hypoglycemic events in diabetic patients?\n",
            "Search query: What are the key factors to consider when transitioning from oral medications to insulin therapy?\n",
            "Search query: How can peer support groups benefit individuals newly diagnosed with diabetes?\n",
            "Search query: What are some creative ways to incorporate low-carbohydrate foods into a diabetic patient’s daily diet?\n",
            "Search query: How can artificial intelligence (AI) be leveraged to personalize diabetes treatment plans?\n",
            "Search query: What strategies can be used to prevent diabetic foot ulcers, especially in patients with peripheral neuropathy?\n",
            "Search query: How does alcohol consumption affect diabetes?\n",
            "Search query: What is the dawn phenomenon in diabetes?\n",
            "Search query: Can diabetes affect mental health?\n",
            "Search query: How does smoking impact diabetes management?\n",
            "Search query: What are ketones, and why are they important for people with diabetes?\n",
            "Search query: Can I fast if I have diabetes?\n",
            "Search query: How can I manage diabetes while traveling?\n",
            "Search query: What is the difference between Type 1 and Type 2 diabetes?\n",
            "Search query: How can I prevent hypoglycemia during the night?\n",
            "Search query: What role does fiber play in managing diabetes?\n",
            "Search query: How does dehydration affect blood sugar levels?\n",
            "Search query: Can diabetes be reversed?\n",
            "Search query: What is the role of a diabetes educator?\n",
            "Search query: How does sleep affect diabetes management?\n",
            "Search query: What is diabetic ketoacidosis (DKA)?\n",
            "Search query: How does menopause affect diabetes?\n",
            "Search query: Can weight loss surgery help with diabetes?\n",
            "Search query: How does high blood pressure relate to diabetes?\n",
            "Search query: What is the HbA1c test, and why is it important?\n",
            "Search query: Can I eat sweets if I have diabetes?\n",
            "Search query: How does chronic stress impact diabetes?\n",
            "Search query: What are the early signs of diabetic nephropathy?\n",
            "Search query: How can I protect my feet if I have diabetes?\n",
            "Search query: What is the role of insulin in the body?\n",
            "Search query: Can stress management techniques help in diabetes control?\n",
            "Search query: What is insulin resistance?\n",
            "Search query: How can I safely lose weight with diabetes?\n",
            "Search query: What should I do if I miss a dose of my diabetes medication?\n",
            "Search query: What is the difference between rapid-acting and long-acting insulin?\n",
            "Search query: How does a high-fat diet affect diabetes?\n",
            "Search query: Can diabetes cause vision problems?\n",
            "Search query: How often should I see my healthcare provider for diabetes management?\n",
            "Search query: Can I eat carbohydrates if I have diabetes?\n",
            "Search query: How can I handle diabetes burnout?\n",
            "Search query: What is the role of glucagon in diabetes management?\n",
            "Search query: How can I reduce my risk of Type 2 diabetes?\n",
            "Search query: Can I still enjoy social activities with diabetes?\n",
            "Search query: What are the different types of diabetes?\n",
            "Search query: What are the common symptoms of diabetes?\n",
            "Search query: How does diabetes affect the body over time?\n",
            "Search query: Can diabetes be prevented?\n",
            "Search query: What are the risk factors for developing Type 2 diabetes?\n",
            "Search query: How often should I monitor my blood glucose levels?\n",
            "Search query: What is the target blood glucose range for people with diabetes?\n",
            "Search query: How can I manage my blood sugar during illness?\n",
            "Search query: What should I do if my blood sugar is too low?\n",
            "Search query: What are the benefits of using a continuous glucose monitor (CGM)?\n",
            "Search query: What foods should be included in a diabetes-friendly diet?\n",
            "Search query: How does the glycemic index affect blood sugar levels?\n",
            "Search query: Can I eat fruit if I have diabetes?\n",
            "Search query: How should I plan my meals to manage diabetes?\n",
            "Search query: What are some healthy snack options for people with diabetes?\n",
            "Search query: What are the different types of diabetes medications?\n",
            "Search query: How does insulin therapy work for diabetes?\n",
            "Search query: How should I adjust my medication if my blood sugar is consistently high?\n",
            "Search query: What are the side effects of diabetes medications?\n",
            "Search query: How can I manage the timing of my diabetes medication with my meals?\n",
            "Search query: What is diabetic neuropathy, and how can it be managed?\n",
            "Search query: How can I reduce my risk of diabetic retinopathy?\n",
            "Search query: What are the symptoms of diabetic nephropathy?\n",
            "Search query: How does diabetes increase the risk of cardiovascular disease?\n",
            "Search query: What are the signs of diabetic foot problems?\n",
            "Search query: How can I manage the stress associated with diabetes?\n",
            "Search query: What is motivational interviewing, and how does it help in diabetes management?\n",
            "Search query: How can I cope with diabetes-related depression?\n",
            "Search query: What are some strategies for staying motivated with diabetes management?\n",
            "Search query: How can family members support someone with diabetes?\n",
            "Search query: What are the benefits of exercise for people with diabetes?\n",
            "Search query: How often should I exercise to manage my diabetes?\n",
            "Search query: What types of exercise are best for people with diabetes?\n",
            "Search query: How can I prevent low blood sugar during exercise?\n",
            "Search query: Are there any exercises I should avoid if I have diabetes?\n",
            "Search query: How can continuous glucose monitors (CGMs) improve diabetes management?\n",
            "Search query: What should I consider when choosing an insulin pump?\n",
            "Search query: How can diabetes management apps help in controlling diabetes?\n",
            "Search query: What are the benefits of using wearable devices for diabetes management?\n",
            "Search query: How can I prepare for a diabetes-related emergency?\n",
            "Search query: What is diabetic ketoacidosis, and how can it be prevented?\n",
            "Search query: How does diabetes affect pregnancy?\n",
            "Accuracy of generated answers: 0.00%\n"
          ]
        }
      ]
    },
    {
      "cell_type": "code",
      "source": [
        "questions_df['Generated Answer'][0]"
      ],
      "metadata": {
        "colab": {
          "base_uri": "https://localhost:8080/",
          "height": 52
        },
        "id": "6LZ6m7yRSUnx",
        "outputId": "b87b42ef-6b2c-47e3-dadb-76fd747460e0"
      },
      "execution_count": 56,
      "outputs": [
        {
          "output_type": "execute_result",
          "data": {
            "text/plain": [
              "\"Some early warning signs of diabetes that often go unnoticed include increased hunger, increased thirst, weight loss, frequent urination, blurry vision, extreme fatigue, and sores that don't heal.\""
            ],
            "application/vnd.google.colaboratory.intrinsic+json": {
              "type": "string"
            }
          },
          "metadata": {},
          "execution_count": 56
        }
      ]
    },
    {
      "cell_type": "code",
      "source": [
        "!pip install rouge_score"
      ],
      "metadata": {
        "id": "y-wS5t_Urr5M",
        "outputId": "c4b1ae05-2950-4620-d741-d1b4e3a0807a",
        "colab": {
          "base_uri": "https://localhost:8080/"
        }
      },
      "execution_count": 57,
      "outputs": [
        {
          "output_type": "stream",
          "name": "stdout",
          "text": [
            "Collecting rouge_score\n",
            "  Downloading rouge_score-0.1.2.tar.gz (17 kB)\n",
            "  Preparing metadata (setup.py) ... \u001b[?25l\u001b[?25hdone\n",
            "Requirement already satisfied: absl-py in /usr/local/lib/python3.10/dist-packages (from rouge_score) (1.4.0)\n",
            "Requirement already satisfied: nltk in /usr/local/lib/python3.10/dist-packages (from rouge_score) (3.8.1)\n",
            "Requirement already satisfied: numpy in /usr/local/lib/python3.10/dist-packages (from rouge_score) (1.26.4)\n",
            "Requirement already satisfied: six>=1.14.0 in /usr/local/lib/python3.10/dist-packages (from rouge_score) (1.16.0)\n",
            "Requirement already satisfied: click in /usr/local/lib/python3.10/dist-packages (from nltk->rouge_score) (8.1.7)\n",
            "Requirement already satisfied: joblib in /usr/local/lib/python3.10/dist-packages (from nltk->rouge_score) (1.4.2)\n",
            "Requirement already satisfied: regex>=2021.8.3 in /usr/local/lib/python3.10/dist-packages (from nltk->rouge_score) (2024.5.15)\n",
            "Requirement already satisfied: tqdm in /usr/local/lib/python3.10/dist-packages (from nltk->rouge_score) (4.66.5)\n",
            "Building wheels for collected packages: rouge_score\n",
            "  Building wheel for rouge_score (setup.py) ... \u001b[?25l\u001b[?25hdone\n",
            "  Created wheel for rouge_score: filename=rouge_score-0.1.2-py3-none-any.whl size=24935 sha256=214b8fedd3d38162455cdfedb54946ae42f6f91830fc44e9fc0f0b04f9a0f0b0\n",
            "  Stored in directory: /root/.cache/pip/wheels/5f/dd/89/461065a73be61a532ff8599a28e9beef17985c9e9c31e541b4\n",
            "Successfully built rouge_score\n",
            "Installing collected packages: rouge_score\n",
            "Successfully installed rouge_score-0.1.2\n"
          ]
        }
      ]
    },
    {
      "cell_type": "code",
      "source": [
        "!pip install sacrebleu\n",
        "!pip install nltk\n"
      ],
      "metadata": {
        "id": "OBfsJ9rFaKV7",
        "outputId": "1b16683c-eb20-4fd4-aa69-803744c963a5",
        "colab": {
          "base_uri": "https://localhost:8080/"
        }
      },
      "execution_count": 58,
      "outputs": [
        {
          "output_type": "stream",
          "name": "stdout",
          "text": [
            "Collecting sacrebleu\n",
            "  Downloading sacrebleu-2.4.2-py3-none-any.whl.metadata (58 kB)\n",
            "\u001b[2K     \u001b[90m━━━━━━━━━━━━━━━━━━━━━━━━━━━━━━━━━━━━━━━━\u001b[0m \u001b[32m58.0/58.0 kB\u001b[0m \u001b[31m977.2 kB/s\u001b[0m eta \u001b[36m0:00:00\u001b[0m\n",
            "\u001b[?25hCollecting portalocker (from sacrebleu)\n",
            "  Downloading portalocker-2.10.1-py3-none-any.whl.metadata (8.5 kB)\n",
            "Requirement already satisfied: regex in /usr/local/lib/python3.10/dist-packages (from sacrebleu) (2024.5.15)\n",
            "Requirement already satisfied: tabulate>=0.8.9 in /usr/local/lib/python3.10/dist-packages (from sacrebleu) (0.9.0)\n",
            "Requirement already satisfied: numpy>=1.17 in /usr/local/lib/python3.10/dist-packages (from sacrebleu) (1.26.4)\n",
            "Collecting colorama (from sacrebleu)\n",
            "  Downloading colorama-0.4.6-py2.py3-none-any.whl.metadata (17 kB)\n",
            "Requirement already satisfied: lxml in /usr/local/lib/python3.10/dist-packages (from sacrebleu) (4.9.4)\n",
            "Downloading sacrebleu-2.4.2-py3-none-any.whl (106 kB)\n",
            "\u001b[2K   \u001b[90m━━━━━━━━━━━━━━━━━━━━━━━━━━━━━━━━━━━━━━━━\u001b[0m \u001b[32m106.7/106.7 kB\u001b[0m \u001b[31m1.8 MB/s\u001b[0m eta \u001b[36m0:00:00\u001b[0m\n",
            "\u001b[?25hDownloading colorama-0.4.6-py2.py3-none-any.whl (25 kB)\n",
            "Downloading portalocker-2.10.1-py3-none-any.whl (18 kB)\n",
            "Installing collected packages: portalocker, colorama, sacrebleu\n",
            "Successfully installed colorama-0.4.6 portalocker-2.10.1 sacrebleu-2.4.2\n",
            "Requirement already satisfied: nltk in /usr/local/lib/python3.10/dist-packages (3.8.1)\n",
            "Requirement already satisfied: click in /usr/local/lib/python3.10/dist-packages (from nltk) (8.1.7)\n",
            "Requirement already satisfied: joblib in /usr/local/lib/python3.10/dist-packages (from nltk) (1.4.2)\n",
            "Requirement already satisfied: regex>=2021.8.3 in /usr/local/lib/python3.10/dist-packages (from nltk) (2024.5.15)\n",
            "Requirement already satisfied: tqdm in /usr/local/lib/python3.10/dist-packages (from nltk) (4.66.5)\n"
          ]
        }
      ]
    },
    {
      "cell_type": "code",
      "source": [
        "import nltk\n",
        "nltk.download('wordnet')\n",
        "nltk.download('omw-1.4')  # This is for wordnet's morphological processing, required by METEOR\n"
      ],
      "metadata": {
        "id": "4obe-RKDaYPN",
        "outputId": "c5f6dc69-97dd-42a9-dfb7-4d8d9e962fca",
        "colab": {
          "base_uri": "https://localhost:8080/"
        }
      },
      "execution_count": 59,
      "outputs": [
        {
          "output_type": "stream",
          "name": "stderr",
          "text": [
            "[nltk_data] Downloading package wordnet to /root/nltk_data...\n",
            "[nltk_data] Downloading package omw-1.4 to /root/nltk_data...\n"
          ]
        },
        {
          "output_type": "execute_result",
          "data": {
            "text/plain": [
              "True"
            ]
          },
          "metadata": {},
          "execution_count": 59
        }
      ]
    },
    {
      "cell_type": "code",
      "source": [
        "import pandas as pd\n",
        "import nltk\n",
        "from rouge_score import rouge_scorer\n",
        "from transformers import BertTokenizer, BertForSequenceClassification, pipeline\n",
        "import torch\n",
        "\n",
        "# Ensure NLTK resources are downloaded\n",
        "nltk.download('punkt')\n",
        "\n",
        "# Load the Excel sheet\n",
        "file_path = '/content/drive/MyDrive/refined/questions_with_answers.xlsx'  # Replace with your file path\n",
        "df = pd.read_excel(file_path)\n",
        "\n",
        "# Initialize evaluation tools\n",
        "rouge = rouge_scorer.RougeScorer(['rouge1', 'rougeL'], use_stemmer=True)\n",
        "tokenizer = BertTokenizer.from_pretrained('bert-base-uncased')\n",
        "model = BertForSequenceClassification.from_pretrained('bert-base-uncased')\n",
        "\n",
        "# Create a pipeline for BERTScore (alternatively, use other models like roberta)\n",
        "bert_scorer = pipeline(\"feature-extraction\", model=model, tokenizer=tokenizer, return_tensors=\"pt\")\n",
        "\n",
        "# Function to calculate BERTScore\n",
        "def compute_bertscore(human_resp, generated_resp):\n",
        "    human_emb = bert_scorer(human_resp)[0].mean(dim=0)\n",
        "    generated_emb = bert_scorer(generated_resp)[0].mean(dim=0)\n",
        "    similarity = torch.cosine_similarity(human_emb, generated_emb, dim=0).item()\n",
        "    return similarity\n",
        "\n",
        "# Evaluate the responses\n",
        "evaluation_results = []\n",
        "for index, row in df.iterrows():\n",
        "    question = row['Question']\n",
        "    human_resp = row['Human Answer']\n",
        "    generated_resp = row['Generated Answer']\n",
        "\n",
        "    # Calculate ROUGE scores\n",
        "    rouge_scores = rouge.score(human_resp, generated_resp)\n",
        "    rouge1_f1 = rouge_scores['rouge1'].fmeasure\n",
        "    rougeL_f1 = rouge_scores['rougeL'].fmeasure\n",
        "\n",
        "    # Calculate BERTScore\n",
        "    bert_score = compute_bertscore(human_resp, generated_resp)\n",
        "\n",
        "    # Store the evaluation results\n",
        "    evaluation_results.append({\n",
        "        \"Question\": question,\n",
        "        \"Human Response\": human_resp,\n",
        "        \"Generated Response\": generated_resp,\n",
        "        \"ROUGE-1 F1\": rouge1_f1,\n",
        "        \"ROUGE-L F1\": rougeL_f1,\n",
        "        \"BERTScore\": bert_score\n",
        "    })\n",
        "\n",
        "# Convert the results to a DataFrame\n",
        "eval_df = pd.DataFrame(evaluation_results)\n",
        "\n",
        "# Save the evaluation results to a new Excel sheet\n",
        "eval_df.to_excel('/content/drive/MyDrive/refined/evaluation_results.xlsx', index=False)  # Replace with your desired save path\n",
        "\n",
        "# Optionally, print the evaluation results\n",
        "print(eval_df)\n"
      ],
      "metadata": {
        "colab": {
          "base_uri": "https://localhost:8080/"
        },
        "id": "Z4XUyXouStx6",
        "outputId": "29cc4d94-3244-42f0-d751-b91d9c8e8d28"
      },
      "execution_count": 61,
      "outputs": [
        {
          "output_type": "stream",
          "name": "stderr",
          "text": [
            "[nltk_data] Downloading package punkt to /root/nltk_data...\n",
            "[nltk_data]   Package punkt is already up-to-date!\n",
            "Some weights of BertForSequenceClassification were not initialized from the model checkpoint at bert-base-uncased and are newly initialized: ['classifier.bias', 'classifier.weight']\n",
            "You should probably TRAIN this model on a down-stream task to be able to use it for predictions and inference.\n"
          ]
        },
        {
          "output_type": "stream",
          "name": "stdout",
          "text": [
            "                                             Question  \\\n",
            "0   What are some early warning signs of diabetes ...   \n",
            "1   How can intermittent fasting affect blood suga...   \n",
            "2   What role does sleep quality play in the manag...   \n",
            "3   How can diabetic patients incorporate mindful ...   \n",
            "4   What are the benefits of using a hybrid closed...   \n",
            "..                                                ...   \n",
            "94  How can diabetes management apps help in contr...   \n",
            "95  What are the benefits of using wearable device...   \n",
            "96  How can I prepare for a diabetes-related emerg...   \n",
            "97  What is diabetic ketoacidosis, and how can it ...   \n",
            "98                How does diabetes affect pregnancy?   \n",
            "\n",
            "                                       Human Response  \\\n",
            "0   Early warning signs of diabetes that are often...   \n",
            "1   Intermittent fasting can help some diabetic pa...   \n",
            "2   Poor sleep quality can negatively impact blood...   \n",
            "3   Mindful eating encourages patients to pay atte...   \n",
            "4   A hybrid closed-loop insulin pump system, ofte...   \n",
            "..                                                ...   \n",
            "94  Apps can track blood glucose levels, diet, exe...   \n",
            "95  Wearable devices can continuously monitor bloo...   \n",
            "96  Carry a diabetes emergency kit with glucose ta...   \n",
            "97  Diabetic ketoacidosis (DKA) is a serious condi...   \n",
            "98  Diabetes during pregnancy can increase the ris...   \n",
            "\n",
            "                                   Generated Response  ROUGE-1 F1  ROUGE-L F1  \\\n",
            "0   Some early warning signs of diabetes that ofte...    0.654545    0.545455   \n",
            "1   Intermittent fasting can lead to hypoglycemic ...    0.305556    0.250000   \n",
            "2   Sleep quality plays a crucial role in the mana...    0.414634    0.268293   \n",
            "3   Diabetic patients can incorporate mindful eati...    0.252874    0.137931   \n",
            "4   The benefits of using a hybrid closed-loop ins...    0.416667    0.277778   \n",
            "..                                                ...         ...         ...   \n",
            "94  Diabetes management apps can help in controlli...    0.553191    0.297872   \n",
            "95  The benefits of using wearable devices for dia...    0.304348    0.217391   \n",
            "96  To prepare for a diabetes-related emergency, m...    0.350000    0.200000   \n",
            "97  Diabetic ketoacidosis is a serious complicatio...    0.523077    0.492308   \n",
            "98  Diabetes can impact pregnancy by increasing th...    0.363636    0.318182   \n",
            "\n",
            "    BERTScore  \n",
            "0         1.0  \n",
            "1        -1.0  \n",
            "2        -1.0  \n",
            "3         1.0  \n",
            "4         1.0  \n",
            "..        ...  \n",
            "94        1.0  \n",
            "95        1.0  \n",
            "96        1.0  \n",
            "97       -1.0  \n",
            "98       -1.0  \n",
            "\n",
            "[99 rows x 6 columns]\n"
          ]
        }
      ]
    },
    {
      "cell_type": "code",
      "source": [
        "# Step 1: Install required libraries\n",
        "!pip install sacrebleu nltk pandas openpyxl\n",
        "\n",
        "import pandas as pd\n",
        "import sacrebleu\n",
        "from nltk.translate import meteor_score\n",
        "from nltk.tokenize import word_tokenize\n",
        "import nltk\n",
        "\n",
        "# Download NLTK tokenizer\n",
        "nltk.download('punkt')\n",
        "\n",
        "# Step 2: Mount Google Drive to access the Excel file\n",
        "from google.colab import drive\n",
        "drive.mount('/content/drive')\n",
        "\n",
        "# File path to your Excel sheet\n",
        "file_path = '/content/drive/MyDrive/refined/questions_with_answers.xlsx'\n",
        "\n",
        "# Step 3: Load the Excel sheet\n",
        "df = pd.read_excel(file_path)\n",
        "\n",
        "# Ensure that your DataFrame contains the correct columns\n",
        "# Print the first few rows to verify\n",
        "print(df.head())\n",
        "\n",
        "# Step 4: Define functions for tokenization and scoring\n",
        "def tokenize_text(text):\n",
        "    return word_tokenize(text.lower())  # Tokenize and lower case the text\n",
        "\n",
        "def calculate_bleu_score(hypothesis, references):\n",
        "    # References should be a list of lists of tokens\n",
        "    return sacrebleu.corpus_bleu(hypothesis, references).score\n",
        "\n",
        "def calculate_meteor_score(reference, hypothesis):\n",
        "    return meteor_score.meteor_score(reference, hypothesis)\n",
        "\n",
        "# Step 5: Initialize lists to store results\n",
        "results = []\n",
        "\n",
        "# Step 6: Calculate scores for each row in the DataFrame\n",
        "for index, row in df.iterrows():\n",
        "    question = row['Question']\n",
        "    human_response = row['Human Answer']\n",
        "    generated_response = row['Generated Answer']\n",
        "\n",
        "    # Tokenize responses\n",
        "    human_tokens = tokenize_text(human_response)\n",
        "    generated_tokens = tokenize_text(generated_response)\n",
        "\n",
        "    # For BLEU score calculation\n",
        "    references = human_tokens  # List of references, each being a list of tokens\n",
        "    hypothesis = generated_tokens\n",
        "\n",
        "    # Calculate BLEU and METEOR scores\n",
        "    bleu_score = calculate_bleu_score(hypothesis, references)\n",
        "    meteor_score_val = calculate_meteor_score(human_response, generated_response)\n",
        "\n",
        "    # Store results\n",
        "    results.append({\n",
        "        \"Question\": question,\n",
        "        \"Human Response\": human_response,\n",
        "        \"Generated Response\": generated_response,\n",
        "        \"BLEU Score\": bleu_score,\n",
        "        \"METEOR Score\": meteor_score_val\n",
        "    })\n",
        "\n",
        "# Convert the results to a DataFrame\n",
        "results_df = pd.DataFrame(results)\n",
        "\n",
        "# Save the results to an Excel file\n",
        "results_file_path = '/content/drive/MyDrive/refined/evaluation_results.xlsx'\n",
        "results_df.to_excel(results_file_path, index=False)\n",
        "\n",
        "# Print the results\n",
        "print(results_df)\n"
      ],
      "metadata": {
        "id": "_kuqV6ibhKLv"
      },
      "execution_count": 69,
      "outputs": []
    }
  ]
}