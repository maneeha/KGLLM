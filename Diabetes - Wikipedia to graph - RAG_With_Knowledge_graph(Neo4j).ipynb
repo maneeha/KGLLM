{
  "nbformat": 4,
  "nbformat_minor": 0,
  "metadata": {
    "colab": {
      "provenance": [],
      "gpuType": "T4",
      "include_colab_link": true
    },
    "kernelspec": {
      "name": "python3",
      "display_name": "Python 3"
    },
    "language_info": {
      "name": "python"
    },
    "accelerator": "GPU",
    "widgets": {
      "application/vnd.jupyter.widget-state+json": {
        "9152785caf1043c8b982fa1ed07ce4d2": {
          "model_module": "yfiles-jupyter-graphs",
          "model_name": "GraphModel",
          "model_module_version": "^1.6.2",
          "state": {
            "_context_pane_mapping": [
              {
                "id": "Neighborhood",
                "title": "Neighborhood"
              },
              {
                "id": "Data",
                "title": "Data"
              },
              {
                "id": "Search",
                "title": "Search"
              },
              {
                "id": "About",
                "title": "About"
              }
            ],
            "_data_importer": "neo4j",
            "_directed": true,
            "_dom_classes": [],
            "_edges": [
              {
                "id": 1152922604118474800,
                "start": 1,
                "end": 2,
                "properties": {
                  "label": "RESULTS_IN"
                },
                "label": "RESULTS_IN",
                "color": "#9E9E9E",
                "thickness_factor": 1,
                "directed": true
              },
              {
                "id": 1152923703630102500,
                "start": 1,
                "end": 3,
                "properties": {
                  "label": "RELATED_TO"
                },
                "label": "RELATED_TO",
                "color": "#9C27B0",
                "thickness_factor": 1,
                "directed": true
              },
              {
                "id": 1152929201188241400,
                "start": 1,
                "end": 8,
                "properties": {
                  "label": "AFFECTS"
                },
                "label": "AFFECTS",
                "color": "#2196F3",
                "thickness_factor": 1,
                "directed": true
              },
              {
                "id": 6919788524036162000,
                "start": 1,
                "end": 116,
                "properties": {
                  "label": "AFFECTS"
                },
                "label": "AFFECTS",
                "color": "#2196F3",
                "thickness_factor": 1,
                "directed": true
              },
              {
                "id": 6917536724222476000,
                "start": 1,
                "end": 117,
                "properties": {
                  "label": "AFFECTS"
                },
                "label": "AFFECTS",
                "color": "#2196F3",
                "thickness_factor": 1,
                "directed": true
              },
              {
                "id": 6917536724222476000,
                "start": 1,
                "end": 118,
                "properties": {
                  "label": "AFFECTS"
                },
                "label": "AFFECTS",
                "color": "#2196F3",
                "thickness_factor": 1,
                "directed": true
              },
              {
                "id": 6917536724222476000,
                "start": 1,
                "end": 119,
                "properties": {
                  "label": "AFFECTS"
                },
                "label": "AFFECTS",
                "color": "#2196F3",
                "thickness_factor": 1,
                "directed": true
              },
              {
                "id": 1152930300699869200,
                "start": 1,
                "end": 12,
                "properties": {
                  "label": "CAN_LEAD_TO"
                },
                "label": "CAN_LEAD_TO",
                "color": "#4CAF50",
                "thickness_factor": 1,
                "directed": true
              },
              {
                "id": 1152933599234752500,
                "start": 1,
                "end": 26,
                "properties": {
                  "label": "CONTRIBUTES_TO"
                },
                "label": "CONTRIBUTES_TO",
                "color": "#F44336",
                "thickness_factor": 1,
                "directed": true
              },
              {
                "id": 6917574107617821000,
                "start": 1,
                "end": 7,
                "properties": {
                  "label": "CAUSE"
                },
                "label": "CAUSE",
                "color": "#607D8B",
                "thickness_factor": 1,
                "directed": true
              },
              {
                "id": 6919840201082667000,
                "start": 1,
                "end": 114,
                "properties": {
                  "label": "INCLUDE"
                },
                "label": "INCLUDE",
                "color": "#673AB7",
                "thickness_factor": 1,
                "directed": true
              },
              {
                "id": 6917588401268982000,
                "start": 1,
                "end": 115,
                "properties": {
                  "label": "INCLUDE"
                },
                "label": "INCLUDE",
                "color": "#673AB7",
                "thickness_factor": 1,
                "directed": true
              },
              {
                "id": 6919847897664061000,
                "start": 1,
                "end": 27,
                "properties": {
                  "label": "DOUBLES_THE_RISK_OF"
                },
                "label": "DOUBLES_THE_RISK_OF",
                "color": "#CDDC39",
                "thickness_factor": 1,
                "directed": true
              },
              {
                "id": 6919848997175689000,
                "start": 1,
                "end": 113,
                "properties": {
                  "label": "DUE_TO"
                },
                "label": "DUE_TO",
                "color": "#9E9E9E",
                "thickness_factor": 1,
                "directed": true
              },
              {
                "id": 6919855594245456000,
                "start": 1,
                "end": 126,
                "properties": {
                  "label": "RECOMMENDED_THAT_VISIT"
                },
                "label": "RECOMMENDED_THAT_VISIT",
                "color": "#9C27B0",
                "thickness_factor": 1,
                "directed": true
              },
              {
                "id": 6917603794431771000,
                "start": 1,
                "end": 127,
                "properties": {
                  "label": "RECOMMENDED_THAT_VISIT"
                },
                "label": "RECOMMENDED_THAT_VISIT",
                "color": "#9C27B0",
                "thickness_factor": 1,
                "directed": true
              },
              {
                "id": 6917607092966654000,
                "start": 1,
                "end": 2,
                "properties": {
                  "label": "HIGH_CONCENTRATIONS"
                },
                "label": "HIGH_CONCENTRATIONS",
                "color": "#2196F3",
                "thickness_factor": 1,
                "directed": true
              },
              {
                "id": 6917608192478282000,
                "start": 1,
                "end": 8,
                "properties": {
                  "label": "GOAL_OF_MANAGEMENT"
                },
                "label": "GOAL_OF_MANAGEMENT",
                "color": "#4CAF50",
                "thickness_factor": 1,
                "directed": true
              },
              {
                "id": 6917609291989910000,
                "start": 1,
                "end": 4,
                "properties": {
                  "label": "AFFECTED_ORGAN"
                },
                "label": "AFFECTED_ORGAN",
                "color": "#F44336",
                "thickness_factor": 1,
                "directed": true
              },
              {
                "id": 6917615889059676000,
                "start": 1,
                "end": 131,
                "properties": {
                  "label": "CONTROL_GOAL"
                },
                "label": "CONTROL_GOAL",
                "color": "#607D8B",
                "thickness_factor": 1,
                "directed": true
              },
              {
                "id": 6917615889059676000,
                "start": 1,
                "end": 132,
                "properties": {
                  "label": "CONTROL_GOAL"
                },
                "label": "CONTROL_GOAL",
                "color": "#607D8B",
                "thickness_factor": 1,
                "directed": true
              },
              {
                "id": 6917615889059676000,
                "start": 1,
                "end": 133,
                "properties": {
                  "label": "CONTROL_GOAL"
                },
                "label": "CONTROL_GOAL",
                "color": "#607D8B",
                "thickness_factor": 1,
                "directed": true
              },
              {
                "id": 6917615889059676000,
                "start": 1,
                "end": 134,
                "properties": {
                  "label": "CONTROL_GOAL"
                },
                "label": "CONTROL_GOAL",
                "color": "#607D8B",
                "thickness_factor": 1,
                "directed": true
              },
              {
                "id": 6917616988571304000,
                "start": 1,
                "end": 135,
                "properties": {
                  "label": "RISK_FACTOR"
                },
                "label": "RISK_FACTOR",
                "color": "#673AB7",
                "thickness_factor": 1,
                "directed": true
              },
              {
                "id": 6917618088082932000,
                "start": 1,
                "end": 27,
                "properties": {
                  "label": "COMPLICATION"
                },
                "label": "COMPLICATION",
                "color": "#CDDC39",
                "thickness_factor": 1,
                "directed": true
              },
              {
                "id": 6917618088082932000,
                "start": 1,
                "end": 116,
                "properties": {
                  "label": "COMPLICATION"
                },
                "label": "COMPLICATION",
                "color": "#CDDC39",
                "thickness_factor": 1,
                "directed": true
              },
              {
                "id": 6917624685152698000,
                "start": 1,
                "end": 27,
                "properties": {
                  "label": "RISK_FACTOR_FOR"
                },
                "label": "RISK_FACTOR_FOR",
                "color": "#9E9E9E",
                "thickness_factor": 1,
                "directed": true
              },
              {
                "id": 1152924803141730300,
                "start": 5,
                "end": 4,
                "properties": {
                  "label": "RESULTS_FROM"
                },
                "label": "RESULTS_FROM",
                "color": "#9C27B0",
                "thickness_factor": 1,
                "directed": true
              },
              {
                "id": 1152925902653358000,
                "start": 5,
                "end": 3,
                "properties": {
                  "label": "LACK_OF_PRODUCTION"
                },
                "label": "LACK_OF_PRODUCTION",
                "color": "#2196F3",
                "thickness_factor": 1,
                "directed": true
              },
              {
                "id": 1153002868467302400,
                "start": 5,
                "end": 3,
                "properties": {
                  "label": "INSUFFICIENT_PRODUCTION"
                },
                "label": "INSUFFICIENT_PRODUCTION",
                "color": "#4CAF50",
                "thickness_factor": 1,
                "directed": true
              },
              {
                "id": 1153003967978930200,
                "start": 5,
                "end": 7,
                "properties": {
                  "label": "PRESENT"
                },
                "label": "PRESENT",
                "color": "#F44336",
                "thickness_factor": 1,
                "directed": true
              },
              {
                "id": 1152923703630102500,
                "start": 6,
                "end": 7,
                "properties": {
                  "label": "RELATED_TO"
                },
                "label": "RELATED_TO",
                "color": "#9C27B0",
                "thickness_factor": 1,
                "directed": true
              },
              {
                "id": 1152924803141730300,
                "start": 6,
                "end": 4,
                "properties": {
                  "label": "RESULTS_FROM"
                },
                "label": "RESULTS_FROM",
                "color": "#9C27B0",
                "thickness_factor": 1,
                "directed": true
              },
              {
                "id": 1152927002164985900,
                "start": 6,
                "end": 3,
                "properties": {
                  "label": "PRODUCTION_VARIES"
                },
                "label": "PRODUCTION_VARIES",
                "color": "#607D8B",
                "thickness_factor": 1,
                "directed": true
              },
              {
                "id": 1153005067490558000,
                "start": 6,
                "end": 3,
                "properties": {
                  "label": "ABNORMALLY_LARGE_PRODUCTION"
                },
                "label": "ABNORMALLY_LARGE_PRODUCTION",
                "color": "#673AB7",
                "thickness_factor": 1,
                "directed": true
              },
              {
                "id": 1153006167002185700,
                "start": 6,
                "end": 7,
                "properties": {
                  "label": "RESULT_FROM"
                },
                "label": "RESULT_FROM",
                "color": "#CDDC39",
                "thickness_factor": 1,
                "directed": true
              },
              {
                "id": 1152928101676613600,
                "start": 7,
                "end": 10,
                "properties": {
                  "label": "CORRECTED_BY"
                },
                "label": "CORRECTED_BY",
                "color": "#9E9E9E",
                "thickness_factor": 1,
                "directed": true
              },
              {
                "id": 1155179901490299000,
                "start": 7,
                "end": 11,
                "properties": {
                  "label": "CORRECTED_BY"
                },
                "label": "CORRECTED_BY",
                "color": "#9E9E9E",
                "thickness_factor": 1,
                "directed": true
              },
              {
                "id": 6917531226664337000,
                "start": 14,
                "end": 22,
                "properties": {
                  "label": "RELATED_TO"
                },
                "label": "RELATED_TO",
                "color": "#9C27B0",
                "thickness_factor": 1,
                "directed": true
              },
              {
                "id": 6917536724222476000,
                "start": 14,
                "end": 18,
                "properties": {
                  "label": "AFFECTS"
                },
                "label": "AFFECTS",
                "color": "#2196F3",
                "thickness_factor": 1,
                "directed": true
              },
              {
                "id": 1152931400211497000,
                "start": 14,
                "end": 2,
                "properties": {
                  "label": "CONTAINS"
                },
                "label": "CONTAINS",
                "color": "#9C27B0",
                "thickness_factor": 1,
                "directed": true
              },
              {
                "id": 1182205897301033000,
                "start": 14,
                "end": 1,
                "properties": {
                  "label": "INVOLVES"
                },
                "label": "INVOLVES",
                "color": "#2196F3",
                "thickness_factor": 1,
                "directed": true
              },
              {
                "id": 6917540022757360000,
                "start": 14,
                "end": 2,
                "properties": {
                  "label": "INVOLVES"
                },
                "label": "INVOLVES",
                "color": "#2196F3",
                "thickness_factor": 1,
                "directed": true
              },
              {
                "id": 1157436099350495200,
                "start": 14,
                "end": 3,
                "properties": {
                  "label": "INVOLVES"
                },
                "label": "INVOLVES",
                "color": "#2196F3",
                "thickness_factor": 1,
                "directed": true
              },
              {
                "id": 1166443298605236200,
                "start": 14,
                "end": 11,
                "properties": {
                  "label": "INVOLVES"
                },
                "label": "INVOLVES",
                "color": "#2196F3",
                "thickness_factor": 1,
                "directed": true
              },
              {
                "id": 1152932499723124700,
                "start": 14,
                "end": 15,
                "properties": {
                  "label": "INVOLVES"
                },
                "label": "INVOLVES",
                "color": "#2196F3",
                "thickness_factor": 1,
                "directed": true
              },
              {
                "id": 1155184299536810000,
                "start": 14,
                "end": 16,
                "properties": {
                  "label": "INVOLVES"
                },
                "label": "INVOLVES",
                "color": "#2196F3",
                "thickness_factor": 1,
                "directed": true
              },
              {
                "id": 1159687899164180500,
                "start": 14,
                "end": 17,
                "properties": {
                  "label": "INVOLVES"
                },
                "label": "INVOLVES",
                "color": "#2196F3",
                "thickness_factor": 1,
                "directed": true
              },
              {
                "id": 1161939698977865700,
                "start": 14,
                "end": 18,
                "properties": {
                  "label": "INVOLVES"
                },
                "label": "INVOLVES",
                "color": "#2196F3",
                "thickness_factor": 1,
                "directed": true
              },
              {
                "id": 1164191498791551000,
                "start": 14,
                "end": 19,
                "properties": {
                  "label": "INVOLVES"
                },
                "label": "INVOLVES",
                "color": "#2196F3",
                "thickness_factor": 1,
                "directed": true
              }
            ],
            "_graph_layout": {},
            "_highlight": [],
            "_license": {},
            "_model_module": "yfiles-jupyter-graphs",
            "_model_module_version": "^1.6.2",
            "_model_name": "GraphModel",
            "_neighborhood": {},
            "_nodes": [
              {
                "id": 1,
                "properties": {
                  "id": "Diabetes",
                  "label": "Condition:__Entity__:Metabolic disorder"
                },
                "color": "#2196F3",
                "styles": {},
                "label": "Diabetes",
                "scale_factor": 1,
                "type": "#2196F3",
                "size": [
                  55,
                  55
                ],
                "position": [
                  0,
                  0
                ]
              },
              {
                "id": 2,
                "properties": {
                  "id": "Glucose",
                  "label": "Sugar:__Entity__:Substance"
                },
                "color": "#4CAF50",
                "styles": {},
                "label": "Glucose",
                "scale_factor": 1,
                "type": "#4CAF50",
                "size": [
                  55,
                  55
                ],
                "position": [
                  0,
                  0
                ]
              },
              {
                "id": 3,
                "properties": {
                  "id": "Insulin",
                  "label": "Hormone:__Entity__:Substance"
                },
                "color": "#F44336",
                "styles": {},
                "label": "Insulin",
                "scale_factor": 1,
                "type": "#F44336",
                "size": [
                  55,
                  55
                ],
                "position": [
                  0,
                  0
                ]
              },
              {
                "id": 8,
                "properties": {
                  "id": "Carbohydrate Metabolism",
                  "label": "Metabolism:__Entity__"
                },
                "color": "#607D8B",
                "styles": {},
                "label": "Carbohydrate Metabolism",
                "scale_factor": 1,
                "type": "#607D8B",
                "size": [
                  55,
                  55
                ],
                "position": [
                  0,
                  0
                ]
              },
              {
                "id": 116,
                "properties": {
                  "id": "Microvascular Disease",
                  "label": "__Entity__:Disease"
                },
                "color": "#673AB7",
                "styles": {},
                "label": "Microvascular Disease",
                "scale_factor": 1,
                "type": "#673AB7",
                "size": [
                  55,
                  55
                ],
                "position": [
                  0,
                  0
                ]
              },
              {
                "id": 117,
                "properties": {
                  "id": "Eyes",
                  "label": "Organ:__Entity__"
                },
                "color": "#CDDC39",
                "styles": {},
                "label": "Eyes",
                "scale_factor": 1,
                "type": "#CDDC39",
                "size": [
                  55,
                  55
                ],
                "position": [
                  0,
                  0
                ]
              },
              {
                "id": 118,
                "properties": {
                  "id": "Kidneys",
                  "label": "Organ:__Entity__"
                },
                "color": "#CDDC39",
                "styles": {},
                "label": "Kidneys",
                "scale_factor": 1,
                "type": "#CDDC39",
                "size": [
                  55,
                  55
                ],
                "position": [
                  0,
                  0
                ]
              },
              {
                "id": 119,
                "properties": {
                  "id": "Nerves",
                  "label": "Organ:__Entity__"
                },
                "color": "#CDDC39",
                "styles": {},
                "label": "Nerves",
                "scale_factor": 1,
                "type": "#CDDC39",
                "size": [
                  55,
                  55
                ],
                "position": [
                  0,
                  0
                ]
              },
              {
                "id": 12,
                "properties": {
                  "id": "Complications",
                  "label": "Health issue:Complication:__Entity__"
                },
                "color": "#9E9E9E",
                "styles": {},
                "label": "Complications",
                "scale_factor": 1,
                "type": "#9E9E9E",
                "size": [
                  55,
                  55
                ],
                "position": [
                  0,
                  0
                ]
              },
              {
                "id": 26,
                "properties": {
                  "id": "Risk Factors",
                  "label": "Factor:__Entity__"
                },
                "color": "#9C27B0",
                "styles": {},
                "label": "Risk Factors",
                "scale_factor": 1,
                "type": "#9C27B0",
                "size": [
                  55,
                  55
                ],
                "position": [
                  0,
                  0
                ]
              },
              {
                "id": 7,
                "properties": {
                  "id": "Insulin Resistance",
                  "label": "Condition:__Entity__"
                },
                "color": "#2196F3",
                "styles": {},
                "label": "Insulin Resistance",
                "scale_factor": 1,
                "type": "#2196F3",
                "size": [
                  55,
                  55
                ],
                "position": [
                  0,
                  0
                ]
              },
              {
                "id": 114,
                "properties": {
                  "id": "Stroke",
                  "label": "Condition:__Entity__"
                },
                "color": "#2196F3",
                "styles": {},
                "label": "Stroke",
                "scale_factor": 1,
                "type": "#2196F3",
                "size": [
                  55,
                  55
                ],
                "position": [
                  0,
                  0
                ]
              },
              {
                "id": 115,
                "properties": {
                  "id": "Peripheral Artery Disease",
                  "label": "Condition:__Entity__"
                },
                "color": "#2196F3",
                "styles": {},
                "label": "Peripheral Artery Disease",
                "scale_factor": 1,
                "type": "#2196F3",
                "size": [
                  55,
                  55
                ],
                "position": [
                  0,
                  0
                ]
              },
              {
                "id": 27,
                "properties": {
                  "id": "Cardiovascular Disease",
                  "label": "Condition:__Entity__:Disease"
                },
                "color": "#4CAF50",
                "styles": {},
                "label": "Cardiovascular Disease",
                "scale_factor": 1,
                "type": "#4CAF50",
                "size": [
                  55,
                  55
                ],
                "position": [
                  0,
                  0
                ]
              },
              {
                "id": 113,
                "properties": {
                  "id": "Coronary Artery Disease",
                  "label": "__Entity__:Disease"
                },
                "color": "#673AB7",
                "styles": {},
                "label": "Coronary Artery Disease",
                "scale_factor": 1,
                "type": "#673AB7",
                "size": [
                  55,
                  55
                ],
                "position": [
                  0,
                  0
                ]
              },
              {
                "id": 126,
                "properties": {
                  "id": "Optometrist",
                  "label": "__Entity__:Professional"
                },
                "color": "#F44336",
                "styles": {},
                "label": "Optometrist",
                "scale_factor": 1,
                "type": "#F44336",
                "size": [
                  55,
                  55
                ],
                "position": [
                  0,
                  0
                ]
              },
              {
                "id": 127,
                "properties": {
                  "id": "Ophthalmologist",
                  "label": "__Entity__:Professional"
                },
                "color": "#F44336",
                "styles": {},
                "label": "Ophthalmologist",
                "scale_factor": 1,
                "type": "#F44336",
                "size": [
                  55,
                  55
                ],
                "position": [
                  0,
                  0
                ]
              },
              {
                "id": 4,
                "properties": {
                  "id": "Pancreas",
                  "label": "Organ:__Entity__"
                },
                "color": "#CDDC39",
                "styles": {},
                "label": "Pancreas",
                "scale_factor": 1,
                "type": "#CDDC39",
                "size": [
                  55,
                  55
                ],
                "position": [
                  0,
                  0
                ]
              },
              {
                "id": 131,
                "properties": {
                  "id": "Blood Glucose",
                  "label": "Blood measurement:__Entity__"
                },
                "color": "#607D8B",
                "styles": {},
                "label": "Blood Glucose",
                "scale_factor": 1,
                "type": "#607D8B",
                "size": [
                  55,
                  55
                ],
                "position": [
                  0,
                  0
                ]
              },
              {
                "id": 132,
                "properties": {
                  "id": "Blood Pressure",
                  "label": "Blood measurement:__Entity__"
                },
                "color": "#607D8B",
                "styles": {},
                "label": "Blood Pressure",
                "scale_factor": 1,
                "type": "#607D8B",
                "size": [
                  55,
                  55
                ],
                "position": [
                  0,
                  0
                ]
              },
              {
                "id": 133,
                "properties": {
                  "id": "Lipids",
                  "label": "__Entity__:Substance"
                },
                "color": "#673AB7",
                "styles": {},
                "label": "Lipids",
                "scale_factor": 1,
                "type": "#673AB7",
                "size": [
                  55,
                  55
                ],
                "position": [
                  0,
                  0
                ]
              },
              {
                "id": 134,
                "properties": {
                  "id": "Hba1C",
                  "label": "Blood measurement:__Entity__"
                },
                "color": "#607D8B",
                "styles": {},
                "label": "Hba1C",
                "scale_factor": 1,
                "type": "#607D8B",
                "size": [
                  55,
                  55
                ],
                "position": [
                  0,
                  0
                ]
              },
              {
                "id": 135,
                "properties": {
                  "id": "Hypoglycemia",
                  "label": "Condition:__Entity__"
                },
                "color": "#2196F3",
                "styles": {},
                "label": "Hypoglycemia",
                "scale_factor": 1,
                "type": "#2196F3",
                "size": [
                  55,
                  55
                ],
                "position": [
                  0,
                  0
                ]
              },
              {
                "id": 5,
                "properties": {
                  "id": "Type 1 Diabetes",
                  "label": "Diabetes mellitus:__Entity__:Diabetes mellitus type 1"
                },
                "color": "#CDDC39",
                "styles": {},
                "label": "Type 1 Diabetes",
                "scale_factor": 1,
                "type": "#CDDC39",
                "size": [
                  55,
                  55
                ],
                "position": [
                  0,
                  0
                ]
              },
              {
                "id": 6,
                "properties": {
                  "id": "Type 2 Diabetes",
                  "label": "Diabetes mellitus:__Entity__:Diabetes mellitus type 2"
                },
                "color": "#9E9E9E",
                "styles": {},
                "label": "Type 2 Diabetes",
                "scale_factor": 1,
                "type": "#9E9E9E",
                "size": [
                  55,
                  55
                ],
                "position": [
                  0,
                  0
                ]
              },
              {
                "id": 10,
                "properties": {
                  "id": "Dietary Modifications",
                  "label": "Modification:__Entity__:Treatment"
                },
                "color": "#9C27B0",
                "styles": {},
                "label": "Dietary Modifications",
                "scale_factor": 1,
                "type": "#9C27B0",
                "size": [
                  55,
                  55
                ],
                "position": [
                  0,
                  0
                ]
              },
              {
                "id": 11,
                "properties": {
                  "id": "Exercise",
                  "label": "__Entity__:Activity"
                },
                "color": "#2196F3",
                "styles": {},
                "label": "Exercise",
                "scale_factor": 1,
                "type": "#2196F3",
                "size": [
                  55,
                  55
                ],
                "position": [
                  0,
                  0
                ]
              },
              {
                "id": 14,
                "properties": {
                  "id": "Glucose Cycle",
                  "label": "__Entity__:Cycle"
                },
                "color": "#4CAF50",
                "styles": {},
                "label": "Glucose Cycle",
                "scale_factor": 1,
                "type": "#4CAF50",
                "size": [
                  55,
                  55
                ],
                "position": [
                  0,
                  0
                ]
              },
              {
                "id": 22,
                "properties": {
                  "id": "Compliance",
                  "label": "__Entity__:Issue"
                },
                "color": "#F44336",
                "styles": {},
                "label": "Compliance",
                "scale_factor": 1,
                "type": "#F44336",
                "size": [
                  55,
                  55
                ],
                "position": [
                  0,
                  0
                ]
              },
              {
                "id": 18,
                "properties": {
                  "id": "User",
                  "label": "Person:__Entity__"
                },
                "color": "#607D8B",
                "styles": {},
                "label": "User",
                "scale_factor": 1,
                "type": "#607D8B",
                "size": [
                  55,
                  55
                ],
                "position": [
                  0,
                  0
                ]
              },
              {
                "id": 15,
                "properties": {
                  "id": "Bloodstream",
                  "label": "__Entity__:Body part"
                },
                "color": "#673AB7",
                "styles": {},
                "label": "Bloodstream",
                "scale_factor": 1,
                "type": "#673AB7",
                "size": [
                  55,
                  55
                ],
                "position": [
                  0,
                  0
                ]
              },
              {
                "id": 16,
                "properties": {
                  "id": "Cells",
                  "label": "Cell:__Entity__:Body part"
                },
                "color": "#CDDC39",
                "styles": {},
                "label": "Cells",
                "scale_factor": 1,
                "type": "#CDDC39",
                "size": [
                  55,
                  55
                ],
                "position": [
                  0,
                  0
                ]
              },
              {
                "id": 17,
                "properties": {
                  "id": "Organs",
                  "label": "__Entity__:Body part"
                },
                "color": "#673AB7",
                "styles": {},
                "label": "Organs",
                "scale_factor": 1,
                "type": "#673AB7",
                "size": [
                  55,
                  55
                ],
                "position": [
                  0,
                  0
                ]
              },
              {
                "id": 19,
                "properties": {
                  "id": "Diet",
                  "label": "__Entity__:Activity"
                },
                "color": "#2196F3",
                "styles": {},
                "label": "Diet",
                "scale_factor": 1,
                "type": "#2196F3",
                "size": [
                  55,
                  55
                ],
                "position": [
                  0,
                  0
                ]
              }
            ],
            "_overview": {
              "enabled": null,
              "overview_set": false
            },
            "_selected_graph": [
              [],
              []
            ],
            "_sidebar": {
              "enabled": true,
              "start_with": ""
            },
            "_view_count": null,
            "_view_module": "yfiles-jupyter-graphs",
            "_view_module_version": "^1.6.2",
            "_view_name": "GraphView",
            "layout": "IPY_MODEL_11650327fc3840abb4c4aacf0b3b0766"
          }
        },
        "11650327fc3840abb4c4aacf0b3b0766": {
          "model_module": "@jupyter-widgets/base",
          "model_name": "LayoutModel",
          "model_module_version": "1.2.0",
          "state": {
            "_model_module": "@jupyter-widgets/base",
            "_model_module_version": "1.2.0",
            "_model_name": "LayoutModel",
            "_view_count": null,
            "_view_module": "@jupyter-widgets/base",
            "_view_module_version": "1.2.0",
            "_view_name": "LayoutView",
            "align_content": null,
            "align_items": null,
            "align_self": null,
            "border": null,
            "bottom": null,
            "display": null,
            "flex": null,
            "flex_flow": null,
            "grid_area": null,
            "grid_auto_columns": null,
            "grid_auto_flow": null,
            "grid_auto_rows": null,
            "grid_column": null,
            "grid_gap": null,
            "grid_row": null,
            "grid_template_areas": null,
            "grid_template_columns": null,
            "grid_template_rows": null,
            "height": "800px",
            "justify_content": null,
            "justify_items": null,
            "left": null,
            "margin": null,
            "max_height": null,
            "max_width": null,
            "min_height": null,
            "min_width": null,
            "object_fit": null,
            "object_position": null,
            "order": null,
            "overflow": null,
            "overflow_x": null,
            "overflow_y": null,
            "padding": null,
            "right": null,
            "top": null,
            "visibility": null,
            "width": "100%"
          }
        }
      }
    }
  },
  "cells": [
    {
      "cell_type": "markdown",
      "metadata": {
        "id": "view-in-github",
        "colab_type": "text"
      },
      "source": [
        "<a href=\"https://colab.research.google.com/github/maneeha/KGLLM/blob/main/Diabetes%20-%20Wikipedia%20to%20graph%20-%20RAG_With_Knowledge_graph(Neo4j).ipynb\" target=\"_parent\"><img src=\"https://colab.research.google.com/assets/colab-badge.svg\" alt=\"Open In Colab\"/></a>"
      ]
    },
    {
      "cell_type": "markdown",
      "source": [
        "# langchain-core\n",
        "\n",
        "contains simple, core abstractions that have emerged as a standard, as well as LangChain Expression Language as a way to compose these components together. This package is now at version 0.1 and all breaking changes will be accompanied by a minor version bump.\n",
        "\n",
        "# langchain-community\n",
        "contains all third party integrations. We will work with partners on splitting key integrations out into standalone packages over the next month.\n",
        "\n",
        "# langchain\n",
        "contains higher-level and use-case specific chains, agents, and retrieval algorithms that are at the core of your application's cognitive architecture. We are targeting a launch of a stable 0.1 release for langchain in early January.#"
      ],
      "metadata": {
        "id": "xB3OyiU14byv"
      }
    },
    {
      "cell_type": "code",
      "source": [
        "%pip install --upgrade --quiet  langchain langchain-community langchain-openai langchain-experimental neo4j wikipedia tiktoken yfiles_jupyter_graphs"
      ],
      "metadata": {
        "colab": {
          "base_uri": "https://localhost:8080/"
        },
        "id": "usWcdmOr7GAH",
        "outputId": "2bd76383-0e44-474b-c417-e33fe1efa9f8"
      },
      "execution_count": 5,
      "outputs": [
        {
          "output_type": "stream",
          "name": "stdout",
          "text": [
            "\u001b[2K     \u001b[90m━━━━━━━━━━━━━━━━━━━━━━━━━━━━━━━━━━━━━━━━\u001b[0m \u001b[32m973.5/973.5 kB\u001b[0m \u001b[31m6.3 MB/s\u001b[0m eta \u001b[36m0:00:00\u001b[0m\n",
            "\u001b[2K     \u001b[90m━━━━━━━━━━━━━━━━━━━━━━━━━━━━━━━━━━━━━━━━\u001b[0m \u001b[32m2.1/2.1 MB\u001b[0m \u001b[31m54.8 MB/s\u001b[0m eta \u001b[36m0:00:00\u001b[0m\n",
            "\u001b[2K     \u001b[90m━━━━━━━━━━━━━━━━━━━━━━━━━━━━━━━━━━━━━━━━\u001b[0m \u001b[32m199.5/199.5 kB\u001b[0m \u001b[31m16.3 MB/s\u001b[0m eta \u001b[36m0:00:00\u001b[0m\n",
            "\u001b[2K     \u001b[90m━━━━━━━━━━━━━━━━━━━━━━━━━━━━━━━━━━━━━━━━\u001b[0m \u001b[32m203.0/203.0 kB\u001b[0m \u001b[31m24.1 MB/s\u001b[0m eta \u001b[36m0:00:00\u001b[0m\n",
            "\u001b[?25h  Installing build dependencies ... \u001b[?25l\u001b[?25hdone\n",
            "  Getting requirements to build wheel ... \u001b[?25l\u001b[?25hdone\n",
            "  Installing backend dependencies ... \u001b[?25l\u001b[?25hdone\n",
            "  Preparing metadata (pyproject.toml) ... \u001b[?25l\u001b[?25hdone\n",
            "  Preparing metadata (setup.py) ... \u001b[?25l\u001b[?25hdone\n",
            "\u001b[2K     \u001b[90m━━━━━━━━━━━━━━━━━━━━━━━━━━━━━━━━━━━━━━━━\u001b[0m \u001b[32m1.1/1.1 MB\u001b[0m \u001b[31m58.9 MB/s\u001b[0m eta \u001b[36m0:00:00\u001b[0m\n",
            "\u001b[2K     \u001b[90m━━━━━━━━━━━━━━━━━━━━━━━━━━━━━━━━━━━━━━━━\u001b[0m \u001b[32m15.3/15.3 MB\u001b[0m \u001b[31m52.7 MB/s\u001b[0m eta \u001b[36m0:00:00\u001b[0m\n",
            "\u001b[2K     \u001b[90m━━━━━━━━━━━━━━━━━━━━━━━━━━━━━━━━━━━━━━━━\u001b[0m \u001b[32m310.2/310.2 kB\u001b[0m \u001b[31m32.2 MB/s\u001b[0m eta \u001b[36m0:00:00\u001b[0m\n",
            "\u001b[2K     \u001b[90m━━━━━━━━━━━━━━━━━━━━━━━━━━━━━━━━━━━━━━━━\u001b[0m \u001b[32m124.3/124.3 kB\u001b[0m \u001b[31m12.9 MB/s\u001b[0m eta \u001b[36m0:00:00\u001b[0m\n",
            "\u001b[2K     \u001b[90m━━━━━━━━━━━━━━━━━━━━━━━━━━━━━━━━━━━━━━━━\u001b[0m \u001b[32m320.7/320.7 kB\u001b[0m \u001b[31m34.9 MB/s\u001b[0m eta \u001b[36m0:00:00\u001b[0m\n",
            "\u001b[2K     \u001b[90m━━━━━━━━━━━━━━━━━━━━━━━━━━━━━━━━━━━━━━━━\u001b[0m \u001b[32m49.3/49.3 kB\u001b[0m \u001b[31m6.0 MB/s\u001b[0m eta \u001b[36m0:00:00\u001b[0m\n",
            "\u001b[2K     \u001b[90m━━━━━━━━━━━━━━━━━━━━━━━━━━━━━━━━━━━━━━━━\u001b[0m \u001b[32m53.0/53.0 kB\u001b[0m \u001b[31m6.5 MB/s\u001b[0m eta \u001b[36m0:00:00\u001b[0m\n",
            "\u001b[2K     \u001b[90m━━━━━━━━━━━━━━━━━━━━━━━━━━━━━━━━━━━━━━━━\u001b[0m \u001b[32m142.5/142.5 kB\u001b[0m \u001b[31m17.1 MB/s\u001b[0m eta \u001b[36m0:00:00\u001b[0m\n",
            "\u001b[2K     \u001b[90m━━━━━━━━━━━━━━━━━━━━━━━━━━━━━━━━━━━━━━━━\u001b[0m \u001b[32m75.6/75.6 kB\u001b[0m \u001b[31m9.3 MB/s\u001b[0m eta \u001b[36m0:00:00\u001b[0m\n",
            "\u001b[2K     \u001b[90m━━━━━━━━━━━━━━━━━━━━━━━━━━━━━━━━━━━━━━━━\u001b[0m \u001b[32m77.9/77.9 kB\u001b[0m \u001b[31m9.2 MB/s\u001b[0m eta \u001b[36m0:00:00\u001b[0m\n",
            "\u001b[2K     \u001b[90m━━━━━━━━━━━━━━━━━━━━━━━━━━━━━━━━━━━━━━━━\u001b[0m \u001b[32m58.3/58.3 kB\u001b[0m \u001b[31m7.2 MB/s\u001b[0m eta \u001b[36m0:00:00\u001b[0m\n",
            "\u001b[2K     \u001b[90m━━━━━━━━━━━━━━━━━━━━━━━━━━━━━━━━━━━━━━━━\u001b[0m \u001b[32m1.6/1.6 MB\u001b[0m \u001b[31m70.1 MB/s\u001b[0m eta \u001b[36m0:00:00\u001b[0m\n",
            "\u001b[?25h  Building wheel for neo4j (pyproject.toml) ... \u001b[?25l\u001b[?25hdone\n",
            "  Building wheel for wikipedia (setup.py) ... \u001b[?25l\u001b[?25hdone\n"
          ]
        }
      ]
    },
    {
      "cell_type": "code",
      "source": [
        "from langchain_core.runnables import (\n",
        "    RunnableBranch,\n",
        "    RunnableLambda,\n",
        "    RunnableParallel,\n",
        "    RunnablePassthrough,\n",
        ")"
      ],
      "metadata": {
        "id": "q8EzdaTJFTbx"
      },
      "execution_count": 6,
      "outputs": []
    },
    {
      "cell_type": "code",
      "source": [
        "from langchain_core.prompts import ChatPromptTemplate\n",
        "from langchain_core.prompts.prompt import PromptTemplate"
      ],
      "metadata": {
        "id": "vKkxxyasFWPh"
      },
      "execution_count": 7,
      "outputs": []
    },
    {
      "cell_type": "code",
      "source": [
        "from google.colab import userdata\n",
        "OPENAI_API_KEY=userdata.get('OPENAI_API_KEY')"
      ],
      "metadata": {
        "id": "SksHz3Q356JQ"
      },
      "execution_count": 8,
      "outputs": []
    },
    {
      "cell_type": "code",
      "source": [
        "from typing import Tuple, List, Optional"
      ],
      "metadata": {
        "id": "GCEgNy7LFXS4"
      },
      "execution_count": 9,
      "outputs": []
    },
    {
      "cell_type": "code",
      "source": [
        "from langchain_core.messages import AIMessage, HumanMessage\n",
        "from langchain_core.output_parsers import StrOutputParser"
      ],
      "metadata": {
        "id": "ymZquwggFaNr"
      },
      "execution_count": 10,
      "outputs": []
    },
    {
      "cell_type": "code",
      "source": [
        "from langchain_core.runnables import ConfigurableField"
      ],
      "metadata": {
        "id": "nitfT-ktFaQQ"
      },
      "execution_count": 11,
      "outputs": []
    },
    {
      "cell_type": "code",
      "source": [
        "from yfiles_jupyter_graphs import GraphWidget\n",
        "from neo4j import GraphDatabase\n"
      ],
      "metadata": {
        "id": "fzOPupw0FaSy"
      },
      "execution_count": 12,
      "outputs": []
    },
    {
      "cell_type": "code",
      "source": [
        "import os"
      ],
      "metadata": {
        "id": "g6kjt1HkFaVZ"
      },
      "execution_count": 13,
      "outputs": []
    },
    {
      "cell_type": "code",
      "source": [
        "try:\n",
        "  import google.colab\n",
        "  from google.colab import output\n",
        "  output.enable_custom_widget_manager()\n",
        "except:\n",
        "  pass"
      ],
      "metadata": {
        "id": "IR5TLMjpFhE-"
      },
      "execution_count": 14,
      "outputs": []
    },
    {
      "cell_type": "code",
      "source": [
        "from langchain_community.vectorstores import Neo4jVector"
      ],
      "metadata": {
        "id": "pSgOwI9SFhHr"
      },
      "execution_count": 15,
      "outputs": []
    },
    {
      "cell_type": "code",
      "source": [
        "from google.colab import userdata\n",
        "OPENAI_API_KEY=userdata.get('OPENAI_API_KEY')"
      ],
      "metadata": {
        "id": "lyOvwiijFlQF"
      },
      "execution_count": 16,
      "outputs": []
    },
    {
      "cell_type": "code",
      "source": [
        "NEO4J_URI=\"neo4j+s://e3a484ff.databases.neo4j.io\"\n",
        "NEO4J_USERNAME=\"neo4j\"\n",
        "NEO4J_PASSWORD=\"\""
      ],
      "metadata": {
        "id": "YiKFX23n4tl3"
      },
      "execution_count": 17,
      "outputs": []
    },
    {
      "cell_type": "code",
      "source": [
        "os.environ[\"OPENAI_API_KEY\"] = OPENAI_API_KEY\n",
        "os.environ[\"NEO4J_URI\"] = NEO4J_URI\n",
        "os.environ[\"NEO4J_USERNAME\"] = NEO4J_USERNAME\n",
        "os.environ[\"NEO4J_PASSWORD\"] = NEO4J_PASSWORD"
      ],
      "metadata": {
        "id": "gHiqiwau7Tat"
      },
      "execution_count": 18,
      "outputs": []
    },
    {
      "cell_type": "code",
      "source": [
        "from langchain_community.graphs import Neo4jGraph"
      ],
      "metadata": {
        "id": "zpIPagYu6BAp"
      },
      "execution_count": 19,
      "outputs": []
    },
    {
      "cell_type": "code",
      "source": [
        "graph = Neo4jGraph()"
      ],
      "metadata": {
        "id": "0xzi4bRD6Bx9"
      },
      "execution_count": 20,
      "outputs": []
    },
    {
      "cell_type": "code",
      "source": [
        "from langchain.document_loaders import WikipediaLoader\n",
        "raw_documents = WikipediaLoader(query=\"Diabetes_management\").load()"
      ],
      "metadata": {
        "id": "XKqtMDVY6WwW"
      },
      "execution_count": 21,
      "outputs": []
    },
    {
      "cell_type": "code",
      "source": [
        "len(raw_documents)"
      ],
      "metadata": {
        "colab": {
          "base_uri": "https://localhost:8080/"
        },
        "id": "ACWeDt0O7yc2",
        "outputId": "6ff49f17-a934-4cd3-dc1d-6e09d8708004"
      },
      "execution_count": 22,
      "outputs": [
        {
          "output_type": "execute_result",
          "data": {
            "text/plain": [
              "25"
            ]
          },
          "metadata": {},
          "execution_count": 22
        }
      ]
    },
    {
      "cell_type": "code",
      "source": [
        "raw_documents[:3]"
      ],
      "metadata": {
        "colab": {
          "base_uri": "https://localhost:8080/"
        },
        "id": "skFy3n30732l",
        "outputId": "c4bd6bda-dc8a-4d4e-ae6b-101bbd6382ca"
      },
      "execution_count": 23,
      "outputs": [
        {
          "output_type": "execute_result",
          "data": {
            "text/plain": [
              "[Document(page_content='The term diabetes includes several different metabolic disorders that all, if left untreated, result in abnormally high concentrations of a sugar called glucose in the blood. Diabetes mellitus type 1 results when the pancreas no longer produces significant amounts of the hormone insulin, usually owing to the autoimmune destruction of the insulin-producing beta cells of the pancreas. Diabetes mellitus type 2, in contrast, is now thought to result from autoimmune attacks on the pancreas and/or insulin resistance. The pancreas of a person with type 2 diabetes may be producing normal or even abnormally large amounts of insulin. Other forms of diabetes mellitus, such as the various forms of maturity-onset diabetes of the young, may represent some combination of insufficient insulin production and insulin resistance. Some degree of insulin resistance may also be present in a person with type 1 diabetes.\\nThe main goal of diabetes management and control is, as far as possible, to restore carbohydrate metabolism to a normal state. To achieve this goal, individuals with an absolute deficiency of insulin require insulin replacement therapy, which is given through injections or an insulin pump. Insulin resistance, in contrast, can be corrected by dietary modifications and exercise. Other goals of diabetes management are to prevent or treat the many complications that can result from the disease itself and from its treatment.\\n\\n\\n== Overview ==\\n\\n\\n=== Goals ===\\nThe treatment goals are related to effective control of blood glucose, blood pressure and lipids, to minimize the risk of long-term consequences associated with diabetes. They are suggested in clinical practice guidelines released by various national and international diabetes agencies.\\nThe targets are:\\n\\nHbA1c of less than 6% or 7.0% if they are achievable without significant hypoglycemia\\nPreprandial blood glucose: 3.9 to 7.2 mmol/L (70 to 130 mg/dL)\\n2-hour postprandial blood glucose: <10 mmol/L (<180 mg/dL)\\nGoals should be individualized based on:\\n\\nDuration of diabetes\\nAge/life expectancy\\nComorbidity\\nKnown cardiovascular disease or advanced microvascular disease\\nHypoglycemia awareness\\nIn older patients, clinical practice guidelines by the American Geriatrics Society state \"for frail older adults, persons with life expectancy of less than 5 years, and others in whom the risks of intensive glycemic control appear to outweigh the benefits, a less stringent target such as HbA1c of 8% is appropriate\".\\n\\n\\n=== Issues ===\\nThe primary issue requiring management is that of the glucose cycle. In this, glucose in the bloodstream is made available to cells in the body; a process dependent upon the twin cycles of glucose entering the bloodstream, and insulin allowing appropriate uptake into the body cells. Both aspects can require management. Another issue that ties along with the glucose cycle is getting a balanced amount of the glucose to the major organs so they are not affected negatively.\\n\\n\\n=== Complexities ===\\n\\nThe main complexities stem from the nature of the feedback loop of the glucose cycle, which is sought to be regulated:\\n\\nThe glucose cycle is a system which is affected by two factors: entry of glucose into the bloodstream and also blood levels of insulin to control its transport out of the bloodstream\\nAs a system, it is sensitive to diet and exercise\\nIt is affected by the need for user anticipation due to the complicating effects of time delays between any activity and the respective impact on the glucose system\\nManagement is highly intrusive, and compliance is an issue, since it relies upon user lifestyle change and often upon regular sampling and measuring of blood glucose levels, multiple times a day in many cases\\nIt changes as people grow and develop\\nIt is highly individual\\nAs diabetes is a prime risk factor for cardiovascular disease, controlling other risk factors which may give rise to secondary conditions, as well as the diabetes itself, is one of the facets of diabetes manageme', metadata={'title': 'Diabetes management', 'summary': 'The term diabetes includes several different metabolic disorders that all, if left untreated, result in abnormally high concentrations of a sugar called glucose in the blood. Diabetes mellitus type 1 results when the pancreas no longer produces significant amounts of the hormone insulin, usually owing to the autoimmune destruction of the insulin-producing beta cells of the pancreas. Diabetes mellitus type 2, in contrast, is now thought to result from autoimmune attacks on the pancreas and/or insulin resistance. The pancreas of a person with type 2 diabetes may be producing normal or even abnormally large amounts of insulin. Other forms of diabetes mellitus, such as the various forms of maturity-onset diabetes of the young, may represent some combination of insufficient insulin production and insulin resistance. Some degree of insulin resistance may also be present in a person with type 1 diabetes.\\nThe main goal of diabetes management and control is, as far as possible, to restore carbohydrate metabolism to a normal state. To achieve this goal, individuals with an absolute deficiency of insulin require insulin replacement therapy, which is given through injections or an insulin pump. Insulin resistance, in contrast, can be corrected by dietary modifications and exercise. Other goals of diabetes management are to prevent or treat the many complications that can result from the disease itself and from its treatment.\\n\\n', 'source': 'https://en.wikipedia.org/wiki/Diabetes_management'}),\n",
              " Document(page_content=\"The following is a glossary of diabetes which explains terms connected with diabetes.\\n\\n\\n== A ==\\n\\nAcanthosis nigricans A brown to black, poorly defined, velvety hyperpigmentation of the skin, usually present in the posterior and lateral folds of the neck, the axilla, groin, umbilicus, and other areas.  This occurs due to insulin spillover (from excessive production due to obesity or insulin resistance) into the skin which results in abnormal growth being observed.  The most common cause would be insulin resistance, usually from type 2 diabetes mellitus.\\nACE inhibitor Angiotensin conversion enzyme. A class of drugs used to decrease hypertension, mainly by interfering with the renin kidney—blood pressure control cycle. An example is Ramparil. (See ARB).\\nAdult-onset diabetes One of the former terms for Type 2 diabetes. See: Type 2 diabetes mellitus.\\nAcetohexamide A pill taken to lower the level of glucose (sugar) in the blood. People with Type 2 diabetes may take these pills. See also: Oral hypoglycemic agents. One of the sulfonylurea drugs. (Dymelor Dimelor)\\nAcetone A byproduct of fat metabolism. One of three ketone body substances. Produced in high levels during periods of stress, infection, etc possibly leading to diabetic ketoacidosis, a very serious condition. It can sometimes be smelled on the breath of those in, or about to enter diabetic ketoacidosis as a fruity (nail polish remover, or lacquer thinner) sort of smell. It is very rapidly released into via the lungs into the breath, unlike the other ketone bodies. It is chemically a ketone.\\nAcidosis An acidic condition in body fluids, chiefly blood. If prolonged, or severe, it can cause coma and death regardless of cause. For a person with diabetes, this can be caused by insufficient glucose absorption (e.g. from inadequate insulin) combined with metabolic ketosis. It can lead to diabetic ketoacidosis, a medical emergency.\\nAcute Happens for a limited period of time; abrupt onset; sharp, severe.\\nAdrenal gland An endocrine gland located on top of the human kidney. Secretes adrenaline, one of the primary 'fight or flight' stress hormones, which have substantial counterregulatory effects.\\nAdverse effect A harmful result.\\nAlbuminuria release of the protein albumin in urine. As this protein is strongly conserved, this is evidence of abnormal kidney function.\\nAldose reductase inhibitor \\nAlpha cell one of the types of cell in the pancreas (in areas called the Islets of Langerhans). Alpha cells make and release a hormone called glucagon, which raises the level of glucose (sugar) in the blood.\\nAmino acid a weak acid carbon compound containing carbon, hydrogen, oxygen, and nitrogen. The nitrogenous amine group is characteristic of each. Amino acids are the building blocks of protein and there are about 20 used in the human body, of which about half can be constructed internally. The rest must come in the diet—they are the essential amino acids.\\nAmyotrophy A type of diabetic neuropathy that causes muscle weakness and wasting.\\nAmylin A peptide thought to be involved in beta cell loss in type 2 diabetes.\\nAngiopathy A process that damages the blood vessels.\\nAnomalies Abnormalities, as in birth defects, or in peculiar results or developments. For instance, diabetes can develop in an anomalous, unusual, way.\\nAntibodies Chemicals produced by the immune system which are very carefully tuned to attach only to particular substances in foreign bodies (e.g., viruses, bacteria, foreign tissue, ...) When they attach to their target substances, other parts of the immune system attack and destroy the tagged protein or cell.  It is an inappropriate antibody reaction to normal proteins found on beta cells that are thought to be the main mechanism of beta cell destruction in Type 1 diabetes.\\nAnti-diabetic drug A kind of medication that helps a person with diabetes control the level of glucose (sugar) in the blood so that the body works as it should. See also: Insulin; oral hypoglycemic agents.\\nAntigen Th\", metadata={'title': 'Glossary of diabetes', 'summary': 'The following is a glossary of diabetes which explains terms connected with diabetes.\\n\\n', 'source': 'https://en.wikipedia.org/wiki/Glossary_of_diabetes'}),\n",
              " Document(page_content=\"Diabetes mellitus, often known simply as diabetes, is a group of common endocrine diseases characterized by sustained high blood sugar levels. Diabetes is due to either the pancreas not producing enough insulin, or the cells of the body becoming unresponsive to the hormone's effects. Classic symptoms include thirst, polyuria, weight loss, and blurred vision. If left untreated, the disease can lead to various health complications, including disorders of the cardiovascular system, eye, kidney, and nerves. Untreated or poorly treated diabetes accounts for approximately 1.5 million deaths every year.\\nThe major types of diabetes are type 1 and type 2. The most common treatment for type 1 is insulin replacement therapy (insulin injections), while anti-diabetic medications (such as metformin and semaglutide) and lifestyle modifications can be used to manage type 2. Gestational diabetes, a form that arises during pregnancy in some women, normally resolves shortly after delivery.\\nAs of 2021, an estimated 537 million people had diabetes worldwide accounting for 10.5% of the adult population, with type 2 making up about 90% of all cases. It is estimated that by 2045, approximately 783 million adults, or 1 in 8, will be living with diabetes, representing a 46% increase from the current figures. The prevalence of the disease continues to increase, most dramatically in low- and middle-income nations. Rates are similar in women and men, with diabetes being the seventh leading cause of death globally. The global expenditure on diabetes-related healthcare is an estimated US$760 billion a year.\\n\\n\\n== Signs and symptoms ==\\n The classic symptoms of untreated diabetes are polyuria, thirst, and weight loss. Several other non-specific signs and symptoms may also occur, including fatigue, blurred vision, and genital itchiness due to Candida infection. About half of affected individuals may also be asymptomatic. Type 1 presents abruptly following a pre-clinical phase, while type 2 has a more insidious onset; patients may remain asymptomatic for many years.\\nDiabetic ketoacidosis is a medical emergency that occurs most commonly in type 1, but may also occur in type 2 if it has been longstanding or if the individual has significant β-cell dysfunction. Excessive production of ketone bodies leads to signs and symptoms including nausea, vomiting, abdominal pain, the smell of acetone in the breath, deep breathing known as Kussmaul breathing, and in severe cases decreased level of consciousness. Hyperosmolar hyperglycemic state is another emergency characterised by dehydration secondary to severe hyperglycaemia, with resultant hypernatremia leading to an altered mental state and possibly coma.\\nHypoglycaemia is a recognised complication of insulin treatment used in diabetes. An acute presentation can include mild symptoms such as sweating, trembling, and palpitations, to more serious effects including impaired cognition, confusion, seizures, coma, and rarely death. Recurrent hypoglycaemic episodes may lower the glycaemic threshold at which symptoms occur, meaning mild symptoms may not appear before cognitive deterioration begins to occur.\\n\\n\\n=== Long-term complications ===\\n\\nThe major long-term complications of diabetes relate to damage to blood vessels at both macrovascular and microvascular levels. Diabetes doubles the risk of cardiovascular disease, and about 75% of deaths in people with diabetes are due to coronary artery disease. Other macrovascular morbidities include stroke and peripheral artery disease.\\nMicrovascular disease affects the eyes, kidneys, and nerves. Damage to the retina, known as diabetic retinopathy, is the most common cause of blindness in people of working age. The eyes can also be affected in other ways, including development of cataract and glaucoma. It is recommended that people with diabetes visit an optometrist or ophthalmologist once a year.\\nDiabetic nephropathy is a major cause of chronic kidney disease, accounting for over 50% of \", metadata={'title': 'Diabetes', 'summary': \"Diabetes mellitus, often known simply as diabetes, is a group of common endocrine diseases characterized by sustained high blood sugar levels. Diabetes is due to either the pancreas not producing enough insulin, or the cells of the body becoming unresponsive to the hormone's effects. Classic symptoms include thirst, polyuria, weight loss, and blurred vision. If left untreated, the disease can lead to various health complications, including disorders of the cardiovascular system, eye, kidney, and nerves. Untreated or poorly treated diabetes accounts for approximately 1.5 million deaths every year.\\nThe major types of diabetes are type 1 and type 2. The most common treatment for type 1 is insulin replacement therapy (insulin injections), while anti-diabetic medications (such as metformin and semaglutide) and lifestyle modifications can be used to manage type 2. Gestational diabetes, a form that arises during pregnancy in some women, normally resolves shortly after delivery.\\nAs of 2021, an estimated 537 million people had diabetes worldwide accounting for 10.5% of the adult population, with type 2 making up about 90% of all cases. It is estimated that by 2045, approximately 783 million adults, or 1 in 8, will be living with diabetes, representing a 46% increase from the current figures. The prevalence of the disease continues to increase, most dramatically in low- and middle-income nations. Rates are similar in women and men, with diabetes being the seventh leading cause of death globally. The global expenditure on diabetes-related healthcare is an estimated US$760 billion a year.\", 'source': 'https://en.wikipedia.org/wiki/Diabetes'})]"
            ]
          },
          "metadata": {},
          "execution_count": 23
        }
      ]
    },
    {
      "cell_type": "code",
      "source": [
        "from langchain.text_splitter import TokenTextSplitter\n",
        "text_splitter = TokenTextSplitter(chunk_size=512, chunk_overlap=24)\n",
        "documents = text_splitter.split_documents(raw_documents[:3])"
      ],
      "metadata": {
        "id": "5ChZ008I6paW"
      },
      "execution_count": 24,
      "outputs": []
    },
    {
      "cell_type": "code",
      "source": [
        "from langchain_openai import ChatOpenAI\n",
        "llm=ChatOpenAI(temperature=0, model_name=\"gpt-3.5-turbo-0125\")"
      ],
      "metadata": {
        "id": "IMh_IpRb78rs"
      },
      "execution_count": 25,
      "outputs": []
    },
    {
      "cell_type": "code",
      "source": [
        "from langchain_experimental.graph_transformers import LLMGraphTransformer\n",
        "llm_transformer = LLMGraphTransformer(llm=llm)"
      ],
      "metadata": {
        "id": "Mer51fZA9pa1"
      },
      "execution_count": 26,
      "outputs": []
    },
    {
      "cell_type": "code",
      "source": [
        "graph_documents = llm_transformer.convert_to_graph_documents(documents)"
      ],
      "metadata": {
        "id": "pZP64uFM9vLk"
      },
      "execution_count": 27,
      "outputs": []
    },
    {
      "cell_type": "code",
      "source": [
        "graph_documents"
      ],
      "metadata": {
        "colab": {
          "base_uri": "https://localhost:8080/"
        },
        "id": "3Nwjd5yR92VE",
        "outputId": "153783c9-09b1-4020-8e14-61b7a635ba70"
      },
      "execution_count": 28,
      "outputs": [
        {
          "output_type": "execute_result",
          "data": {
            "text/plain": [
              "[GraphDocument(nodes=[Node(id='Diabetes', type='Metabolic disorder'), Node(id='Glucose', type='Sugar'), Node(id='Insulin', type='Hormone'), Node(id='Pancreas', type='Organ'), Node(id='Type 1 Diabetes', type='Diabetes mellitus'), Node(id='Type 2 Diabetes', type='Diabetes mellitus'), Node(id='Insulin Resistance', type='Condition'), Node(id='Maturity-Onset Diabetes Of The Young', type='Diabetes mellitus'), Node(id='Carbohydrate Metabolism', type='Metabolism'), Node(id='Insulin Replacement Therapy', type='Therapy'), Node(id='Dietary Modifications', type='Modification'), Node(id='Exercise', type='Activity'), Node(id='Blood Glucose', type='Blood measurement'), Node(id='Blood Pressure', type='Blood measurement'), Node(id='Lipids', type='Substance'), Node(id='Hba1C', type='Blood measurement'), Node(id='Hypoglycemia', type='Condition'), Node(id='Cardiovascular Disease', type='Disease'), Node(id='Microvascular Disease', type='Disease'), Node(id='Clinical Practice Guidelines', type='Guidelines'), Node(id='American Geriatrics Society', type='Organization')], relationships=[Relationship(source=Node(id='Diabetes', type='Metabolic disorder'), target=Node(id='Glucose', type='Sugar'), type='HIGH_CONCENTRATIONS'), Relationship(source=Node(id='Diabetes', type='Metabolic disorder'), target=Node(id='Carbohydrate Metabolism', type='Metabolism'), type='GOAL_OF_MANAGEMENT'), Relationship(source=Node(id='Diabetes', type='Metabolic disorder'), target=Node(id='Insulin Resistance', type='Condition'), type='CAUSE'), Relationship(source=Node(id='Diabetes', type='Metabolic disorder'), target=Node(id='Pancreas', type='Organ'), type='AFFECTED_ORGAN'), Relationship(source=Node(id='Type 1 Diabetes', type='Diabetes mellitus'), target=Node(id='Insulin', type='Hormone'), type='INSUFFICIENT_PRODUCTION'), Relationship(source=Node(id='Type 1 Diabetes', type='Diabetes mellitus'), target=Node(id='Insulin Resistance', type='Condition'), type='PRESENT'), Relationship(source=Node(id='Type 2 Diabetes', type='Diabetes mellitus'), target=Node(id='Insulin', type='Hormone'), type='ABNORMALLY_LARGE_PRODUCTION'), Relationship(source=Node(id='Type 2 Diabetes', type='Diabetes mellitus'), target=Node(id='Insulin Resistance', type='Condition'), type='RESULT_FROM'), Relationship(source=Node(id='Maturity-Onset Diabetes Of The Young', type='Diabetes mellitus'), target=Node(id='Insulin', type='Hormone'), type='INSUFFICIENT_PRODUCTION'), Relationship(source=Node(id='Maturity-Onset Diabetes Of The Young', type='Diabetes mellitus'), target=Node(id='Insulin Resistance', type='Condition'), type='COMBINATION_OF_FACTORS'), Relationship(source=Node(id='Diabetes', type='Metabolic disorder'), target=Node(id='Blood Glucose', type='Blood measurement'), type='CONTROL_GOAL'), Relationship(source=Node(id='Diabetes', type='Metabolic disorder'), target=Node(id='Blood Pressure', type='Blood measurement'), type='CONTROL_GOAL'), Relationship(source=Node(id='Diabetes', type='Metabolic disorder'), target=Node(id='Lipids', type='Substance'), type='CONTROL_GOAL'), Relationship(source=Node(id='Diabetes', type='Metabolic disorder'), target=Node(id='Hba1C', type='Blood measurement'), type='CONTROL_GOAL'), Relationship(source=Node(id='Diabetes', type='Metabolic disorder'), target=Node(id='Hypoglycemia', type='Condition'), type='RISK_FACTOR'), Relationship(source=Node(id='Diabetes', type='Metabolic disorder'), target=Node(id='Cardiovascular Disease', type='Disease'), type='COMPLICATION'), Relationship(source=Node(id='Diabetes', type='Metabolic disorder'), target=Node(id='Microvascular Disease', type='Disease'), type='COMPLICATION'), Relationship(source=Node(id='Clinical Practice Guidelines', type='Guidelines'), target=Node(id='Diabetes', type='Metabolic disorder'), type='RECOMMENDATION'), Relationship(source=Node(id='American Geriatrics Society', type='Organization'), target=Node(id='Diabetes', type='Metabolic disorder'), type='RECOMMENDATION')], source=Document(page_content='The term diabetes includes several different metabolic disorders that all, if left untreated, result in abnormally high concentrations of a sugar called glucose in the blood. Diabetes mellitus type 1 results when the pancreas no longer produces significant amounts of the hormone insulin, usually owing to the autoimmune destruction of the insulin-producing beta cells of the pancreas. Diabetes mellitus type 2, in contrast, is now thought to result from autoimmune attacks on the pancreas and/or insulin resistance. The pancreas of a person with type 2 diabetes may be producing normal or even abnormally large amounts of insulin. Other forms of diabetes mellitus, such as the various forms of maturity-onset diabetes of the young, may represent some combination of insufficient insulin production and insulin resistance. Some degree of insulin resistance may also be present in a person with type 1 diabetes.\\nThe main goal of diabetes management and control is, as far as possible, to restore carbohydrate metabolism to a normal state. To achieve this goal, individuals with an absolute deficiency of insulin require insulin replacement therapy, which is given through injections or an insulin pump. Insulin resistance, in contrast, can be corrected by dietary modifications and exercise. Other goals of diabetes management are to prevent or treat the many complications that can result from the disease itself and from its treatment.\\n\\n\\n== Overview ==\\n\\n\\n=== Goals ===\\nThe treatment goals are related to effective control of blood glucose, blood pressure and lipids, to minimize the risk of long-term consequences associated with diabetes. They are suggested in clinical practice guidelines released by various national and international diabetes agencies.\\nThe targets are:\\n\\nHbA1c of less than 6% or 7.0% if they are achievable without significant hypoglycemia\\nPreprandial blood glucose: 3.9 to 7.2 mmol/L (70 to 130 mg/dL)\\n2-hour postprandial blood glucose: <10 mmol/L (<180 mg/dL)\\nGoals should be individualized based on:\\n\\nDuration of diabetes\\nAge/life expectancy\\nComorbidity\\nKnown cardiovascular disease or advanced microvascular disease\\nHypoglycemia awareness\\nIn older patients, clinical practice guidelines by the American Geriatrics Society state \"for frail older adults, persons with life expectancy of less than 5 years, and others in whom the risks of intensive glycemic control appear to outweigh the benefits, a less stringent target such as HbA1c of 8% is appropriate\".\\n\\n\\n', metadata={'title': 'Diabetes management', 'summary': 'The term diabetes includes several different metabolic disorders that all, if left untreated, result in abnormally high concentrations of a sugar called glucose in the blood. Diabetes mellitus type 1 results when the pancreas no longer produces significant amounts of the hormone insulin, usually owing to the autoimmune destruction of the insulin-producing beta cells of the pancreas. Diabetes mellitus type 2, in contrast, is now thought to result from autoimmune attacks on the pancreas and/or insulin resistance. The pancreas of a person with type 2 diabetes may be producing normal or even abnormally large amounts of insulin. Other forms of diabetes mellitus, such as the various forms of maturity-onset diabetes of the young, may represent some combination of insufficient insulin production and insulin resistance. Some degree of insulin resistance may also be present in a person with type 1 diabetes.\\nThe main goal of diabetes management and control is, as far as possible, to restore carbohydrate metabolism to a normal state. To achieve this goal, individuals with an absolute deficiency of insulin require insulin replacement therapy, which is given through injections or an insulin pump. Insulin resistance, in contrast, can be corrected by dietary modifications and exercise. Other goals of diabetes management are to prevent or treat the many complications that can result from the disease itself and from its treatment.\\n\\n', 'source': 'https://en.wikipedia.org/wiki/Diabetes_management'})),\n",
              " GraphDocument(nodes=[Node(id='Glucose Cycle', type='Cycle'), Node(id='Glucose', type='Substance'), Node(id='Bloodstream', type='Body part'), Node(id='Cells', type='Body part'), Node(id='Insulin', type='Substance'), Node(id='Organs', type='Body part'), Node(id='User', type='Person'), Node(id='Diet', type='Activity'), Node(id='Exercise', type='Activity'), Node(id='Time Delays', type='Factor'), Node(id='Management', type='Process'), Node(id='Compliance', type='Issue'), Node(id='Lifestyle Change', type='Activity'), Node(id='Blood Glucose Levels', type='Measurement'), Node(id='Diabetes', type='Condition'), Node(id='Cardiovascular Disease', type='Condition'), Node(id='Risk Factors', type='Factor')], relationships=[Relationship(source=Node(id='Glucose Cycle', type='Cycle'), target=Node(id='Glucose', type='Substance'), type='INVOLVES'), Relationship(source=Node(id='Glucose Cycle', type='Cycle'), target=Node(id='Bloodstream', type='Body part'), type='INVOLVES'), Relationship(source=Node(id='Glucose Cycle', type='Cycle'), target=Node(id='Cells', type='Body part'), type='INVOLVES'), Relationship(source=Node(id='Glucose Cycle', type='Cycle'), target=Node(id='Insulin', type='Substance'), type='INVOLVES'), Relationship(source=Node(id='Glucose Cycle', type='Cycle'), target=Node(id='Organs', type='Body part'), type='INVOLVES'), Relationship(source=Node(id='Glucose Cycle', type='Cycle'), target=Node(id='User', type='Person'), type='AFFECTS'), Relationship(source=Node(id='Glucose Cycle', type='Cycle'), target=Node(id='Diet', type='Activity'), type='SENSITIVE_TO'), Relationship(source=Node(id='Glucose Cycle', type='Cycle'), target=Node(id='Exercise', type='Activity'), type='SENSITIVE_TO'), Relationship(source=Node(id='Glucose Cycle', type='Cycle'), target=Node(id='Time Delays', type='Factor'), type='AFFECTED_BY'), Relationship(source=Node(id='Glucose Cycle', type='Cycle'), target=Node(id='Management', type='Process'), type='REQUIRES'), Relationship(source=Node(id='Glucose Cycle', type='Cycle'), target=Node(id='Compliance', type='Issue'), type='RELATED_TO'), Relationship(source=Node(id='Glucose Cycle', type='Cycle'), target=Node(id='Lifestyle Change', type='Activity'), type='RELIES_UPON'), Relationship(source=Node(id='Glucose Cycle', type='Cycle'), target=Node(id='Blood Glucose Levels', type='Measurement'), type='REQUIRES'), Relationship(source=Node(id='Glucose Cycle', type='Cycle'), target=Node(id='Diabetes', type='Condition'), type='ASSOCIATED_WITH'), Relationship(source=Node(id='Diabetes', type='Condition'), target=Node(id='Cardiovascular Disease', type='Condition'), type='RISK_FACTOR_FOR'), Relationship(source=Node(id='Risk Factors', type='Factor'), target=Node(id='Cardiovascular Disease', type='Condition'), type='CONTRIBUTES_TO')], source=Document(page_content=' to outweigh the benefits, a less stringent target such as HbA1c of 8% is appropriate\".\\n\\n\\n=== Issues ===\\nThe primary issue requiring management is that of the glucose cycle. In this, glucose in the bloodstream is made available to cells in the body; a process dependent upon the twin cycles of glucose entering the bloodstream, and insulin allowing appropriate uptake into the body cells. Both aspects can require management. Another issue that ties along with the glucose cycle is getting a balanced amount of the glucose to the major organs so they are not affected negatively.\\n\\n\\n=== Complexities ===\\n\\nThe main complexities stem from the nature of the feedback loop of the glucose cycle, which is sought to be regulated:\\n\\nThe glucose cycle is a system which is affected by two factors: entry of glucose into the bloodstream and also blood levels of insulin to control its transport out of the bloodstream\\nAs a system, it is sensitive to diet and exercise\\nIt is affected by the need for user anticipation due to the complicating effects of time delays between any activity and the respective impact on the glucose system\\nManagement is highly intrusive, and compliance is an issue, since it relies upon user lifestyle change and often upon regular sampling and measuring of blood glucose levels, multiple times a day in many cases\\nIt changes as people grow and develop\\nIt is highly individual\\nAs diabetes is a prime risk factor for cardiovascular disease, controlling other risk factors which may give rise to secondary conditions, as well as the diabetes itself, is one of the facets of diabetes manageme', metadata={'title': 'Diabetes management', 'summary': 'The term diabetes includes several different metabolic disorders that all, if left untreated, result in abnormally high concentrations of a sugar called glucose in the blood. Diabetes mellitus type 1 results when the pancreas no longer produces significant amounts of the hormone insulin, usually owing to the autoimmune destruction of the insulin-producing beta cells of the pancreas. Diabetes mellitus type 2, in contrast, is now thought to result from autoimmune attacks on the pancreas and/or insulin resistance. The pancreas of a person with type 2 diabetes may be producing normal or even abnormally large amounts of insulin. Other forms of diabetes mellitus, such as the various forms of maturity-onset diabetes of the young, may represent some combination of insufficient insulin production and insulin resistance. Some degree of insulin resistance may also be present in a person with type 1 diabetes.\\nThe main goal of diabetes management and control is, as far as possible, to restore carbohydrate metabolism to a normal state. To achieve this goal, individuals with an absolute deficiency of insulin require insulin replacement therapy, which is given through injections or an insulin pump. Insulin resistance, in contrast, can be corrected by dietary modifications and exercise. Other goals of diabetes management are to prevent or treat the many complications that can result from the disease itself and from its treatment.\\n\\n', 'source': 'https://en.wikipedia.org/wiki/Diabetes_management'})),\n",
              " GraphDocument(nodes=[Node(id='Acanthosis Nigricans', type='Term'), Node(id='Ace Inhibitor', type='Term'), Node(id='Adult-Onset Diabetes', type='Term'), Node(id='Acetohexamide', type='Term'), Node(id='Acetone', type='Term'), Node(id='Acidosis', type='Term'), Node(id='Acute', type='Term'), Node(id='Adrenal Gland', type='Term'), Node(id='Adverse Effect', type='Term'), Node(id='Albuminuria', type='Term')], relationships=[Relationship(source=Node(id='Acanthosis Nigricans', type='Term'), target=Node(id='Type 2 Diabetes Mellitus', type='Term'), type='ASSOCIATED_WITH'), Relationship(source=Node(id='Ace Inhibitor', type='Term'), target=Node(id='Hypertension', type='Term'), type='USED_TO_DECREASE'), Relationship(source=Node(id='Adult-Onset Diabetes', type='Term'), target=Node(id='Type 2 Diabetes Mellitus', type='Term'), type='FORMER_TERM_FOR'), Relationship(source=Node(id='Acetohexamide', type='Term'), target=Node(id='Type 2 Diabetes', type='Term'), type='TAKEN_BY'), Relationship(source=Node(id='Acetohexamide', type='Term'), target=Node(id='Oral Hypoglycemic Agents', type='Term'), type='SEE_ALSO'), Relationship(source=Node(id='Acetohexamide', type='Term'), target=Node(id='Sulfonylurea Drugs', type='Term'), type='ONE_OF'), Relationship(source=Node(id='Acetone', type='Term'), target=Node(id='Fat Metabolism', type='Term'), type='BYPRODUCT_OF'), Relationship(source=Node(id='Acetone', type='Term'), target=Node(id='Diabetic Ketoacidosis', type='Term'), type='CAN_LEAD_TO'), Relationship(source=Node(id='Acidosis', type='Term'), target=Node(id='Diabetic Ketoacidosis', type='Term'), type='CAN_LEAD_TO'), Relationship(source=Node(id='Acute', type='Term'), target=Node(id='Limited Period Of Time', type='Term'), type='HAPPENS_FOR'), Relationship(source=Node(id='Adrenal Gland', type='Term'), target=Node(id='Human Kidney', type='Term'), type='LOCATED_ON_TOP_OF'), Relationship(source=Node(id='Adrenal Gland', type='Term'), target=Node(id='Adrenaline', type='Term'), type='SECRETES'), Relationship(source=Node(id='Adrenal Gland', type='Term'), target=Node(id='Stress Hormones', type='Term'), type='PRIMARY_SOURCE_OF'), Relationship(source=Node(id='Adrenal Gland', type='Term'), target=Node(id='Counterregulatory Effects', type='Term'), type='HAS_SUBSTANTIAL'), Relationship(source=Node(id='Adverse Effect', type='Term'), target=Node(id='Harmful Result', type='Term'), type='IS_A'), Relationship(source=Node(id='Albuminuria', type='Term'), target=Node(id='Release', type='Term'), type='ASSOCIATED_WITH')], source=Document(page_content=\"The following is a glossary of diabetes which explains terms connected with diabetes.\\n\\n\\n== A ==\\n\\nAcanthosis nigricans A brown to black, poorly defined, velvety hyperpigmentation of the skin, usually present in the posterior and lateral folds of the neck, the axilla, groin, umbilicus, and other areas.  This occurs due to insulin spillover (from excessive production due to obesity or insulin resistance) into the skin which results in abnormal growth being observed.  The most common cause would be insulin resistance, usually from type 2 diabetes mellitus.\\nACE inhibitor Angiotensin conversion enzyme. A class of drugs used to decrease hypertension, mainly by interfering with the renin kidney—blood pressure control cycle. An example is Ramparil. (See ARB).\\nAdult-onset diabetes One of the former terms for Type 2 diabetes. See: Type 2 diabetes mellitus.\\nAcetohexamide A pill taken to lower the level of glucose (sugar) in the blood. People with Type 2 diabetes may take these pills. See also: Oral hypoglycemic agents. One of the sulfonylurea drugs. (Dymelor Dimelor)\\nAcetone A byproduct of fat metabolism. One of three ketone body substances. Produced in high levels during periods of stress, infection, etc possibly leading to diabetic ketoacidosis, a very serious condition. It can sometimes be smelled on the breath of those in, or about to enter diabetic ketoacidosis as a fruity (nail polish remover, or lacquer thinner) sort of smell. It is very rapidly released into via the lungs into the breath, unlike the other ketone bodies. It is chemically a ketone.\\nAcidosis An acidic condition in body fluids, chiefly blood. If prolonged, or severe, it can cause coma and death regardless of cause. For a person with diabetes, this can be caused by insufficient glucose absorption (e.g. from inadequate insulin) combined with metabolic ketosis. It can lead to diabetic ketoacidosis, a medical emergency.\\nAcute Happens for a limited period of time; abrupt onset; sharp, severe.\\nAdrenal gland An endocrine gland located on top of the human kidney. Secretes adrenaline, one of the primary 'fight or flight' stress hormones, which have substantial counterregulatory effects.\\nAdverse effect A harmful result.\\nAlbuminuria release\", metadata={'title': 'Glossary of diabetes', 'summary': 'The following is a glossary of diabetes which explains terms connected with diabetes.\\n\\n', 'source': 'https://en.wikipedia.org/wiki/Glossary_of_diabetes'})),\n",
              " GraphDocument(nodes=[Node(id='Hormones', type='Concept'), Node(id='Adverse Effect', type='Concept'), Node(id='Albuminuria', type='Concept'), Node(id='Aldose Reductase Inhibitor', type='Concept'), Node(id='Alpha Cell', type='Concept'), Node(id='Amino Acid', type='Concept'), Node(id='Amyotrophy', type='Concept'), Node(id='Amylin', type='Concept'), Node(id='Angiopathy', type='Concept'), Node(id='Anomalies', type='Concept'), Node(id='Antibodies', type='Concept'), Node(id='Anti-Diabetic Drug', type='Concept'), Node(id='Antigen', type='Concept')], relationships=[Relationship(source=Node(id='Hormones', type='Concept'), target=Node(id='Adverse Effect', type='Concept'), type='COUNTERREGULATORY_EFFECTS'), Relationship(source=Node(id='Albuminuria', type='Concept'), target=Node(id='Albumin', type='Protein'), type='RELEASE'), Relationship(source=Node(id='Aldose Reductase Inhibitor', type='Concept'), target=Node(id='Aldose Reductase', type='Enzyme'), type='INHIBITOR'), Relationship(source=Node(id='Alpha Cell', type='Concept'), target=Node(id='Pancreas', type='Organ'), type='LOCATED_IN'), Relationship(source=Node(id='Alpha Cell', type='Concept'), target=Node(id='Islets Of Langerhans', type='Organ'), type='LOCATED_IN'), Relationship(source=Node(id='Alpha Cell', type='Concept'), target=Node(id='Glucagon', type='Hormone'), type='PRODUCE'), Relationship(source=Node(id='Amino Acid', type='Concept'), target=Node(id='Protein', type='Compound'), type='BUILDING_BLOCK'), Relationship(source=Node(id='Amyotrophy', type='Concept'), target=Node(id='Muscle', type='Tissue'), type='CAUSES'), Relationship(source=Node(id='Amyotrophy', type='Concept'), target=Node(id='Diabetic Neuropathy', type='Condition'), type='TYPE_OF'), Relationship(source=Node(id='Amylin', type='Concept'), target=Node(id='Beta Cell', type='Cell'), type='INVOLVED_IN'), Relationship(source=Node(id='Amylin', type='Concept'), target=Node(id='Type 2 Diabetes', type='Condition'), type='INVOLVED_IN'), Relationship(source=Node(id='Angiopathy', type='Concept'), target=Node(id='Blood Vessels', type='Organ'), type='DAMAGES'), Relationship(source=Node(id='Anomalies', type='Concept'), target=Node(id='Abnormalities', type='Condition'), type='TYPE_OF'), Relationship(source=Node(id='Anomalies', type='Concept'), target=Node(id='Diabetes', type='Condition'), type='DEVELOPS_IN'), Relationship(source=Node(id='Antibodies', type='Concept'), target=Node(id='Immune System', type='System'), type='PRODUCED_BY'), Relationship(source=Node(id='Antibodies', type='Concept'), target=Node(id='Beta Cells', type='Cell'), type='ATTACH_TO'), Relationship(source=Node(id='Antibodies', type='Concept'), target=Node(id='Type 1 Diabetes', type='Condition'), type='DESTROY'), Relationship(source=Node(id='Anti-Diabetic Drug', type='Concept'), target=Node(id='Diabetes', type='Condition'), type='CONTROL_GLUCOSE'), Relationship(source=Node(id='Anti-Diabetic Drug', type='Concept'), target=Node(id='Glucose', type='Compound'), type='CONTROL_LEVEL'), Relationship(source=Node(id='Anti-Diabetic Drug', type='Concept'), target=Node(id='Blood', type='Fluid'), type='CONTROL_LEVEL'), Relationship(source=Node(id='Antigen', type='Concept'), target=Node(id='Immune System', type='System'), type='ATTACH_TO')], source=Document(page_content=' hormones, which have substantial counterregulatory effects.\\nAdverse effect A harmful result.\\nAlbuminuria release of the protein albumin in urine. As this protein is strongly conserved, this is evidence of abnormal kidney function.\\nAldose reductase inhibitor \\nAlpha cell one of the types of cell in the pancreas (in areas called the Islets of Langerhans). Alpha cells make and release a hormone called glucagon, which raises the level of glucose (sugar) in the blood.\\nAmino acid a weak acid carbon compound containing carbon, hydrogen, oxygen, and nitrogen. The nitrogenous amine group is characteristic of each. Amino acids are the building blocks of protein and there are about 20 used in the human body, of which about half can be constructed internally. The rest must come in the diet—they are the essential amino acids.\\nAmyotrophy A type of diabetic neuropathy that causes muscle weakness and wasting.\\nAmylin A peptide thought to be involved in beta cell loss in type 2 diabetes.\\nAngiopathy A process that damages the blood vessels.\\nAnomalies Abnormalities, as in birth defects, or in peculiar results or developments. For instance, diabetes can develop in an anomalous, unusual, way.\\nAntibodies Chemicals produced by the immune system which are very carefully tuned to attach only to particular substances in foreign bodies (e.g., viruses, bacteria, foreign tissue, ...) When they attach to their target substances, other parts of the immune system attack and destroy the tagged protein or cell.  It is an inappropriate antibody reaction to normal proteins found on beta cells that are thought to be the main mechanism of beta cell destruction in Type 1 diabetes.\\nAnti-diabetic drug A kind of medication that helps a person with diabetes control the level of glucose (sugar) in the blood so that the body works as it should. See also: Insulin; oral hypoglycemic agents.\\nAntigen Th', metadata={'title': 'Glossary of diabetes', 'summary': 'The following is a glossary of diabetes which explains terms connected with diabetes.\\n\\n', 'source': 'https://en.wikipedia.org/wiki/Glossary_of_diabetes'})),\n",
              " GraphDocument(nodes=[Node(id='Diabetes Mellitus', type='Disease'), Node(id='Endocrine Diseases', type='Disease'), Node(id='High Blood Sugar Levels', type='Symptom'), Node(id='Pancreas', type='Organ'), Node(id='Insulin', type='Hormone'), Node(id='Cells Of The Body', type='Cell'), Node(id='Symptoms', type='Symptom'), Node(id='Thirst', type='Symptom'), Node(id='Polyuria', type='Symptom'), Node(id='Weight Loss', type='Symptom'), Node(id='Blurred Vision', type='Symptom'), Node(id='Health Complications', type='Complication'), Node(id='Cardiovascular System', type='Organ system'), Node(id='Eye', type='Organ'), Node(id='Kidney', type='Organ'), Node(id='Nerves', type='Organ'), Node(id='Death', type='Event'), Node(id='Types Of Diabetes', type='Disease'), Node(id='Type 1', type='Type of diabetes'), Node(id='Type 2', type='Type of diabetes'), Node(id='Insulin Replacement Therapy', type='Treatment'), Node(id='Insulin Injections', type='Treatment'), Node(id='Anti-Diabetic Medications', type='Medication'), Node(id='Metformin', type='Medication'), Node(id='Semaglutide', type='Medication'), Node(id='Lifestyle Modifications', type='Treatment'), Node(id='Gestational Diabetes', type='Type of diabetes'), Node(id='Pregnancy', type='Event'), Node(id='Delivery', type='Event'), Node(id='Prevalence Of Diabetes', type='Statistic'), Node(id='Adult Population', type='Population'), Node(id='Global Population', type='Population'), Node(id='Women', type='Person'), Node(id='Men', type='Person'), Node(id='Global Expenditure', type='Statistic'), Node(id='Healthcare', type='Service'), Node(id='Signs And Symptoms', type='Symptom'), Node(id='Fatigue', type='Symptom'), Node(id='Genital Itchiness', type='Symptom'), Node(id='Candida Infection', type='Infection'), Node(id='Asymptomatic Individuals', type='Person'), Node(id='Diabetic Ketoacidosis', type='Complication'), Node(id='Medical Emergency', type='Event'), Node(id='Β-Cell Dysfunction', type='Cell dysfunction'), Node(id='Ketone Bodies', type='Substance'), Node(id='Nausea', type='Symptom'), Node(id='Vomiting', type='Symptom'), Node(id='Abdominal Pain', type='Symptom'), Node(id='Acetone', type='Substance'), Node(id='Breath', type='Body part'), Node(id='Kussmaul Breathing', type='Symptom'), Node(id='Level Of Consciousness', type='Symptom')], relationships=[Relationship(source=Node(id='Diabetes Mellitus', type='Disease'), target=Node(id='Endocrine Diseases', type='Disease'), type='CHARACTERIZED_BY'), Relationship(source=Node(id='Diabetes Mellitus', type='Disease'), target=Node(id='High Blood Sugar Levels', type='Symptom'), type='CHARACTERIZED_BY'), Relationship(source=Node(id='Diabetes Mellitus', type='Disease'), target=Node(id='Pancreas', type='Organ'), type='CAUSE_OF'), Relationship(source=Node(id='Diabetes Mellitus', type='Disease'), target=Node(id='Insulin', type='Hormone'), type='CAUSE_OF'), Relationship(source=Node(id='Diabetes Mellitus', type='Disease'), target=Node(id='Cells Of The Body', type='Cell'), type='CAUSE_OF'), Relationship(source=Node(id='Diabetes Mellitus', type='Disease'), target=Node(id='Symptoms', type='Symptom'), type='CHARACTERIZED_BY'), Relationship(source=Node(id='Symptoms', type='Symptom'), target=Node(id='Thirst', type='Symptom'), type='INCLUDE'), Relationship(source=Node(id='Symptoms', type='Symptom'), target=Node(id='Polyuria', type='Symptom'), type='INCLUDE'), Relationship(source=Node(id='Symptoms', type='Symptom'), target=Node(id='Weight Loss', type='Symptom'), type='INCLUDE'), Relationship(source=Node(id='Symptoms', type='Symptom'), target=Node(id='Blurred Vision', type='Symptom'), type='INCLUDE'), Relationship(source=Node(id='Diabetes Mellitus', type='Disease'), target=Node(id='Health Complications', type='Complication'), type='CAN_LEAD_TO'), Relationship(source=Node(id='Health Complications', type='Complication'), target=Node(id='Cardiovascular System', type='Organ system'), type='INVOLVE'), Relationship(source=Node(id='Health Complications', type='Complication'), target=Node(id='Eye', type='Organ'), type='INVOLVE'), Relationship(source=Node(id='Health Complications', type='Complication'), target=Node(id='Kidney', type='Organ'), type='INVOLVE'), Relationship(source=Node(id='Health Complications', type='Complication'), target=Node(id='Nerves', type='Organ'), type='INVOLVE'), Relationship(source=Node(id='Diabetes Mellitus', type='Disease'), target=Node(id='Death', type='Event'), type='CAN_LEAD_TO'), Relationship(source=Node(id='Types Of Diabetes', type='Disease'), target=Node(id='Type 1', type='Type of diabetes'), type='INCLUDE'), Relationship(source=Node(id='Types Of Diabetes', type='Disease'), target=Node(id='Type 2', type='Type of diabetes'), type='INCLUDE'), Relationship(source=Node(id='Type 1', type='Type of diabetes'), target=Node(id='Insulin Replacement Therapy', type='Treatment'), type='COMMON_TREATMENT_IS'), Relationship(source=Node(id='Type 1', type='Type of diabetes'), target=Node(id='Insulin Injections', type='Treatment'), type='COMMON_TREATMENT_IS'), Relationship(source=Node(id='Type 2', type='Type of diabetes'), target=Node(id='Anti-Diabetic Medications', type='Medication'), type='COMMON_TREATMENT_IS'), Relationship(source=Node(id='Type 2', type='Type of diabetes'), target=Node(id='Lifestyle Modifications', type='Treatment'), type='COMMON_TREATMENT_IS'), Relationship(source=Node(id='Gestational Diabetes', type='Type of diabetes'), target=Node(id='Pregnancy', type='Event'), type='OCCURS_DURING'), Relationship(source=Node(id='Gestational Diabetes', type='Type of diabetes'), target=Node(id='Delivery', type='Event'), type='RESOLVES_AFTER'), Relationship(source=Node(id='Prevalence Of Diabetes', type='Statistic'), target=Node(id='Adult Population', type='Population'), type='AFFECTS'), Relationship(source=Node(id='Prevalence Of Diabetes', type='Statistic'), target=Node(id='Global Population', type='Population'), type='AFFECTS'), Relationship(source=Node(id='Global Population', type='Population'), target=Node(id='Women', type='Person'), type='SIMILAR_RATES_IN'), Relationship(source=Node(id='Global Population', type='Population'), target=Node(id='Men', type='Person'), type='SIMILAR_RATES_IN'), Relationship(source=Node(id='Global Population', type='Population'), target=Node(id='Death', type='Event'), type='SEVENTH_LEADING_CAUSE_OF'), Relationship(source=Node(id='Global Expenditure', type='Statistic'), target=Node(id='Healthcare', type='Service'), type='SPENT_ON'), Relationship(source=Node(id='Signs And Symptoms', type='Symptom'), target=Node(id='Fatigue', type='Symptom'), type='INCLUDE'), Relationship(source=Node(id='Signs And Symptoms', type='Symptom'), target=Node(id='Genital Itchiness', type='Symptom'), type='INCLUDE'), Relationship(source=Node(id='Genital Itchiness', type='Symptom'), target=Node(id='Candida Infection', type='Infection'), type='DUE_TO'), Relationship(source=Node(id='Asymptomatic Individuals', type='Person'), target=Node(id='Type 1', type='Type of diabetes'), type='MAY_BE'), Relationship(source=Node(id='Asymptomatic Individuals', type='Person'), target=Node(id='Type 2', type='Type of diabetes'), type='MAY_BE'), Relationship(source=Node(id='Diabetic Ketoacidosis', type='Complication'), target=Node(id='Medical Emergency', type='Event'), type='CAN_LEAD_TO'), Relationship(source=Node(id='Diabetic Ketoacidosis', type='Complication'), target=Node(id='Β-Cell Dysfunction', type='Cell dysfunction'), type='OCCURS_IN_CASE_OF'), Relationship(source=Node(id='Diabetic Ketoacidosis', type='Complication'), target=Node(id='Ketone Bodies', type='Substance'), type='EXCESSIVE_PRODUCTION_LEADS_TO'), Relationship(source=Node(id='Diabetic Ketoacidosis', type='Complication'), target=Node(id='Nausea', type='Symptom'), type='INCLUDE'), Relationship(source=Node(id='Diabetic Ketoacidosis', type='Complication'), target=Node(id='Vomiting', type='Symptom'), type='INCLUDE'), Relationship(source=Node(id='Diabetic Ketoacidosis', type='Complication'), target=Node(id='Abdominal Pain', type='Symptom'), type='INCLUDE'), Relationship(source=Node(id='Diabetic Ketoacidosis', type='Complication'), target=Node(id='Acetone', type='Substance'), type='SMELL_IN_THE_BREATH_OF'), Relationship(source=Node(id='Diabetic Ketoacidosis', type='Complication'), target=Node(id='Breath', type='Body part'), type='SMELL_OF'), Relationship(source=Node(id='Diabetic Ketoacidosis', type='Complication'), target=Node(id='Kussmaul Breathing', type='Symptom'), type='KNOWN_AS'), Relationship(source=Node(id='Diabetic Ketoacidosis', type='Complication'), target=Node(id='Level Of Consciousness', type='Symptom'), type='DECREASED_IN_SEVERE_CASES')], source=Document(page_content=\"Diabetes mellitus, often known simply as diabetes, is a group of common endocrine diseases characterized by sustained high blood sugar levels. Diabetes is due to either the pancreas not producing enough insulin, or the cells of the body becoming unresponsive to the hormone's effects. Classic symptoms include thirst, polyuria, weight loss, and blurred vision. If left untreated, the disease can lead to various health complications, including disorders of the cardiovascular system, eye, kidney, and nerves. Untreated or poorly treated diabetes accounts for approximately 1.5 million deaths every year.\\nThe major types of diabetes are type 1 and type 2. The most common treatment for type 1 is insulin replacement therapy (insulin injections), while anti-diabetic medications (such as metformin and semaglutide) and lifestyle modifications can be used to manage type 2. Gestational diabetes, a form that arises during pregnancy in some women, normally resolves shortly after delivery.\\nAs of 2021, an estimated 537 million people had diabetes worldwide accounting for 10.5% of the adult population, with type 2 making up about 90% of all cases. It is estimated that by 2045, approximately 783 million adults, or 1 in 8, will be living with diabetes, representing a 46% increase from the current figures. The prevalence of the disease continues to increase, most dramatically in low- and middle-income nations. Rates are similar in women and men, with diabetes being the seventh leading cause of death globally. The global expenditure on diabetes-related healthcare is an estimated US$760 billion a year.\\n\\n\\n== Signs and symptoms ==\\n The classic symptoms of untreated diabetes are polyuria, thirst, and weight loss. Several other non-specific signs and symptoms may also occur, including fatigue, blurred vision, and genital itchiness due to Candida infection. About half of affected individuals may also be asymptomatic. Type 1 presents abruptly following a pre-clinical phase, while type 2 has a more insidious onset; patients may remain asymptomatic for many years.\\nDiabetic ketoacidosis is a medical emergency that occurs most commonly in type 1, but may also occur in type 2 if it has been longstanding or if the individual has significant β-cell dysfunction. Excessive production of ketone bodies leads to signs and symptoms including nausea, vomiting, abdominal pain, the smell of acetone in the breath, deep breathing known as Kussmaul breathing, and in severe cases decreased level of consciousness. Hyperosm\", metadata={'title': 'Diabetes', 'summary': \"Diabetes mellitus, often known simply as diabetes, is a group of common endocrine diseases characterized by sustained high blood sugar levels. Diabetes is due to either the pancreas not producing enough insulin, or the cells of the body becoming unresponsive to the hormone's effects. Classic symptoms include thirst, polyuria, weight loss, and blurred vision. If left untreated, the disease can lead to various health complications, including disorders of the cardiovascular system, eye, kidney, and nerves. Untreated or poorly treated diabetes accounts for approximately 1.5 million deaths every year.\\nThe major types of diabetes are type 1 and type 2. The most common treatment for type 1 is insulin replacement therapy (insulin injections), while anti-diabetic medications (such as metformin and semaglutide) and lifestyle modifications can be used to manage type 2. Gestational diabetes, a form that arises during pregnancy in some women, normally resolves shortly after delivery.\\nAs of 2021, an estimated 537 million people had diabetes worldwide accounting for 10.5% of the adult population, with type 2 making up about 90% of all cases. It is estimated that by 2045, approximately 783 million adults, or 1 in 8, will be living with diabetes, representing a 46% increase from the current figures. The prevalence of the disease continues to increase, most dramatically in low- and middle-income nations. Rates are similar in women and men, with diabetes being the seventh leading cause of death globally. The global expenditure on diabetes-related healthcare is an estimated US$760 billion a year.\", 'source': 'https://en.wikipedia.org/wiki/Diabetes'})),\n",
              " GraphDocument(nodes=[Node(id='Deep Breathing', type='Breathing'), Node(id='Kussmaul Breathing', type='Breathing'), Node(id='Decreased Level Of Consciousness', type='Consciousness'), Node(id='Hyperosmolar Hyperglycemic State', type='Emergency'), Node(id='Dehydration', type='Condition'), Node(id='Severe Hyperglycaemia', type='Condition'), Node(id='Hypernatremia', type='Condition'), Node(id='Altered Mental State', type='Mental state'), Node(id='Coma', type='Condition'), Node(id='Hypoglycaemia', type='Complication'), Node(id='Insulin Treatment', type='Treatment'), Node(id='Diabetes', type='Condition'), Node(id='Sweating', type='Symptom'), Node(id='Trembling', type='Symptom'), Node(id='Palpitations', type='Symptom'), Node(id='Impaired Cognition', type='Cognition'), Node(id='Confusion', type='Mental state'), Node(id='Seizures', type='Condition'), Node(id='Death', type='Condition'), Node(id='Glycaemic Threshold', type='Threshold'), Node(id='Cognitive Deterioration', type='Deterioration'), Node(id='Long-Term Complications', type='Complication'), Node(id='Damage To Blood Vessels', type='Damage'), Node(id='Macrovascular Levels', type='Level'), Node(id='Microvascular Levels', type='Level'), Node(id='Cardiovascular Disease', type='Disease'), Node(id='Coronary Artery Disease', type='Disease'), Node(id='Stroke', type='Condition'), Node(id='Peripheral Artery Disease', type='Condition'), Node(id='Microvascular Disease', type='Disease'), Node(id='Eyes', type='Organ'), Node(id='Kidneys', type='Organ'), Node(id='Nerves', type='Organ'), Node(id='Retina', type='Organ'), Node(id='Diabetic Retinopathy', type='Condition'), Node(id='Blindness', type='Condition'), Node(id='Working Age', type='Age'), Node(id='Cataract', type='Condition'), Node(id='Glaucoma', type='Condition'), Node(id='Optometrist', type='Professional'), Node(id='Ophthalmologist', type='Professional'), Node(id='Diabetic Nephropathy', type='Condition'), Node(id='Chronic Kidney Disease', type='Condition')], relationships=[Relationship(source=Node(id='Deep Breathing', type='Breathing'), target=Node(id='Kussmaul Breathing', type='Breathing'), type='VARIATION'), Relationship(source=Node(id='Hyperosmolar Hyperglycemic State', type='Emergency'), target=Node(id='Dehydration', type='Condition'), type='CHARACTERISED_BY'), Relationship(source=Node(id='Hyperosmolar Hyperglycemic State', type='Emergency'), target=Node(id='Severe Hyperglycaemia', type='Condition'), type='CHARACTERISED_BY'), Relationship(source=Node(id='Hyperosmolar Hyperglycemic State', type='Emergency'), target=Node(id='Hypernatremia', type='Condition'), type='RESULTANT_IN'), Relationship(source=Node(id='Hyperosmolar Hyperglycemic State', type='Emergency'), target=Node(id='Altered Mental State', type='Mental state'), type='LEADING_TO'), Relationship(source=Node(id='Hyperosmolar Hyperglycemic State', type='Emergency'), target=Node(id='Coma', type='Condition'), type='POSSIBLY_LEADING_TO'), Relationship(source=Node(id='Hypoglycaemia', type='Complication'), target=Node(id='Insulin Treatment', type='Treatment'), type='RECOGNISED_COMPLICATION_OF'), Relationship(source=Node(id='Hypoglycaemia', type='Complication'), target=Node(id='Diabetes', type='Condition'), type='USED_IN'), Relationship(source=Node(id='Hypoglycaemia', type='Complication'), target=Node(id='Sweating', type='Symptom'), type='INCLUDE'), Relationship(source=Node(id='Hypoglycaemia', type='Complication'), target=Node(id='Trembling', type='Symptom'), type='INCLUDE'), Relationship(source=Node(id='Hypoglycaemia', type='Complication'), target=Node(id='Palpitations', type='Symptom'), type='INCLUDE'), Relationship(source=Node(id='Hypoglycaemia', type='Complication'), target=Node(id='Impaired Cognition', type='Cognition'), type='SERIOUS_EFFECTS_INCLUDING'), Relationship(source=Node(id='Hypoglycaemia', type='Complication'), target=Node(id='Confusion', type='Mental state'), type='SERIOUS_EFFECTS_INCLUDING'), Relationship(source=Node(id='Hypoglycaemia', type='Complication'), target=Node(id='Seizures', type='Condition'), type='SERIOUS_EFFECTS_INCLUDING'), Relationship(source=Node(id='Hypoglycaemia', type='Complication'), target=Node(id='Coma', type='Condition'), type='SERIOUS_EFFECTS_INCLUDING'), Relationship(source=Node(id='Hypoglycaemia', type='Complication'), target=Node(id='Death', type='Condition'), type='RARELY_INCLUDE'), Relationship(source=Node(id='Hypoglycaemia', type='Complication'), target=Node(id='Glycaemic Threshold', type='Threshold'), type='LOWER_THE'), Relationship(source=Node(id='Hypoglycaemia', type='Complication'), target=Node(id='Cognitive Deterioration', type='Deterioration'), type='BEFORE_OCCURS'), Relationship(source=Node(id='Long-Term Complications', type='Complication'), target=Node(id='Damage To Blood Vessels', type='Damage'), type='RELATE_TO'), Relationship(source=Node(id='Long-Term Complications', type='Complication'), target=Node(id='Macrovascular Levels', type='Level'), type='DAMAGE_AT'), Relationship(source=Node(id='Long-Term Complications', type='Complication'), target=Node(id='Microvascular Levels', type='Level'), type='DAMAGE_AT'), Relationship(source=Node(id='Diabetes', type='Condition'), target=Node(id='Cardiovascular Disease', type='Disease'), type='DOUBLES_THE_RISK_OF'), Relationship(source=Node(id='Diabetes', type='Condition'), target=Node(id='Coronary Artery Disease', type='Disease'), type='DUE_TO'), Relationship(source=Node(id='Diabetes', type='Condition'), target=Node(id='Stroke', type='Condition'), type='INCLUDE'), Relationship(source=Node(id='Diabetes', type='Condition'), target=Node(id='Peripheral Artery Disease', type='Condition'), type='INCLUDE'), Relationship(source=Node(id='Diabetes', type='Condition'), target=Node(id='Microvascular Disease', type='Disease'), type='AFFECTS'), Relationship(source=Node(id='Diabetes', type='Condition'), target=Node(id='Eyes', type='Organ'), type='AFFECTS'), Relationship(source=Node(id='Diabetes', type='Condition'), target=Node(id='Kidneys', type='Organ'), type='AFFECTS'), Relationship(source=Node(id='Diabetes', type='Condition'), target=Node(id='Nerves', type='Organ'), type='AFFECTS'), Relationship(source=Node(id='Eyes', type='Organ'), target=Node(id='Retina', type='Organ'), type='DAMAGE_TO'), Relationship(source=Node(id='Retina', type='Organ'), target=Node(id='Diabetic Retinopathy', type='Condition'), type='KNOWN_AS'), Relationship(source=Node(id='Retina', type='Organ'), target=Node(id='Blindness', type='Condition'), type='COMMON_CAUSE_OF'), Relationship(source=Node(id='Retina', type='Organ'), target=Node(id='Working Age', type='Age'), type='IN_PEOPLE_OF'), Relationship(source=Node(id='Eyes', type='Organ'), target=Node(id='Cataract', type='Condition'), type='DEVELOPMENT_OF'), Relationship(source=Node(id='Eyes', type='Organ'), target=Node(id='Glaucoma', type='Condition'), type='DEVELOPMENT_OF'), Relationship(source=Node(id='Diabetes', type='Condition'), target=Node(id='Optometrist', type='Professional'), type='RECOMMENDED_THAT_VISIT'), Relationship(source=Node(id='Diabetes', type='Condition'), target=Node(id='Ophthalmologist', type='Professional'), type='RECOMMENDED_THAT_VISIT'), Relationship(source=Node(id='Diabetic Nephropathy', type='Condition'), target=Node(id='Chronic Kidney Disease', type='Condition'), type='MAJOR_CAUSE_OF')], source=Document(page_content=' breath, deep breathing known as Kussmaul breathing, and in severe cases decreased level of consciousness. Hyperosmolar hyperglycemic state is another emergency characterised by dehydration secondary to severe hyperglycaemia, with resultant hypernatremia leading to an altered mental state and possibly coma.\\nHypoglycaemia is a recognised complication of insulin treatment used in diabetes. An acute presentation can include mild symptoms such as sweating, trembling, and palpitations, to more serious effects including impaired cognition, confusion, seizures, coma, and rarely death. Recurrent hypoglycaemic episodes may lower the glycaemic threshold at which symptoms occur, meaning mild symptoms may not appear before cognitive deterioration begins to occur.\\n\\n\\n=== Long-term complications ===\\n\\nThe major long-term complications of diabetes relate to damage to blood vessels at both macrovascular and microvascular levels. Diabetes doubles the risk of cardiovascular disease, and about 75% of deaths in people with diabetes are due to coronary artery disease. Other macrovascular morbidities include stroke and peripheral artery disease.\\nMicrovascular disease affects the eyes, kidneys, and nerves. Damage to the retina, known as diabetic retinopathy, is the most common cause of blindness in people of working age. The eyes can also be affected in other ways, including development of cataract and glaucoma. It is recommended that people with diabetes visit an optometrist or ophthalmologist once a year.\\nDiabetic nephropathy is a major cause of chronic kidney disease, accounting for over 50% of ', metadata={'title': 'Diabetes', 'summary': \"Diabetes mellitus, often known simply as diabetes, is a group of common endocrine diseases characterized by sustained high blood sugar levels. Diabetes is due to either the pancreas not producing enough insulin, or the cells of the body becoming unresponsive to the hormone's effects. Classic symptoms include thirst, polyuria, weight loss, and blurred vision. If left untreated, the disease can lead to various health complications, including disorders of the cardiovascular system, eye, kidney, and nerves. Untreated or poorly treated diabetes accounts for approximately 1.5 million deaths every year.\\nThe major types of diabetes are type 1 and type 2. The most common treatment for type 1 is insulin replacement therapy (insulin injections), while anti-diabetic medications (such as metformin and semaglutide) and lifestyle modifications can be used to manage type 2. Gestational diabetes, a form that arises during pregnancy in some women, normally resolves shortly after delivery.\\nAs of 2021, an estimated 537 million people had diabetes worldwide accounting for 10.5% of the adult population, with type 2 making up about 90% of all cases. It is estimated that by 2045, approximately 783 million adults, or 1 in 8, will be living with diabetes, representing a 46% increase from the current figures. The prevalence of the disease continues to increase, most dramatically in low- and middle-income nations. Rates are similar in women and men, with diabetes being the seventh leading cause of death globally. The global expenditure on diabetes-related healthcare is an estimated US$760 billion a year.\", 'source': 'https://en.wikipedia.org/wiki/Diabetes'}))]"
            ]
          },
          "metadata": {},
          "execution_count": 28
        }
      ]
    },
    {
      "cell_type": "code",
      "source": [
        "graph.add_graph_documents(\n",
        "    graph_documents,\n",
        "    baseEntityLabel=True,\n",
        "    include_source=True\n",
        ")"
      ],
      "metadata": {
        "id": "ib_g3U1d97th"
      },
      "execution_count": 29,
      "outputs": []
    },
    {
      "cell_type": "code",
      "source": [
        "# directly show the graph resulting from the given Cypher query\n",
        "default_cypher = \"MATCH (s)-[r:!MENTIONS]->(t) RETURN s,r,t LIMIT 50\"\n",
        "default_cypher"
      ],
      "metadata": {
        "id": "rC-4O5FQ99yH",
        "outputId": "716e72ad-bfd2-4e19-bc95-ffea14fd6a1f",
        "colab": {
          "base_uri": "https://localhost:8080/",
          "height": 35
        }
      },
      "execution_count": 30,
      "outputs": [
        {
          "output_type": "execute_result",
          "data": {
            "text/plain": [
              "'MATCH (s)-[r:!MENTIONS]->(t) RETURN s,r,t LIMIT 50'"
            ],
            "application/vnd.google.colaboratory.intrinsic+json": {
              "type": "string"
            }
          },
          "metadata": {},
          "execution_count": 30
        }
      ]
    },
    {
      "cell_type": "code",
      "source": [
        "from yfiles_jupyter_graphs import GraphWidget\n",
        "from neo4j import GraphDatabase"
      ],
      "metadata": {
        "id": "K-91BluK_62t"
      },
      "execution_count": 31,
      "outputs": []
    },
    {
      "cell_type": "code",
      "source": [
        "try:\n",
        "  import google.colab\n",
        "  from google.colab import output\n",
        "  output.enable_custom_widget_manager()\n",
        "except:\n",
        "  pass"
      ],
      "metadata": {
        "id": "djVL6Gh4_4sV"
      },
      "execution_count": 32,
      "outputs": []
    },
    {
      "cell_type": "code",
      "source": [
        "def showGraph(cypher: str = default_cypher):\n",
        "    # create a neo4j session to run queries\n",
        "    driver = GraphDatabase.driver(\n",
        "        uri = os.environ[\"NEO4J_URI\"],\n",
        "        auth = (os.environ[\"NEO4J_USERNAME\"],\n",
        "                os.environ[\"NEO4J_PASSWORD\"]))\n",
        "    session = driver.session()\n",
        "    widget = GraphWidget(graph = session.run(cypher).graph())\n",
        "    widget.node_label_mapping = 'id'\n",
        "    display(widget)\n",
        "    return widget"
      ],
      "metadata": {
        "id": "0Ll2WNnO-Ahf"
      },
      "execution_count": 33,
      "outputs": []
    },
    {
      "cell_type": "code",
      "source": [
        "showGraph()"
      ],
      "metadata": {
        "colab": {
          "base_uri": "https://localhost:8080/",
          "height": 1000,
          "referenced_widgets": [
            "9152785caf1043c8b982fa1ed07ce4d2",
            "11650327fc3840abb4c4aacf0b3b0766"
          ]
        },
        "id": "kz-O4c0k-C_4",
        "outputId": "869505d9-ab1a-4fe1-b509-15470d02c31e"
      },
      "execution_count": 34,
      "outputs": [
        {
          "output_type": "display_data",
          "data": {
            "text/plain": [
              "GraphWidget(layout=Layout(height='800px', width='100%'))"
            ],
            "application/vnd.jupyter.widget-view+json": {
              "version_major": 2,
              "version_minor": 0,
              "model_id": "9152785caf1043c8b982fa1ed07ce4d2"
            }
          },
          "metadata": {
            "application/vnd.jupyter.widget-view+json": {
              "colab": {
                "custom_widget_manager": {
                  "url": "https://ssl.gstatic.com/colaboratory-static/widgets/colab-cdn-widget-manager/2b70e893a8ba7c0f/manager.min.js"
                }
              }
            }
          }
        },
        {
          "output_type": "display_data",
          "data": {
            "text/plain": [
              "GraphWidget(layout=Layout(height='800px', width='100%'))"
            ],
            "application/vnd.jupyter.widget-view+json": {
              "version_major": 2,
              "version_minor": 0,
              "model_id": "9152785caf1043c8b982fa1ed07ce4d2"
            }
          },
          "metadata": {
            "application/vnd.jupyter.widget-view+json": {
              "colab": {
                "custom_widget_manager": {
                  "url": "https://ssl.gstatic.com/colaboratory-static/widgets/colab-cdn-widget-manager/2b70e893a8ba7c0f/manager.min.js"
                }
              }
            }
          }
        }
      ]
    },
    {
      "cell_type": "code",
      "source": [
        "from typing import Tuple, List, Optional"
      ],
      "metadata": {
        "id": "zHSkb7LeBghn"
      },
      "execution_count": 35,
      "outputs": []
    },
    {
      "cell_type": "code",
      "source": [
        "from langchain_community.vectorstores import Neo4jVector"
      ],
      "metadata": {
        "id": "TuDVi4vHBjXP"
      },
      "execution_count": 36,
      "outputs": []
    },
    {
      "cell_type": "code",
      "source": [
        "from langchain_openai import OpenAIEmbeddings\n",
        "vector_index = Neo4jVector.from_existing_graph(\n",
        "    OpenAIEmbeddings(),\n",
        "    search_type=\"hybrid\",\n",
        "    node_label=\"Document\",\n",
        "    text_node_properties=[\"text\"],\n",
        "    embedding_node_property=\"embedding\"\n",
        ")"
      ],
      "metadata": {
        "id": "M_JloAimBlcK"
      },
      "execution_count": 37,
      "outputs": []
    },
    {
      "cell_type": "code",
      "source": [
        "graph.query(\"CREATE FULLTEXT INDEX entity IF NOT EXISTS FOR (e:__Entity__) ON EACH [e.id]\")"
      ],
      "metadata": {
        "colab": {
          "base_uri": "https://localhost:8080/"
        },
        "id": "e0EXdSStG-Oe",
        "outputId": "b2e983ef-37bc-42aa-c1b2-5ef65264df6e"
      },
      "execution_count": 38,
      "outputs": [
        {
          "output_type": "execute_result",
          "data": {
            "text/plain": [
              "[]"
            ]
          },
          "metadata": {},
          "execution_count": 38
        }
      ]
    },
    {
      "cell_type": "code",
      "source": [
        "from langchain_core.pydantic_v1 import BaseModel, Field\n",
        "# Extract entities from text\n",
        "class Entities(BaseModel):\n",
        "    \"\"\"Identifying information about entities.\"\"\"\n",
        "\n",
        "    names: List[str] = Field(\n",
        "        ...,\n",
        "        description=\"All the diabetes care related entities that \"\n",
        "        \"appear in the text\",\n",
        "    )\n"
      ],
      "metadata": {
        "id": "qksArGKrAvie"
      },
      "execution_count": 39,
      "outputs": []
    },
    {
      "cell_type": "code",
      "source": [
        "from langchain_core.prompts import ChatPromptTemplate\n",
        "from langchain_core.prompts.prompt import PromptTemplate"
      ],
      "metadata": {
        "id": "Mx6sfpgRBrs-"
      },
      "execution_count": 40,
      "outputs": []
    },
    {
      "cell_type": "code",
      "source": [
        "prompt = ChatPromptTemplate.from_messages(\n",
        "    [\n",
        "        (\n",
        "            \"system\",\n",
        "            \"You are extracting symptoms and care related entities from the text.\",\n",
        "        ),\n",
        "        (\n",
        "            \"human\",\n",
        "            \"Use the given format to extract information from the following \"\n",
        "            \"input: {question}\",\n",
        "        ),\n",
        "    ]\n",
        ")"
      ],
      "metadata": {
        "id": "xUobRC1wAx-_"
      },
      "execution_count": 41,
      "outputs": []
    },
    {
      "cell_type": "code",
      "source": [
        "entity_chain = prompt | llm.with_structured_output(Entities)"
      ],
      "metadata": {
        "id": "KGR6ocjkA0I_"
      },
      "execution_count": 42,
      "outputs": []
    },
    {
      "cell_type": "code",
      "source": [
        "entity_chain.invoke({\"question\": \"At what age diabetes risk gets increased?\"}).names"
      ],
      "metadata": {
        "colab": {
          "base_uri": "https://localhost:8080/"
        },
        "id": "xPLkIEmkA2R2",
        "outputId": "bbed48f4-e8ae-4e0f-fb2a-5f3c82acddcf"
      },
      "execution_count": 43,
      "outputs": [
        {
          "output_type": "execute_result",
          "data": {
            "text/plain": [
              "['diabetes risk', 'age']"
            ]
          },
          "metadata": {},
          "execution_count": 43
        }
      ]
    },
    {
      "cell_type": "code",
      "source": [
        "from langchain_community.vectorstores.neo4j_vector import remove_lucene_chars"
      ],
      "metadata": {
        "id": "RpbOzL5BA6hW"
      },
      "execution_count": 44,
      "outputs": []
    },
    {
      "cell_type": "code",
      "source": [
        "def generate_full_text_query(input: str) -> str:\n",
        "    full_text_query = \"\"\n",
        "    words = [el for el in remove_lucene_chars(input).split() if el]\n",
        "    for word in words[:-1]:\n",
        "        full_text_query += f\" {word}~2 AND\"\n",
        "    full_text_query += f\" {words[-1]}~2\"\n",
        "    return full_text_query.strip()\n"
      ],
      "metadata": {
        "id": "7gHCkvGKA86t"
      },
      "execution_count": 45,
      "outputs": []
    },
    {
      "cell_type": "code",
      "source": [
        "# Fulltext index query\n",
        "def structured_retriever(question: str) -> str:\n",
        "    result = \"\"\n",
        "    entities = entity_chain.invoke({\"question\": question})\n",
        "    for entity in entities.names:\n",
        "        response = graph.query(\n",
        "            \"\"\"CALL db.index.fulltext.queryNodes('entity', $query, {limit:2})\n",
        "            YIELD node,score\n",
        "            CALL {\n",
        "              WITH node\n",
        "              MATCH (node)-[r:!MENTIONS]->(neighbor)\n",
        "              RETURN node.id + ' - ' + type(r) + ' -> ' + neighbor.id AS output\n",
        "              UNION ALL\n",
        "              WITH node\n",
        "              MATCH (node)<-[r:!MENTIONS]-(neighbor)\n",
        "              RETURN neighbor.id + ' - ' + type(r) + ' -> ' +  node.id AS output\n",
        "            }\n",
        "            RETURN output LIMIT 50\n",
        "            \"\"\",\n",
        "            {\"query\": generate_full_text_query(entity)},\n",
        "        )\n",
        "        result += \"\\n\".join([el['output'] for el in response])\n",
        "    return result"
      ],
      "metadata": {
        "id": "kjPkmFJbA_lv"
      },
      "execution_count": 46,
      "outputs": []
    },
    {
      "cell_type": "code",
      "source": [
        "print(structured_retriever(\"What Diabetes is?\"))"
      ],
      "metadata": {
        "colab": {
          "base_uri": "https://localhost:8080/"
        },
        "id": "nIla9QpzBA8u",
        "outputId": "8c0bee92-0c3e-40bb-b8f4-fde97ec11064"
      },
      "execution_count": 47,
      "outputs": [
        {
          "output_type": "stream",
          "name": "stdout",
          "text": [
            "Diabetes - RESULTS_IN -> Glucose\n",
            "Diabetes - RELATED_TO -> Insulin\n",
            "Diabetes - AFFECTS -> Carbohydrate Metabolism\n",
            "Diabetes - AFFECTS -> Microvascular Disease\n",
            "Diabetes - AFFECTS -> Eyes\n",
            "Diabetes - AFFECTS -> Kidneys\n",
            "Diabetes - AFFECTS -> Nerves\n",
            "Diabetes - CAN_LEAD_TO -> Complications\n",
            "Diabetes - CONTRIBUTES_TO -> Risk Factors\n",
            "Diabetes - CAUSE -> Insulin Resistance\n",
            "Diabetes - INCLUDE -> Stroke\n",
            "Diabetes - INCLUDE -> Peripheral Artery Disease\n",
            "Diabetes - DOUBLES_THE_RISK_OF -> Cardiovascular Disease\n",
            "Diabetes - DUE_TO -> Coronary Artery Disease\n",
            "Diabetes - RECOMMENDED_THAT_VISIT -> Optometrist\n",
            "Diabetes - RECOMMENDED_THAT_VISIT -> Ophthalmologist\n",
            "Diabetes - HIGH_CONCENTRATIONS -> Glucose\n",
            "Diabetes - GOAL_OF_MANAGEMENT -> Carbohydrate Metabolism\n",
            "Diabetes - AFFECTED_ORGAN -> Pancreas\n",
            "Diabetes - CONTROL_GOAL -> Blood Glucose\n",
            "Diabetes - CONTROL_GOAL -> Blood Pressure\n",
            "Diabetes - CONTROL_GOAL -> Lipids\n",
            "Diabetes - CONTROL_GOAL -> Hba1C\n",
            "Diabetes - RISK_FACTOR -> Hypoglycemia\n",
            "Diabetes - COMPLICATION -> Cardiovascular Disease\n",
            "Diabetes - COMPLICATION -> Microvascular Disease\n",
            "Diabetes - RISK_FACTOR_FOR -> Cardiovascular Disease\n",
            "Glucose Cycle - INVOLVES -> Diabetes\n",
            "Anti-Diabetic Drug - HELPS_CONTROL_GLUCOSE -> Diabetes\n",
            "Glucose Cycle - ASSOCIATED_WITH -> Diabetes\n",
            "Hypoglycaemia - USED_IN -> Diabetes\n",
            "Clinical Practice Guidelines - RECOMMENDATION -> Diabetes\n",
            "American Geriatrics Society - RECOMMENDATION -> Diabetes\n",
            "Anomalies - DEVELOPS_IN -> Diabetes\n",
            "Anti-Diabetic Drug - CONTROL_GLUCOSE -> Diabetes\n",
            "Diabetes Mellitus - CAN_LEAD_TO -> Death\n",
            "Diabetes Mellitus - CAN_LEAD_TO -> Health Complications\n",
            "Diabetes Mellitus - CAUSE -> Insulin\n",
            "Diabetes Mellitus - CAUSE -> Pancreas\n",
            "Diabetes Mellitus - CAUSE -> Cells\n",
            "Diabetes Mellitus - INCLUDES -> Complications\n",
            "Diabetes Mellitus - INCLUDES -> Symptoms\n",
            "Diabetes Mellitus - HAS -> Types\n",
            "Diabetes Mellitus - HAS -> Treatments\n",
            "Diabetes Mellitus - CHARACTERIZED_BY -> Symptoms\n",
            "Diabetes Mellitus - CHARACTERIZED_BY -> Endocrine Diseases\n",
            "Diabetes Mellitus - CHARACTERIZED_BY -> High Blood Sugar Levels\n",
            "Diabetes Mellitus - CAUSE_OF -> Insulin\n",
            "Diabetes Mellitus - CAUSE_OF -> Pancreas\n",
            "Diabetes Mellitus - CAUSE_OF -> Cells Of The Body\n"
          ]
        }
      ]
    },
    {
      "cell_type": "code",
      "source": [
        "def retriever(question: str):\n",
        "    print(f\"Search query: {question}\")\n",
        "    structured_data = structured_retriever(question)\n",
        "    unstructured_data = [el.page_content for el in vector_index.similarity_search(question)]\n",
        "    final_data = f\"\"\"Structured data:\n",
        "{structured_data}\n",
        "Unstructured data:\n",
        "{\"#Document \". join(unstructured_data)}\n",
        "    \"\"\"\n",
        "    return final_data"
      ],
      "metadata": {
        "id": "Zo1QoB_iBDfO"
      },
      "execution_count": 48,
      "outputs": []
    },
    {
      "cell_type": "code",
      "source": [
        "_template = \"\"\"Given the following conversation and a follow up question, rephrase the follow up question to be a standalone question,\n",
        "in its original language.\n",
        "Chat History:\n",
        "{chat_history}\n",
        "Follow Up Input: {question}\n",
        "Standalone question:\"\"\""
      ],
      "metadata": {
        "id": "nDLnOXBTBFaf"
      },
      "execution_count": 49,
      "outputs": []
    },
    {
      "cell_type": "code",
      "source": [
        "CONDENSE_QUESTION_PROMPT = PromptTemplate.from_template(_template)"
      ],
      "metadata": {
        "id": "hozfZicpBG2G"
      },
      "execution_count": 50,
      "outputs": []
    },
    {
      "cell_type": "code",
      "source": [
        "def _format_chat_history(chat_history: List[Tuple[str, str]]) -> List:\n",
        "    buffer = []\n",
        "    for human, ai in chat_history:\n",
        "        buffer.append(HumanMessage(content=human))\n",
        "        buffer.append(AIMessage(content=ai))\n",
        "    return buffer"
      ],
      "metadata": {
        "id": "A9Oi3AEeBIPf"
      },
      "execution_count": 51,
      "outputs": []
    },
    {
      "cell_type": "code",
      "source": [
        "_search_query = RunnableBranch(\n",
        "    # If input includes chat_history, we condense it with the follow-up question\n",
        "    (\n",
        "        RunnableLambda(lambda x: bool(x.get(\"chat_history\"))).with_config(\n",
        "            run_name=\"HasChatHistoryCheck\"\n",
        "        ),  # Condense follow-up question and chat into a standalone_question\n",
        "        RunnablePassthrough.assign(\n",
        "            chat_history=lambda x: _format_chat_history(x[\"chat_history\"])\n",
        "        )\n",
        "        | CONDENSE_QUESTION_PROMPT\n",
        "        | ChatOpenAI(temperature=0)\n",
        "        | StrOutputParser(),\n",
        "    ),\n",
        "    # Else, we have no chat history, so just pass through the question\n",
        "    RunnableLambda(lambda x : x[\"question\"]),\n",
        ")"
      ],
      "metadata": {
        "id": "vXV65bjDBJwO"
      },
      "execution_count": 52,
      "outputs": []
    },
    {
      "cell_type": "code",
      "source": [
        "template = \"\"\"Answer the question based only on the following context:\n",
        "{context}\n",
        "\n",
        "Question: {question}\n",
        "Use natural language and be concise.\n",
        "Answer:\"\"\""
      ],
      "metadata": {
        "id": "zuVyoD1iBLgt"
      },
      "execution_count": 53,
      "outputs": []
    },
    {
      "cell_type": "code",
      "source": [
        "prompt = ChatPromptTemplate.from_template(template)"
      ],
      "metadata": {
        "id": "ehex9TRGBM4m"
      },
      "execution_count": 54,
      "outputs": []
    },
    {
      "cell_type": "code",
      "source": [
        "chain = (\n",
        "    RunnableParallel(\n",
        "        {\n",
        "            \"context\": _search_query | retriever,\n",
        "            \"question\": RunnablePassthrough(),\n",
        "        }\n",
        "    )\n",
        "    | prompt\n",
        "    | llm\n",
        "    | StrOutputParser()\n",
        ")"
      ],
      "metadata": {
        "id": "UI6LVwkpBOOA"
      },
      "execution_count": 55,
      "outputs": []
    },
    {
      "cell_type": "code",
      "source": [
        "chain.invoke({\"question\": \"how stress-related hormones affects diabetes and sugar level?\"})"
      ],
      "metadata": {
        "colab": {
          "base_uri": "https://localhost:8080/",
          "height": 69
        },
        "id": "GZAq-jz3BOrn",
        "outputId": "51edaf7d-0043-4b70-c15d-c3a826634d95"
      },
      "execution_count": 56,
      "outputs": [
        {
          "output_type": "stream",
          "name": "stdout",
          "text": [
            "Search query: how stress-related hormones affects diabetes and sugar level?\n"
          ]
        },
        {
          "output_type": "execute_result",
          "data": {
            "text/plain": [
              "'Stress-related hormones, such as adrenaline, can impact diabetes by causing an increase in blood sugar levels. This is because stress hormones can trigger the release of glucose into the bloodstream, leading to elevated sugar levels in individuals with diabetes.'"
            ],
            "application/vnd.google.colaboratory.intrinsic+json": {
              "type": "string"
            }
          },
          "metadata": {},
          "execution_count": 56
        }
      ]
    },
    {
      "cell_type": "code",
      "source": [
        "chain.invoke(\n",
        "    {\n",
        "        \"question\": \"When diabetes gets worst\",\n",
        "        \"chat_history\": [(\"how stress-related hormones affects diabetes and sugar level?\", \"increases diabetes\")],\n",
        "    }\n",
        ")"
      ],
      "metadata": {
        "colab": {
          "base_uri": "https://localhost:8080/",
          "height": 69
        },
        "id": "b8bO9V_MIBZ5",
        "outputId": "27458ac6-c22e-4523-98cf-0aa54e0df0d5"
      },
      "execution_count": 57,
      "outputs": [
        {
          "output_type": "stream",
          "name": "stdout",
          "text": [
            "Search query: When does diabetes get worse?\n"
          ]
        },
        {
          "output_type": "execute_result",
          "data": {
            "text/plain": [
              "'When diabetes gets worse, it can lead to various health complications affecting the cardiovascular system, eyes, kidneys, and nerves. It can also result in disorders such as diabetic retinopathy, diabetic nephropathy, and diabetic neuropathy.'"
            ],
            "application/vnd.google.colaboratory.intrinsic+json": {
              "type": "string"
            }
          },
          "metadata": {},
          "execution_count": 57
        }
      ]
    },
    {
      "cell_type": "code",
      "source": [],
      "metadata": {
        "id": "qyIlAGROIUKC"
      },
      "execution_count": 57,
      "outputs": []
    }
  ]
}